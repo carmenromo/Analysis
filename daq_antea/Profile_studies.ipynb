{
 "cells": [
  {
   "cell_type": "markdown",
   "metadata": {},
   "source": [
    "## Profile studies:"
   ]
  },
  {
   "cell_type": "code",
   "execution_count": 1,
   "metadata": {},
   "outputs": [],
   "source": [
    "import cProfile\n",
    "import re"
   ]
  },
  {
   "cell_type": "code",
   "execution_count": 2,
   "metadata": {},
   "outputs": [
    {
     "name": "stdout",
     "output_type": "stream",
     "text": [
      "         199 function calls (194 primitive calls) in 0.001 seconds\n",
      "\n",
      "   Ordered by: standard name\n",
      "\n",
      "   ncalls  tottime  percall  cumtime  percall filename:lineno(function)\n",
      "        1    0.000    0.000    0.000    0.000 <string>:1(<module>)\n",
      "        4    0.000    0.000    0.000    0.000 enum.py:265(__call__)\n",
      "        4    0.000    0.000    0.000    0.000 enum.py:515(__new__)\n",
      "        2    0.000    0.000    0.000    0.000 enum.py:801(__and__)\n",
      "        1    0.000    0.000    0.000    0.000 re.py:231(compile)\n",
      "        1    0.000    0.000    0.000    0.000 re.py:286(_compile)\n",
      "        1    0.000    0.000    0.000    0.000 sre_compile.py:223(_compile_charset)\n",
      "        1    0.000    0.000    0.000    0.000 sre_compile.py:250(_optimize_charset)\n",
      "        1    0.000    0.000    0.000    0.000 sre_compile.py:414(_get_literal_prefix)\n",
      "        1    0.000    0.000    0.000    0.000 sre_compile.py:441(_get_charset_prefix)\n",
      "        1    0.000    0.000    0.000    0.000 sre_compile.py:482(_compile_info)\n",
      "        2    0.000    0.000    0.000    0.000 sre_compile.py:539(isstring)\n",
      "        1    0.000    0.000    0.000    0.000 sre_compile.py:542(_code)\n",
      "        1    0.000    0.000    0.000    0.000 sre_compile.py:557(compile)\n",
      "      3/1    0.000    0.000    0.000    0.000 sre_compile.py:64(_compile)\n",
      "        3    0.000    0.000    0.000    0.000 sre_parse.py:111(__init__)\n",
      "        5    0.000    0.000    0.000    0.000 sre_parse.py:159(__len__)\n",
      "       12    0.000    0.000    0.000    0.000 sre_parse.py:163(__getitem__)\n",
      "        7    0.000    0.000    0.000    0.000 sre_parse.py:171(append)\n",
      "      3/1    0.000    0.000    0.000    0.000 sre_parse.py:173(getwidth)\n",
      "        1    0.000    0.000    0.000    0.000 sre_parse.py:223(__init__)\n",
      "        8    0.000    0.000    0.000    0.000 sre_parse.py:232(__next)\n",
      "        2    0.000    0.000    0.000    0.000 sre_parse.py:248(match)\n",
      "        6    0.000    0.000    0.000    0.000 sre_parse.py:253(get)\n",
      "        1    0.000    0.000    0.000    0.000 sre_parse.py:285(tell)\n",
      "        1    0.000    0.000    0.000    0.000 sre_parse.py:407(_parse_sub)\n",
      "        2    0.000    0.000    0.000    0.000 sre_parse.py:470(_parse)\n",
      "        1    0.000    0.000    0.000    0.000 sre_parse.py:76(__init__)\n",
      "        2    0.000    0.000    0.000    0.000 sre_parse.py:81(groups)\n",
      "        1    0.000    0.000    0.000    0.000 sre_parse.py:828(fix_flags)\n",
      "        1    0.000    0.000    0.000    0.000 sre_parse.py:844(parse)\n",
      "        1    0.000    0.000    0.000    0.000 {built-in method _sre.compile}\n",
      "        1    0.000    0.000    0.001    0.001 {built-in method builtins.exec}\n",
      "       19    0.000    0.000    0.000    0.000 {built-in method builtins.isinstance}\n",
      "    25/24    0.000    0.000    0.000    0.000 {built-in method builtins.len}\n",
      "        2    0.000    0.000    0.000    0.000 {built-in method builtins.max}\n",
      "        9    0.000    0.000    0.000    0.000 {built-in method builtins.min}\n",
      "        6    0.000    0.000    0.000    0.000 {built-in method builtins.ord}\n",
      "       48    0.000    0.000    0.000    0.000 {method 'append' of 'list' objects}\n",
      "        1    0.000    0.000    0.000    0.000 {method 'disable' of '_lsprof.Profiler' objects}\n",
      "        5    0.000    0.000    0.000    0.000 {method 'find' of 'bytearray' objects}\n",
      "        1    0.000    0.000    0.000    0.000 {method 'items' of 'dict' objects}\n",
      "\n",
      "\n"
     ]
    }
   ],
   "source": [
    "cProfile.run('re.compile(\"foo|bar\")')"
   ]
  },
  {
   "cell_type": "code",
   "execution_count": null,
   "metadata": {},
   "outputs": [],
   "source": []
  }
 ],
 "metadata": {
  "kernelspec": {
   "display_name": "Python 3",
   "language": "python",
   "name": "python3"
  },
  "language_info": {
   "codemirror_mode": {
    "name": "ipython",
    "version": 3
   },
   "file_extension": ".py",
   "mimetype": "text/x-python",
   "name": "python",
   "nbconvert_exporter": "python",
   "pygments_lexer": "ipython3",
   "version": "3.6.4"
  }
 },
 "nbformat": 4,
 "nbformat_minor": 2
}
