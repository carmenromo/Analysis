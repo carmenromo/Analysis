{
 "cells": [
  {
   "cell_type": "markdown",
   "metadata": {},
   "source": [
    "## Tests for tof_functions"
   ]
  },
  {
   "cell_type": "code",
   "execution_count": 1,
   "metadata": {},
   "outputs": [],
   "source": [
    "import os\n",
    "import numpy                 as np\n",
    "import pandas                as pd\n",
    "import hypothesis.strategies as st\n",
    "\n",
    "from hypothesis  import given\n",
    "\n",
    "import antea.reco.reco_functions as rf\n",
    "import antea.elec.tof_functions  as tf\n",
    "from antea.io.mc_io import load_mcTOFsns_response"
   ]
  },
  {
   "cell_type": "markdown",
   "metadata": {},
   "source": [
    "### spe_dist function"
   ]
  },
  {
   "cell_type": "code",
   "execution_count": 2,
   "metadata": {},
   "outputs": [],
   "source": [
    "tau_sipm = (100, 15000)\n",
    "time     = np.arange(10)\n",
    "exp_dist = tf.spe_dist(tau_sipm, time)\n",
    "\n",
    "assert len(exp_dist) == len(time)\n",
    "assert (exp_dist >= 0.).all()\n",
    "assert np.sum(exp_dist) == 1"
   ]
  },
  {
   "cell_type": "code",
   "execution_count": 3,
   "metadata": {},
   "outputs": [
    {
     "name": "stdout",
     "output_type": "stream",
     "text": [
      "[0.60653066 0.        ]\n",
      "[0.36787944 0.        ]\n",
      "[0.23865122 0.        ]\n",
      "[0.95460487 0.        ]\n",
      "[1. 0.]\n",
      "[1. 0.]\n"
     ]
    },
    {
     "data": {
      "text/plain": [
       "1"
      ]
     },
     "execution_count": 3,
     "metadata": {},
     "output_type": "execute_result"
    }
   ],
   "source": [
    "time = np.array([1, 1491])\n",
    "alfa         = 1.0/2\n",
    "beta         = 1.0/1\n",
    "if np.isclose(alfa, beta, rtol=1e-2):\n",
    "    spe_response = np.zeros(len(time))\n",
    "t_p          = np.log(beta/alfa)/(beta-alfa)\n",
    "K            = (beta)*np.exp(alfa*t_p)/(beta-alfa)\n",
    "spe_response = K*(np.exp(-alfa*time)-np.exp(-beta*time))\n",
    "print(np.exp(-alfa*time))\n",
    "print(np.exp(-beta*time))\n",
    "print(np.exp(-alfa*time)-np.exp(-beta*time))\n",
    "print(K*(np.exp(-alfa*time)-np.exp(-beta*time)))\n",
    "print(spe_response/np.sum(spe_response))\n",
    "spe_response = spe_response/np.sum(spe_response) #Normalization\n",
    "print(spe_response)\n",
    "\n",
    "np.isclose(alfa, beta, rtol=1e-2)# or \n",
    "np.count_nonzero(np.exp(-(alfa)*time))# and ((np.exp(-(1/b)*l)).all()==0)):\n",
    "#np.exp(-(alfa)*time)\n"
   ]
  },
  {
   "cell_type": "code",
   "execution_count": 4,
   "metadata": {},
   "outputs": [],
   "source": [
    "def spe_dist(tau_sipm, time):\n",
    "    alfa         = 1.0/tau_sipm[1]\n",
    "    beta         = 1.0/tau_sipm[0]\n",
    "    if np.isclose(alfa, beta, rtol=1e-2):\n",
    "        return np.zeros(len(time))\n",
    "    t_p          = np.log(beta/alfa)/(beta-alfa)\n",
    "    K            = (beta)*np.exp(alfa*t_p)/(beta-alfa)\n",
    "    spe_response = K*(np.exp(-alfa*time)-np.exp(-beta*time))\n",
    "    if np.sum(spe_response) == 0:\n",
    "        return np.zeros(len(time))\n",
    "    spe_response = spe_response/np.sum(spe_response) #Normalization\n",
    "    return spe_response"
   ]
  },
  {
   "cell_type": "code",
   "execution_count": 5,
   "metadata": {},
   "outputs": [],
   "source": [
    "#a = st.floats(min_value=1, max_value=1)\n",
    "#b = st.floats(min_value=2, max_value=2)\n",
    "#l = st.lists(st.floats(min_value=1, max_value=1), st.floats(min_value=1491, max_value=1491))\n",
    "\n",
    "a = st.floats(min_value=1, max_value=100000)\n",
    "b = st.floats(min_value=2, max_value=100000)\n",
    "l = st.lists(st.integers(min_value=1, max_value=10000), min_size=2, max_size=1000)\n",
    "\n",
    "@given(a, b, l)\n",
    "def test_spe_dist(a, b, l):\n",
    "    l = np.array(l)\n",
    "    exp_dist = tf.spe_dist((a, b), np.unique(l))\n",
    "    count_a = np.count_nonzero(np.exp(-(1/a)*time))\n",
    "    count_b = np.count_nonzero(np.exp(-(1/b)*time))\n",
    "    if np.isclose(1/a, 1/b, rtol=1e-2) or (not count_a and not count_b):\n",
    "        assert np.count_nonzero(exp_dist) == 0\n",
    "        assert np.isclose(np.sum(exp_dist), 0)\n",
    "    else:\n",
    "        assert len(exp_dist) == len(np.unique(l))\n",
    "        assert (exp_dist >= 0.).all()\n",
    "        assert np.isclose(np.sum(exp_dist), 1)"
   ]
  },
  {
   "cell_type": "code",
   "execution_count": 6,
   "metadata": {},
   "outputs": [],
   "source": [
    "test_spe_dist()"
   ]
  },
  {
   "cell_type": "code",
   "execution_count": 7,
   "metadata": {},
   "outputs": [
    {
     "data": {
      "text/plain": [
       "(array([0, 1, 2, 3]),)"
      ]
     },
     "execution_count": 7,
     "metadata": {},
     "output_type": "execute_result"
    }
   ],
   "source": [
    "np.count_nonzero(np.array([0.001, 0.2, 2, 0.0005, 0]))\n",
    "np.nonzero([0.001, 0.2, 2, 0.0005, 0])"
   ]
  },
  {
   "cell_type": "markdown",
   "metadata": {},
   "source": [
    "### convolve_tof function"
   ]
  },
  {
   "cell_type": "code",
   "execution_count": 8,
   "metadata": {},
   "outputs": [],
   "source": [
    "def convolve_tof(spe_response, signal):\n",
    "    if not np.count_nonzero(spe_response):\n",
    "        print('Distrib values are zero')\n",
    "        return np.zeros(len(spe_response)+len(signal)-1 )\n",
    "    conv_first = np.hstack([spe_response, np.zeros(len(signal)-1)])\n",
    "    conv_res   = np.zeros(len(signal)+len(spe_response)-1)\n",
    "    pe_pos     = np.argwhere(signal > 0)\n",
    "    pe_recov   = signal[pe_pos]\n",
    "    for i in range(len(pe_recov)): #Loop over the charges\n",
    "        conv_first_ch = conv_first*pe_recov[i]\n",
    "        desp          = np.roll(conv_first_ch, pe_pos[i])\n",
    "        conv_res     += desp\n",
    "    return conv_res"
   ]
  },
  {
   "cell_type": "code",
   "execution_count": 9,
   "metadata": {},
   "outputs": [],
   "source": [
    "#t = st.tuples(st.floats(min_value=1, max_value=1000), st.floats(min_value=1, max_value=1000))\n",
    "#l = st.lists(st.integers(min_value=1, max_value=10000), min_size=2, max_size=1000)\n",
    "#s = st.lists(st.integers(min_value=1, max_value=10000), min_size=2, max_size=1000)\n",
    "\n",
    "t = st.tuples(st.floats(min_value=1, max_value=1), st.floats(min_value=2, max_value=2))\n",
    "l = st.lists(st.integers(min_value=1491, max_value=1491), min_size=2, max_size=2)\n",
    "s = st.lists(st.integers(min_value=1, max_value=1), min_size=2, max_size=2)\n",
    "\n",
    "@given(t, l, s)\n",
    "def test_convolve_tof(t, l, s):\n",
    "    spe_response = tf.spe_dist(t, np.unique(np.array(l)))\n",
    "    print(spe_response)\n",
    "    conv_res     = convolve_tof(spe_response, np.array(s))\n",
    "    assert len(conv_res) == len(spe_response) + len(s) - 1\n",
    "    if np.count_nonzero(spe_response):\n",
    "        print(' nooon zeeero')\n",
    "        assert np.isclose(np.sum(s), np.sum(conv_res))"
   ]
  },
  {
   "cell_type": "code",
   "execution_count": 10,
   "metadata": {},
   "outputs": [
    {
     "name": "stdout",
     "output_type": "stream",
     "text": [
      "[0.]\n",
      "Distrib values are zero\n"
     ]
    }
   ],
   "source": [
    "test_convolve_tof()"
   ]
  },
  {
   "cell_type": "markdown",
   "metadata": {},
   "source": [
    "### tdc convolution function:"
   ]
  },
  {
   "cell_type": "code",
   "execution_count": 11,
   "metadata": {},
   "outputs": [],
   "source": [
    "def tdc_convolution(tof_response, spe_response, time_window, n_sipms, first_sipm, te_tdc):\n",
    "    \"\"\"\n",
    "    Apply the spe_response distribution to every sipm and returns a charge matrix of time and n_sipms dimensions.\n",
    "    \"\"\"\n",
    "    pe_table  = np.zeros((time_window, n_sipms))\n",
    "    for i, wf in tof_response.iterrows():\n",
    "        if wf.time_bin < time_window:\n",
    "            s_id = - wf.sensor_id - first_sipm\n",
    "            pe_table[wf.time_bin, s_id] = wf.charge\n",
    "\n",
    "    conv_table = np.zeros((len(pe_table) + len(spe_response)-1, n_sipms))\n",
    "    for i in range(n_sipms):\n",
    "        if np.count_nonzero(pe_table[:,i]):\n",
    "            conv_table[:,i] = convolve_tof(spe_response, pe_table[0:time_window,i])\n",
    "    return conv_table"
   ]
  },
  {
   "cell_type": "code",
   "execution_count": null,
   "metadata": {},
   "outputs": [],
   "source": [
    "PATH_IN      = '/Users/carmenromoluque/nexus_petit_analysis/PETit-ring/change_to_dataframes/full_ring_iradius165mm_depth3cm_pitch7mm_new_h5.001.pet.h5'\n",
    "PATH_IN2     = '/Users/carmenromoluque/ANTEA/antea/testdata/ring_test_1000ev.h5'\n",
    "DataSiPM     = db.DataSiPM('petalo', 0)\n",
    "DataSiPM_idx = DataSiPM.set_index('SensorID')\n",
    "\n",
    "sns_response = pd.read_hdf(PATH_IN, 'MC/waveforms')\n",
    "tof_response = pd.read_hdf(PATH_IN, 'MC/tof_waveforms')\n",
    "threshold    = 2\n",
    "charge_range = (1000, 1400)\n",
    "sel_df       = rf.find_SiPMs_over_threshold(sns_response, threshold)\n",
    "\n",
    "particles = pd.read_hdf(PATH_IN, 'MC/particles')\n",
    "hits      = pd.read_hdf(PATH_IN, 'MC/hits')\n",
    "events    = particles.event_id.unique()\n",
    "\n",
    "for evt in events[831:832]:\n",
    "    sns     = sel_df[sel_df.event_id==evt]\n",
    "    chargs  = sns[sns.charge==sns.charge]\n",
    "    sensors = DataSiPM.loc[chargs.sensor_id]\n",
    "    max_sns = sns[sns.charge == sns.charge.max()]\n",
    "    if len(max_sns != 1):\n",
    "        max_sns = max_sns[max_sns.sensor_id == max_sns.sensor_id.min()]\n",
    "    max_sipm  = DataSiPM_idx.loc[max_sns.sensor_id]\n",
    "    max_pos   = np.array([max_sipm.X.values, max_sipm.Y.values, max_sipm.Z.values]).transpose()[0]\n",
    "    sel_parts = particles[particles.event_id==evt]\n",
    "    sel_hits  = hits[hits.event_id==evt]\n",
    "    \n",
    "    reconstruct_coincidences(sns_response, tof_response, charge_range, DataSiPM_idx, particles, hits)"
   ]
  },
  {
   "cell_type": "code",
   "execution_count": null,
   "metadata": {},
   "outputs": [],
   "source": []
  },
  {
   "cell_type": "code",
   "execution_count": null,
   "metadata": {},
   "outputs": [],
   "source": []
  }
 ],
 "metadata": {
  "kernelspec": {
   "display_name": "Python 3",
   "language": "python",
   "name": "python3"
  },
  "language_info": {
   "codemirror_mode": {
    "name": "ipython",
    "version": 3
   },
   "file_extension": ".py",
   "mimetype": "text/x-python",
   "name": "python",
   "nbconvert_exporter": "python",
   "pygments_lexer": "ipython3",
   "version": "3.7.1"
  }
 },
 "nbformat": 4,
 "nbformat_minor": 2
}
