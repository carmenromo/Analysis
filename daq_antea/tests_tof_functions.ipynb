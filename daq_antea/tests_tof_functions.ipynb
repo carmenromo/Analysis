{
 "cells": [
  {
   "cell_type": "markdown",
   "metadata": {},
   "source": [
    "## Tests for tof_functions"
   ]
  },
  {
   "cell_type": "code",
   "execution_count": 1,
   "metadata": {},
   "outputs": [],
   "source": [
    "import os\n",
    "import numpy                 as np\n",
    "import pandas                as pd\n",
    "import hypothesis.strategies as st\n",
    "\n",
    "from hypothesis  import given\n",
    "\n",
    "import antea.reco.reco_functions as rf\n",
    "import antea.elec.tof_functions  as tf\n",
    "import antea.database.load_db as db\n",
    "from antea.io.mc_io import load_mcTOFsns_response"
   ]
  },
  {
   "cell_type": "markdown",
   "metadata": {},
   "source": [
    "### spe_dist function"
   ]
  },
  {
   "cell_type": "code",
   "execution_count": 3,
   "metadata": {},
   "outputs": [],
   "source": [
    "tau_sipm       = (100, 15000)\n",
    "time           = np.arange(10)\n",
    "exp_dist, norm = tf.spe_dist(tau_sipm, time)\n",
    "\n",
    "assert len(exp_dist) == len(time)\n",
    "assert (exp_dist >= 0.).all()\n",
    "assert np.sum(exp_dist) == 1"
   ]
  },
  {
   "cell_type": "code",
   "execution_count": 4,
   "metadata": {},
   "outputs": [
    {
     "name": "stdout",
     "output_type": "stream",
     "text": [
      "[0.60653066 0.        ]\n",
      "[0.36787944 0.        ]\n",
      "[0.23865122 0.        ]\n",
      "[0.95460487 0.        ]\n",
      "[1. 0.]\n",
      "[1. 0.]\n"
     ]
    },
    {
     "data": {
      "text/plain": [
       "1"
      ]
     },
     "execution_count": 4,
     "metadata": {},
     "output_type": "execute_result"
    }
   ],
   "source": [
    "time = np.array([1, 1491])\n",
    "alfa         = 1.0/2\n",
    "beta         = 1.0/1\n",
    "if np.isclose(alfa, beta, rtol=1e-2):\n",
    "    spe_response = np.zeros(len(time))\n",
    "t_p          = np.log(beta/alfa)/(beta-alfa)\n",
    "K            = (beta)*np.exp(alfa*t_p)/(beta-alfa)\n",
    "spe_response = K*(np.exp(-alfa*time)-np.exp(-beta*time))\n",
    "print(np.exp(-alfa*time))\n",
    "print(np.exp(-beta*time))\n",
    "print(np.exp(-alfa*time)-np.exp(-beta*time))\n",
    "print(K*(np.exp(-alfa*time)-np.exp(-beta*time)))\n",
    "print(spe_response/np.sum(spe_response))\n",
    "spe_response = spe_response/np.sum(spe_response) #Normalization\n",
    "print(spe_response)\n",
    "\n",
    "np.isclose(alfa, beta, rtol=1e-2)# or \n",
    "np.count_nonzero(np.exp(-(alfa)*time))# and ((np.exp(-(1/b)*l)).all()==0)):\n",
    "#np.exp(-(alfa)*time)\n"
   ]
  },
  {
   "cell_type": "code",
   "execution_count": 5,
   "metadata": {},
   "outputs": [],
   "source": [
    "def spe_dist(tau_sipm, time):\n",
    "    alfa         = 1.0/tau_sipm[1]\n",
    "    beta         = 1.0/tau_sipm[0]\n",
    "    if np.isclose(alfa, beta, rtol=1e-3):\n",
    "        return np.zeros(len(time)), 0\n",
    "    t_p          = np.log(beta/alfa)/(beta-alfa)\n",
    "    K            = (beta)*np.exp(alfa*t_p)/(beta-alfa)\n",
    "    spe_response = K*(np.exp(-alfa*time)-np.exp(-beta*time))\n",
    "    if np.sum(spe_response) == 0:\n",
    "        return np.zeros(len(time)), 0\n",
    "    norm_dist    = np.sum(spe_response)\n",
    "    spe_response = spe_response/norm_dist #Normalization\n",
    "\n",
    "    return spe_response, norm_dist"
   ]
  },
  {
   "cell_type": "code",
   "execution_count": 31,
   "metadata": {},
   "outputs": [
    {
     "name": "stdout",
     "output_type": "stream",
     "text": [
      "1.989966479060683\n",
      "270.4673654061509\n",
      "[0.82643188]\n",
      "0.5050505151513149 0.5\n",
      "1 1\n",
      "two\n",
      "1\n",
      "[1.]\n",
      "1.0\n"
     ]
    }
   ],
   "source": [
    "a = 1.9799999604007856\n",
    "b = 2.0\n",
    "l = np.array([1, 1])\n",
    "\n",
    "exp_dist, norm = spe_dist((a, b), np.unique(l))\n",
    "count_a = np.count_nonzero(np.exp(-(1/a)*time))\n",
    "count_b = np.count_nonzero(np.exp(-(1/b)*time))\n",
    "print(1/a, 1/b)\n",
    "print(count_a, count_b)\n",
    "if np.isclose(1/a, 1/b, rtol=1e-3) or (not count_a and not count_b):\n",
    "    print('one')\n",
    "    print(exp_dist)\n",
    "    print(np.count_nonzero(exp_dist))#assert np.count_nonzero(exp_dist) == 0\n",
    "    print(np.sum(exp_dist))#assert np.isclose(np.sum(exp_dist), 0)\n",
    "else:\n",
    "    print('two')\n",
    "    print(len(exp_dist))\n",
    "    assert len(exp_dist) == len(np.unique(l))\n",
    "    print(exp_dist)\n",
    "    assert (exp_dist >= 0.).all()\n",
    "    print(np.sum(exp_dist))\n",
    "    assert np.isclose(np.sum(exp_dist), 1)"
   ]
  },
  {
   "cell_type": "code",
   "execution_count": 5,
   "metadata": {},
   "outputs": [],
   "source": [
    "#a = st.floats(min_value=1, max_value=1)\n",
    "#b = st.floats(min_value=2, max_value=2)\n",
    "#l = st.lists(st.floats(min_value=1, max_value=1), st.floats(min_value=1491, max_value=1491))\n",
    "\n",
    "a = st.floats(min_value=1, max_value=100000)\n",
    "b = st.floats(min_value=2, max_value=100000)\n",
    "l = st.lists(st.integers(min_value=1, max_value=10000), min_size=2, max_size=1000)\n",
    "\n",
    "@given(a, b, l)\n",
    "def test_spe_dist(a, b, l):\n",
    "    l = np.array(l)\n",
    "    exp_dist = tf.spe_dist((a, b), np.unique(l))\n",
    "    count_a = np.count_nonzero(np.exp(-(1/a)*time))\n",
    "    count_b = np.count_nonzero(np.exp(-(1/b)*time))\n",
    "    if np.isclose(1/a, 1/b, rtol=1e-2) or (not count_a and not count_b):\n",
    "        assert np.count_nonzero(exp_dist) == 0\n",
    "        assert np.isclose(np.sum(exp_dist), 0)\n",
    "    else:\n",
    "        assert len(exp_dist) == len(np.unique(l))\n",
    "        assert (exp_dist >= 0.).all()\n",
    "        assert np.isclose(np.sum(exp_dist), 1)"
   ]
  },
  {
   "cell_type": "code",
   "execution_count": 6,
   "metadata": {},
   "outputs": [],
   "source": [
    "test_spe_dist()"
   ]
  },
  {
   "cell_type": "code",
   "execution_count": 7,
   "metadata": {},
   "outputs": [
    {
     "data": {
      "text/plain": [
       "(array([0, 1, 2, 3]),)"
      ]
     },
     "execution_count": 7,
     "metadata": {},
     "output_type": "execute_result"
    }
   ],
   "source": [
    "np.count_nonzero(np.array([0.001, 0.2, 2, 0.0005, 0]))\n",
    "np.nonzero([0.001, 0.2, 2, 0.0005, 0])"
   ]
  },
  {
   "cell_type": "markdown",
   "metadata": {},
   "source": [
    "### convolve_tof function"
   ]
  },
  {
   "cell_type": "code",
   "execution_count": 6,
   "metadata": {},
   "outputs": [],
   "source": [
    "def convolve_tof(spe_response, signal):\n",
    "    if not np.count_nonzero(spe_response):\n",
    "        print('Distrib values are zero')\n",
    "        return np.zeros(len(spe_response)+len(signal)-1 )\n",
    "    conv_first = np.hstack([spe_response, np.zeros(len(signal)-1)])\n",
    "    conv_res   = np.zeros(len(signal)+len(spe_response)-1)\n",
    "    pe_pos     = np.argwhere(signal > 0)\n",
    "    pe_recov   = signal[pe_pos]\n",
    "    for i in range(len(pe_recov)): #Loop over the charges\n",
    "        conv_first_ch = conv_first*pe_recov[i]\n",
    "        desp          = np.roll(conv_first_ch, pe_pos[i])\n",
    "        conv_res     += desp\n",
    "    return conv_res"
   ]
  },
  {
   "cell_type": "code",
   "execution_count": 7,
   "metadata": {},
   "outputs": [],
   "source": [
    "#t = st.tuples(st.floats(min_value=1, max_value=1000), st.floats(min_value=1, max_value=1000))\n",
    "#l = st.lists(st.integers(min_value=1, max_value=10000), min_size=2, max_size=1000)\n",
    "#s = st.lists(st.integers(min_value=1, max_value=10000), min_size=2, max_size=1000)\n",
    "\n",
    "t = st.tuples(st.floats(min_value=1, max_value=1), st.floats(min_value=2, max_value=2))\n",
    "l = st.lists(st.integers(min_value=1491, max_value=1491), min_size=2, max_size=2)\n",
    "s = st.lists(st.integers(min_value=1, max_value=1), min_size=2, max_size=2)\n",
    "\n",
    "@given(t, l, s)\n",
    "def test_convolve_tof(t, l, s):\n",
    "    spe_response = tf.spe_dist(t, np.unique(np.array(l)))\n",
    "    print(spe_response)\n",
    "    conv_res     = convolve_tof(spe_response, np.array(s))\n",
    "    assert len(conv_res) == len(spe_response) + len(s) - 1\n",
    "    if np.count_nonzero(spe_response):\n",
    "        print(' nooon zeeero')\n",
    "        assert np.isclose(np.sum(s), np.sum(conv_res))"
   ]
  },
  {
   "cell_type": "code",
   "execution_count": 8,
   "metadata": {},
   "outputs": [
    {
     "name": "stdout",
     "output_type": "stream",
     "text": [
      "(array([0.]), 0.0)\n",
      "Distrib values are zero\n"
     ]
    }
   ],
   "source": [
    "test_convolve_tof()"
   ]
  },
  {
   "cell_type": "markdown",
   "metadata": {},
   "source": [
    "### tdc convolution function:"
   ]
  },
  {
   "cell_type": "code",
   "execution_count": 11,
   "metadata": {},
   "outputs": [],
   "source": [
    "def tdc_convolution_old(tof_response, spe_response, time_window, n_sipms, first_sipm, te_tdc):\n",
    "    \"\"\"\n",
    "    Apply the spe_response distribution to every sipm and returns a charge matrix of time and n_sipms dimensions.\n",
    "    \"\"\"\n",
    "    pe_table  = np.zeros((time_window, n_sipms))\n",
    "    for i, wf in tof_response.iterrows():\n",
    "        if wf.time_bin < time_window:\n",
    "            s_id = - wf.sensor_id - first_sipm\n",
    "            pe_table[wf.time_bin, s_id] = wf.charge\n",
    "\n",
    "    conv_table = np.zeros((len(pe_table) + len(spe_response)-1, n_sipms))\n",
    "    for i in range(n_sipms):\n",
    "        if np.count_nonzero(pe_table[:,i]):\n",
    "            conv_table[:,i] = convolve_tof(spe_response, pe_table[0:time_window,i])\n",
    "    return conv_table"
   ]
  },
  {
   "cell_type": "code",
   "execution_count": 16,
   "metadata": {},
   "outputs": [],
   "source": [
    "def tdc_convolution(tof_response, spe_response, time_window, n_sipms, first_sipm, te_tdc):\n",
    "    \"\"\"\n",
    "    Apply the spe_response distribution to every sipm and returns a charge matrix of time and n_sipms dimensions.\n",
    "    \"\"\"\n",
    "    pe_table   = np.zeros((time_window, n_sipms))\n",
    "    sel_tof    = tof_response[tof_response.time_bin < time_window]\n",
    "    s_ids      = - sel_tof.sensor_id.values - first_sipm\n",
    "    conv_table = np.zeros((len(pe_table) + len(spe_response)-1, n_sipms))\n",
    "    if sel_tof.empty:\n",
    "        print('Tof dataframe is empty')\n",
    "        return conv_table\n",
    "    pe_table[sel_tof.time_bin.values, s_ids] = sel_tof.charge.values\n",
    "    for i in range(n_sipms):\n",
    "        if np.count_nonzero(pe_table[:,i]):\n",
    "            conv_table[:,i] = convolve_tof(spe_response, pe_table[0:time_window,i])\n",
    "    return conv_table"
   ]
  },
  {
   "cell_type": "code",
   "execution_count": 17,
   "metadata": {},
   "outputs": [],
   "source": [
    "SIPM           = {'n_sipms':3500, 'first_sipm':1000, 'tau_sipm':[100,15000]}\n",
    "n_sipms        = SIPM['n_sipms']\n",
    "first_sipm     = SIPM['first_sipm']\n",
    "tau_sipm       = SIPM['tau_sipm']\n",
    "TE_range       = [0.25]\n",
    "TE_TDC         = TE_range[0]\n",
    "time_window    = 10000\n",
    "time_bin       = 5\n",
    "time           = np.arange(0, 80000, time_bin)\n",
    "spe_resp, norm_dist = tf.spe_dist(tau_sipm, time)"
   ]
  },
  {
   "cell_type": "code",
   "execution_count": 20,
   "metadata": {},
   "outputs": [
    {
     "name": "stdout",
     "output_type": "stream",
     "text": [
      "   event_id  sensor_id  time_bin  charge\n",
      "0     20000      -3892       574       1\n",
      "1     20000      -3886       173       1\n",
      "2     20000      -3886       195       1\n",
      "3     20000      -3886       199       1\n",
      "4     20000      -3886       222       1\n",
      "(25999, 3500)\n",
      "Tof dataframe is empty\n"
     ]
    }
   ],
   "source": [
    "PATH_IN        = '/Users/carmenromoluque/nexus_petit_analysis/PETit-ring/DAQ_antea/petit_ring_tof_all_tables.001.pet.h5'\n",
    "tof_response   = load_mcTOFsns_response(PATH_IN)\n",
    "tof_waveforms  = tof_response[tof_response.event_id == 20000]\n",
    "tdc_conv_table = tdc_convolution(tof_waveforms, spe_resp, time_window, n_sipms, first_sipm, TE_TDC)\n",
    "print(tdc_conv_table.shape)\n",
    "\n",
    "assert tdc_conv_table.shape == (time_window + len(spe_resp)-1, n_sipms)\n",
    "\n",
    "keys           = np.array(['event_id', 'sensor_id', 'time_bin', 'charge'])\n",
    "wf_df          = pd.DataFrame({}, columns=keys)\n",
    "tdc_conv_table = tdc_convolution(wf_df, spe_resp, time_window, n_sipms, first_sipm, TE_TDC)\n",
    "assert np.all(tdc_conv_table==0)\n"
   ]
  },
  {
   "cell_type": "markdown",
   "metadata": {},
   "source": [
    "### translate_charge_matrix_to_wf_df function"
   ]
  },
  {
   "cell_type": "code",
   "execution_count": 109,
   "metadata": {},
   "outputs": [],
   "source": [
    "def translate_charge_matrix_to_wf_df0(event_id, conv_table, first_sipm):\n",
    "    \"\"\"\n",
    "    Transform the charge matrix into a tof dataframe.\n",
    "    \"\"\"\n",
    "    keys         = np.array(['event_id', 'sensor_id', 'time_bin', 'charge'])\n",
    "    if np.all(conv_table==0):\n",
    "        return pd.DataFrame({}, columns=keys)\n",
    "    t_bin, s_id  = np.where(conv_table>0)\n",
    "    s_id         = - s_id - first_sipm\n",
    "    conv_tb_flat = conv_table.flatten()\n",
    "    charge       = conv_tb_flat[conv_tb_flat>0]\n",
    "    evt          = np.full(len(t_bin), event_id)\n",
    "    a_wf         = np.array([evt, s_id, t_bin, charge])\n",
    "    wf_df        = pd.DataFrame(a_wf.T, columns=keys)\n",
    "    return wf_df"
   ]
  },
  {
   "cell_type": "code",
   "execution_count": null,
   "metadata": {},
   "outputs": [],
   "source": [
    "def translate_charge_matrix_to_wf_df1(event_id, conv_table, first_sipm):\n",
    "    \"\"\"\n",
    "    Transform the charge matrix into a tof dataframe.\n",
    "    \"\"\"\n",
    "    keys         = np.array(['event_id', 'sensor_id', 'time_bin', 'charge'])\n",
    "    if not np.count_nonzero(conv_table):\n",
    "        return pd.DataFrame({}, columns=keys)\n",
    "    t_bin, s_id  = np.where(conv_table>0)\n",
    "    s_id         = - s_id - first_sipm\n",
    "    conv_tb_flat = conv_table.flatten()\n",
    "    charge       = conv_tb_flat[conv_tb_flat>0]\n",
    "    evt          = np.full(len(t_bin), event_id)\n",
    "    a_wf         = np.array([evt, s_id, t_bin, charge])\n",
    "    wf_df        = pd.DataFrame(a_wf.T, columns=keys)\n",
    "    return wf_df"
   ]
  },
  {
   "cell_type": "code",
   "execution_count": 110,
   "metadata": {},
   "outputs": [
    {
     "data": {
      "text/plain": [
       "True"
      ]
     },
     "execution_count": 110,
     "metadata": {},
     "output_type": "execute_result"
    }
   ],
   "source": [
    "my_table = np.array([[0,0,0], [0,0,0]])\n",
    "translate_charge_matrix_to_wf_df(0, my_table, 1000).empty"
   ]
  },
  {
   "cell_type": "code",
   "execution_count": 111,
   "metadata": {},
   "outputs": [
    {
     "name": "stdout",
     "output_type": "stream",
     "text": [
      "[] []\n"
     ]
    },
    {
     "data": {
      "text/html": [
       "<div>\n",
       "<style scoped>\n",
       "    .dataframe tbody tr th:only-of-type {\n",
       "        vertical-align: middle;\n",
       "    }\n",
       "\n",
       "    .dataframe tbody tr th {\n",
       "        vertical-align: top;\n",
       "    }\n",
       "\n",
       "    .dataframe thead th {\n",
       "        text-align: right;\n",
       "    }\n",
       "</style>\n",
       "<table border=\"1\" class=\"dataframe\">\n",
       "  <thead>\n",
       "    <tr style=\"text-align: right;\">\n",
       "      <th></th>\n",
       "      <th>event_id</th>\n",
       "      <th>sensor_id</th>\n",
       "      <th>time_bin</th>\n",
       "      <th>charge</th>\n",
       "    </tr>\n",
       "  </thead>\n",
       "  <tbody>\n",
       "  </tbody>\n",
       "</table>\n",
       "</div>"
      ],
      "text/plain": [
       "Empty DataFrame\n",
       "Columns: [event_id, sensor_id, time_bin, charge]\n",
       "Index: []"
      ]
     },
     "execution_count": 111,
     "metadata": {},
     "output_type": "execute_result"
    }
   ],
   "source": [
    "t_bin, s_id  = np.where(my_table>0)\n",
    "print(t_bin, s_id)\n",
    "translate_charge_matrix_to_wf_df(0, my_table, 1000)"
   ]
  },
  {
   "cell_type": "code",
   "execution_count": 112,
   "metadata": {},
   "outputs": [
    {
     "data": {
      "text/plain": [
       "matrix([[1, 1, 1, 1]])"
      ]
     },
     "execution_count": 112,
     "metadata": {},
     "output_type": "execute_result"
    }
   ],
   "source": [
    "my_table2 = np.array([[0,0], [0,0,0]])\n",
    "my_table[0]*my_table[1]\n",
    "np.matrix([1,1,1,1]).T * np.matrix([2,3])\n",
    "np.matrix([1,1,1,1])"
   ]
  },
  {
   "cell_type": "code",
   "execution_count": 133,
   "metadata": {},
   "outputs": [],
   "source": [
    "l0 = st.lists(st.floats(min_value=0, max_value=1000), min_size=2, max_size=100)\n",
    "l  = st.lists(l0, min_size=2, max_size=2)\n",
    "e  = st.floats(min_value=0, max_value=1000)\n",
    "f  = st.floats(min_value=0, max_value=1000)\n",
    "\n",
    "@given(l, e, f)\n",
    "def test_translate_charge_matrix_to_wf_df(l, e, f):\n",
    "    matrx = np.array(np.matrix(l[0]).T * np.matrix(l[1]))\n",
    "    wf_df = translate_charge_matrix_to_wf_df(e, matrx, f)\n",
    "    assert len(wf_df) == np.count_nonzero(matrx)\n",
    "    assert len(wf_df.keys()) == 4\n",
    "    if np.count_nonzero(matrx) == 0:\n",
    "        assert wf_df.empty"
   ]
  },
  {
   "cell_type": "code",
   "execution_count": 134,
   "metadata": {},
   "outputs": [],
   "source": [
    "test_translate_charge_matrix_to_wf_df()"
   ]
  },
  {
   "cell_type": "code",
   "execution_count": null,
   "metadata": {},
   "outputs": [],
   "source": []
  }
 ],
 "metadata": {
  "kernelspec": {
   "display_name": "Python 3",
   "language": "python",
   "name": "python3"
  },
  "language_info": {
   "codemirror_mode": {
    "name": "ipython",
    "version": 3
   },
   "file_extension": ".py",
   "mimetype": "text/x-python",
   "name": "python",
   "nbconvert_exporter": "python",
   "pygments_lexer": "ipython3",
   "version": "3.7.1"
  }
 },
 "nbformat": 4,
 "nbformat_minor": 2
}
