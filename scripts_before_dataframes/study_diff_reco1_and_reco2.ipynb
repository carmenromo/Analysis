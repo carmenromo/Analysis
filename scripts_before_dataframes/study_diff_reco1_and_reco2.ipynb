{
 "cells": [
  {
   "cell_type": "code",
   "execution_count": 5,
   "metadata": {},
   "outputs": [],
   "source": [
    "import os\n",
    "import numpy as np\n",
    "import matplotlib.pyplot as plt"
   ]
  },
  {
   "cell_type": "code",
   "execution_count": 4,
   "metadata": {
    "scrolled": true
   },
   "outputs": [
    {
     "name": "stdout",
     "output_type": "stream",
     "text": [
      "full_ring_irad165mm_depth3cm_reco_pos_charge_25360_10_6_0.npz\n",
      "2672\n",
      "full_ring_irad165mm_depth3cm_reco_pos_charge_25030_10_6_0.npz\n",
      "2726\n",
      "full_ring_irad165mm_depth3cm_reco_pos_charge_25250_10_6_0.npz\n",
      "2665\n",
      "full_ring_irad165mm_depth3cm_reco_pos_charge_25090_10_6_0.npz\n",
      "2699\n",
      "full_ring_irad165mm_depth3cm_reco_pos_charge_25440_10_6_0.npz\n",
      "2600\n",
      "full_ring_irad165mm_depth3cm_reco_pos_charge_25050_10_6_0.npz\n",
      "2681\n",
      "full_ring_irad165mm_depth3cm_reco_pos_charge_25490_10_6_0.npz\n",
      "2773\n",
      "full_ring_irad165mm_depth3cm_reco_pos_charge_25150_10_6_0.npz\n",
      "2805\n",
      "full_ring_irad165mm_depth3cm_reco_pos_charge_25010_10_6_0.npz\n",
      "2784\n",
      "full_ring_irad165mm_depth3cm_reco_pos_charge_25080_10_6_0.npz\n",
      "2710\n",
      "full_ring_irad165mm_depth3cm_reco_pos_charge_25230_10_6_0.npz\n",
      "2821\n",
      "full_ring_irad165mm_depth3cm_reco_pos_charge_25110_10_6_0.npz\n",
      "2689\n",
      "full_ring_irad165mm_depth3cm_reco_pos_charge_25480_10_6_0.npz\n",
      "2667\n",
      "full_ring_irad165mm_depth3cm_reco_pos_charge_25140_10_6_0.npz\n",
      "2686\n",
      "full_ring_irad165mm_depth3cm_reco_pos_charge_25320_10_6_0.npz\n",
      "2721\n",
      "full_ring_irad165mm_depth3cm_reco_pos_charge_25220_10_6_0.npz\n",
      "2640\n",
      "full_ring_irad165mm_depth3cm_reco_pos_charge_25200_10_6_0.npz\n",
      "2645\n",
      "full_ring_irad165mm_depth3cm_reco_pos_charge_25290_10_6_0.npz\n",
      "2692\n",
      "full_ring_irad165mm_depth3cm_reco_pos_charge_25300_10_6_0.npz\n",
      "2698\n",
      "full_ring_irad165mm_depth3cm_reco_pos_charge_25400_10_6_0.npz\n",
      "2748\n",
      "full_ring_irad165mm_depth3cm_reco_pos_charge_25260_10_6_0.npz\n",
      "2712\n",
      "full_ring_irad165mm_depth3cm_reco_pos_charge_25100_10_6_0.npz\n",
      "2671\n",
      "full_ring_irad165mm_depth3cm_reco_pos_charge_25280_10_6_0.npz\n",
      "2638\n",
      "full_ring_irad165mm_depth3cm_reco_pos_charge_25060_10_6_0.npz\n",
      "2696\n",
      "full_ring_irad165mm_depth3cm_reco_pos_charge_25170_10_6_0.npz\n",
      "2704\n",
      "full_ring_irad165mm_depth3cm_reco_pos_charge_25370_10_6_0.npz\n",
      "2808\n",
      "full_ring_irad165mm_depth3cm_reco_pos_charge_25450_10_6_0.npz\n",
      "2730\n",
      "full_ring_irad165mm_depth3cm_reco_pos_charge_25420_10_6_0.npz\n",
      "2598\n",
      "full_ring_irad165mm_depth3cm_reco_pos_charge_25160_10_6_0.npz\n",
      "2693\n",
      "full_ring_irad165mm_depth3cm_reco_pos_charge_25180_10_6_0.npz\n",
      "2730\n",
      "full_ring_irad165mm_depth3cm_reco_pos_charge_25330_10_6_0.npz\n",
      "2618\n",
      "full_ring_irad165mm_depth3cm_reco_pos_charge_25130_10_6_0.npz\n",
      "2679\n",
      "full_ring_irad165mm_depth3cm_reco_pos_charge_25380_10_6_0.npz\n",
      "2666\n",
      "full_ring_irad165mm_depth3cm_reco_pos_charge_25190_10_6_0.npz\n",
      "2668\n",
      "full_ring_irad165mm_depth3cm_reco_pos_charge_25470_10_6_0.npz\n",
      "2651\n",
      "full_ring_irad165mm_depth3cm_reco_pos_charge_25390_10_6_0.npz\n",
      "2622\n",
      "full_ring_irad165mm_depth3cm_reco_pos_charge_25120_10_6_0.npz\n",
      "2776\n",
      "full_ring_irad165mm_depth3cm_reco_pos_charge_25350_10_6_0.npz\n",
      "2693\n",
      "full_ring_irad165mm_depth3cm_reco_pos_charge_25310_10_6_0.npz\n",
      "2747\n",
      "full_ring_irad165mm_depth3cm_reco_pos_charge_25040_10_6_0.npz\n",
      "2659\n",
      "full_ring_irad165mm_depth3cm_reco_pos_charge_25410_10_6_0.npz\n",
      "2771\n",
      "full_ring_irad165mm_depth3cm_reco_pos_charge_25210_10_6_0.npz\n",
      "2703\n",
      "full_ring_irad165mm_depth3cm_reco_pos_charge_25430_10_6_0.npz\n",
      "2752\n",
      "full_ring_irad165mm_depth3cm_reco_pos_charge_25000_10_6_0.npz\n",
      "2750\n",
      "full_ring_irad165mm_depth3cm_reco_pos_charge_25240_10_6_0.npz\n",
      "2711\n",
      "full_ring_irad165mm_depth3cm_reco_pos_charge_25070_10_6_0.npz\n",
      "2757\n",
      "full_ring_irad165mm_depth3cm_reco_pos_charge_25020_10_6_0.npz\n",
      "2644\n",
      "full_ring_irad165mm_depth3cm_reco_pos_charge_25460_10_6_0.npz\n",
      "2734\n",
      "full_ring_irad165mm_depth3cm_reco_pos_charge_25340_10_6_0.npz\n",
      "2710\n",
      "full_ring_irad165mm_depth3cm_reco_pos_charge_25270_10_6_0.npz\n",
      "2645\n"
     ]
    }
   ],
   "source": [
    "true_r1, true_r2             = [], []\n",
    "reco_r1, reco_r2             = [], []\n",
    "true_phi1, true_phi2         = [], []\n",
    "reco_phi1, reco_phi2         = [], []\n",
    "true_z1, true_z2             = [], []\n",
    "reco_z1, reco_z2             = [], []\n",
    "sns_response1, sns_response2 = [], []\n",
    "charges1, charges2           = [], []\n",
    "events                       = []\n",
    "\n",
    "eventsPath  = '/data5/users/carmenromo/comparison_ring_confs/2_data_pos_charge_no_compton_rthr4pes/base_config/'\n",
    "for filename in os.listdir(eventsPath):\n",
    "    if filename.endswith('.npz'):\n",
    "        my_file   = eventsPath+filename\n",
    "        print(filename)\n",
    "        d = np.load(my_file)\n",
    "    \n",
    "        for i in d['a_true_r1']:\n",
    "            true_r1.append(i)\n",
    "        for i in d['a_true_r2']:\n",
    "            true_r2.append(i)\n",
    "        for i in d['a_true_phi1']:\n",
    "            true_phi1.append(i)\n",
    "        for i in d['a_true_phi2']:\n",
    "            true_phi2.append(i)\n",
    "        for i in d['a_true_z1']:\n",
    "            true_z1.append(i)\n",
    "        for i in d['a_true_z2']:\n",
    "            true_z2.append(i)\n",
    "            \n",
    "        for i in d['a_reco_r1']:\n",
    "            reco_r1.append(i)\n",
    "        for i in d['a_reco_r2']:\n",
    "            reco_r2.append(i)\n",
    "        for i in d['a_reco_phi1']:\n",
    "            reco_phi1.append(i)\n",
    "        for i in d['a_reco_phi2']:\n",
    "            reco_phi2.append(i)\n",
    "        for i in d['a_reco_z1']:\n",
    "            reco_z1.append(i)\n",
    "        for i in d['a_reco_z2']:\n",
    "            reco_z2.append(i)\n",
    "            \n",
    "        for i in d['a_sns_response1']:\n",
    "            sns_response1.append(i)\n",
    "        for i in d['a_sns_response2']:\n",
    "            sns_response2.append(i)\n",
    "        print(len(d['a_events']))\n",
    "        for i in d['a_events']:\n",
    "            events .append(i)\n",
    "            \n",
    "true_r1       = np.array(true_r1      )\n",
    "true_r2       = np.array(true_r2      )\n",
    "true_phi1     = np.array(true_phi1    )\n",
    "true_phi2     = np.array(true_phi2    )\n",
    "true_z1       = np.array(true_z1      )\n",
    "true_z2       = np.array(true_z2      )\n",
    "reco_r1       = np.array(reco_r1      )\n",
    "reco_r2       = np.array(reco_r2      )\n",
    "reco_phi1     = np.array(reco_phi1    )\n",
    "reco_phi2     = np.array(reco_phi2    )\n",
    "reco_z1       = np.array(reco_z1      )\n",
    "reco_z2       = np.array(reco_z2      )\n",
    "events        = np.array(events       )\n",
    "sns_response1 = np.array(sns_response1)\n",
    "sns_response2 = np.array(sns_response2)\n",
    "charges1      = np.array([sum(n) for n in sns_response1])\n",
    "charges2      = np.array([sum(n) for n in sns_response2])"
   ]
  },
  {
   "cell_type": "code",
   "execution_count": 33,
   "metadata": {},
   "outputs": [
    {
     "data": {
      "image/png": "[encoded data removed]",
      "text/plain": [
       "<matplotlib.figure.Figure at 0x7fabd1364a90>"
      ]
     },
     "metadata": {},
     "output_type": "display_data"
    }
   ],
   "source": [
    "plt.hist(true_r1, 100,)\n",
    "plt.hist(true_r2, 100, color='salmon', alpha=0.8)\n",
    "plt.show()"
   ]
  },
  {
   "cell_type": "code",
   "execution_count": 35,
   "metadata": {},
   "outputs": [
    {
     "data": {
      "image/png": "[encoded data removed]",
      "text/plain": [
       "<matplotlib.figure.Figure at 0x7fabcb50db70>"
      ]
     },
     "metadata": {},
     "output_type": "display_data"
    }
   ],
   "source": [
    "plt.hist(reco_r1[~np.isnan(reco_r1)], 40)\n",
    "plt.hist(reco_r2[~np.isnan(reco_r2)], 40, color='salmon', alpha=0.8)\n",
    "plt.show()"
   ]
  },
  {
   "cell_type": "code",
   "execution_count": 40,
   "metadata": {},
   "outputs": [],
   "source": [
    "np.random.shuffle(np.array([true_r1, true_r2]))"
   ]
  },
  {
   "cell_type": "code",
   "execution_count": null,
   "metadata": {},
   "outputs": [],
   "source": []
  }
 ],
 "metadata": {
  "kernelspec": {
   "display_name": "Python 3",
   "language": "python",
   "name": "python3"
  },
  "language_info": {
   "codemirror_mode": {
    "name": "ipython",
    "version": 3
   },
   "file_extension": ".py",
   "mimetype": "text/x-python",
   "name": "python",
   "nbconvert_exporter": "python",
   "pygments_lexer": "ipython3",
   "version": "3.6.4"
  }
 },
 "nbformat": 4,
 "nbformat_minor": 2
}
