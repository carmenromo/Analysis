{
 "cells": [
  {
   "cell_type": "markdown",
   "metadata": {},
   "source": [
    "# Produce geometrical ZR map"
   ]
  },
  {
   "cell_type": "markdown",
   "metadata": {},
   "source": [
    "### Imports"
   ]
  },
  {
   "cell_type": "code",
   "execution_count": 55,
   "metadata": {},
   "outputs": [],
   "source": [
    "import os\n",
    "import tables            as tb\n",
    "import numpy             as np\n",
    "import pandas            as pd\n",
    "import matplotlib.pyplot as plt\n",
    "\n",
    "from invisible_cities.icaro. hst_functions import shift_to_bin_centers\n",
    "import time"
   ]
  },
  {
   "cell_type": "code",
   "execution_count": 56,
   "metadata": {},
   "outputs": [
    {
     "name": "stdout",
     "output_type": "stream",
     "text": [
      "120.03229808807373\n"
     ]
    }
   ],
   "source": [
    "start = time.time()\n",
    "true_r1      , true_r2       = [], []\n",
    "reco_r1      , reco_r2       = [], []\n",
    "true_phi1    , true_phi2     = [], []\n",
    "reco_phi1    , reco_phi2     = [], []\n",
    "true_z1      , true_z2       = [], []\n",
    "reco_z1      , reco_z2       = [], []\n",
    "sns_response1, sns_response2 = [], []\n",
    "charges1     , charges2      = [], []\n",
    "events                       = []\n",
    "\n",
    "eventsPath  = '/data5/users/carmenromo/PETALO/PETit/PETit-ring/reflect_walls/no_refl_sipms/2_data_pos_charge_no_compton/'\n",
    "for filename in os.listdir(eventsPath):\n",
    "    if filename.endswith('.npz'):\n",
    "        my_file   = eventsPath+filename\n",
    "        #print(filename)\n",
    "        d = np.load(my_file)\n",
    "    \n",
    "        for i in d['a_true_r1']:\n",
    "            true_r1.append(i)\n",
    "        for i in d['a_true_r2']:\n",
    "            true_r2.append(i)\n",
    "        for i in d['a_true_phi1']:\n",
    "            true_phi1.append(i)\n",
    "        for i in d['a_true_phi2']:\n",
    "            true_phi2.append(i)\n",
    "        for i in d['a_true_z1']:\n",
    "            true_z1.append(i)\n",
    "        for i in d['a_true_z2']:\n",
    "            true_z2.append(i)\n",
    "            \n",
    "        for i in d['a_reco_r1']:\n",
    "            reco_r1.append(i)\n",
    "        for i in d['a_reco_r2']:\n",
    "            reco_r2.append(i)\n",
    "        for i in d['a_reco_phi1']:\n",
    "            reco_phi1.append(i)\n",
    "        for i in d['a_reco_phi2']:\n",
    "            reco_phi2.append(i)\n",
    "        for i in d['a_reco_z1']:\n",
    "            reco_z1.append(i)\n",
    "        for i in d['a_reco_z2']:\n",
    "            reco_z2.append(i)\n",
    "            \n",
    "        for i in d['a_sns_response1']:\n",
    "            sns_response1.append(i)\n",
    "        for i in d['a_sns_response2']:\n",
    "            sns_response2.append(i)\n",
    "        #print(len(d['a_events']))\n",
    "        for i in d['a_events']:\n",
    "            events .append(i)\n",
    "end = time.time()\n",
    "print(end - start)"
   ]
  },
  {
   "cell_type": "code",
   "execution_count": 54,
   "metadata": {
    "scrolled": true
   },
   "outputs": [
    {
     "name": "stdout",
     "output_type": "stream",
     "text": [
      "full_ring_irad165mm_d3cm_no_refl_sipms_reco_pos_charge_380_20_6_0.npz\n",
      "3604\n",
      "full_ring_irad165mm_d3cm_no_refl_sipms_reco_pos_charge_220_20_6_0.npz\n",
      "3680\n",
      "full_ring_irad165mm_d3cm_no_refl_sipms_reco_pos_charge_200_20_6_0.npz\n",
      "3611\n",
      "full_ring_irad165mm_d3cm_no_refl_sipms_reco_pos_charge_140_20_6_0.npz\n",
      "3542\n",
      "full_ring_irad165mm_d3cm_no_refl_sipms_reco_pos_charge_340_20_6_0.npz\n",
      "3607\n",
      "full_ring_irad165mm_d3cm_no_refl_sipms_reco_pos_charge_80_20_6_0.npz\n",
      "3573\n",
      "full_ring_irad165mm_d3cm_no_refl_sipms_reco_pos_charge_20_20_6_0.npz\n",
      "3634\n",
      "full_ring_irad165mm_d3cm_no_refl_sipms_reco_pos_charge_300_20_6_0.npz\n",
      "3706\n",
      "full_ring_irad165mm_d3cm_no_refl_sipms_reco_pos_charge_120_20_6_0.npz\n",
      "3597\n",
      "full_ring_irad165mm_d3cm_no_refl_sipms_reco_pos_charge_180_20_6_0.npz\n",
      "3581\n",
      "full_ring_irad165mm_d3cm_no_refl_sipms_reco_pos_charge_480_20_6_0.npz\n",
      "3509\n",
      "full_ring_irad165mm_d3cm_no_refl_sipms_reco_pos_charge_440_20_6_0.npz\n",
      "3616\n",
      "full_ring_irad165mm_d3cm_no_refl_sipms_reco_pos_charge_320_20_6_0.npz\n",
      "3479\n",
      "full_ring_irad165mm_d3cm_no_refl_sipms_reco_pos_charge_420_20_6_0.npz\n",
      "3556\n",
      "full_ring_irad165mm_d3cm_no_refl_sipms_reco_pos_charge_0_20_6_0.npz\n",
      "3525\n",
      "full_ring_irad165mm_d3cm_no_refl_sipms_reco_pos_charge_240_20_6_0.npz\n",
      "3570\n",
      "full_ring_irad165mm_d3cm_no_refl_sipms_reco_pos_charge_360_20_6_0.npz\n",
      "3599\n",
      "full_ring_irad165mm_d3cm_no_refl_sipms_reco_pos_charge_60_20_6_0.npz\n",
      "3646\n",
      "full_ring_irad165mm_d3cm_no_refl_sipms_reco_pos_charge_400_20_6_0.npz\n",
      "3609\n",
      "full_ring_irad165mm_d3cm_no_refl_sipms_reco_pos_charge_100_20_6_0.npz\n",
      "3641\n",
      "full_ring_irad165mm_d3cm_no_refl_sipms_reco_pos_charge_160_20_6_0.npz\n",
      "3725\n",
      "full_ring_irad165mm_d3cm_no_refl_sipms_reco_pos_charge_40_20_6_0.npz\n",
      "3617\n",
      "full_ring_irad165mm_d3cm_no_refl_sipms_reco_pos_charge_460_20_6_0.npz\n",
      "3581\n",
      "full_ring_irad165mm_d3cm_no_refl_sipms_reco_pos_charge_280_20_6_0.npz\n",
      "3520\n",
      "full_ring_irad165mm_d3cm_no_refl_sipms_reco_pos_charge_260_20_6_0.npz\n",
      "3531\n"
     ]
    },
    {
     "ename": "TypeError",
     "evalue": "ufunc 'bitwise_and' not supported for the input types, and the inputs could not be safely coerced to any supported types according to the casting rule ''safe''",
     "output_type": "error",
     "traceback": [
      "\u001b[0;31m---------------------------------------------------------------------------\u001b[0m",
      "\u001b[0;31mTypeError\u001b[0m                                 Traceback (most recent call last)",
      "\u001b[0;32m<ipython-input-54-999745c60435>\u001b[0m in \u001b[0;36m<module>\u001b[0;34m()\u001b[0m\n\u001b[1;32m     51\u001b[0m \u001b[0;34m\u001b[0m\u001b[0m\n\u001b[1;32m     52\u001b[0m \u001b[0;34m\u001b[0m\u001b[0m\n\u001b[0;32m---> 53\u001b[0;31m \u001b[0msel\u001b[0m \u001b[0;34m=\u001b[0m \u001b[0mnp\u001b[0m\u001b[0;34m.\u001b[0m\u001b[0marray\u001b[0m\u001b[0;34m(\u001b[0m\u001b[0mreco_r1\u001b[0m\u001b[0;34m)\u001b[0m\u001b[0;34m[\u001b[0m\u001b[0;34m~\u001b[0m \u001b[0mnp\u001b[0m\u001b[0;34m.\u001b[0m\u001b[0misnan\u001b[0m\u001b[0;34m(\u001b[0m\u001b[0mreco_r1\u001b[0m\u001b[0;34m)\u001b[0m\u001b[0;34m]\u001b[0m \u001b[0;34m&\u001b[0m \u001b[0mnp\u001b[0m\u001b[0;34m.\u001b[0m\u001b[0marray\u001b[0m\u001b[0;34m(\u001b[0m\u001b[0mreco_r2\u001b[0m\u001b[0;34m)\u001b[0m\u001b[0;34m[\u001b[0m\u001b[0;34m~\u001b[0m \u001b[0mnp\u001b[0m\u001b[0;34m.\u001b[0m\u001b[0misnan\u001b[0m\u001b[0;34m(\u001b[0m\u001b[0mreco_r2\u001b[0m\u001b[0;34m)\u001b[0m\u001b[0;34m]\u001b[0m\u001b[0;34m\u001b[0m\u001b[0m\n\u001b[0m\u001b[1;32m     54\u001b[0m \u001b[0mtrue_r1\u001b[0m       \u001b[0;34m=\u001b[0m \u001b[0mnp\u001b[0m\u001b[0;34m.\u001b[0m\u001b[0marray\u001b[0m\u001b[0;34m(\u001b[0m\u001b[0mtrue_r1\u001b[0m      \u001b[0;34m)\u001b[0m\u001b[0;34m[\u001b[0m\u001b[0msel\u001b[0m\u001b[0;34m]\u001b[0m\u001b[0;34m\u001b[0m\u001b[0m\n\u001b[1;32m     55\u001b[0m \u001b[0mtrue_r2\u001b[0m       \u001b[0;34m=\u001b[0m \u001b[0mnp\u001b[0m\u001b[0;34m.\u001b[0m\u001b[0marray\u001b[0m\u001b[0;34m(\u001b[0m\u001b[0mtrue_r2\u001b[0m      \u001b[0;34m)\u001b[0m\u001b[0;34m[\u001b[0m\u001b[0msel\u001b[0m\u001b[0;34m]\u001b[0m\u001b[0;34m\u001b[0m\u001b[0m\n",
      "\u001b[0;31mTypeError\u001b[0m: ufunc 'bitwise_and' not supported for the input types, and the inputs could not be safely coerced to any supported types according to the casting rule ''safe''"
     ]
    }
   ],
   "source": [
    "sel = np.array(reco_r1)[~ np.isnan(reco_r1)] & np.array(reco_r2)[~ np.isnan(reco_r2)]\n",
    "true_r1       = np.array(true_r1      )[sel]\n",
    "true_r2       = np.array(true_r2      )[sel]\n",
    "true_phi1     = np.array(true_phi1    )[sel]\n",
    "true_phi2     = np.array(true_phi2    )[sel]\n",
    "true_z1       = np.array(true_z1      )[sel]\n",
    "true_z2       = np.array(true_z2      )[sel]\n",
    "reco_r1       = np.array(reco_r1      )[sel]\n",
    "reco_r2       = np.array(reco_r2      )[sel]\n",
    "reco_phi1     = np.array(reco_phi1    )[sel]\n",
    "reco_phi2     = np.array(reco_phi2    )[sel]\n",
    "reco_z1       = np.array(reco_z1      )[sel]\n",
    "reco_z2       = np.array(reco_z2      )[sel]\n",
    "events        = np.array(events       )[sel]\n",
    "sns_response1 = np.array(sns_response1)\n",
    "sns_response2 = np.array(sns_response2)\n",
    "charges1      = np.array([sum(n) for n in sns_response1])[sel]\n",
    "charges2      = np.array([sum(n) for n in sns_response2])[sel]"
   ]
  },
  {
   "cell_type": "code",
   "execution_count": 53,
   "metadata": {},
   "outputs": [
    {
     "name": "stdout",
     "output_type": "stream",
     "text": [
      "<class 'list'>\n"
     ]
    },
    {
     "data": {
      "text/plain": [
       "array([179.04281616, 185.38482666, 180.39498901, ..., 186.90585327,\n",
       "       173.21784973, 185.97535706])"
      ]
     },
     "execution_count": 53,
     "metadata": {},
     "output_type": "execute_result"
    }
   ],
   "source": [
    "print(type(reco_r1))\n",
    "np.array(reco_r1)[~ np.isnan(reco_r1)]"
   ]
  },
  {
   "cell_type": "code",
   "execution_count": 44,
   "metadata": {},
   "outputs": [
    {
     "name": "stdout",
     "output_type": "stream",
     "text": [
      "[]\n",
      "[]\n",
      "[]\n",
      "[]\n",
      "[]\n",
      "[]\n",
      "[nan nan nan ... nan nan nan]\n",
      "[nan nan nan ... nan nan nan]\n",
      "[]\n",
      "[]\n",
      "[]\n",
      "[]\n",
      "[]\n",
      "[]\n",
      "[]\n"
     ]
    }
   ],
   "source": [
    "print(true_r1      [np.isnan(true_r1      )])\n",
    "print(true_r2      [np.isnan(true_r2      )])\n",
    "print(true_phi1    [np.isnan(true_phi1    )])\n",
    "print(true_phi2    [np.isnan(true_phi2    )])\n",
    "print(true_z1      [np.isnan(true_z1      )])\n",
    "print(true_z2      [np.isnan(true_z2      )])\n",
    "print(reco_r1      [np.isnan(reco_r1      )])\n",
    "print(reco_r2      [np.isnan(reco_r2      )])\n",
    "print(reco_phi1    [np.isnan(reco_phi1    )])\n",
    "print(reco_phi2    [np.isnan(reco_phi2    )])\n",
    "print(reco_z1      [np.isnan(reco_z1      )])\n",
    "print(reco_z2      [np.isnan(reco_z2      )])\n",
    "print(events       [np.isnan(events       )])\n",
    "#print(sns_response1[np.isnan(sns_response1)])\n",
    "#print(sns_response2[np.isnan(sns_response2)])\n",
    "print(charges1     [np.isnan(charges1     )])\n",
    "print(charges2     [np.isnan(charges2     )])"
   ]
  },
  {
   "cell_type": "code",
   "execution_count": 27,
   "metadata": {},
   "outputs": [],
   "source": [
    "true_x1 = true_r1*np.cos(true_phi1)\n",
    "true_y1 = true_r1*np.sin(true_phi1)\n",
    "true_x2 = true_r2*np.cos(true_phi2)\n",
    "true_y2 = true_r2*np.sin(true_phi2)\n",
    "\n",
    "reco_x1 = reco_r1*np.cos(reco_phi1)\n",
    "reco_y1 = reco_r1*np.sin(reco_phi1)\n",
    "reco_x2 = reco_r2*np.cos(reco_phi2)\n",
    "reco_y2 = reco_r2*np.sin(reco_phi2)\n",
    "\n",
    "#reco_x   = np.concatenate((reco_x1  , reco_x2  ), axis=0)\n",
    "#reco_y   = np.concatenate((reco_y1  , reco_y2  ), axis=0)\n",
    "#reco_z   = np.concatenate((reco_z1  , reco_z2  ), axis=0)\n",
    "#reco_r   = np.concatenate((reco_r1  , reco_r2  ), axis=0)\n",
    "#reco_phi = np.concatenate((reco_phi1, reco_phi2), axis=0)\n",
    "#charges  = np.concatenate((charges1 , charges2 ), axis=0)\n",
    "#\n",
    "#true_x   = np.concatenate((true_x1  , true_x2  ), axis=0)\n",
    "#true_y   = np.concatenate((true_y1  , true_y2  ), axis=0)\n",
    "#true_z   = np.concatenate((true_z1  , true_z2  ), axis=0)\n",
    "#true_r   = np.concatenate((true_r1  , true_r2  ), axis=0)\n",
    "#true_phi = np.concatenate((true_phi1, true_phi2), axis=0)\n",
    "#eventss  = np.concatenate((events   , events   ), axis=0)"
   ]
  },
  {
   "cell_type": "markdown",
   "metadata": {},
   "source": [
    "### Create a dataframe"
   ]
  },
  {
   "cell_type": "code",
   "execution_count": 28,
   "metadata": {},
   "outputs": [],
   "source": [
    "data = {'Event ' : events, \n",
    "        'True_x1': true_x1, 'True_y1': true_y1, 'True_z1': true_z1, 'True_r1': true_r1, 'True_phi1': true_phi1,\n",
    "        'Reco_x1': reco_x1, 'Reco_y1': reco_y1, 'Reco_z1': reco_z1, 'Reco_r1': reco_r1, 'Reco_phi1': reco_phi1,\n",
    "        'Charge1': charges1, \n",
    "        'True_x2': true_x2, 'True_y2': true_y2, 'True_z2': true_z2, 'True_r2': true_r2, 'True_phi2': true_phi2,\n",
    "        'Reco_x2': reco_x2, 'Reco_y2': reco_y2, 'Reco_z2': reco_z2, 'Reco_r2': reco_r2, 'Reco_phi2': reco_phi2,\n",
    "        'Charge2': charges2} \n",
    "\n",
    "df = pd.DataFrame(data)"
   ]
  },
  {
   "cell_type": "code",
   "execution_count": 29,
   "metadata": {},
   "outputs": [
    {
     "data": {
      "text/html": [
       "<div>\n",
       "<style scoped>\n",
       "    .dataframe tbody tr th:only-of-type {\n",
       "        vertical-align: middle;\n",
       "    }\n",
       "\n",
       "    .dataframe tbody tr th {\n",
       "        vertical-align: top;\n",
       "    }\n",
       "\n",
       "    .dataframe thead th {\n",
       "        text-align: right;\n",
       "    }\n",
       "</style>\n",
       "<table border=\"1\" class=\"dataframe\">\n",
       "  <thead>\n",
       "    <tr style=\"text-align: right;\">\n",
       "      <th></th>\n",
       "      <th>Charge1</th>\n",
       "      <th>Charge2</th>\n",
       "      <th>Event</th>\n",
       "      <th>Reco_phi1</th>\n",
       "      <th>Reco_phi2</th>\n",
       "      <th>Reco_r1</th>\n",
       "      <th>Reco_r2</th>\n",
       "      <th>Reco_x1</th>\n",
       "      <th>Reco_x2</th>\n",
       "      <th>Reco_y1</th>\n",
       "      <th>...</th>\n",
       "      <th>True_phi1</th>\n",
       "      <th>True_phi2</th>\n",
       "      <th>True_r1</th>\n",
       "      <th>True_r2</th>\n",
       "      <th>True_x1</th>\n",
       "      <th>True_x2</th>\n",
       "      <th>True_y1</th>\n",
       "      <th>True_y2</th>\n",
       "      <th>True_z1</th>\n",
       "      <th>True_z2</th>\n",
       "    </tr>\n",
       "  </thead>\n",
       "  <tbody>\n",
       "    <tr>\n",
       "      <th>0</th>\n",
       "      <td>1454</td>\n",
       "      <td>1252</td>\n",
       "      <td>7600006</td>\n",
       "      <td>-0.360781</td>\n",
       "      <td>2.753788</td>\n",
       "      <td>179.042816</td>\n",
       "      <td>177.673752</td>\n",
       "      <td>167.516298</td>\n",
       "      <td>-164.479965</td>\n",
       "      <td>-63.203007</td>\n",
       "      <td>...</td>\n",
       "      <td>-0.360866</td>\n",
       "      <td>2.751480</td>\n",
       "      <td>177.881241</td>\n",
       "      <td>177.768784</td>\n",
       "      <td>166.424133</td>\n",
       "      <td>-164.412354</td>\n",
       "      <td>-62.807178</td>\n",
       "      <td>67.604095</td>\n",
       "      <td>-53.387302</td>\n",
       "      <td>35.757706</td>\n",
       "    </tr>\n",
       "    <tr>\n",
       "      <th>1</th>\n",
       "      <td>593</td>\n",
       "      <td>1388</td>\n",
       "      <td>7600039</td>\n",
       "      <td>-1.171015</td>\n",
       "      <td>1.950777</td>\n",
       "      <td>185.384827</td>\n",
       "      <td>168.728409</td>\n",
       "      <td>72.154915</td>\n",
       "      <td>-62.581853</td>\n",
       "      <td>-170.766514</td>\n",
       "      <td>...</td>\n",
       "      <td>-1.179086</td>\n",
       "      <td>1.962506</td>\n",
       "      <td>176.944519</td>\n",
       "      <td>166.217499</td>\n",
       "      <td>67.552010</td>\n",
       "      <td>-63.456757</td>\n",
       "      <td>-163.542313</td>\n",
       "      <td>153.627777</td>\n",
       "      <td>-30.876205</td>\n",
       "      <td>29.004377</td>\n",
       "    </tr>\n",
       "    <tr>\n",
       "      <th>2</th>\n",
       "      <td>1717</td>\n",
       "      <td>972</td>\n",
       "      <td>7600087</td>\n",
       "      <td>-1.171355</td>\n",
       "      <td>1.898084</td>\n",
       "      <td>180.394989</td>\n",
       "      <td>172.567368</td>\n",
       "      <td>70.156352</td>\n",
       "      <td>-55.476317</td>\n",
       "      <td>-166.193978</td>\n",
       "      <td>...</td>\n",
       "      <td>-1.179712</td>\n",
       "      <td>1.894980</td>\n",
       "      <td>179.718552</td>\n",
       "      <td>167.203705</td>\n",
       "      <td>68.507080</td>\n",
       "      <td>-53.260181</td>\n",
       "      <td>-166.149139</td>\n",
       "      <td>158.494263</td>\n",
       "      <td>-40.601711</td>\n",
       "      <td>28.628691</td>\n",
       "    </tr>\n",
       "    <tr>\n",
       "      <th>3</th>\n",
       "      <td>1182</td>\n",
       "      <td>290</td>\n",
       "      <td>7600108</td>\n",
       "      <td>0.593469</td>\n",
       "      <td>-2.631792</td>\n",
       "      <td>168.077713</td>\n",
       "      <td>180.199814</td>\n",
       "      <td>139.337418</td>\n",
       "      <td>-157.285947</td>\n",
       "      <td>93.995753</td>\n",
       "      <td>...</td>\n",
       "      <td>0.592223</td>\n",
       "      <td>-2.639805</td>\n",
       "      <td>168.700226</td>\n",
       "      <td>165.584717</td>\n",
       "      <td>139.970917</td>\n",
       "      <td>-145.172119</td>\n",
       "      <td>94.169556</td>\n",
       "      <td>-79.645172</td>\n",
       "      <td>54.464954</td>\n",
       "      <td>-36.537167</td>\n",
       "    </tr>\n",
       "    <tr>\n",
       "      <th>4</th>\n",
       "      <td>2062</td>\n",
       "      <td>704</td>\n",
       "      <td>7600125</td>\n",
       "      <td>-0.445574</td>\n",
       "      <td>2.600732</td>\n",
       "      <td>188.472565</td>\n",
       "      <td>191.983780</td>\n",
       "      <td>170.070784</td>\n",
       "      <td>-164.581106</td>\n",
       "      <td>-81.227066</td>\n",
       "      <td>...</td>\n",
       "      <td>-0.450062</td>\n",
       "      <td>2.598884</td>\n",
       "      <td>188.323883</td>\n",
       "      <td>189.583862</td>\n",
       "      <td>169.570618</td>\n",
       "      <td>-162.343140</td>\n",
       "      <td>-81.924904</td>\n",
       "      <td>97.911919</td>\n",
       "      <td>-35.502316</td>\n",
       "      <td>33.703064</td>\n",
       "    </tr>\n",
       "  </tbody>\n",
       "</table>\n",
       "<p>5 rows × 23 columns</p>\n",
       "</div>"
      ],
      "text/plain": [
       "   Charge1  Charge2   Event   Reco_phi1  Reco_phi2     Reco_r1     Reco_r2  \\\n",
       "0     1454     1252  7600006  -0.360781   2.753788  179.042816  177.673752   \n",
       "1      593     1388  7600039  -1.171015   1.950777  185.384827  168.728409   \n",
       "2     1717      972  7600087  -1.171355   1.898084  180.394989  172.567368   \n",
       "3     1182      290  7600108   0.593469  -2.631792  168.077713  180.199814   \n",
       "4     2062      704  7600125  -0.445574   2.600732  188.472565  191.983780   \n",
       "\n",
       "      Reco_x1     Reco_x2     Reco_y1    ...      True_phi1  True_phi2  \\\n",
       "0  167.516298 -164.479965  -63.203007    ...      -0.360866   2.751480   \n",
       "1   72.154915  -62.581853 -170.766514    ...      -1.179086   1.962506   \n",
       "2   70.156352  -55.476317 -166.193978    ...      -1.179712   1.894980   \n",
       "3  139.337418 -157.285947   93.995753    ...       0.592223  -2.639805   \n",
       "4  170.070784 -164.581106  -81.227066    ...      -0.450062   2.598884   \n",
       "\n",
       "      True_r1     True_r2     True_x1     True_x2     True_y1     True_y2  \\\n",
       "0  177.881241  177.768784  166.424133 -164.412354  -62.807178   67.604095   \n",
       "1  176.944519  166.217499   67.552010  -63.456757 -163.542313  153.627777   \n",
       "2  179.718552  167.203705   68.507080  -53.260181 -166.149139  158.494263   \n",
       "3  168.700226  165.584717  139.970917 -145.172119   94.169556  -79.645172   \n",
       "4  188.323883  189.583862  169.570618 -162.343140  -81.924904   97.911919   \n",
       "\n",
       "     True_z1    True_z2  \n",
       "0 -53.387302  35.757706  \n",
       "1 -30.876205  29.004377  \n",
       "2 -40.601711  28.628691  \n",
       "3  54.464954 -36.537167  \n",
       "4 -35.502316  33.703064  \n",
       "\n",
       "[5 rows x 23 columns]"
      ]
     },
     "execution_count": 29,
     "metadata": {},
     "output_type": "execute_result"
    }
   ],
   "source": [
    "df.head()"
   ]
  },
  {
   "cell_type": "markdown",
   "metadata": {},
   "source": [
    "## Notebook configuration:"
   ]
  },
  {
   "cell_type": "code",
   "execution_count": 30,
   "metadata": {},
   "outputs": [],
   "source": [
    "overwrite = True\n",
    "\n",
    "Zrange = -70.0, 70.0\n",
    "Rrange = 165.0, 195.0\n",
    "Znbins = [28, 56, 70]\n",
    "Rnbins = [ 6, 12, 15]\n",
    "\n",
    "# Plotting style\n",
    "default_cmap = \"viridis\"\n",
    "figure_size  = 16, 12\n",
    "font_size    = 15\n",
    "\n",
    "save_plots   = True\n",
    "with_titles  = False\n",
    "plots_format = \"pdf\""
   ]
  },
  {
   "cell_type": "code",
   "execution_count": 32,
   "metadata": {},
   "outputs": [],
   "source": [
    "Zbins    = {n: np.linspace(*Zrange, n+1)  for n in Znbins}\n",
    "Zcenters = {n: shift_to_bin_centers(bins) for n, bins in Zbins.items()}\n",
    "Zpitch   = {n: np.diff(bins)[0]           for n, bins in Zbins.items()}\n",
    "Rbins    = {n: np.linspace(*Rrange, n+1)  for n in Rnbins}\n",
    "Rcenters = {n: shift_to_bin_centers(bins) for n, bins in Rbins.items()}\n",
    "Rpitch   = {n: np.diff(bins)[0]           for n, bins in Rbins.items()}\n",
    "\n",
    "plt.rcParams[\"figure.figsize\"] = figure_size\n",
    "plt.rcParams[  \"font.size\"   ] =   font_size\n",
    "\n",
    "#warnings.filterwarnings('ignore', category=tb.NaturalNameWarning)"
   ]
  },
  {
   "cell_type": "code",
   "execution_count": 42,
   "metadata": {},
   "outputs": [
    {
     "name": "stdout",
     "output_type": "stream",
     "text": [
      "89859\n",
      "3308\n"
     ]
    }
   ],
   "source": [
    "Z = df.Reco_z2.values\n",
    "R = df.Reco_r2.values\n",
    "E = df.Charge2.values\n",
    "\n",
    "print(len(R))\n",
    "print(len(R[np.isnan(R)]))"
   ]
  },
  {
   "cell_type": "markdown",
   "metadata": {},
   "source": [
    "## Event distribution:"
   ]
  },
  {
   "cell_type": "code",
   "execution_count": 34,
   "metadata": {},
   "outputs": [
    {
     "name": "stderr",
     "output_type": "stream",
     "text": [
      "/home/rolucar/anaconda3/lib/python3.6/site-packages/numpy/core/_methods.py:29: RuntimeWarning: invalid value encountered in reduce\n",
      "  return umr_minimum(a, axis, None, out, keepdims)\n",
      "/home/rolucar/anaconda3/lib/python3.6/site-packages/numpy/core/_methods.py:26: RuntimeWarning: invalid value encountered in reduce\n",
      "  return umr_maximum(a, axis, None, out, keepdims)\n",
      "/home/rolucar/anaconda3/lib/python3.6/site-packages/numpy/lib/function_base.py:966: RuntimeWarning: invalid value encountered in less_equal\n",
      "  if np.any(np.asarray(dedges[i]) <= 0):\n"
     ]
    },
    {
     "ename": "ValueError",
     "evalue": "cannot convert float NaN to integer",
     "output_type": "error",
     "traceback": [
      "\u001b[0;31m---------------------------------------------------------------------------\u001b[0m",
      "\u001b[0;31mValueError\u001b[0m                                Traceback (most recent call last)",
      "\u001b[0;32m<ipython-input-34-2b21917a9aeb>\u001b[0m in \u001b[0;36m<module>\u001b[0;34m()\u001b[0m\n\u001b[1;32m      8\u001b[0m \u001b[0;34m\u001b[0m\u001b[0m\n\u001b[1;32m      9\u001b[0m     \u001b[0mplt\u001b[0m\u001b[0;34m.\u001b[0m\u001b[0msubplot\u001b[0m\u001b[0;34m(\u001b[0m\u001b[0;36m3\u001b[0m\u001b[0;34m,\u001b[0m \u001b[0;36m2\u001b[0m\u001b[0;34m,\u001b[0m \u001b[0mi\u001b[0m\u001b[0;34m)\u001b[0m\u001b[0;34m\u001b[0m\u001b[0m\n\u001b[0;32m---> 10\u001b[0;31m     \u001b[0mnevt\u001b[0m\u001b[0;34m,\u001b[0m \u001b[0;34m*\u001b[0m\u001b[0m_\u001b[0m \u001b[0;34m=\u001b[0m \u001b[0mplt\u001b[0m\u001b[0;34m.\u001b[0m\u001b[0mhist2d\u001b[0m\u001b[0;34m(\u001b[0m\u001b[0mZ\u001b[0m\u001b[0;34m,\u001b[0m \u001b[0mR\u001b[0m\u001b[0;34m,\u001b[0m \u001b[0;34m(\u001b[0m\u001b[0mnZ\u001b[0m\u001b[0;34m,\u001b[0m \u001b[0mnR\u001b[0m\u001b[0;34m)\u001b[0m\u001b[0;34m)\u001b[0m\u001b[0;34m\u001b[0m\u001b[0m\n\u001b[0m\u001b[1;32m     11\u001b[0m     \u001b[0mplt\u001b[0m\u001b[0;34m.\u001b[0m\u001b[0mcolorbar\u001b[0m\u001b[0;34m(\u001b[0m\u001b[0;34m)\u001b[0m\u001b[0;34m.\u001b[0m\u001b[0mset_label\u001b[0m\u001b[0;34m(\u001b[0m\u001b[0;34m\"Number of events\"\u001b[0m\u001b[0;34m)\u001b[0m\u001b[0;34m\u001b[0m\u001b[0m\n\u001b[1;32m     12\u001b[0m     \u001b[0mlabels\u001b[0m\u001b[0;34m(\u001b[0m\u001b[0;34m\"Z (mm)\"\u001b[0m\u001b[0;34m,\u001b[0m \u001b[0;34m\"R (mm)\"\u001b[0m\u001b[0;34m,\u001b[0m \u001b[0;34mf\"Event distribution for {zpitch:.1f} and {rpitch:.1f} mm pitch\"\u001b[0m\u001b[0;34m)\u001b[0m\u001b[0;34m\u001b[0m\u001b[0m\n",
      "\u001b[0;32m~/anaconda3/lib/python3.6/site-packages/matplotlib/pyplot.py\u001b[0m in \u001b[0;36mhist2d\u001b[0;34m(x, y, bins, range, normed, weights, cmin, cmax, hold, data, **kwargs)\u001b[0m\n\u001b[1;32m   3047\u001b[0m         ret = ax.hist2d(x, y, bins=bins, range=range, normed=normed,\n\u001b[1;32m   3048\u001b[0m                         \u001b[0mweights\u001b[0m\u001b[0;34m=\u001b[0m\u001b[0mweights\u001b[0m\u001b[0;34m,\u001b[0m \u001b[0mcmin\u001b[0m\u001b[0;34m=\u001b[0m\u001b[0mcmin\u001b[0m\u001b[0;34m,\u001b[0m \u001b[0mcmax\u001b[0m\u001b[0;34m=\u001b[0m\u001b[0mcmax\u001b[0m\u001b[0;34m,\u001b[0m \u001b[0mdata\u001b[0m\u001b[0;34m=\u001b[0m\u001b[0mdata\u001b[0m\u001b[0;34m,\u001b[0m\u001b[0;34m\u001b[0m\u001b[0m\n\u001b[0;32m-> 3049\u001b[0;31m                         **kwargs)\n\u001b[0m\u001b[1;32m   3050\u001b[0m     \u001b[0;32mfinally\u001b[0m\u001b[0;34m:\u001b[0m\u001b[0;34m\u001b[0m\u001b[0m\n\u001b[1;32m   3051\u001b[0m         \u001b[0max\u001b[0m\u001b[0;34m.\u001b[0m\u001b[0m_hold\u001b[0m \u001b[0;34m=\u001b[0m \u001b[0mwashold\u001b[0m\u001b[0;34m\u001b[0m\u001b[0m\n",
      "\u001b[0;32m~/anaconda3/lib/python3.6/site-packages/matplotlib/__init__.py\u001b[0m in \u001b[0;36minner\u001b[0;34m(ax, *args, **kwargs)\u001b[0m\n\u001b[1;32m   1715\u001b[0m                     warnings.warn(msg % (label_namer, func.__name__),\n\u001b[1;32m   1716\u001b[0m                                   RuntimeWarning, stacklevel=2)\n\u001b[0;32m-> 1717\u001b[0;31m             \u001b[0;32mreturn\u001b[0m \u001b[0mfunc\u001b[0m\u001b[0;34m(\u001b[0m\u001b[0max\u001b[0m\u001b[0;34m,\u001b[0m \u001b[0;34m*\u001b[0m\u001b[0margs\u001b[0m\u001b[0;34m,\u001b[0m \u001b[0;34m**\u001b[0m\u001b[0mkwargs\u001b[0m\u001b[0;34m)\u001b[0m\u001b[0;34m\u001b[0m\u001b[0m\n\u001b[0m\u001b[1;32m   1718\u001b[0m         \u001b[0mpre_doc\u001b[0m \u001b[0;34m=\u001b[0m \u001b[0minner\u001b[0m\u001b[0;34m.\u001b[0m\u001b[0m__doc__\u001b[0m\u001b[0;34m\u001b[0m\u001b[0m\n\u001b[1;32m   1719\u001b[0m         \u001b[0;32mif\u001b[0m \u001b[0mpre_doc\u001b[0m \u001b[0;32mis\u001b[0m \u001b[0;32mNone\u001b[0m\u001b[0;34m:\u001b[0m\u001b[0;34m\u001b[0m\u001b[0m\n",
      "\u001b[0;32m~/anaconda3/lib/python3.6/site-packages/matplotlib/axes/_axes.py\u001b[0m in \u001b[0;36mhist2d\u001b[0;34m(self, x, y, bins, range, normed, weights, cmin, cmax, **kwargs)\u001b[0m\n\u001b[1;32m   6450\u001b[0m \u001b[0;34m\u001b[0m\u001b[0m\n\u001b[1;32m   6451\u001b[0m         h, xedges, yedges = np.histogram2d(x, y, bins=bins, range=range,\n\u001b[0;32m-> 6452\u001b[0;31m                                            normed=normed, weights=weights)\n\u001b[0m\u001b[1;32m   6453\u001b[0m \u001b[0;34m\u001b[0m\u001b[0m\n\u001b[1;32m   6454\u001b[0m         \u001b[0;32mif\u001b[0m \u001b[0mcmin\u001b[0m \u001b[0;32mis\u001b[0m \u001b[0;32mnot\u001b[0m \u001b[0;32mNone\u001b[0m\u001b[0;34m:\u001b[0m\u001b[0;34m\u001b[0m\u001b[0m\n",
      "\u001b[0;32m~/anaconda3/lib/python3.6/site-packages/numpy/lib/twodim_base.py\u001b[0m in \u001b[0;36mhistogram2d\u001b[0;34m(x, y, bins, range, normed, weights)\u001b[0m\n\u001b[1;32m    653\u001b[0m         \u001b[0mxedges\u001b[0m \u001b[0;34m=\u001b[0m \u001b[0myedges\u001b[0m \u001b[0;34m=\u001b[0m \u001b[0masarray\u001b[0m\u001b[0;34m(\u001b[0m\u001b[0mbins\u001b[0m\u001b[0;34m,\u001b[0m \u001b[0mfloat\u001b[0m\u001b[0;34m)\u001b[0m\u001b[0;34m\u001b[0m\u001b[0m\n\u001b[1;32m    654\u001b[0m         \u001b[0mbins\u001b[0m \u001b[0;34m=\u001b[0m \u001b[0;34m[\u001b[0m\u001b[0mxedges\u001b[0m\u001b[0;34m,\u001b[0m \u001b[0myedges\u001b[0m\u001b[0;34m]\u001b[0m\u001b[0;34m\u001b[0m\u001b[0m\n\u001b[0;32m--> 655\u001b[0;31m     \u001b[0mhist\u001b[0m\u001b[0;34m,\u001b[0m \u001b[0medges\u001b[0m \u001b[0;34m=\u001b[0m \u001b[0mhistogramdd\u001b[0m\u001b[0;34m(\u001b[0m\u001b[0;34m[\u001b[0m\u001b[0mx\u001b[0m\u001b[0;34m,\u001b[0m \u001b[0my\u001b[0m\u001b[0;34m]\u001b[0m\u001b[0;34m,\u001b[0m \u001b[0mbins\u001b[0m\u001b[0;34m,\u001b[0m \u001b[0mrange\u001b[0m\u001b[0;34m,\u001b[0m \u001b[0mnormed\u001b[0m\u001b[0;34m,\u001b[0m \u001b[0mweights\u001b[0m\u001b[0;34m)\u001b[0m\u001b[0;34m\u001b[0m\u001b[0m\n\u001b[0m\u001b[1;32m    656\u001b[0m     \u001b[0;32mreturn\u001b[0m \u001b[0mhist\u001b[0m\u001b[0;34m,\u001b[0m \u001b[0medges\u001b[0m\u001b[0;34m[\u001b[0m\u001b[0;36m0\u001b[0m\u001b[0;34m]\u001b[0m\u001b[0;34m,\u001b[0m \u001b[0medges\u001b[0m\u001b[0;34m[\u001b[0m\u001b[0;36m1\u001b[0m\u001b[0;34m]\u001b[0m\u001b[0;34m\u001b[0m\u001b[0m\n\u001b[1;32m    657\u001b[0m \u001b[0;34m\u001b[0m\u001b[0m\n",
      "\u001b[0;32m~/anaconda3/lib/python3.6/site-packages/numpy/lib/function_base.py\u001b[0m in \u001b[0;36mhistogramdd\u001b[0;34m(sample, bins, range, normed, weights)\u001b[0m\n\u001b[1;32m    987\u001b[0m         \u001b[0mmindiff\u001b[0m \u001b[0;34m=\u001b[0m \u001b[0mdedges\u001b[0m\u001b[0;34m[\u001b[0m\u001b[0mi\u001b[0m\u001b[0;34m]\u001b[0m\u001b[0;34m.\u001b[0m\u001b[0mmin\u001b[0m\u001b[0;34m(\u001b[0m\u001b[0;34m)\u001b[0m\u001b[0;34m\u001b[0m\u001b[0m\n\u001b[1;32m    988\u001b[0m         \u001b[0;32mif\u001b[0m \u001b[0;32mnot\u001b[0m \u001b[0mnp\u001b[0m\u001b[0;34m.\u001b[0m\u001b[0misinf\u001b[0m\u001b[0;34m(\u001b[0m\u001b[0mmindiff\u001b[0m\u001b[0;34m)\u001b[0m\u001b[0;34m:\u001b[0m\u001b[0;34m\u001b[0m\u001b[0m\n\u001b[0;32m--> 989\u001b[0;31m             \u001b[0mdecimal\u001b[0m \u001b[0;34m=\u001b[0m \u001b[0mint\u001b[0m\u001b[0;34m(\u001b[0m\u001b[0;34m-\u001b[0m\u001b[0mlog10\u001b[0m\u001b[0;34m(\u001b[0m\u001b[0mmindiff\u001b[0m\u001b[0;34m)\u001b[0m\u001b[0;34m)\u001b[0m \u001b[0;34m+\u001b[0m \u001b[0;36m6\u001b[0m\u001b[0;34m\u001b[0m\u001b[0m\n\u001b[0m\u001b[1;32m    990\u001b[0m             \u001b[0;31m# Find which points are on the rightmost edge.\u001b[0m\u001b[0;34m\u001b[0m\u001b[0;34m\u001b[0m\u001b[0m\n\u001b[1;32m    991\u001b[0m             \u001b[0mnot_smaller_than_edge\u001b[0m \u001b[0;34m=\u001b[0m \u001b[0;34m(\u001b[0m\u001b[0msample\u001b[0m\u001b[0;34m[\u001b[0m\u001b[0;34m:\u001b[0m\u001b[0;34m,\u001b[0m \u001b[0mi\u001b[0m\u001b[0;34m]\u001b[0m \u001b[0;34m>=\u001b[0m \u001b[0medges\u001b[0m\u001b[0;34m[\u001b[0m\u001b[0mi\u001b[0m\u001b[0;34m]\u001b[0m\u001b[0;34m[\u001b[0m\u001b[0;34m-\u001b[0m\u001b[0;36m1\u001b[0m\u001b[0;34m]\u001b[0m\u001b[0;34m)\u001b[0m\u001b[0;34m\u001b[0m\u001b[0m\n",
      "\u001b[0;31mValueError\u001b[0m: cannot convert float NaN to integer"
     ]
    },
    {
     "data": {
      "image/png": "[encoded data removed]",
      "text/plain": [
       "<matplotlib.figure.Figure at 0x7f02ff452828>"
      ]
     },
     "metadata": {},
     "output_type": "display_data"
    }
   ],
   "source": [
    "Nevt = {}\n",
    "i    = 1\n",
    "for nZ, nR in zip(Znbins, Rnbins):\n",
    "    zbins  = Zbins [nZ]\n",
    "    rbins  = Rbins [nR]\n",
    "    zpitch = Zpitch[nZ]\n",
    "    rpitch = Rpitch[nR]\n",
    "    \n",
    "    plt.subplot(3, 2, i)\n",
    "    nevt, *_ = plt.hist2d(Z, R, (nZ, nR))\n",
    "    plt.colorbar().set_label(\"Number of events\")\n",
    "    labels(\"Z (mm)\", \"R (mm)\", f\"Event distribution for {zpitch:.1f} and {rpitch:.1f} mm pitch\")\n",
    "\n",
    "    Nevt[(nZ, nR)] = nevt\n",
    "    i       += 1\n",
    "\n",
    "plt.tight_layout()\n",
    "#save(\"Event_distribution_different_pitches_ZR_\" + added_string)"
   ]
  },
  {
   "cell_type": "code",
   "execution_count": null,
   "metadata": {},
   "outputs": [],
   "source": []
  }
 ],
 "metadata": {
  "kernelspec": {
   "display_name": "Python 3",
   "language": "python",
   "name": "python3"
  },
  "language_info": {
   "codemirror_mode": {
    "name": "ipython",
    "version": 3
   },
   "file_extension": ".py",
   "mimetype": "text/x-python",
   "name": "python",
   "nbconvert_exporter": "python",
   "pygments_lexer": "ipython3",
   "version": "3.6.4"
  }
 },
 "nbformat": 4,
 "nbformat_minor": 2
}
