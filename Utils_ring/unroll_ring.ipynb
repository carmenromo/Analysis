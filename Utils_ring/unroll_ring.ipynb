{
 "cells": [
  {
   "cell_type": "code",
   "execution_count": 2,
   "metadata": {},
   "outputs": [],
   "source": [
    "import os\n",
    "import numpy  as np\n",
    "import pandas as pd\n",
    "\n",
    "import matplotlib.pyplot as plt\n",
    "from astropy.coordinates import Angle"
   ]
  },
  {
   "cell_type": "code",
   "execution_count": 5,
   "metadata": {},
   "outputs": [
    {
     "data": {
      "text/html": [
       "<div>\n",
       "<style scoped>\n",
       "    .dataframe tbody tr th:only-of-type {\n",
       "        vertical-align: middle;\n",
       "    }\n",
       "\n",
       "    .dataframe tbody tr th {\n",
       "        vertical-align: top;\n",
       "    }\n",
       "\n",
       "    .dataframe thead th {\n",
       "        text-align: right;\n",
       "    }\n",
       "</style>\n",
       "<table border=\"1\" class=\"dataframe\">\n",
       "  <thead>\n",
       "    <tr style=\"text-align: right;\">\n",
       "      <th></th>\n",
       "      <th>a_reco_r1</th>\n",
       "      <th>a_reco_phi1</th>\n",
       "      <th>a_reco_z1</th>\n",
       "      <th>a_reco_r2</th>\n",
       "      <th>a_reco_phi2</th>\n",
       "      <th>a_reco_z2</th>\n",
       "      <th>a_charges1</th>\n",
       "      <th>a_charges2</th>\n",
       "      <th>a_sensors1</th>\n",
       "      <th>a_sensors2</th>\n",
       "      <th>a_touched_sipms1</th>\n",
       "      <th>a_touched_sipms2</th>\n",
       "      <th>a_sns_response1</th>\n",
       "      <th>a_sns_response2</th>\n",
       "      <th>a_first_sipm1</th>\n",
       "      <th>a_first_time1</th>\n",
       "      <th>a_first_sipm2</th>\n",
       "      <th>a_first_time2</th>\n",
       "      <th>a_event_ids</th>\n",
       "    </tr>\n",
       "  </thead>\n",
       "  <tbody>\n",
       "    <tr>\n",
       "      <th>0</th>\n",
       "      <td>179.233398</td>\n",
       "      <td>1.958647</td>\n",
       "      <td>-53.401672</td>\n",
       "      <td>173.885727</td>\n",
       "      <td>-1.199272</td>\n",
       "      <td>29.207228</td>\n",
       "      <td>[191, 138, 14, 12, 49, 72, 25, 40, 81, 16, 30,...</td>\n",
       "      <td>[26, 6, 10, 14, 31, 27, 27, 24, 22, 25, 29, 15...</td>\n",
       "      <td>[1362, 1187, 1536, 1012, 1359, 1188, 1184, 136...</td>\n",
       "      <td>[3374, 3019, 3369, 3022, 3198, 3547, 3721, 319...</td>\n",
       "      <td>48</td>\n",
       "      <td>118</td>\n",
       "      <td>1059</td>\n",
       "      <td>1208</td>\n",
       "      <td>1362</td>\n",
       "      <td>307508451</td>\n",
       "      <td>3374</td>\n",
       "      <td>307508641</td>\n",
       "      <td>766.0</td>\n",
       "    </tr>\n",
       "    <tr>\n",
       "      <th>1</th>\n",
       "      <td>185.014938</td>\n",
       "      <td>-0.050292</td>\n",
       "      <td>-26.804808</td>\n",
       "      <td>179.747864</td>\n",
       "      <td>2.922910</td>\n",
       "      <td>18.593750</td>\n",
       "      <td>[32, 146, 148, 83, 105, 70, 38, 11, 21, 43, 52...</td>\n",
       "      <td>[54, 49, 48, 45, 25, 10, 27, 12, 21, 39, 19, 4...</td>\n",
       "      <td>[2182, 2180, 2005, 2004, 2179, 2355, 1829, 252...</td>\n",
       "      <td>[3137, 3313, 3139, 2963, 2964, 2965, 2788, 314...</td>\n",
       "      <td>36</td>\n",
       "      <td>63</td>\n",
       "      <td>1243</td>\n",
       "      <td>1017</td>\n",
       "      <td>2182</td>\n",
       "      <td>745015877</td>\n",
       "      <td>3137</td>\n",
       "      <td>745015982</td>\n",
       "      <td>1818.0</td>\n",
       "    </tr>\n",
       "    <tr>\n",
       "      <th>2</th>\n",
       "      <td>177.642242</td>\n",
       "      <td>2.786661</td>\n",
       "      <td>4.703749</td>\n",
       "      <td>174.067230</td>\n",
       "      <td>-0.323640</td>\n",
       "      <td>-14.051161</td>\n",
       "      <td>[52, 31, 58, 16, 51, 12, 51, 30, 29, 12, 24, 2...</td>\n",
       "      <td>[42, 15, 28, 15, 26, 10, 14, 18, 27, 4, 11, 25...</td>\n",
       "      <td>[2608, 2960, 2609, 2787, 2784, 2257, 2783, 278...</td>\n",
       "      <td>[2522, 2873, 2698, 1822, 2349, 2868, 2700, 217...</td>\n",
       "      <td>98</td>\n",
       "      <td>123</td>\n",
       "      <td>1316</td>\n",
       "      <td>1287</td>\n",
       "      <td>2608</td>\n",
       "      <td>767517441</td>\n",
       "      <td>2522</td>\n",
       "      <td>767517426</td>\n",
       "      <td>1876.0</td>\n",
       "    </tr>\n",
       "    <tr>\n",
       "      <th>3</th>\n",
       "      <td>178.916107</td>\n",
       "      <td>-2.059778</td>\n",
       "      <td>-18.145134</td>\n",
       "      <td>178.606171</td>\n",
       "      <td>1.092907</td>\n",
       "      <td>15.391026</td>\n",
       "      <td>[55, 35, 13, 77, 61, 45, 26, 27, 25, 31, 6, 13...</td>\n",
       "      <td>[51, 26, 45, 20, 14, 29, 38, 21, 40, 13, 11, 3...</td>\n",
       "      <td>[2298, 2473, 1772, 2123, 2124, 2474, 1947, 265...</td>\n",
       "      <td>[3436, 3259, 3261, 2738, 3613, 3612, 3088, 343...</td>\n",
       "      <td>73</td>\n",
       "      <td>74</td>\n",
       "      <td>1211</td>\n",
       "      <td>1276</td>\n",
       "      <td>2298</td>\n",
       "      <td>775016839</td>\n",
       "      <td>3436</td>\n",
       "      <td>775016934</td>\n",
       "      <td>1899.0</td>\n",
       "    </tr>\n",
       "    <tr>\n",
       "      <th>4</th>\n",
       "      <td>191.046356</td>\n",
       "      <td>-0.370060</td>\n",
       "      <td>52.858828</td>\n",
       "      <td>177.803574</td>\n",
       "      <td>2.792550</td>\n",
       "      <td>-39.098896</td>\n",
       "      <td>[686, 88, 93, 135, 3, 141, 31, 12, 3, 3, 20, 2...</td>\n",
       "      <td>[26, 28, 35, 28, 48, 8, 37, 46, 30, 5, 43, 26,...</td>\n",
       "      <td>[4096, 3921, 4097, 4271, 4446, 4095, 4270, 392...</td>\n",
       "      <td>[1911, 1907, 1735, 1909, 1559, 1563, 1733, 173...</td>\n",
       "      <td>14</td>\n",
       "      <td>77</td>\n",
       "      <td>1244</td>\n",
       "      <td>1132</td>\n",
       "      <td>4096</td>\n",
       "      <td>877510843</td>\n",
       "      <td>1911</td>\n",
       "      <td>877510908</td>\n",
       "      <td>2175.0</td>\n",
       "    </tr>\n",
       "  </tbody>\n",
       "</table>\n",
       "</div>"
      ],
      "text/plain": [
       "    a_reco_r1  a_reco_phi1  a_reco_z1   a_reco_r2  a_reco_phi2  a_reco_z2  \\\n",
       "0  179.233398     1.958647 -53.401672  173.885727    -1.199272  29.207228   \n",
       "1  185.014938    -0.050292 -26.804808  179.747864     2.922910  18.593750   \n",
       "2  177.642242     2.786661   4.703749  174.067230    -0.323640 -14.051161   \n",
       "3  178.916107    -2.059778 -18.145134  178.606171     1.092907  15.391026   \n",
       "4  191.046356    -0.370060  52.858828  177.803574     2.792550 -39.098896   \n",
       "\n",
       "                                          a_charges1  \\\n",
       "0  [191, 138, 14, 12, 49, 72, 25, 40, 81, 16, 30,...   \n",
       "1  [32, 146, 148, 83, 105, 70, 38, 11, 21, 43, 52...   \n",
       "2  [52, 31, 58, 16, 51, 12, 51, 30, 29, 12, 24, 2...   \n",
       "3  [55, 35, 13, 77, 61, 45, 26, 27, 25, 31, 6, 13...   \n",
       "4  [686, 88, 93, 135, 3, 141, 31, 12, 3, 3, 20, 2...   \n",
       "\n",
       "                                          a_charges2  \\\n",
       "0  [26, 6, 10, 14, 31, 27, 27, 24, 22, 25, 29, 15...   \n",
       "1  [54, 49, 48, 45, 25, 10, 27, 12, 21, 39, 19, 4...   \n",
       "2  [42, 15, 28, 15, 26, 10, 14, 18, 27, 4, 11, 25...   \n",
       "3  [51, 26, 45, 20, 14, 29, 38, 21, 40, 13, 11, 3...   \n",
       "4  [26, 28, 35, 28, 48, 8, 37, 46, 30, 5, 43, 26,...   \n",
       "\n",
       "                                          a_sensors1  \\\n",
       "0  [1362, 1187, 1536, 1012, 1359, 1188, 1184, 136...   \n",
       "1  [2182, 2180, 2005, 2004, 2179, 2355, 1829, 252...   \n",
       "2  [2608, 2960, 2609, 2787, 2784, 2257, 2783, 278...   \n",
       "3  [2298, 2473, 1772, 2123, 2124, 2474, 1947, 265...   \n",
       "4  [4096, 3921, 4097, 4271, 4446, 4095, 4270, 392...   \n",
       "\n",
       "                                          a_sensors2  a_touched_sipms1  \\\n",
       "0  [3374, 3019, 3369, 3022, 3198, 3547, 3721, 319...                48   \n",
       "1  [3137, 3313, 3139, 2963, 2964, 2965, 2788, 314...                36   \n",
       "2  [2522, 2873, 2698, 1822, 2349, 2868, 2700, 217...                98   \n",
       "3  [3436, 3259, 3261, 2738, 3613, 3612, 3088, 343...                73   \n",
       "4  [1911, 1907, 1735, 1909, 1559, 1563, 1733, 173...                14   \n",
       "\n",
       "   a_touched_sipms2  a_sns_response1  a_sns_response2  a_first_sipm1  \\\n",
       "0               118             1059             1208           1362   \n",
       "1                63             1243             1017           2182   \n",
       "2               123             1316             1287           2608   \n",
       "3                74             1211             1276           2298   \n",
       "4                77             1244             1132           4096   \n",
       "\n",
       "   a_first_time1  a_first_sipm2  a_first_time2  a_event_ids  \n",
       "0      307508451           3374      307508641        766.0  \n",
       "1      745015877           3137      745015982       1818.0  \n",
       "2      767517441           2522      767517426       1876.0  \n",
       "3      775016839           3436      775016934       1899.0  \n",
       "4      877510843           1911      877510908       2175.0  "
      ]
     },
     "execution_count": 5,
     "metadata": {},
     "output_type": "execute_result"
    }
   ],
   "source": [
    "current_path = os.getcwd()\n",
    "filename     = current_path + '/test_data/full_ring_reco_pos_charge_daq.npz'\n",
    "d            = np.load(filename)\n",
    "df           = pd.DataFrame({})\n",
    "for (key, vals) in d.items():\n",
    "    df[key] = vals\n",
    "df.head()"
   ]
  },
  {
   "cell_type": "code",
   "execution_count": 6,
   "metadata": {},
   "outputs": [],
   "source": [
    "def get_matrix_sipms(init_sipm, num_sipms, num_cols, sipms_per_row, sns1, sns2, q1, q2):\n",
    "    SiPM_Matrix = np.reshape(np.arange(init_sipm, init_sipm + num_sipms), (num_cols, sipms_per_row))\n",
    "    phi_o       = np.zeros(SiPM_Matrix.shape)\n",
    "    sensors     = np.concatenate((sns1, sns2))\n",
    "    charges     = np.concatenate((q1, q2))\n",
    "    \n",
    "    for sns, ch in zip(sensors, charges):\n",
    "        i, j = np.where(SiPM_Matrix == sns)\n",
    "        phi_o[i,j] = ch\n",
    "    \n",
    "    return phi_o"
   ]
  },
  {
   "cell_type": "code",
   "execution_count": 7,
   "metadata": {},
   "outputs": [
    {
     "data": {
      "text/plain": [
       "array([26, 28, 35, 28, 48,  8, 37, 46, 30,  5, 43, 26, 17,  9, 36, 41, 11,\n",
       "       26,  8,  4,  9, 14, 13, 16, 15,  7,  8, 18, 10, 13,  4, 24,  9,  9,\n",
       "       12, 13,  9,  8, 26, 22,  3, 26, 29, 19, 28,  3,  5, 21,  3, 17,  9,\n",
       "       10, 12,  4,  3,  9, 10, 12, 10, 14,  9, 12,  8,  7,  4,  3,  4,  4,\n",
       "        7,  5, 16,  3,  6,  3,  6,  8,  9])"
      ]
     },
     "execution_count": 7,
     "metadata": {},
     "output_type": "execute_result"
    }
   ],
   "source": [
    "df.a_charges2.iloc[4]"
   ]
  },
  {
   "cell_type": "code",
   "execution_count": 9,
   "metadata": {},
   "outputs": [
    {
     "data": {
      "image/png": "[encoded data removed]",
      "text/plain": [
       "<Figure size 1296x576 with 1 Axes>"
      ]
     },
     "metadata": {
      "needs_background": "light"
     },
     "output_type": "display_data"
    },
    {
     "data": {
      "image/png": "[encoded data removed]",
      "text/plain": [
       "<Figure size 1296x576 with 1 Axes>"
      ]
     },
     "metadata": {
      "needs_background": "light"
     },
     "output_type": "display_data"
    },
    {
     "data": {
      "image/png": "[encoded data removed]",
      "text/plain": [
       "<Figure size 1296x576 with 1 Axes>"
      ]
     },
     "metadata": {
      "needs_background": "light"
     },
     "output_type": "display_data"
    },
    {
     "data": {
      "image/png": "[encoded data removed]",
      "text/plain": [
       "<Figure size 1296x576 with 1 Axes>"
      ]
     },
     "metadata": {
      "needs_background": "light"
     },
     "output_type": "display_data"
    },
    {
     "data": {
      "image/png": "[encoded data removed]",
      "text/plain": [
       "<Figure size 1296x576 with 1 Axes>"
      ]
     },
     "metadata": {
      "needs_background": "light"
     },
     "output_type": "display_data"
    }
   ],
   "source": [
    "beautiful_events = [3, 14, 62, 71, 89]\n",
    "for i in beautiful_events:\n",
    "#for i in range(20):\n",
    "    phi_o = get_matrix_sipms(1000, 3500, 20, 175, \n",
    "                             df.a_sensors1.iloc[i], \n",
    "                             df.a_sensors2.iloc[i], \n",
    "                             df.a_charges1.iloc[i], \n",
    "                             df.a_charges2.iloc[i])\n",
    "    fig = plt.figure(figsize=(18,8))\n",
    "    plt.imshow(phi_o)\n",
    "    plt.show()"
   ]
  },
  {
   "cell_type": "code",
   "execution_count": null,
   "metadata": {},
   "outputs": [],
   "source": []
  }
 ],
 "metadata": {
  "kernelspec": {
   "display_name": "Python 3",
   "language": "python",
   "name": "python3"
  },
  "language_info": {
   "codemirror_mode": {
    "name": "ipython",
    "version": 3
   },
   "file_extension": ".py",
   "mimetype": "text/x-python",
   "name": "python",
   "nbconvert_exporter": "python",
   "pygments_lexer": "ipython3",
   "version": "3.7.1"
  }
 },
 "nbformat": 4,
 "nbformat_minor": 2
}
