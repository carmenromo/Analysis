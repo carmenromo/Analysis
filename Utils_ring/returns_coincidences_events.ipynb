{
 "cells": [
  {
   "cell_type": "code",
   "execution_count": 11,
   "metadata": {},
   "outputs": [],
   "source": [
    "import numpy as np\n",
    "import antea.database.load_db as db\n",
    "from antea.io.mc_io import load_mcsns_response\n",
    "from antea.io.mc_io import load_mcTOFsns_response\n",
    "from antea.io.mc_io import load_mcparticles\n",
    "from antea.io.mc_io import load_mchits\n",
    "\n",
    "import antea.reco.reco_functions   as rf"
   ]
  },
  {
   "cell_type": "code",
   "execution_count": 12,
   "metadata": {},
   "outputs": [],
   "source": [
    "filename     = '/Users/carmenromoluque/nexus_petit_analysis/PETit-ring/ring_dataframes_analysis/petit_ring_tof_all_tables.000.pet.h5'"
   ]
  },
  {
   "cell_type": "code",
   "execution_count": 14,
   "metadata": {},
   "outputs": [
    {
     "name": "stdout",
     "output_type": "stream",
     "text": [
      "31\n"
     ]
    }
   ],
   "source": [
    "DataSiPM     = db.DataSiPM('petalo', 0)\n",
    "DataSiPM_idx = DataSiPM.set_index('SensorID')\n",
    "sns_response = load_mcsns_response(filename)\n",
    "tof_response = load_mcTOFsns_response(filename)\n",
    "particles    = load_mcparticles(filename)\n",
    "hits         = load_mchits(filename)\n",
    "events       = particles.event_id.unique()\n",
    "\n",
    "sipms        = DataSiPM_idx.loc[sns_response.sensor_id]\n",
    "sns_ids      = sipms.index.values\n",
    "\n",
    "charge_range = (1000, 1400)\n",
    "\n",
    "for evt in events[:100]:\n",
    "    evt_sns = sns_response[sns_response.event_id == evt]\n",
    "    evt_sns = rf.find_SiPMs_over_threshold(evt_sns, threshold=2)\n",
    "    if len(evt_sns) == 0:\n",
    "        continue\n",
    "\n",
    "    evt_parts = particles[particles.event_id       == evt]\n",
    "    evt_hits  = hits[hits.event_id                 == evt]\n",
    "    evt_tof   = tof_response[tof_response.event_id == evt]\n",
    "\n",
    "    pos1, pos2, q1, q2, _, _, _, _, min_id1, min_id2, min_tof1, min_tof2 = rf.reconstruct_coincidences(evt_sns, evt_tof, charge_range, DataSiPM_idx, evt_parts, evt_hits)\n",
    "    \n",
    "    if len(pos1) and len(pos2):\n",
    "        print(evt)"
   ]
  },
  {
   "cell_type": "code",
   "execution_count": null,
   "metadata": {},
   "outputs": [],
   "source": []
  }
 ],
 "metadata": {
  "kernelspec": {
   "display_name": "Python 3",
   "language": "python",
   "name": "python3"
  },
  "language_info": {
   "codemirror_mode": {
    "name": "ipython",
    "version": 3
   },
   "file_extension": ".py",
   "mimetype": "text/x-python",
   "name": "python",
   "nbconvert_exporter": "python",
   "pygments_lexer": "ipython3",
   "version": "3.7.1"
  }
 },
 "nbformat": 4,
 "nbformat_minor": 2
}
