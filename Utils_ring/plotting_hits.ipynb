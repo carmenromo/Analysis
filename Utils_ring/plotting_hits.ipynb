{
 "cells": [
  {
   "cell_type": "code",
   "execution_count": 1,
   "metadata": {},
   "outputs": [],
   "source": [
    "import sys\n",
    "import numpy  as np\n",
    "import pandas as pd\n",
    "\n",
    "import antea.database.load_db      as db\n",
    "import antea.reco.reco_functions   as rf\n",
    "import antea.reco.mctrue_functions as mcf\n",
    "\n",
    "import matplotlib.pyplot as plt"
   ]
  },
  {
   "cell_type": "code",
   "execution_count": 2,
   "metadata": {},
   "outputs": [
    {
     "name": "stdout",
     "output_type": "stream",
     "text": [
      "Analyzing file /Users/carmenromoluque/nexus_petit_analysis/PETit-ring/change_to_dataframes/full_ring_iradius165mm_depth3cm_pitch7mm_new_h5.001.pet.h5\n",
      "[array([  26.70681 , -183.4894  ,  -20.824465], dtype=float32), array([-26.638657, 184.9117  ,  20.668644], dtype=float32)]\n"
     ]
    },
    {
     "data": {
      "image/png": "[encoded data removed]",
      "text/plain": [
       "<Figure size 720x720 with 1 Axes>"
      ]
     },
     "metadata": {},
     "output_type": "display_data"
    }
   ],
   "source": [
    "### read sensor positions from database\n",
    "DataSiPM     = db.DataSiPM('petalo', 0)\n",
    "DataSiPM_idx = DataSiPM.set_index('SensorID')\n",
    "\n",
    "start     = 1\n",
    "numb      = 1\n",
    "threshold = 2\n",
    "\n",
    "eventsPath = '/Users/carmenromoluque/nexus_petit_analysis/PETit-ring/change_to_dataframes/'\n",
    "file_name  = 'full_ring_iradius165mm_depth3cm_pitch7mm_new_h5'\n",
    "data_path  = eventsPath + '/data_test'\n",
    "file_full  = eventsPath + file_name + '.{0:03d}.pet.h5'\n",
    "evt_file   = '{0}/full_ring_irad15cm_d3cm_p7mm_reco_info_{1}_{2}'.format(data_path, start, numb)\n",
    "\n",
    "true_r1, true_r2   = [], []\n",
    "var_phi1, var_phi2 = [], []\n",
    "var_z1, var_z2     = [], []\n",
    "\n",
    "touched_sipms1, touched_sipms2 = [], []\n",
    "\n",
    "for ifile in range(start, start+numb):\n",
    "\n",
    "    file_name = file_full.format(ifile)\n",
    "    try:\n",
    "        sns_response = pd.read_hdf(file_name, 'MC/waveforms')\n",
    "    except ValueError:\n",
    "        print('File {} not found'.format(file_name))\n",
    "        continue\n",
    "    except OSError:\n",
    "        print('File {} not found'.format(file_name))\n",
    "        continue\n",
    "    except KeyError:\n",
    "        print('No object named MC/waveforms in file {0}'.format(file_name))\n",
    "        continue\n",
    "    print('Analyzing file {0}'.format(file_name))\n",
    "\n",
    "    sel_df = rf.find_SiPMs_over_threshold(sns_response, threshold)\n",
    "\n",
    "    particles = pd.read_hdf(file_name, 'MC/particles')\n",
    "    hits      = pd.read_hdf(file_name, 'MC/hits')\n",
    "    events    = particles.event_id.unique()\n",
    "\n",
    "    for evt in events[831:832]:\n",
    "\n",
    "        ### Select photoelectric events only\n",
    "        evt_parts = particles[particles.event_id == evt]\n",
    "        evt_hits  = hits     [hits     .event_id == evt]\n",
    "\n",
    "        select, true_pos = mcf.select_photoelectric(evt_parts, evt_hits)\n",
    "        print(true_pos)\n",
    "\n",
    "        if not select: continue\n",
    "\n",
    "        if (len(true_pos) == 1) & (evt_hits.energy.sum() > 0.513):\n",
    "            continue\n",
    "\n",
    "        waveforms = sel_df[sel_df.event_id == evt]\n",
    "        if len(waveforms) == 0: continue\n",
    "\n",
    "        q1, q2, pos1, pos2 = rf.assign_sipms_to_gammas(waveforms, true_pos, DataSiPM_idx)\n",
    "        pos1_x = np.array([el[0] for el in pos1])\n",
    "        pos1_y = np.array([el[1] for el in pos1])\n",
    "        \n",
    "        pos2_x = np.array([el[0] for el in pos2])\n",
    "        pos2_y = np.array([el[1] for el in pos2])\n",
    "        \n",
    "        plt.figure(figsize=(10,10))\n",
    "        plt.plot(pos1_x, pos1_y, '.', c='r', markersize=5)\n",
    "        plt.plot(pos2_x, pos2_y, '.', c='b', markersize=5)\n",
    "        plt.xlabel('True x', size=18)\n",
    "        plt.ylabel('True y', size=18)"
   ]
  },
  {
   "cell_type": "code",
   "execution_count": null,
   "metadata": {},
   "outputs": [],
   "source": []
  }
 ],
 "metadata": {
  "kernelspec": {
   "display_name": "Python 3",
   "language": "python",
   "name": "python3"
  },
  "language_info": {
   "codemirror_mode": {
    "name": "ipython",
    "version": 3
   },
   "file_extension": ".py",
   "mimetype": "text/x-python",
   "name": "python",
   "nbconvert_exporter": "python",
   "pygments_lexer": "ipython3",
   "version": "3.6.6"
  }
 },
 "nbformat": 4,
 "nbformat_minor": 2
}
