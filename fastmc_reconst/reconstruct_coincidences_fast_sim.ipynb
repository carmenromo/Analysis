{
 "cells": [
  {
   "cell_type": "code",
   "execution_count": 1,
   "metadata": {},
   "outputs": [],
   "source": [
    "import os\n",
    "import numpy  as np\n",
    "import pandas as pd\n",
    "import matplotlib.pyplot as plt\n",
    "import mlem.mlem_reconstruct as mr"
   ]
  },
  {
   "cell_type": "markdown",
   "metadata": {},
   "source": [
    "## Read fastmc files:"
   ]
  },
  {
   "cell_type": "code",
   "execution_count": 2,
   "metadata": {},
   "outputs": [],
   "source": [
    "def read_datafile(input_file, n_coincidences):\n",
    "\n",
    "    df = pd.read_hdf(input_file)\n",
    "    df = df.head(n_coincidences)\n",
    "\n",
    "    true_r1   = df.true_r1  .values\n",
    "    true_phi1 = df.true_phi1.values\n",
    "    true_z1   = df.true_z1  .values\n",
    "    true_t1   = df.true_t1  .values\n",
    "\n",
    "    reco_r1   = df.reco_r1  .values\n",
    "    reco_phi1 = df.reco_phi1.values\n",
    "    reco_z1   = df.reco_z1  .values\n",
    "    reco_t1   = df.reco_t1  .values\n",
    "\n",
    "    true_r2   = df.true_r2  .values\n",
    "    true_phi2 = df.true_phi2.values\n",
    "    true_z2   = df.true_z2  .values\n",
    "    true_t2   = df.true_t2  .values\n",
    "\n",
    "    reco_r2   = df.reco_r2  .values\n",
    "    reco_phi2 = df.reco_phi2.values\n",
    "    reco_z2   = df.reco_z2  .values\n",
    "    reco_t2   = df.reco_t2  .values\n",
    "\n",
    "    event_ids = df.event_id .values\n",
    "\n",
    "    return (event_ids, true_r1, true_phi1, true_z1, true_t1,\n",
    "                       true_r2, true_phi2, true_z2, true_t2,\n",
    "                       reco_r1, reco_phi1, reco_z1, reco_t1,\n",
    "                       reco_r2, reco_phi2, reco_z2, reco_t2)"
   ]
  },
  {
   "cell_type": "code",
   "execution_count": 22,
   "metadata": {},
   "outputs": [
    {
     "name": "stdout",
     "output_type": "stream",
     "text": [
      "Read 9945 coincidences\n"
     ]
    }
   ],
   "source": [
    "data_path      = '/Users/carmenromoluque/nexus_petit_analysis/full-body-PET/fastsim/'\n",
    "data_file      = data_path + 'full_body_phantom_sim_reco_thr1.5pes.0.h5'\n",
    "n_coincidences = 10000\n",
    "\n",
    "(evt, true_r1, true_phi1, true_z1, true_t1,\n",
    " true_r2, true_phi2, true_z2, true_t2,\n",
    " r1, phi1, z1, t1,\n",
    " r2, phi2, z2, t2) = read_datafile(data_file, n_coincidences)\n",
    "print(f\"Read {len(evt)} coincidences\".format(len(evt)))\n",
    "\n",
    "lor_x1 = r1*np.cos(phi1); lor_y1 = r1*np.sin(phi1); lor_z1 = z1; lor_t1 = t1;\n",
    "lor_x2 = r2*np.cos(phi2); lor_y2 = r2*np.sin(phi2); lor_z2 = z2; lor_t2 = t2;"
   ]
  },
  {
   "cell_type": "markdown",
   "metadata": {},
   "source": [
    "## Perform the 3D PET reconstruction:"
   ]
  },
  {
   "cell_type": "code",
   "execution_count": 23,
   "metadata": {},
   "outputs": [
    {
     "name": "stdout",
     "output_type": "stream",
     "text": [
      "Sensitivity matrix not specified: assuming a matrix of 1s.\n"
     ]
    }
   ],
   "source": [
    "# Reconstruct the image\n",
    "path_to_mlem = '/Users/carmenromoluque/tofpet3d/lib/libmlem.so'\n",
    "rec          = mr.MLEMReconstructor(libpath=path_to_mlem)\n",
    "tof          = 150 # ps\n",
    "n_iterations = 16\n",
    "save_every   = 2\n",
    "\n",
    "rec.TOF = True\n",
    "if not tof:\n",
    "    rec.TOF = False\n",
    "rec.TOF_resolution = tof\n",
    "rec.niterations    = n_iterations\n",
    "rec.save_every     = save_every\n",
    "reco_prefix_base = '/Users/carmenromoluque/nexus_petit_analysis/full-body-PET/fastsim/fastsim_reco'\n",
    "rec.prefix = reco_prefix_base + f'_TOF{tof}ps_{n_coincidences}coincidences'\n",
    "img = rec.reconstruct(lor_x1, lor_y1, lor_z1, lor_t1, lor_x2, lor_y2, lor_z2, lor_t2)"
   ]
  },
  {
   "cell_type": "markdown",
   "metadata": {},
   "source": [
    "## Load images"
   ]
  },
  {
   "cell_type": "code",
   "execution_count": 24,
   "metadata": {},
   "outputs": [
    {
     "name": "stdout",
     "output_type": "stream",
     "text": [
      "Read 864000 bytes\n",
      "Read 864000 bytes\n",
      "Read 864000 bytes\n",
      "Read 864000 bytes\n",
      "Read 864000 bytes\n",
      "Read 864000 bytes\n",
      "Read 864000 bytes\n",
      "Read 864000 bytes\n"
     ]
    }
   ],
   "source": [
    "the_imgs = []\n",
    "\n",
    "for i in range(0, n_iterations, save_every):\n",
    "    img = rec.read_image(i)\n",
    "    the_imgs.append(img)"
   ]
  },
  {
   "cell_type": "markdown",
   "metadata": {},
   "source": [
    "## Plot images:"
   ]
  },
  {
   "cell_type": "code",
   "execution_count": 25,
   "metadata": {},
   "outputs": [
    {
     "data": {
      "image/png": "[encoded data removed]",
      "text/plain": [
       "<Figure size 432x288 with 2 Axes>"
      ]
     },
     "metadata": {
      "needs_background": "light"
     },
     "output_type": "display_data"
    }
   ],
   "source": [
    "n_iter = 7\n",
    "slice_min = 25\n",
    "slice_max = 35\n",
    "plt.imshow(np.sum(the_imgs[n_iter][:,:,slice_min:slice_max], axis=2).transpose(),origin='lower')\n",
    "plt.colorbar();"
   ]
  },
  {
   "cell_type": "markdown",
   "metadata": {},
   "source": [
    "## Plot contrast recovery coefficient (CRC) as a function of the iteration"
   ]
  },
  {
   "cell_type": "code",
   "execution_count": null,
   "metadata": {},
   "outputs": [],
   "source": [
    "crcs_hot_0, crcs_hot_1, crcs_hot_2, crcs_hot_3 = [], [], [], []\n",
    "crcs_cold_0, crcs_cold_1 = [], []\n",
    "\n",
    "err_crcs_hot_0, err_crcs_hot_1, err_crcs_hot_2, err_crcs_hot_3 = [], [], [], []\n",
    "err_crcs_cold_0, err_crcs_cold_1 = [], []\n",
    "\n",
    "for i in range(len(the_imgs)):\n",
    "    crc_hot0, err_hot0 = fomf.crc_hot3d(the_imgs[i], sig_intensity, bckg_intensity, hot_radii[0], radial_pos,\\\n",
    "                                        hot_angles[0], bckg_radius, phi0, phi_step, n_phi, x_size, y_size, z_size,\\\n",
    "                                        x_bins, y_bins, z_bins)\n",
    "    crc_hot1, err_hot1 = fomf.crc_hot3d(the_imgs[i], sig_intensity, bckg_intensity, hot_radii[1], radial_pos,\\\n",
    "                                        hot_angles[1], bckg_radius, phi0, phi_step, n_phi, x_size, y_size, z_size,\\\n",
    "                                        x_bins, y_bins, z_bins)\n",
    "    crc_hot2, err_hot2 = fomf.crc_hot3d(the_imgs[i], sig_intensity, bckg_intensity, hot_radii[2], radial_pos,\\\n",
    "                                        hot_angles[2], bckg_radius, phi0, phi_step, n_phi, x_size, y_size, z_size,\\\n",
    "                                        x_bins, y_bins, z_bins)\n",
    "    crc_hot3, err_hot3 = fomf.crc_hot3d(the_imgs[i], sig_intensity, bckg_intensity, hot_radii[3], radial_pos,\\\n",
    "                                        hot_angles[3], bckg_radius, phi0, phi_step, n_phi, x_size, y_size, z_size,\\\n",
    "                                        x_bins, y_bins, z_bins)\n",
    "    crcs_hot_0.append(crc_hot0*100)\n",
    "    crcs_hot_1.append(crc_hot1*100)\n",
    "    crcs_hot_2.append(crc_hot2*100)\n",
    "    crcs_hot_3.append(crc_hot3*100)\n",
    "    \n",
    "    err_crcs_hot_0.append(err_hot0*100)\n",
    "    err_crcs_hot_1.append(err_hot1*100)\n",
    "    err_crcs_hot_2.append(err_hot2*100)\n",
    "    err_crcs_hot_3.append(err_hot3*100)\n",
    "    \n",
    "    crc_cold0, err_cold0 = fomf.crc_cold3d(the_imgs[i], cold_radii[0], radial_pos, cold_angles[0], bckg_radius, phi0,\\\n",
    "                                           phi_step, n_phi, x_size, y_size, z_size, x_bins, y_bins, z_bins)\n",
    "    crc_cold1, err_cold1 = fomf.crc_cold3d(the_imgs[i], cold_radii[1], radial_pos, cold_angles[1], bckg_radius, phi0,\\\n",
    "                                           phi_step, n_phi, x_size, y_size, z_size, x_bins, y_bins, z_bins)\n",
    "    crcs_cold_0.append(crc_cold0*100)\n",
    "    crcs_cold_1.append(crc_cold1*100)\n",
    "    \n",
    "    err_crcs_cold_0.append(err_cold0*100)\n",
    "    err_crcs_cold_1.append(err_cold1*100)"
   ]
  },
  {
   "cell_type": "code",
   "execution_count": null,
   "metadata": {},
   "outputs": [],
   "source": [
    "e,\\\n",
    "             color=light_red, marker='s', capsize=3, label='hot sphere 0')\n",
    "plt.errorbar(list(range(0, n_iterations, save_every)), crcs_hot_1, yerr=err_crcs_hot_1, xerr=None,\\\n",
    "             color=light_blue, marker='s', capsize=3, label='hot sphere 1')\n",
    "plt.errorbar(list(range(0, n_iterations, save_every)), crcs_hot_2, yerr=err_crcs_hot_2, xerr=None,\\\n",
    "             color=blue, marker='s', capsize=3, label='hot sphere 2')\n",
    "plt.errorbar(list(range(0, n_iterations, save_every)), crcs_hot_3, yerr=err_crcs_hot_3, xerr=None,\\\n",
    "             color=green, marker='s', capsize=3, label='hot sphere 3')\n",
    "plt.xticks(list(range(0, n_iterations, save_every)))\n",
    "plt.xlabel('Number of iterations')\n",
    "plt.ylabel('CRC (%)')\n",
    "plt.legend(loc=2);"
   ]
  },
  {
   "cell_type": "code",
   "execution_count": null,
   "metadata": {},
   "outputs": [],
   "source": [
    "plt.errorbar(list(range(0, n_iterations, save_every)), crcs_cold_0, yerr=err_crcs_hot_0, xerr=None,\\\n",
    "             color=light_red, marker='s', capsize=3, label='cold sphere 0')\n",
    "plt.errorbar(list(range(0, n_iterations, save_every)), crcs_cold_1, yerr=err_crcs_hot_1, xerr=None,\\\n",
    "             color=light_blue, marker='s', capsize=3, label='cold sphere 1')\n",
    "plt.xticks(list(range(0, n_iterations, save_every)))\n",
    "plt.xlabel('Number of iterations')\n",
    "plt.ylabel('CRC (%)')\n",
    "plt.legend(loc=2);"
   ]
  },
  {
   "cell_type": "markdown",
   "metadata": {},
   "source": [
    "## Plot contrast recovery coefficient (CRC) as a function of the activity"
   ]
  },
  {
   "cell_type": "code",
   "execution_count": null,
   "metadata": {},
   "outputs": [],
   "source": [
    "coincidence_list = list(range(100000, 400000, 100000)) # to make reconstructions with 1e5, 2e5, ... coincidences.\n",
    "### The numbers of coincidences in this example are very low, so the error bars in the plot are very high.\n",
    "### A higher number of coincidences needs to be used for a proper analysis.\n",
    "\n",
    "reconstructions = []\n",
    "\n",
    "for n in coincidence_list:\n",
    "    (evt, true_r1, true_phi1, true_z1, true_t1,\n",
    "     true_r2, true_phi2, true_z2, true_t2,\n",
    "     r1, phi1, z1, t1,\n",
    "     r2, phi2, z2, t2) = read_datafile(data_file, n)\n",
    "    print(\"Read {} coincidences\".format(len(evt)))\n",
    "\n",
    "    lor_x1 = r1*np.cos(phi1); lor_y1 = r1*np.sin(phi1); lor_z1 = z1; lor_t1 = t1;\n",
    "    lor_x2 = r2*np.cos(phi2); lor_y2 = r2*np.sin(phi2); lor_z2 = z2; lor_t2 = t2;\n",
    "    \n",
    "    rec = myreco.MLEMReconstructor(libpath=path_to_mlem)\n",
    "    rec.TOF = True\n",
    "    if not tof:\n",
    "        rec.TOF = False\n",
    "    rec.TOF_resolution = tof\n",
    "    rec.niterations = n_iterations\n",
    "    rec.save_every = save_every\n",
    "    rec.prefix = reco_prefix_base + f'_TOF{tof}ps_{n}coincidences'\n",
    "    rec.reconstruct(lor_x1, lor_y1, lor_z1, lor_t1, lor_x2, lor_y2, lor_z2, lor_t2)\n",
    "    reconstructions.append(rec)"
   ]
  },
  {
   "cell_type": "code",
   "execution_count": null,
   "metadata": {},
   "outputs": [],
   "source": [
    "the_imgs = [[] for i in range(0, len(coincidence_list))]\n",
    "\n",
    "for i in range(0, len(coincidence_list)):\n",
    "    for j in range(0, n_iterations, save_every):\n",
    "        img = reconstructions[i].read_image(j)\n",
    "        the_imgs[i].append(img)"
   ]
  },
  {
   "cell_type": "code",
   "execution_count": null,
   "metadata": {},
   "outputs": [],
   "source": [
    "it = 6 # number of chosen iteration\n",
    "\n",
    "crcs_hot_0, crcs_hot_1, crcs_hot_2, crcs_hot_3 = [], [], [], []\n",
    "crcs_cold_0, crcs_cold_1 = [], []\n",
    "\n",
    "err_crcs_hot_0, err_crcs_hot_1, err_crcs_hot_2, err_crcs_hot_3 = [], [], [], []\n",
    "err_crcs_cold_0, err_crcs_cold_1 = [], []\n",
    "\n",
    "for i in range(len(the_imgs)):\n",
    "    crc_hot0, err_hot0 = fomf.crc_hot3d(the_imgs[i][it], sig_intensity, bckg_intensity, hot_radii[0], radial_pos,\\\n",
    "                                        hot_angles[0], bckg_radius, phi0, phi_step, n_phi, x_size, y_size, z_size,\\\n",
    "                                        x_bins, y_bins, z_bins)\n",
    "    crc_hot1, err_hot1 = fomf.crc_hot3d(the_imgs[i][it], sig_intensity, bckg_intensity, hot_radii[1], radial_pos,\\\n",
    "                                        hot_angles[1], bckg_radius, phi0, phi_step, n_phi, x_size, y_size, z_size,\\\n",
    "                                        x_bins, y_bins, z_bins)\n",
    "    crc_hot2, err_hot2 = fomf.crc_hot3d(the_imgs[i][it], sig_intensity, bckg_intensity, hot_radii[2], radial_pos,\\\n",
    "                                        hot_angles[2], bckg_radius, phi0, phi_step, n_phi, x_size, y_size, z_size,\\\n",
    "                                        x_bins, y_bins, z_bins)\n",
    "    crc_hot3, err_hot3 = fomf.crc_hot3d(the_imgs[i][it], sig_intensity, bckg_intensity, hot_radii[3], radial_pos,\\\n",
    "                                        hot_angles[3], bckg_radius, phi0, phi_step, n_phi, x_size, y_size, z_size,\\\n",
    "                                        x_bins, y_bins, z_bins)\n",
    "    crcs_hot_0.append(crc_hot0*100)\n",
    "    crcs_hot_1.append(crc_hot1*100)\n",
    "    crcs_hot_2.append(crc_hot2*100)\n",
    "    crcs_hot_3.append(crc_hot3*100)\n",
    "    \n",
    "    err_crcs_hot_0.append(err_hot0*100)\n",
    "    err_crcs_hot_1.append(err_hot1*100)\n",
    "    err_crcs_hot_2.append(err_hot2*100)\n",
    "    err_crcs_hot_3.append(err_hot3*100)\n",
    "    \n",
    "    crc_cold0, err_cold0 = fomf.crc_cold3d(the_imgs[i][it], cold_radii[0], radial_pos, cold_angles[0], bckg_radius, phi0,\\\n",
    "                                           phi_step, n_phi, x_size, y_size, z_size, x_bins, y_bins, z_bins)\n",
    "    crc_cold1, err_cold1 = fomf.crc_cold3d(the_imgs[i][it], cold_radii[1], radial_pos, cold_angles[1], bckg_radius, phi0,\\\n",
    "                                           phi_step, n_phi, x_size, y_size, z_size, x_bins, y_bins, z_bins)\n",
    "    crcs_cold_0.append(crc_cold0*100)\n",
    "    crcs_cold_1.append(crc_cold1*100)\n",
    "    \n",
    "    err_crcs_cold_0.append(err_cold0*100)\n",
    "    err_crcs_cold_1.append(err_cold1*100)"
   ]
  },
  {
   "cell_type": "code",
   "execution_count": null,
   "metadata": {},
   "outputs": [],
   "source": [
    "plt.errorbar(list(range(1, len(coincidence_list)+1)), crcs_hot_0, yerr=err_crcs_hot_0, xerr=None, color=light_red,\\\n",
    "             marker='s', capsize=3)\n",
    "plt.xticks(list(range(1, len(coincidence_list)+1)))\n",
    "plt.xlabel(f'Number of coincidences used (x $10^5$)')\n",
    "plt.ylabel('CRC (%)');"
   ]
  }
 ],
 "metadata": {
  "kernelspec": {
   "display_name": "Python 3",
   "language": "python",
   "name": "python3"
  },
  "language_info": {
   "codemirror_mode": {
    "name": "ipython",
    "version": 3
   },
   "file_extension": ".py",
   "mimetype": "text/x-python",
   "name": "python",
   "nbconvert_exporter": "python",
   "pygments_lexer": "ipython3",
   "version": "3.7.1"
  }
 },
 "nbformat": 4,
 "nbformat_minor": 2
}
