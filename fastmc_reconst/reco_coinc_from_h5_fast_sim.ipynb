{
 "cells": [
  {
   "cell_type": "code",
   "execution_count": 1,
   "metadata": {},
   "outputs": [],
   "source": [
    "import os\n",
    "import numpy  as np\n",
    "import pandas as pd\n",
    "import matplotlib.pyplot as plt\n",
    "import mlem.mlem_reconstruct as mr\n",
    "\n",
    "import datetime"
   ]
  },
  {
   "cell_type": "markdown",
   "metadata": {},
   "source": [
    "## Read fastmc files:"
   ]
  },
  {
   "cell_type": "markdown",
   "metadata": {},
   "source": [
    "If the number of coincidences we want to use is relatively high, better use the script to create the raw files"
   ]
  },
  {
   "cell_type": "code",
   "execution_count": null,
   "metadata": {},
   "outputs": [
    {
     "name": "stdout",
     "output_type": "stream",
     "text": [
      "Analizing file 100\n",
      "<class 'datetime.time'>\n",
      "Analizing file 200\n",
      "<class 'datetime.time'>\n",
      "Analizing file 300\n",
      "<class 'datetime.time'>\n",
      "Analizing file 400\n",
      "<class 'datetime.time'>\n",
      "Analizing file 500\n",
      "<class 'datetime.time'>\n",
      "Analizing file 600\n",
      "<class 'datetime.time'>\n",
      "Analizing file 700\n",
      "<class 'datetime.time'>\n",
      "Analizing file 800\n",
      "<class 'datetime.time'>\n",
      "Analizing file 900\n",
      "<class 'datetime.time'>\n",
      "Analizing file 1000\n",
      "<class 'datetime.time'>\n",
      "Analizing file 1100\n",
      "<class 'datetime.time'>\n",
      "Analizing file 1200\n",
      "<class 'datetime.time'>\n",
      "Analizing file 1300\n",
      "<class 'datetime.time'>\n",
      "Analizing file 1400\n",
      "<class 'datetime.time'>\n",
      "Analizing file 1500\n",
      "<class 'datetime.time'>\n",
      "Analizing file 1600\n",
      "<class 'datetime.time'>\n",
      "Analizing file 1700\n",
      "<class 'datetime.time'>\n",
      "Analizing file 1800\n",
      "<class 'datetime.time'>\n",
      "Analizing file 1900\n",
      "<class 'datetime.time'>\n",
      "Analizing file 2000\n",
      "<class 'datetime.time'>\n",
      "Analizing file 2100\n",
      "<class 'datetime.time'>\n",
      "Analizing file 2200\n",
      "<class 'datetime.time'>\n",
      "Analizing file 2300\n",
      "<class 'datetime.time'>\n",
      "Analizing file 2400\n",
      "<class 'datetime.time'>\n",
      "Analizing file 2500\n",
      "<class 'datetime.time'>\n",
      "Analizing file 2600\n",
      "<class 'datetime.time'>\n",
      "Analizing file 2700\n",
      "<class 'datetime.time'>\n",
      "Analizing file 2800\n",
      "<class 'datetime.time'>\n",
      "Analizing file 2900\n",
      "<class 'datetime.time'>\n",
      "Analizing file 3000\n",
      "<class 'datetime.time'>\n",
      "Analizing file 3100\n",
      "<class 'datetime.time'>\n",
      "Analizing file 3200\n",
      "<class 'datetime.time'>\n"
     ]
    }
   ],
   "source": [
    "eventsPath = '/data/PETALO/full_body/phantom/fastsim_tof_thr_charge/'\n",
    "thrs = ['0.5', '1.0', '1.5']\n",
    "cols = ['event_id', 'true_energy', \n",
    "        'true_r1', 'true_phi1', 'true_z1', 'true_t1', \n",
    "        'true_r2', 'true_phi2', 'true_z2', 'true_t2', 'phot_like1', 'phot_like2',\n",
    "        'reco_r1', 'reco_phi1', 'reco_z1', 'reco_t1',\n",
    "        'reco_r2', 'reco_phi2', 'reco_z2', 'reco_t2']\n",
    "\n",
    "## We only take the events with energy above the energy threshold\n",
    "df_0 = pd.DataFrame(columns=cols)\n",
    "df_1 = pd.DataFrame(columns=cols)\n",
    "df_2 = pd.DataFrame(columns=cols)\n",
    "\n",
    "start         = 0\n",
    "numb_of_files = 5000\n",
    "printcounter  = 0\n",
    "\n",
    "for file_number in range(start, start+numb_of_files):\n",
    "    if (printcounter == 100):\n",
    "        print(f'Analizing file {file_number}')\n",
    "        print(datetime.time)\n",
    "        printcounter = 0\n",
    "    for th in thrs:\n",
    "        filename  = f'full_body_phantom_sim_reco_thr{th}pes.{file_number}.h5'\n",
    "        file_name = eventsPath+filename\n",
    "        try:\n",
    "            table = pd.read_hdf(file_name, 'reco/table')\n",
    "            sel_below_th = (table.true_energy > 0.) & (table.true_r1 == 0.)\n",
    "            reco = table[~sel_below_th]\n",
    "            if th == '0.5':\n",
    "                df_0 = pd.concat([df_0, reco], ignore_index=True, sort=False)\n",
    "            elif th == '1.0':\n",
    "                df_1 = pd.concat([df_1, reco], ignore_index=True, sort=False)\n",
    "            elif th == '1.5':\n",
    "                df_2 = pd.concat([df_2, reco], ignore_index=True, sort=False)\n",
    "        except:\n",
    "            print('File {} not found'.format(filename))\n",
    "            continue\n",
    "    printcounter += 1"
   ]
  },
  {
   "cell_type": "code",
   "execution_count": 3,
   "metadata": {},
   "outputs": [
    {
     "data": {
      "text/html": [
       "<div>\n",
       "<style scoped>\n",
       "    .dataframe tbody tr th:only-of-type {\n",
       "        vertical-align: middle;\n",
       "    }\n",
       "\n",
       "    .dataframe tbody tr th {\n",
       "        vertical-align: top;\n",
       "    }\n",
       "\n",
       "    .dataframe thead th {\n",
       "        text-align: right;\n",
       "    }\n",
       "</style>\n",
       "<table border=\"1\" class=\"dataframe\">\n",
       "  <thead>\n",
       "    <tr style=\"text-align: right;\">\n",
       "      <th></th>\n",
       "      <th>event_id</th>\n",
       "      <th>true_energy</th>\n",
       "      <th>true_r1</th>\n",
       "      <th>true_phi1</th>\n",
       "      <th>true_z1</th>\n",
       "      <th>true_t1</th>\n",
       "      <th>true_r2</th>\n",
       "      <th>true_phi2</th>\n",
       "      <th>true_z2</th>\n",
       "      <th>true_t2</th>\n",
       "      <th>...</th>\n",
       "      <th>phot_like2</th>\n",
       "      <th>reco_r1</th>\n",
       "      <th>reco_phi1</th>\n",
       "      <th>reco_z1</th>\n",
       "      <th>reco_t1</th>\n",
       "      <th>reco_r2</th>\n",
       "      <th>reco_phi2</th>\n",
       "      <th>reco_z2</th>\n",
       "      <th>reco_t2</th>\n",
       "      <th>index</th>\n",
       "    </tr>\n",
       "  </thead>\n",
       "  <tbody>\n",
       "    <tr>\n",
       "      <th>0</th>\n",
       "      <td>0.0</td>\n",
       "      <td>0.951023</td>\n",
       "      <td>388.161438</td>\n",
       "      <td>-2.426028</td>\n",
       "      <td>12.060630</td>\n",
       "      <td>1106.273651</td>\n",
       "      <td>385.879364</td>\n",
       "      <td>0.509245</td>\n",
       "      <td>-138.424576</td>\n",
       "      <td>1552.139640</td>\n",
       "      <td>...</td>\n",
       "      <td>1.0</td>\n",
       "      <td>387.724562</td>\n",
       "      <td>-2.428130</td>\n",
       "      <td>12.636013</td>\n",
       "      <td>1366.723993</td>\n",
       "      <td>385.730284</td>\n",
       "      <td>0.506647</td>\n",
       "      <td>-138.261131</td>\n",
       "      <td>1616.175875</td>\n",
       "      <td>0.0</td>\n",
       "    </tr>\n",
       "    <tr>\n",
       "      <th>1</th>\n",
       "      <td>1.0</td>\n",
       "      <td>1.021998</td>\n",
       "      <td>395.887604</td>\n",
       "      <td>-0.782359</td>\n",
       "      <td>-244.534348</td>\n",
       "      <td>1753.064632</td>\n",
       "      <td>408.127258</td>\n",
       "      <td>2.517416</td>\n",
       "      <td>178.980743</td>\n",
       "      <td>1270.745873</td>\n",
       "      <td>...</td>\n",
       "      <td>0.0</td>\n",
       "      <td>395.503007</td>\n",
       "      <td>-0.782845</td>\n",
       "      <td>-239.124634</td>\n",
       "      <td>1818.839590</td>\n",
       "      <td>396.968804</td>\n",
       "      <td>2.554529</td>\n",
       "      <td>180.625742</td>\n",
       "      <td>1401.350983</td>\n",
       "      <td>0.0</td>\n",
       "    </tr>\n",
       "    <tr>\n",
       "      <th>2</th>\n",
       "      <td>2.0</td>\n",
       "      <td>1.021998</td>\n",
       "      <td>386.499146</td>\n",
       "      <td>-2.738715</td>\n",
       "      <td>136.093292</td>\n",
       "      <td>1129.407763</td>\n",
       "      <td>382.422546</td>\n",
       "      <td>0.610116</td>\n",
       "      <td>-80.631691</td>\n",
       "      <td>1524.648428</td>\n",
       "      <td>...</td>\n",
       "      <td>0.0</td>\n",
       "      <td>393.317868</td>\n",
       "      <td>-2.765326</td>\n",
       "      <td>136.122751</td>\n",
       "      <td>1211.396943</td>\n",
       "      <td>397.517979</td>\n",
       "      <td>0.618298</td>\n",
       "      <td>-78.735262</td>\n",
       "      <td>1710.530534</td>\n",
       "      <td>0.0</td>\n",
       "    </tr>\n",
       "    <tr>\n",
       "      <th>3</th>\n",
       "      <td>3.0</td>\n",
       "      <td>0.966275</td>\n",
       "      <td>394.292999</td>\n",
       "      <td>-1.882011</td>\n",
       "      <td>177.883972</td>\n",
       "      <td>1496.185541</td>\n",
       "      <td>385.352814</td>\n",
       "      <td>1.416757</td>\n",
       "      <td>-94.614670</td>\n",
       "      <td>1260.429382</td>\n",
       "      <td>...</td>\n",
       "      <td>0.0</td>\n",
       "      <td>394.969058</td>\n",
       "      <td>-1.882248</td>\n",
       "      <td>177.651708</td>\n",
       "      <td>1621.305673</td>\n",
       "      <td>385.189895</td>\n",
       "      <td>1.418560</td>\n",
       "      <td>-97.602442</td>\n",
       "      <td>1512.806789</td>\n",
       "      <td>0.0</td>\n",
       "    </tr>\n",
       "    <tr>\n",
       "      <th>4</th>\n",
       "      <td>4.0</td>\n",
       "      <td>1.021998</td>\n",
       "      <td>389.445496</td>\n",
       "      <td>1.443530</td>\n",
       "      <td>-60.627537</td>\n",
       "      <td>1275.282383</td>\n",
       "      <td>406.267426</td>\n",
       "      <td>-1.800152</td>\n",
       "      <td>215.849731</td>\n",
       "      <td>1531.320333</td>\n",
       "      <td>...</td>\n",
       "      <td>1.0</td>\n",
       "      <td>389.402949</td>\n",
       "      <td>1.443173</td>\n",
       "      <td>-60.471206</td>\n",
       "      <td>1526.934464</td>\n",
       "      <td>405.544365</td>\n",
       "      <td>-1.799859</td>\n",
       "      <td>215.363544</td>\n",
       "      <td>1791.888561</td>\n",
       "      <td>0.0</td>\n",
       "    </tr>\n",
       "  </tbody>\n",
       "</table>\n",
       "<p>5 rows × 21 columns</p>\n",
       "</div>"
      ],
      "text/plain": [
       "   event_id  true_energy     true_r1  true_phi1     true_z1      true_t1  \\\n",
       "0       0.0     0.951023  388.161438  -2.426028   12.060630  1106.273651   \n",
       "1       1.0     1.021998  395.887604  -0.782359 -244.534348  1753.064632   \n",
       "2       2.0     1.021998  386.499146  -2.738715  136.093292  1129.407763   \n",
       "3       3.0     0.966275  394.292999  -1.882011  177.883972  1496.185541   \n",
       "4       4.0     1.021998  389.445496   1.443530  -60.627537  1275.282383   \n",
       "\n",
       "      true_r2  true_phi2     true_z2      true_t2  ...    phot_like2  \\\n",
       "0  385.879364   0.509245 -138.424576  1552.139640  ...           1.0   \n",
       "1  408.127258   2.517416  178.980743  1270.745873  ...           0.0   \n",
       "2  382.422546   0.610116  -80.631691  1524.648428  ...           0.0   \n",
       "3  385.352814   1.416757  -94.614670  1260.429382  ...           0.0   \n",
       "4  406.267426  -1.800152  215.849731  1531.320333  ...           1.0   \n",
       "\n",
       "      reco_r1  reco_phi1     reco_z1      reco_t1     reco_r2  reco_phi2  \\\n",
       "0  387.724562  -2.428130   12.636013  1366.723993  385.730284   0.506647   \n",
       "1  395.503007  -0.782845 -239.124634  1818.839590  396.968804   2.554529   \n",
       "2  393.317868  -2.765326  136.122751  1211.396943  397.517979   0.618298   \n",
       "3  394.969058  -1.882248  177.651708  1621.305673  385.189895   1.418560   \n",
       "4  389.402949   1.443173  -60.471206  1526.934464  405.544365  -1.799859   \n",
       "\n",
       "      reco_z2      reco_t2  index  \n",
       "0 -138.261131  1616.175875    0.0  \n",
       "1  180.625742  1401.350983    0.0  \n",
       "2  -78.735262  1710.530534    0.0  \n",
       "3  -97.602442  1512.806789    0.0  \n",
       "4  215.363544  1791.888561    0.0  \n",
       "\n",
       "[5 rows x 21 columns]"
      ]
     },
     "execution_count": 3,
     "metadata": {},
     "output_type": "execute_result"
    }
   ],
   "source": [
    "df_0.head()"
   ]
  },
  {
   "cell_type": "code",
   "execution_count": 4,
   "metadata": {},
   "outputs": [],
   "source": [
    "r1_0   = df_0.reco_r1  .values\n",
    "phi1_0 = df_0.reco_phi1.values\n",
    "z1_0   = df_0.reco_z1  .values\n",
    "t1_0   = df_0.reco_t1  .values\n",
    "r2_0   = df_0.reco_r2  .values\n",
    "phi2_0 = df_0.reco_phi2.values\n",
    "z2_0   = df_0.reco_z2  .values\n",
    "t2_0   = df_0.reco_t2  .values\n",
    "evt_0  = df_0.event_id .values\n",
    "\n",
    "lor_x1_0 = r1_0*np.cos(phi1_0); lor_y1_0 = r1_0*np.sin(phi1_0); lor_z1_0 = z1_0; lor_t1_0 = t1_0;\n",
    "lor_x2_0 = r2_0*np.cos(phi2_0); lor_y2_0 = r2_0*np.sin(phi2_0); lor_z2_0 = z2_0; lor_t2_0 = t2_0;\n",
    "\n",
    "r1_1   = df_1.reco_r1  .values\n",
    "phi1_1 = df_1.reco_phi1.values\n",
    "z1_1   = df_1.reco_z1  .values\n",
    "t1_1   = df_1.reco_t1  .values\n",
    "r2_1   = df_1.reco_r2  .values\n",
    "phi2_1 = df_1.reco_phi2.values\n",
    "z2_1   = df_1.reco_z2  .values\n",
    "t2_1   = df_1.reco_t2  .values\n",
    "evt_1  = df_1.event_id .values\n",
    "\n",
    "lor_x1_1 = r1_1*np.cos(phi1_1); lor_y1_1 = r1_1*np.sin(phi1_1); lor_z1_1 = z1_1; lor_t1_1 = t1_1;\n",
    "lor_x2_1 = r2_1*np.cos(phi2_1); lor_y2_1 = r2_1*np.sin(phi2_1); lor_z2_1 = z2_1; lor_t2_1 = t2_1;\n",
    "\n",
    "r1_2   = df_2.reco_r1  .values\n",
    "phi1_2 = df_2.reco_phi1.values\n",
    "z1_2   = df_2.reco_z1  .values\n",
    "t1_2   = df_2.reco_t1  .values\n",
    "r2_2   = df_2.reco_r2  .values\n",
    "phi2_2 = df_2.reco_phi2.values\n",
    "z2_2   = df_2.reco_z2  .values\n",
    "t2_2   = df_2.reco_t2  .values\n",
    "evt_2  = df_2.event_id .values\n",
    "\n",
    "lor_x1_2 = r1_2*np.cos(phi1_2); lor_y1_2 = r1_2*np.sin(phi1_2); lor_z1_2 = z1_2; lor_t1_2 = t1_2;\n",
    "lor_x2_2 = r2_2*np.cos(phi2_2); lor_y2_2 = r2_2*np.sin(phi2_2); lor_z2_2 = z2_2; lor_t2_2 = t2_2;"
   ]
  },
  {
   "cell_type": "code",
   "execution_count": 6,
   "metadata": {},
   "outputs": [
    {
     "data": {
      "text/plain": [
       "33515271"
      ]
     },
     "execution_count": 6,
     "metadata": {},
     "output_type": "execute_result"
    }
   ],
   "source": [
    "len(df_0)"
   ]
  },
  {
   "cell_type": "markdown",
   "metadata": {},
   "source": [
    "## Perform the 3D PET reconstruction:"
   ]
  },
  {
   "cell_type": "code",
   "execution_count": 5,
   "metadata": {},
   "outputs": [],
   "source": [
    "# Reconstruct the image\n",
    "path_to_mlem     = '/home/rolucar/tofpet3d/lib/libmlem.so'\n",
    "reco_prefix_base = '/home/rolucar/PETALO/full_body/fastmc/'\n",
    "\n",
    "tof          = 150 # ps\n",
    "n_iterations = 16\n",
    "save_every   = 2"
   ]
  },
  {
   "cell_type": "markdown",
   "metadata": {},
   "source": [
    "## For the different thresholds:"
   ]
  },
  {
   "cell_type": "code",
   "execution_count": 7,
   "metadata": {},
   "outputs": [
    {
     "name": "stdout",
     "output_type": "stream",
     "text": [
      "Sensitivity matrix not specified: assuming a matrix of 1s.\n"
     ]
    }
   ],
   "source": [
    "rec_0                = mr.MLEMReconstructor(libpath=path_to_mlem)\n",
    "rec_0.TOF            = True\n",
    "rec_0.TOF_resolution = tof\n",
    "rec_0.niterations    = n_iterations\n",
    "rec_0.save_every     = save_every\n",
    "n_coincidences_0     = len(df_0)\n",
    "rec_0.prefix = reco_prefix_base + f'im_th0.5_TOF{tof}ps_{n_coincidences_0}coincidences'\n",
    "img_0 = rec_0.reconstruct(lor_x1_0, lor_y1_0, lor_z1_0, lor_t1_0, lor_x2_0, lor_y2_0, lor_z2_0, lor_t2_0)"
   ]
  },
  {
   "cell_type": "code",
   "execution_count": 8,
   "metadata": {},
   "outputs": [
    {
     "data": {
      "text/plain": [
       "Text(0, 0.5, 'y (mm)')"
      ]
     },
     "execution_count": 8,
     "metadata": {},
     "output_type": "execute_result"
    },
    {
     "data": {
      "image/png": "[encoded data removed]",
      "text/plain": [
       "<Figure size 432x288 with 2 Axes>"
      ]
     },
     "metadata": {
      "needs_background": "light"
     },
     "output_type": "display_data"
    }
   ],
   "source": [
    "img_0.shape\n",
    "\n",
    "# Plot the reconstructed image (take a central slice).\n",
    "plt.imshow(img_0[:,:,29].transpose(),extent=[0,180,0,180],origin='lower')\n",
    "plt.colorbar()\n",
    "plt.xlabel(\"x (mm)\")\n",
    "plt.ylabel(\"y (mm)\")"
   ]
  },
  {
   "cell_type": "code",
   "execution_count": 10,
   "metadata": {},
   "outputs": [
    {
     "name": "stdout",
     "output_type": "stream",
     "text": [
      "Sensitivity matrix not specified: assuming a matrix of 1s.\n"
     ]
    }
   ],
   "source": [
    "rec_1                = mr.MLEMReconstructor(libpath=path_to_mlem)\n",
    "rec_1.TOF            = True\n",
    "rec_1.TOF_resolution = tof\n",
    "rec_1.niterations    = n_iterations\n",
    "rec_1.save_every     = save_every\n",
    "n_coincidences_1     = len(df_1)\n",
    "rec_1.prefix = reco_prefix_base + f'im_th1.0_TOF{tof}ps_{n_coincidences_1}coincidences'\n",
    "img_1 = rec_1.reconstruct(lor_x1_1, lor_y1_1, lor_z1_1, lor_t1_1, lor_x2_1, lor_y2_1, lor_z2_1, lor_t2_1)"
   ]
  },
  {
   "cell_type": "code",
   "execution_count": 13,
   "metadata": {},
   "outputs": [
    {
     "name": "stdout",
     "output_type": "stream",
     "text": [
      "Sensitivity matrix not specified: assuming a matrix of 1s.\n"
     ]
    }
   ],
   "source": [
    "rec_2                = mr.MLEMReconstructor(libpath=path_to_mlem)\n",
    "rec_2.TOF            = True\n",
    "rec_2.TOF_resolution = tof\n",
    "rec_2.niterations    = n_iterations\n",
    "rec_2.save_every     = save_every\n",
    "n_coincidences_2     = len(df_2)\n",
    "rec_2.prefix = reco_prefix_base + f'_th1.5_TOF{tof}ps_{n_coincidences_2}coincidences'\n",
    "img_2 = rec_2.reconstruct(lor_x1_2, lor_y1_2, lor_z1_2, lor_t1_2, lor_x2_2, lor_y2_2, lor_z2_2, lor_t2_2)"
   ]
  },
  {
   "cell_type": "markdown",
   "metadata": {},
   "source": [
    "## Load images"
   ]
  },
  {
   "cell_type": "code",
   "execution_count": 14,
   "metadata": {},
   "outputs": [
    {
     "name": "stdout",
     "output_type": "stream",
     "text": [
      "Read 864000 bytes\n",
      "Read 864000 bytes\n",
      "Read 864000 bytes\n",
      "Read 864000 bytes\n",
      "Read 864000 bytes\n",
      "Read 864000 bytes\n",
      "Read 864000 bytes\n",
      "Read 864000 bytes\n",
      "Read 864000 bytes\n",
      "Read 864000 bytes\n",
      "Read 864000 bytes\n",
      "Read 864000 bytes\n",
      "Read 864000 bytes\n",
      "Read 864000 bytes\n",
      "Read 864000 bytes\n",
      "Read 864000 bytes\n",
      "Read 864000 bytes\n",
      "Read 864000 bytes\n",
      "Read 864000 bytes\n",
      "Read 864000 bytes\n",
      "Read 864000 bytes\n",
      "Read 864000 bytes\n",
      "Read 864000 bytes\n",
      "Read 864000 bytes\n"
     ]
    }
   ],
   "source": [
    "the_imgs0 = []\n",
    "for i in range(0, n_iterations, save_every):\n",
    "    img = rec_0.read_image(i)\n",
    "    the_imgs0.append(img)\n",
    "    \n",
    "the_imgs1 = []\n",
    "for i in range(0, n_iterations, save_every):\n",
    "    img = rec_1.read_image(i)\n",
    "    the_imgs1.append(img)\n",
    "    \n",
    "the_imgs2 = []\n",
    "for i in range(0, n_iterations, save_every):\n",
    "    img = rec_2.read_image(i)\n",
    "    the_imgs2.append(img)"
   ]
  },
  {
   "cell_type": "markdown",
   "metadata": {},
   "source": [
    "## Plot images:"
   ]
  },
  {
   "cell_type": "code",
   "execution_count": 1,
   "metadata": {},
   "outputs": [
    {
     "ename": "NameError",
     "evalue": "name 'plt' is not defined",
     "output_type": "error",
     "traceback": [
      "\u001b[0;31m---------------------------------------------------------------------------\u001b[0m",
      "\u001b[0;31mNameError\u001b[0m                                 Traceback (most recent call last)",
      "\u001b[0;32m<ipython-input-1-596c21a53423>\u001b[0m in \u001b[0;36m<module>\u001b[0;34m\u001b[0m\n\u001b[1;32m      2\u001b[0m \u001b[0mslice_min\u001b[0m \u001b[0;34m=\u001b[0m \u001b[0;36m25\u001b[0m\u001b[0;34m\u001b[0m\u001b[0;34m\u001b[0m\u001b[0m\n\u001b[1;32m      3\u001b[0m \u001b[0mslice_max\u001b[0m \u001b[0;34m=\u001b[0m \u001b[0;36m35\u001b[0m\u001b[0;34m\u001b[0m\u001b[0;34m\u001b[0m\u001b[0m\n\u001b[0;32m----> 4\u001b[0;31m \u001b[0mplt\u001b[0m\u001b[0;34m.\u001b[0m\u001b[0mimshow\u001b[0m\u001b[0;34m(\u001b[0m\u001b[0mnp\u001b[0m\u001b[0;34m.\u001b[0m\u001b[0msum\u001b[0m\u001b[0;34m(\u001b[0m\u001b[0mthe_imgs2\u001b[0m\u001b[0;34m[\u001b[0m\u001b[0mn_iter\u001b[0m\u001b[0;34m]\u001b[0m\u001b[0;34m[\u001b[0m\u001b[0;34m:\u001b[0m\u001b[0;34m,\u001b[0m\u001b[0;34m:\u001b[0m\u001b[0;34m,\u001b[0m\u001b[0mslice_min\u001b[0m\u001b[0;34m:\u001b[0m\u001b[0mslice_max\u001b[0m\u001b[0;34m]\u001b[0m\u001b[0;34m,\u001b[0m \u001b[0maxis\u001b[0m\u001b[0;34m=\u001b[0m\u001b[0;36m2\u001b[0m\u001b[0;34m)\u001b[0m\u001b[0;34m.\u001b[0m\u001b[0mtranspose\u001b[0m\u001b[0;34m(\u001b[0m\u001b[0;34m)\u001b[0m\u001b[0;34m,\u001b[0m\u001b[0morigin\u001b[0m\u001b[0;34m=\u001b[0m\u001b[0;34m'lower'\u001b[0m\u001b[0;34m)\u001b[0m\u001b[0;34m\u001b[0m\u001b[0;34m\u001b[0m\u001b[0m\n\u001b[0m\u001b[1;32m      5\u001b[0m \u001b[0mplt\u001b[0m\u001b[0;34m.\u001b[0m\u001b[0mcolorbar\u001b[0m\u001b[0;34m(\u001b[0m\u001b[0;34m)\u001b[0m\u001b[0;34m;\u001b[0m\u001b[0;34m\u001b[0m\u001b[0;34m\u001b[0m\u001b[0m\n",
      "\u001b[0;31mNameError\u001b[0m: name 'plt' is not defined"
     ]
    }
   ],
   "source": [
    "n_iter = 7\n",
    "slice_min = 25\n",
    "slice_max = 35\n",
    "plt.imshow(np.sum(the_imgs2[n_iter][:,:,slice_min:slice_max], axis=2).transpose(),origin='lower')\n",
    "plt.colorbar();"
   ]
  },
  {
   "cell_type": "code",
   "execution_count": 29,
   "metadata": {},
   "outputs": [
    {
     "data": {
      "image/png": "[encoded data removed]",
      "text/plain": [
       "<Figure size 1080x360 with 3 Axes>"
      ]
     },
     "metadata": {
      "needs_background": "light"
     },
     "output_type": "display_data"
    }
   ],
   "source": [
    "n_iter    = 7\n",
    "slice_min = 25\n",
    "slice_max = 35\n",
    "fig, (ax0, ax1, ax2) = plt.subplots(1,3, figsize=(15, 5))\n",
    "im0 = ax0.imshow(np.sum(the_imgs0[n_iter][:,:,slice_min:slice_max], axis=2).transpose(),origin='lower')\n",
    "ax0.set_title('TOF threshold = 0.5 pes', fontsize=18)\n",
    "#plt.colorbar(im0)\n",
    "im1 = ax1.imshow(np.sum(the_imgs1[n_iter][:,:,slice_min:slice_max], axis=2).transpose(),origin='lower')\n",
    "ax1.set_title('TOF threshold = 1.0 pes', fontsize=18)\n",
    "#plt.colorbar(im1)\n",
    "im2 = ax2.imshow(np.sum(the_imgs2[n_iter][:,:,slice_min:slice_max], axis=2).transpose(),origin='lower')\n",
    "ax2.set_title('TOF threshold = 1.5 pes', fontsize=18)\n",
    "#plt.colorbar(im2)\n",
    "plt.tight_layout()\n",
    "plt.show()"
   ]
  },
  {
   "cell_type": "markdown",
   "metadata": {},
   "source": [
    "## Read from one file:"
   ]
  },
  {
   "cell_type": "code",
   "execution_count": null,
   "metadata": {},
   "outputs": [],
   "source": [
    "def read_datafile(input_file, n_coincidences):\n",
    "\n",
    "    df = pd.read_hdf(input_file)\n",
    "    df = df.head(n_coincidences)\n",
    "\n",
    "    true_r1   = df.true_r1  .values\n",
    "    true_phi1 = df.true_phi1.values\n",
    "    true_z1   = df.true_z1  .values\n",
    "    true_t1   = df.true_t1  .values\n",
    "\n",
    "    reco_r1   = df.reco_r1  .values\n",
    "    reco_phi1 = df.reco_phi1.values\n",
    "    reco_z1   = df.reco_z1  .values\n",
    "    reco_t1   = df.reco_t1  .values\n",
    "\n",
    "    true_r2   = df.true_r2  .values\n",
    "    true_phi2 = df.true_phi2.values\n",
    "    true_z2   = df.true_z2  .values\n",
    "    true_t2   = df.true_t2  .values\n",
    "\n",
    "    reco_r2   = df.reco_r2  .values\n",
    "    reco_phi2 = df.reco_phi2.values\n",
    "    reco_z2   = df.reco_z2  .values\n",
    "    reco_t2   = df.reco_t2  .values\n",
    "\n",
    "    event_ids = df.event_id .values\n",
    "\n",
    "    return (event_ids, true_r1, true_phi1, true_z1, true_t1,\n",
    "                       true_r2, true_phi2, true_z2, true_t2,\n",
    "                       reco_r1, reco_phi1, reco_z1, reco_t1,\n",
    "                       reco_r2, reco_phi2, reco_z2, reco_t2)"
   ]
  },
  {
   "cell_type": "code",
   "execution_count": null,
   "metadata": {},
   "outputs": [],
   "source": [
    "data_path      = '/Users/carmenromoluque/nexus_petit_analysis/full-body-PET/fastsim/'\n",
    "data_file      = data_path + 'full_body_phantom_sim_reco_thr1.5pes.0.h5'\n",
    "n_coincidences = 10000\n",
    "\n",
    "(evt, true_r1, true_phi1, true_z1, true_t1,\n",
    " true_r2, true_phi2, true_z2, true_t2,\n",
    " r1, phi1, z1, t1,\n",
    " r2, phi2, z2, t2) = read_datafile(data_file, n_coincidences)\n",
    "print(f\"Read {len(evt)} coincidences\".format(len(evt)))\n",
    "\n",
    "lor_x1 = r1*np.cos(phi1); lor_y1 = r1*np.sin(phi1); lor_z1 = z1; lor_t1 = t1;\n",
    "lor_x2 = r2*np.cos(phi2); lor_y2 = r2*np.sin(phi2); lor_z2 = z2; lor_t2 = t2;"
   ]
  }
 ],
 "metadata": {
  "kernelspec": {
   "display_name": "Python 3",
   "language": "python",
   "name": "python3"
  },
  "language_info": {
   "codemirror_mode": {
    "name": "ipython",
    "version": 3
   },
   "file_extension": ".py",
   "mimetype": "text/x-python",
   "name": "python",
   "nbconvert_exporter": "python",
   "pygments_lexer": "ipython3",
   "version": "3.7.1"
  }
 },
 "nbformat": 4,
 "nbformat_minor": 2
}
