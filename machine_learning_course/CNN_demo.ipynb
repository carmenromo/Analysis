{
 "cells": [
  {
   "cell_type": "markdown",
   "metadata": {},
   "source": [
    "### Imports"
   ]
  },
  {
   "cell_type": "code",
   "execution_count": 1,
   "metadata": {},
   "outputs": [],
   "source": [
    "import numpy  as np\n",
    "import pandas as pd\n",
    "import random\n",
    "\n",
    "from random import randrange, uniform\n",
    "\n",
    "import matplotlib.pyplot as plt"
   ]
  },
  {
   "cell_type": "code",
   "execution_count": 2,
   "metadata": {},
   "outputs": [],
   "source": [
    "#in terminal set the course conda env: conda activate machine-learning-course\n",
    "from tensorflow.keras               import layers\n",
    "from tensorflow.keras               import regularizers\n",
    "from tensorflow.keras.utils         import to_categorical\n",
    "from tensorflow.keras.models        import Sequential\n",
    "from tensorflow.keras.layers        import Conv2D, MaxPooling2D, Dropout, Flatten, Dense\n",
    "from tensorflow.keras.preprocessing import image\n",
    "from tensorflow.keras.optimizers    import RMSprop\n",
    "from sklearn.model_selection        import train_test_split"
   ]
  },
  {
   "cell_type": "markdown",
   "metadata": {},
   "source": [
    "### Loading data:"
   ]
  },
  {
   "cell_type": "markdown",
   "metadata": {},
   "source": [
    "Code to select events and plotting utils in https://github.com/carmenromo/Analysis/tree/master/machine_learning_course"
   ]
  },
  {
   "cell_type": "code",
   "execution_count": 3,
   "metadata": {},
   "outputs": [],
   "source": [
    "phot_list, compt_list = [], []\n",
    "data_file  = '/Users/carmenromoluque/machine-learning-course/full_body_4cmdepth_all_images.npz'\n",
    "data       = np.load(data_file, allow_pickle=True)\n",
    "for im in data['phot_images']:\n",
    "    if len(im)==0:\n",
    "        continue\n",
    "    phot_list .append(im.reshape(400))\n",
    "for im in data['compt_images']:\n",
    "    if len(im)==0:\n",
    "        continue\n",
    "    compt_list.append(im.reshape(400))\n",
    "compt_images = np.array(compt_list)\n",
    "phot_images  = np.array(phot_list)"
   ]
  },
  {
   "cell_type": "markdown",
   "metadata": {},
   "source": [
    "#### Create the noisy events"
   ]
  },
  {
   "cell_type": "code",
   "execution_count": 4,
   "metadata": {},
   "outputs": [],
   "source": [
    "noise_images = 20 *np.random.rand(5000, 400) #20 has been chosen randomly"
   ]
  },
  {
   "cell_type": "code",
   "execution_count": 5,
   "metadata": {},
   "outputs": [
    {
     "data": {
      "image/png": "[encoded data removed]",
      "text/plain": [
       "<Figure size 1296x360 with 6 Axes>"
      ]
     },
     "metadata": {
      "needs_background": "light"
     },
     "output_type": "display_data"
    }
   ],
   "source": [
    "fig, (ax1, ax2, ax3) = plt.subplots(1,3,figsize=(18,5))\n",
    "fig1 = ax1.imshow( phot_images[4].reshape(20,20))\n",
    "fig2 = ax2.imshow(compt_images[9].reshape(20,20))\n",
    "fig3 = ax3.imshow(noise_images[0].reshape(20,20))\n",
    "ax1.set_xlabel('Z (mm)',       size=14)\n",
    "ax1.set_ylabel('$\\phi$ (rad)', size=14)\n",
    "ax1.set_title('Photoelectric', size=16)\n",
    "ax2.set_xlabel('Z (mm)',       size=14)\n",
    "ax2.set_ylabel('$\\phi$ (rad)', size=14)\n",
    "ax2.set_title('Compton',       size=16)\n",
    "ax3.set_xlabel('Z (mm)',       size=14)\n",
    "ax3.set_ylabel('$\\phi$ (rad)', size=14)\n",
    "ax3.set_title('Noise',         size=16)\n",
    "fig.colorbar(fig1, ax=ax1, label='Charges')\n",
    "fig.colorbar(fig2, ax=ax2, label='Charges')\n",
    "fig.colorbar(fig3, ax=ax3, label='Charges')\n",
    "plt.show()"
   ]
  },
  {
   "cell_type": "markdown",
   "metadata": {},
   "source": [
    "In the previous plot I have chosen ideal images of photoelectric and compton (phot more compact and compton more sparse), because I found that the pattern in the sipms is pretty similar between these two kinds of events, that's why I would be so happy if the CNN manages to distinguish them successfully."
   ]
  },
  {
   "cell_type": "markdown",
   "metadata": {},
   "source": [
    "#### Create the labels:\n",
    "- compton:       0\n",
    "- photoelectric: 1\n",
    "- noise:         2"
   ]
  },
  {
   "cell_type": "code",
   "execution_count": 6,
   "metadata": {},
   "outputs": [],
   "source": [
    "compt_labels =   np.zeros(len(compt_images))\n",
    "phot_labels  =   np.ones (len( phot_images))\n",
    "noise_labels = 2*np.ones (len(noise_images))"
   ]
  },
  {
   "cell_type": "markdown",
   "metadata": {},
   "source": [
    "## Inputs for the CNN: data without normalization"
   ]
  },
  {
   "cell_type": "code",
   "execution_count": 7,
   "metadata": {},
   "outputs": [
    {
     "name": "stdout",
     "output_type": "stream",
     "text": [
      "(42176,)\n",
      "(42176, 400)\n",
      "[0. 0. 0. ... 1. 1. 1.]\n"
     ]
    }
   ],
   "source": [
    "y = np.concatenate((compt_labels, phot_labels))\n",
    "x = np.concatenate((phot_images, compt_images))\n",
    "#y = np.concatenate((compt_labels, phot_labels, noise_labels))\n",
    "#x = np.concatenate((phot_images, compt_images, noise_images))\n",
    "print(y.shape)\n",
    "print(x.shape)\n",
    "print(y)"
   ]
  },
  {
   "cell_type": "markdown",
   "metadata": {},
   "source": [
    "We want to mix the images so that they are not in order (but labels in the same way too):\n",
    "(we could use the function split_test_train, it also mixes but it splits in two, and we have test, train, val"
   ]
  },
  {
   "cell_type": "code",
   "execution_count": 8,
   "metadata": {},
   "outputs": [],
   "source": [
    "c = list(zip(x, y))\n",
    "np.random.shuffle(c)\n",
    "x, y = zip(*c)\n",
    "y = np.array(y)\n",
    "x = np.array(x).astype('float32')"
   ]
  },
  {
   "cell_type": "markdown",
   "metadata": {},
   "source": [
    "Split data in training, validation and testing:"
   ]
  },
  {
   "cell_type": "code",
   "execution_count": 9,
   "metadata": {},
   "outputs": [],
   "source": [
    "#######\n",
    "train_split = 35000\n",
    "#######\n",
    "test_split  = 2000\n",
    "#######\n",
    "\n",
    "y_train = y[                 :train_split]\n",
    "x_train = x[                 :train_split]\n",
    "y_val   = y[train_split      :len(y)-test_split]\n",
    "x_val   = x[train_split      :len(x)-test_split]\n",
    "y_test  = y[len(y)-test_split:                 ]\n",
    "x_test  = x[len(x)-test_split:                 ]"
   ]
  },
  {
   "cell_type": "code",
   "execution_count": 10,
   "metadata": {},
   "outputs": [
    {
     "name": "stdout",
     "output_type": "stream",
     "text": [
      "(2000, 400) (2000,)\n",
      "(35000, 400) (35000,)\n",
      "(5176, 400) (5176,)\n"
     ]
    }
   ],
   "source": [
    "print(x_test .shape, y_test .shape)\n",
    "print(x_train.shape, y_train.shape)\n",
    "print(x_val  .shape, y_val  .shape)"
   ]
  },
  {
   "cell_type": "markdown",
   "metadata": {},
   "source": [
    "### Prepare the data\n",
    "The y variables (outputs) are in classes from 0 to 2. **One-hot** changes this simple number (class) to a matrix which contains 0 for all the entries except for 1 or 2 in case we have phot or noise. This is simply implemented using keras utilities"
   ]
  },
  {
   "cell_type": "code",
   "execution_count": 11,
   "metadata": {},
   "outputs": [
    {
     "name": "stdout",
     "output_type": "stream",
     "text": [
      "(35000, 2)\n",
      "(5176, 2)\n",
      "(2000, 2)\n"
     ]
    }
   ],
   "source": [
    "y_train_hot = to_categorical(y_train)\n",
    "y_val_hot   = to_categorical(y_val)\n",
    "y_test_hot  = to_categorical(y_test)\n",
    "\n",
    "print(y_train_hot.shape)\n",
    "print(y_val_hot  .shape)\n",
    "print(y_test_hot .shape)"
   ]
  },
  {
   "cell_type": "code",
   "execution_count": 12,
   "metadata": {},
   "outputs": [
    {
     "name": "stdout",
     "output_type": "stream",
     "text": [
      "35000 train samples\n",
      "5176 validation samples\n"
     ]
    },
    {
     "data": {
      "image/png": "[encoded data removed]",
      "text/plain": [
       "<Figure size 432x288 with 1 Axes>"
      ]
     },
     "metadata": {
      "needs_background": "light"
     },
     "output_type": "display_data"
    }
   ],
   "source": [
    "print(x_train.shape[0], 'train samples')\n",
    "print(x_val.shape[0], 'validation samples')\n",
    "plt.plot(x_train[0])\n",
    "#plt.plot(x_train[1])\n",
    "plt.plot(x_test[2])\n",
    "plt.show()"
   ]
  },
  {
   "cell_type": "markdown",
   "metadata": {},
   "source": [
    "Reshape data for CNN:"
   ]
  },
  {
   "cell_type": "code",
   "execution_count": 13,
   "metadata": {},
   "outputs": [
    {
     "name": "stdout",
     "output_type": "stream",
     "text": [
      "(35000, 400)\n",
      "(35000, 20, 20, 1)\n"
     ]
    }
   ],
   "source": [
    "x_train_cnn = x_train.reshape(-1, 20, 20, 1)\n",
    "x_test_cnn  = x_test .reshape(-1, 20, 20, 1)\n",
    "x_val_cnn   = x_val  .reshape(-1, 20, 20, 1)\n",
    "print(x_train.shape)\n",
    "print(x_train_cnn.shape)"
   ]
  },
  {
   "cell_type": "markdown",
   "metadata": {},
   "source": [
    "Layer activation relu:\n",
    "Applies the rectified linear unit activation function.\n",
    "With default values, this returns the standard ReLU activation: max(x, 0), \n",
    "the element-wise maximum of 0 and the input tensor."
   ]
  },
  {
   "cell_type": "code",
   "execution_count": 57,
   "metadata": {},
   "outputs": [
    {
     "name": "stdout",
     "output_type": "stream",
     "text": [
      "Model: \"sequential_1\"\n",
      "_________________________________________________________________\n",
      "Layer (type)                 Output Shape              Param #   \n",
      "=================================================================\n",
      "conv2d_1 (Conv2D)            (None, 18, 18, 64)        640       \n",
      "_________________________________________________________________\n",
      "max_pooling2d_1 (MaxPooling2 (None, 9, 9, 64)          0         \n",
      "_________________________________________________________________\n",
      "dropout_1 (Dropout)          (None, 9, 9, 64)          0         \n",
      "_________________________________________________________________\n",
      "flatten_1 (Flatten)          (None, 5184)              0         \n",
      "_________________________________________________________________\n",
      "dense_1 (Dense)              (None, 2)                 10370     \n",
      "=================================================================\n",
      "Total params: 11,010\n",
      "Trainable params: 11,010\n",
      "Non-trainable params: 0\n",
      "_________________________________________________________________\n"
     ]
    }
   ],
   "source": [
    "# Sequential means you can build a DNN layer by layer\n",
    "cnnmodel = Sequential()\n",
    "cnnmodel.add(Conv2D(64, (3, 3), activation='relu', input_shape=(20, 20, 1))) #2D convolution layer\n",
    "cnnmodel.add(MaxPooling2D((2, 2))) #Max pooling operation for 2D spatial data.\n",
    "cnnmodel.add(Dropout(0.1, input_shape=(20,20,1)))\n",
    "cnnmodel.add(Flatten())\n",
    "cnnmodel.add(Dense(2, activation='softmax'))\n",
    "cnnmodel.compile(loss='categorical_crossentropy',\n",
    "                optimizer='adam', #RMSprop(),\n",
    "                metrics=['accuracy'])\n",
    "\n",
    "cnnmodel.summary()"
   ]
  },
  {
   "cell_type": "code",
   "execution_count": 58,
   "metadata": {},
   "outputs": [],
   "source": [
    "batch_size = 32\n",
    "epochs     = 10"
   ]
  },
  {
   "cell_type": "markdown",
   "metadata": {},
   "source": [
    "Train the CNN:"
   ]
  },
  {
   "cell_type": "code",
   "execution_count": 59,
   "metadata": {},
   "outputs": [
    {
     "name": "stdout",
     "output_type": "stream",
     "text": [
      "Train on 35000 samples, validate on 5176 samples\n",
      "Epoch 1/10\n",
      "35000/35000 [==============================] - 13s 376us/sample - loss: 0.6079 - accuracy: 0.7068 - val_loss: 0.5854 - val_accuracy: 0.7311\n",
      "Epoch 2/10\n",
      "35000/35000 [==============================] - 12s 346us/sample - loss: 0.5570 - accuracy: 0.7410 - val_loss: 0.5688 - val_accuracy: 0.7573\n",
      "Epoch 3/10\n",
      "35000/35000 [==============================] - 12s 340us/sample - loss: 0.5597 - accuracy: 0.7381 - val_loss: 0.5740 - val_accuracy: 0.7448\n",
      "Epoch 4/10\n",
      "35000/35000 [==============================] - 11s 325us/sample - loss: 0.5522 - accuracy: 0.7439 - val_loss: 0.5991 - val_accuracy: 0.7446\n",
      "Epoch 5/10\n",
      "35000/35000 [==============================] - 11s 327us/sample - loss: 0.5527 - accuracy: 0.7415 - val_loss: 0.5963 - val_accuracy: 0.6986\n",
      "Epoch 6/10\n",
      "35000/35000 [==============================] - 11s 322us/sample - loss: 0.5458 - accuracy: 0.7483 - val_loss: 0.5824 - val_accuracy: 0.7423\n",
      "Epoch 7/10\n",
      "35000/35000 [==============================] - 11s 328us/sample - loss: 0.5417 - accuracy: 0.7500 - val_loss: 0.5744 - val_accuracy: 0.7411\n",
      "Epoch 8/10\n",
      "35000/35000 [==============================] - 11s 317us/sample - loss: 0.5399 - accuracy: 0.7497 - val_loss: 0.5791 - val_accuracy: 0.7405\n",
      "Epoch 9/10\n",
      "35000/35000 [==============================] - 11s 308us/sample - loss: 0.5414 - accuracy: 0.7505 - val_loss: 0.5733 - val_accuracy: 0.7432\n",
      "Epoch 10/10\n",
      "35000/35000 [==============================] - 10s 285us/sample - loss: 0.5403 - accuracy: 0.7499 - val_loss: 0.5811 - val_accuracy: 0.7347\n"
     ]
    }
   ],
   "source": [
    "# Training our CNN\n",
    "history = cnnmodel.fit(x_train_cnn, y_train_hot,\n",
    "                       batch_size=batch_size, \n",
    "                       epochs=epochs,\n",
    "                       verbose=1,\n",
    "                       validation_data=(x_val_cnn, y_val_hot))"
   ]
  },
  {
   "cell_type": "code",
   "execution_count": 62,
   "metadata": {},
   "outputs": [],
   "source": [
    "prediction = []\n",
    "for i in range(len(x_test_cnn)):\n",
    "    img        = x_test_cnn[i]\n",
    "    test_image = image.img_to_array(img)\n",
    "    test_image = np.expand_dims(test_image, axis=0)\n",
    "    pred       = cnnmodel.predict(test_image)\n",
    "    prediction.append(pred)\n",
    "prediction = np.array(prediction)"
   ]
  },
  {
   "cell_type": "code",
   "execution_count": 63,
   "metadata": {},
   "outputs": [
    {
     "name": "stdout",
     "output_type": "stream",
     "text": [
      "(2000, 1, 2)\n"
     ]
    }
   ],
   "source": [
    "print(np.array(prediction).shape)"
   ]
  },
  {
   "cell_type": "code",
   "execution_count": 64,
   "metadata": {},
   "outputs": [],
   "source": [
    "result=[]\n",
    "for i in range(len(prediction)):\n",
    "    if np.round(prediction[i]).item(0)==1:\n",
    "        result.append(0)\n",
    "    else:\n",
    "        result.append(1)\n",
    "result = np.array(result)\n",
    "\n",
    "result_translate = ['Compt', 'Phot']\n",
    "result_names = []\n",
    "for i in range(len(result)):\n",
    "    result_names.append(result_translate[result[i]])\n",
    "result_names = np.array(result_names)"
   ]
  },
  {
   "cell_type": "code",
   "execution_count": 65,
   "metadata": {},
   "outputs": [
    {
     "data": {
      "image/png": "[encoded data removed]",
      "text/plain": [
       "<Figure size 1008x936 with 8 Axes>"
      ]
     },
     "metadata": {},
     "output_type": "display_data"
    }
   ],
   "source": [
    "x_test_image = x_test.reshape(len(x_test),20,20)\n",
    "fig = plt.figure(figsize=(14, 13))\n",
    "fig.subplots_adjust(left=0, right=0.9, bottom=0, top=1.1, hspace=0.1, wspace=0.1)\n",
    "for i in range(8):\n",
    "    ax = fig.add_subplot(4, 4, i+1 , xticks=[], yticks=[])\n",
    "    ax.imshow(x_test_image[i], interpolation='nearest')\n",
    "    \n",
    "    # label the image with the target value\n",
    "    ax.set_title(F'Pred.: {result_names[i]}'+ '\\n' F'Real: {result_translate[int(y_test[i])]}', fontsize=14)\n",
    "plt.tick_params()"
   ]
  },
  {
   "cell_type": "code",
   "execution_count": 66,
   "metadata": {},
   "outputs": [
    {
     "name": "stdout",
     "output_type": "stream",
     "text": [
      "------------------------------\n",
      "# CORRECT PREDICTIONS:\n",
      "1505 of total 2000 ---> 75.25 %\n",
      "------------------------------\n"
     ]
    }
   ],
   "source": [
    "true_results = np.equal(y_test, result)\n",
    "percentage   = np.round(sum(true_results)/len(y_test)*100, decimals=2)\n",
    "print('------------------------------')\n",
    "print('# CORRECT PREDICTIONS:')\n",
    "print(f'{sum(true_results)} of total {len(y_test)} ---> {percentage} %')\n",
    "print('------------------------------')"
   ]
  },
  {
   "cell_type": "code",
   "execution_count": 68,
   "metadata": {},
   "outputs": [
    {
     "name": "stdout",
     "output_type": "stream",
     "text": [
      "True phot  labeled as  phot --->  61.0 %\n",
      "True phot  labeled as compt --->  39.0 %\n",
      "True compt labeled as compt --->  88.0 %\n",
      "True compt labeled as  phot --->  12.0 %\n"
     ]
    }
   ],
   "source": [
    "tot_true_phot  = np.sum(y_test==1)/100\n",
    "tot_true_compt = np.sum(y_test==0)/100\n",
    "print('True phot  labeled as  phot ---> ', np.round(np.sum(result[y_test==1]==1)/tot_true_phot) , '%')\n",
    "print('True phot  labeled as compt ---> ', np.round(np.sum(result[y_test==1]==0)/tot_true_phot) , '%')\n",
    "print('True compt labeled as compt ---> ', np.round(np.sum(result[y_test==0]==0)/tot_true_compt), '%')\n",
    "print('True compt labeled as  phot ---> ', np.round(np.sum(result[y_test==0]==1)/tot_true_compt), '%')"
   ]
  },
  {
   "cell_type": "code",
   "execution_count": null,
   "metadata": {},
   "outputs": [],
   "source": []
  }
 ],
 "metadata": {
  "kernelspec": {
   "display_name": "Python 3",
   "language": "python",
   "name": "python3"
  },
  "language_info": {
   "codemirror_mode": {
    "name": "ipython",
    "version": 3
   },
   "file_extension": ".py",
   "mimetype": "text/x-python",
   "name": "python",
   "nbconvert_exporter": "python",
   "pygments_lexer": "ipython3",
   "version": "3.6.5"
  }
 },
 "nbformat": 4,
 "nbformat_minor": 4
}
