{
 "cells": [
  {
   "cell_type": "code",
   "execution_count": 1,
   "metadata": {},
   "outputs": [],
   "source": [
    "import os\n",
    "import numpy  as np\n",
    "import pandas as pd\n",
    "import matplotlib.pyplot as plt"
   ]
  },
  {
   "cell_type": "code",
   "execution_count": 4,
   "metadata": {},
   "outputs": [],
   "source": [
    "## Photoelectric\n",
    "\n",
    "phot_filepath = '/Users/carmenromoluque/machine-learning-course/data_phot_images/'\n",
    "phot_list     = []\n",
    "for filename in os.listdir(phot_filepath):\n",
    "    if filename.endswith('590_10_2.npz'):\n",
    "        my_file = phot_filepath+filename\n",
    "        d = np.load(my_file, allow_pickle=True)\n",
    "        for i in d['phot_images'][0]:\n",
    "            #print(i)\n",
    "            phot_list.append(i.reshape(20,20))\n",
    "phot_images = np.array(phot_list)"
   ]
  },
  {
   "cell_type": "code",
   "execution_count": 5,
   "metadata": {},
   "outputs": [
    {
     "data": {
      "text/plain": [
       "(1, 20, 20)"
      ]
     },
     "execution_count": 5,
     "metadata": {},
     "output_type": "execute_result"
    }
   ],
   "source": [
    "phot_images.shape"
   ]
  },
  {
   "cell_type": "code",
   "execution_count": 133,
   "metadata": {},
   "outputs": [],
   "source": [
    "## Compton\n",
    "\n",
    "compt_filepath = '/Users/carmenromoluque/machine-learning-course/data_compt_images/'\n",
    "compt_list     = []\n",
    "for filename in os.listdir(compt_filepath):\n",
    "    if filename.endswith('.npz'):\n",
    "        my_file = compt_filepath+filename\n",
    "        d = np.load(my_file, allow_pickle=True)\n",
    "        for im in d['compt_images']:\n",
    "            compt_list.append(im)\n",
    "compt_images = np.array(compt_list)"
   ]
  },
  {
   "cell_type": "code",
   "execution_count": 134,
   "metadata": {},
   "outputs": [
    {
     "data": {
      "text/plain": [
       "23423"
      ]
     },
     "execution_count": 134,
     "metadata": {},
     "output_type": "execute_result"
    }
   ],
   "source": [
    "len(compt_images)"
   ]
  },
  {
   "cell_type": "code",
   "execution_count": 9,
   "metadata": {},
   "outputs": [],
   "source": [
    "## Compton 2 (energy as the phot)\n",
    "\n",
    "compt_filepath = '/Users/carmenromoluque/machine-learning-course/data_compt_images/'\n",
    "compt_list2    = []\n",
    "for filename in os.listdir(compt_filepath):\n",
    "    if filename.endswith('.npz'):\n",
    "        my_file = compt_filepath+filename\n",
    "        d = np.load(my_file, allow_pickle=True)\n",
    "        for im in d['compt_images']:\n",
    "            compt_list2.append(im)\n",
    "compt_images2 = np.array(compt_list2)"
   ]
  },
  {
   "cell_type": "code",
   "execution_count": 10,
   "metadata": {},
   "outputs": [
    {
     "data": {
      "text/plain": [
       "42832"
      ]
     },
     "execution_count": 10,
     "metadata": {},
     "output_type": "execute_result"
    }
   ],
   "source": [
    "len(compt_images2)"
   ]
  },
  {
   "cell_type": "markdown",
   "metadata": {},
   "source": [
    "### Store images in the same file"
   ]
  },
  {
   "cell_type": "code",
   "execution_count": 135,
   "metadata": {},
   "outputs": [],
   "source": [
    "evt_file = '/Users/carmenromoluque/machine-learning-course/full_body_4cmdepth_all_images.npz'\n",
    "np.savez(evt_file, phot_images=phot_images, compt_images=compt_images)"
   ]
  },
  {
   "cell_type": "code",
   "execution_count": 11,
   "metadata": {},
   "outputs": [],
   "source": [
    "## Compton 2:\n",
    "\n",
    "evt_file = '/Users/carmenromoluque/machine-learning-course/full_body_4cmdepth_all_images_correct_compton.npz'\n",
    "np.savez(evt_file, phot_images=phot_images, compt_images=compt_images2[:25000])"
   ]
  },
  {
   "cell_type": "markdown",
   "metadata": {},
   "source": [
    "### How to load the data:"
   ]
  },
  {
   "cell_type": "code",
   "execution_count": 6,
   "metadata": {},
   "outputs": [],
   "source": [
    "phot_list, compt_list = [], []\n",
    "data_file  = '/Users/carmenromoluque/machine-learning-course/full_body_4cmdepth_all_images.npz'\n",
    "data       = np.load(data_file, allow_pickle=True)\n",
    "for im in data['phot_images']:\n",
    "    if len(im)==0:\n",
    "        continue\n",
    "    phot_list .append(im.reshape(400)) #For the CNN we transform the matriz in a 1D array\n",
    "for im in data['compt_images']:\n",
    "    if len(im)==0:\n",
    "        continue\n",
    "    compt_list.append(im.reshape(400))\n",
    "compt_images = np.array(compt_list)\n",
    "phot_images  = np.array(phot_list)"
   ]
  },
  {
   "cell_type": "code",
   "execution_count": 7,
   "metadata": {},
   "outputs": [
    {
     "data": {
      "text/plain": [
       "(19932, 400)"
      ]
     },
     "execution_count": 7,
     "metadata": {},
     "output_type": "execute_result"
    }
   ],
   "source": [
    "phot_images.shape"
   ]
  },
  {
   "cell_type": "code",
   "execution_count": 13,
   "metadata": {},
   "outputs": [
    {
     "data": {
      "image/png": "[encoded data removed]",
      "text/plain": [
       "<Figure size 432x288 with 1 Axes>"
      ]
     },
     "metadata": {
      "needs_background": "light"
     },
     "output_type": "display_data"
    }
   ],
   "source": [
    "plt.imshow(compt_images2[0][0]);"
   ]
  },
  {
   "cell_type": "code",
   "execution_count": null,
   "metadata": {},
   "outputs": [],
   "source": []
  }
 ],
 "metadata": {
  "kernelspec": {
   "display_name": "Python 3",
   "language": "python",
   "name": "python3"
  },
  "language_info": {
   "codemirror_mode": {
    "name": "ipython",
    "version": 3
   },
   "file_extension": ".py",
   "mimetype": "text/x-python",
   "name": "python",
   "nbconvert_exporter": "python",
   "pygments_lexer": "ipython3",
   "version": "3.6.5"
  }
 },
 "nbformat": 4,
 "nbformat_minor": 2
}
