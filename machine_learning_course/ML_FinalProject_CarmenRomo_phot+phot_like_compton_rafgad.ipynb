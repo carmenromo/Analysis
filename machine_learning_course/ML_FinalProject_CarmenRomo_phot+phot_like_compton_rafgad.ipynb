{
 "cells": [
  {
   "cell_type": "markdown",
   "metadata": {},
   "source": [
    "## Study of type event recognition for the PETALO experiment using ML"
   ]
  },
  {
   "cell_type": "markdown",
   "metadata": {},
   "source": [
    "### Imports"
   ]
  },
  {
   "cell_type": "code",
   "execution_count": 1,
   "metadata": {},
   "outputs": [],
   "source": [
    "import numpy  as np\n",
    "import pandas as pd\n",
    "import random\n",
    "from datetime import datetime\n",
    "import matplotlib.pyplot as plt"
   ]
  },
  {
   "cell_type": "code",
   "execution_count": 2,
   "metadata": {},
   "outputs": [
    {
     "name": "stderr",
     "output_type": "stream",
     "text": [
      "/home/rgadea/anaconda3/envs/tensorflow4/lib/python3.6/site-packages/tensorflow/python/framework/dtypes.py:526: FutureWarning: Passing (type, 1) or '1type' as a synonym of type is deprecated; in a future version of numpy, it will be understood as (type, (1,)) / '(1,)type'.\n",
      "  _np_qint8 = np.dtype([(\"qint8\", np.int8, 1)])\n",
      "/home/rgadea/anaconda3/envs/tensorflow4/lib/python3.6/site-packages/tensorflow/python/framework/dtypes.py:527: FutureWarning: Passing (type, 1) or '1type' as a synonym of type is deprecated; in a future version of numpy, it will be understood as (type, (1,)) / '(1,)type'.\n",
      "  _np_quint8 = np.dtype([(\"quint8\", np.uint8, 1)])\n",
      "/home/rgadea/anaconda3/envs/tensorflow4/lib/python3.6/site-packages/tensorflow/python/framework/dtypes.py:528: FutureWarning: Passing (type, 1) or '1type' as a synonym of type is deprecated; in a future version of numpy, it will be understood as (type, (1,)) / '(1,)type'.\n",
      "  _np_qint16 = np.dtype([(\"qint16\", np.int16, 1)])\n",
      "/home/rgadea/anaconda3/envs/tensorflow4/lib/python3.6/site-packages/tensorflow/python/framework/dtypes.py:529: FutureWarning: Passing (type, 1) or '1type' as a synonym of type is deprecated; in a future version of numpy, it will be understood as (type, (1,)) / '(1,)type'.\n",
      "  _np_quint16 = np.dtype([(\"quint16\", np.uint16, 1)])\n",
      "/home/rgadea/anaconda3/envs/tensorflow4/lib/python3.6/site-packages/tensorflow/python/framework/dtypes.py:530: FutureWarning: Passing (type, 1) or '1type' as a synonym of type is deprecated; in a future version of numpy, it will be understood as (type, (1,)) / '(1,)type'.\n",
      "  _np_qint32 = np.dtype([(\"qint32\", np.int32, 1)])\n",
      "/home/rgadea/anaconda3/envs/tensorflow4/lib/python3.6/site-packages/tensorflow/python/framework/dtypes.py:535: FutureWarning: Passing (type, 1) or '1type' as a synonym of type is deprecated; in a future version of numpy, it will be understood as (type, (1,)) / '(1,)type'.\n",
      "  np_resource = np.dtype([(\"resource\", np.ubyte, 1)])\n"
     ]
    }
   ],
   "source": [
    "#in terminal set the course conda env: conda activate machine-learning-course\n",
    "from tensorflow.keras               import layers\n",
    "from tensorflow.keras               import regularizers\n",
    "from tensorflow.keras.utils         import to_categorical\n",
    "from tensorflow.keras.models        import Sequential, load_model\n",
    "from tensorflow.keras.layers        import Conv2D, MaxPooling2D, Conv3D, MaxPooling3D,Dropout, Flatten, Dense,BatchNormalization, Activation\n",
    "from tensorflow.keras.optimizers    import Adam, Nadam, RMSprop, SGD\n",
    "from tensorflow.keras.preprocessing import image\n",
    "from tensorflow.keras.callbacks     import ModelCheckpoint, EarlyStopping, TensorBoard\n",
    "from tensorflow.keras.metrics       import TruePositives,Recall"
   ]
  },
  {
   "cell_type": "code",
   "execution_count": 3,
   "metadata": {},
   "outputs": [
    {
     "name": "stdout",
     "output_type": "stream",
     "text": [
      "WARNING:tensorflow:From /home/rgadea/anaconda3/envs/tensorflow4/lib/python3.6/site-packages/tensorflow/python/ops/resource_variable_ops.py:435: colocate_with (from tensorflow.python.framework.ops) is deprecated and will be removed in a future version.\n",
      "Instructions for updating:\n",
      "Colocations handled automatically by placer.\n",
      "WARNING:tensorflow:From /home/rgadea/anaconda3/envs/tensorflow4/lib/python3.6/site-packages/tensorflow/python/keras/utils/losses_utils.py:170: to_float (from tensorflow.python.ops.math_ops) is deprecated and will be removed in a future version.\n",
      "Instructions for updating:\n",
      "Use tf.cast instead.\n",
      "WARNING:tensorflow:From /home/rgadea/anaconda3/envs/tensorflow4/lib/python3.6/site-packages/tensorflow/python/ops/math_ops.py:3066: to_int32 (from tensorflow.python.ops.math_ops) is deprecated and will be removed in a future version.\n",
      "Instructions for updating:\n",
      "Use tf.cast instead.\n"
     ]
    }
   ],
   "source": [
    "\n",
    "# from keras.models import load_model\n",
    "\n",
    "\n",
    "autoencoderA=load_model('../../../redes_compresoras/20_20/compresorearly_autoencoder_20x20_hiddensize_128_epochs_500_batchsize_200_algoritmo_RMSprop.h5')\n",
    "autoencoderB=load_model('../../../redes_compresoras/20_20/compresorearly_autoencoder_20x20_hiddensize_256_epochs_500_batchsize_200_algoritmo_RMSprop.h5')"
   ]
  },
  {
   "cell_type": "markdown",
   "metadata": {},
   "source": [
    "### Loading data:"
   ]
  },
  {
   "cell_type": "markdown",
   "metadata": {},
   "source": [
    "Code to select events and plotting utils in https://github.com/carmenromo/Analysis/tree/master/machine_learning_course"
   ]
  },
  {
   "cell_type": "code",
   "execution_count": 4,
   "metadata": {},
   "outputs": [],
   "source": [
    "phot_list, compt_list = [], []\n",
    "data_file  = '/home/rgadea/experimentos/datos_julio_2020/full_body_4cmd_images_phot_compt_and_phot_like.npz'\n",
    "data       = np.load(data_file, allow_pickle=True)\n",
    "for im in data['phot_images']:\n",
    "    if len(im)==0:\n",
    "        continue\n",
    "    phot_list .append(im.reshape(400))\n",
    "for im in data['compt_images']:\n",
    "    if len(im)==0:\n",
    "        continue\n",
    "    compt_list.append(im.reshape(400))\n",
    "for im in data['phot_like_images']:\n",
    "    if len(im)==0:\n",
    "        continue\n",
    "    phot_list.append(im.reshape(400))\n",
    "    \n",
    "  "
   ]
  },
  {
   "cell_type": "markdown",
   "metadata": {},
   "source": [
    "### Data Augmentation"
   ]
  },
  {
   "cell_type": "code",
   "execution_count": 5,
   "metadata": {},
   "outputs": [
    {
     "name": "stdout",
     "output_type": "stream",
     "text": [
      "44932\n",
      "25000\n"
     ]
    }
   ],
   "source": [
    "compt_images_ori     = np.array(compt_list)\n",
    "muestras_compt=compt_images_ori.shape[0]\n",
    "compt_images_ori4=np.zeros([4*muestras_compt,20*20])\n",
    "for i in range(muestras_compt):\n",
    "    compt40=compt_images_ori[i].reshape(20,20) \n",
    "    compt41=np.flipud(compt40) \n",
    "    compt42=np.fliplr(compt40)\n",
    "    compt43=np.fliplr(compt41)\n",
    "    compt_images_ori4[i*4]=compt40.reshape(20*20)\n",
    "    compt_images_ori4[i*4+1]=compt41.reshape(20*20)\n",
    "    compt_images_ori4[i*4+2]=compt42.reshape(20*20)\n",
    "    compt_images_ori4[i*4+3]=compt43.reshape(20*20)\n",
    "    \n",
    "phot_images_ori       = np.array(phot_list)    \n",
    "muestras_phot=phot_images_ori.shape[0]\n",
    "phot_images_ori2=np.zeros([2*muestras_phot,20*20])\n",
    "for i in range(muestras_phot):\n",
    "    phot20=phot_images_ori[i].reshape(20,20) \n",
    "    phot21=np.flipud(phot20) \n",
    "    phot_images_ori2[i*2]=phot20.reshape(20*20)\n",
    "    phot_images_ori2[i*2+1]=phot21.reshape(20*20)\n",
    "\n",
    "print(muestras_phot)\n",
    "print(muestras_compt)"
   ]
  },
  {
   "cell_type": "markdown",
   "metadata": {},
   "source": [
    "### Join three frames"
   ]
  },
  {
   "cell_type": "code",
   "execution_count": 6,
   "metadata": {},
   "outputs": [],
   "source": [
    "compt_images_recA     = autoencoderA.predict(compt_images_ori)\n",
    "compt_images_recA4     = autoencoderA.predict(compt_images_ori4)\n",
    "phot_images_recA      = autoencoderA.predict(phot_images_ori)\n",
    "phot_images_recA2      = autoencoderA.predict(phot_images_ori2)\n",
    "compt_images_recB     = autoencoderB.predict(compt_images_ori)\n",
    "compt_images_recB4     = autoencoderB.predict(compt_images_ori4)\n",
    "phot_images_recB      = autoencoderB.predict(phot_images_ori)\n",
    "phot_images_recB2      = autoencoderB.predict(phot_images_ori2)\n",
    "\n",
    "compt_images=np.concatenate((compt_images_ori4,compt_images_ori4,compt_images_ori4),axis=1)\n",
    "phot_images=np.concatenate((phot_images_ori2,phot_images_ori2,phot_images_ori2),axis=1)\n"
   ]
  },
  {
   "cell_type": "code",
   "execution_count": 7,
   "metadata": {},
   "outputs": [
    {
     "data": {
      "text/plain": [
       "(89864, 1200)"
      ]
     },
     "execution_count": 7,
     "metadata": {},
     "output_type": "execute_result"
    }
   ],
   "source": [
    "phot_images.shape"
   ]
  },
  {
   "cell_type": "code",
   "execution_count": 8,
   "metadata": {},
   "outputs": [
    {
     "data": {
      "text/plain": [
       "(100000, 1200)"
      ]
     },
     "execution_count": 8,
     "metadata": {},
     "output_type": "execute_result"
    }
   ],
   "source": [
    "compt_images.shape"
   ]
  },
  {
   "cell_type": "code",
   "execution_count": 9,
   "metadata": {},
   "outputs": [
    {
     "data": {
      "image/png": "[encoded data removed]",
      "text/plain": [
       "<Figure size 1008x432 with 4 Axes>"
      ]
     },
     "metadata": {
      "needs_background": "light"
     },
     "output_type": "display_data"
    }
   ],
   "source": [
    "fig, (ax1, ax2) = plt.subplots(1,2,figsize=(14,6))\n",
    "fig1 = ax1.imshow( phot_images_ori[4].reshape(20,20))\n",
    "fig2 = ax2.imshow(compt_images_ori[0].reshape(20,20))\n",
    "ax1.set_xlabel('Z (mm)',       size=14)\n",
    "ax1.set_ylabel('$\\phi$ (rad)', size=14)\n",
    "ax1.set_title('Photoelectric', size=16)\n",
    "ax2.set_xlabel('Z (mm)',       size=14)\n",
    "ax2.set_ylabel('$\\phi$ (rad)', size=14)\n",
    "ax2.set_title('Compton',       size=16)\n",
    "fig.colorbar(fig1, ax=ax1, label='Charges')\n",
    "fig.colorbar(fig2, ax=ax2, label='Charges')\n",
    "plt.show()"
   ]
  },
  {
   "cell_type": "markdown",
   "metadata": {},
   "source": [
    "In the previous plot I have chosen ideal images of photoelectric and compton (phot more compact and compton more sparse), because I found that the pattern in the sipms is pretty similar between these two kinds of events, that's why I would be so happy if the CNN manages to distinguish them successfully."
   ]
  },
  {
   "cell_type": "markdown",
   "metadata": {},
   "source": [
    "#### Create the labels:\n",
    "- compton:       0\n",
    "- photoelectric: 1"
   ]
  },
  {
   "cell_type": "code",
   "execution_count": 10,
   "metadata": {},
   "outputs": [],
   "source": [
    "compt_labels = np.zeros(len(compt_images))\n",
    "phot_labels  = np.ones (len( phot_images))"
   ]
  },
  {
   "cell_type": "markdown",
   "metadata": {},
   "source": [
    "### Normalization:"
   ]
  },
  {
   "cell_type": "code",
   "execution_count": 11,
   "metadata": {},
   "outputs": [],
   "source": [
    "# norm_phot_images  = np.array([i/np.max(i) for i in  phot_images])\n",
    "# norm_compt_images = np.array([i/np.max(i) for i in compt_images])\n",
    "norm_phot_images  = np.array([i/1.0 for i in  phot_images])\n",
    "norm_compt_images = np.array([i/1.0 for i in compt_images])"
   ]
  },
  {
   "cell_type": "markdown",
   "metadata": {},
   "source": [
    "## Inputs for the CNN:"
   ]
  },
  {
   "cell_type": "code",
   "execution_count": 12,
   "metadata": {},
   "outputs": [
    {
     "name": "stdout",
     "output_type": "stream",
     "text": [
      "(189864,)\n",
      "(189864, 1200)\n",
      "[0. 0. 0. ... 1. 1. 1.]\n"
     ]
    }
   ],
   "source": [
    "y = np.concatenate((compt_labels,      phot_labels     ))\n",
    "x = np.concatenate((norm_compt_images, norm_phot_images))\n",
    "\n",
    "print(y.shape)\n",
    "print(x.shape)\n",
    "print(y)"
   ]
  },
  {
   "cell_type": "markdown",
   "metadata": {},
   "source": [
    "We want to mix the images so that they are not in order (but labels in the same way too):"
   ]
  },
  {
   "cell_type": "code",
   "execution_count": 13,
   "metadata": {},
   "outputs": [],
   "source": [
    "c = list(zip(x, y))\n",
    "np.random.shuffle(c)\n",
    "x, y= zip(*c)\n",
    "y = np.array(y)\n",
    "x = np.array(x).astype('float32') \n"
   ]
  },
  {
   "cell_type": "markdown",
   "metadata": {},
   "source": [
    "Split data in trining, validation and testing:"
   ]
  },
  {
   "cell_type": "code",
   "execution_count": 14,
   "metadata": {},
   "outputs": [],
   "source": [
    "#######\n",
    "train_split = 120000\n",
    "#######\n",
    "test_split  = 20000\n",
    "#######\n",
    "\n",
    "y_train = y[                 :train_split]\n",
    "x_train = x[                 :train_split]\n",
    "y_val   = y[train_split      :len(y)-test_split]\n",
    "x_val   = x[train_split      :len(x)-test_split]\n",
    "y_test  = y[len(y)-test_split:                 ]\n",
    "x_test  = x[len(x)-test_split:                 ]"
   ]
  },
  {
   "cell_type": "code",
   "execution_count": 15,
   "metadata": {},
   "outputs": [
    {
     "name": "stdout",
     "output_type": "stream",
     "text": [
      "(20000, 1200) (20000,)\n",
      "(120000, 1200) (120000,)\n",
      "(49864, 1200) (49864,)\n"
     ]
    }
   ],
   "source": [
    "print(x_test .shape, y_test .shape)\n",
    "print(x_train.shape, y_train.shape)\n",
    "print(x_val  .shape, y_val  .shape)"
   ]
  },
  {
   "cell_type": "code",
   "execution_count": 16,
   "metadata": {},
   "outputs": [
    {
     "name": "stdout",
     "output_type": "stream",
     "text": [
      "{0.0, 1.0}\n",
      "{0.0, 1.0}\n",
      "[1. 0. 1. ... 0. 0. 1.]\n"
     ]
    }
   ],
   "source": [
    "myset     = set(y_train)\n",
    "mysettest = set(y_test)\n",
    "print(myset)\n",
    "print(mysettest)\n",
    "print(y)"
   ]
  },
  {
   "cell_type": "code",
   "execution_count": 17,
   "metadata": {},
   "outputs": [
    {
     "name": "stdout",
     "output_type": "stream",
     "text": [
      "(120000, 2)\n",
      "(49864, 2)\n",
      "(20000, 2)\n"
     ]
    }
   ],
   "source": [
    "y_train_hot = to_categorical(y_train)\n",
    "y_val_hot   = to_categorical(y_val)\n",
    "y_test_hot  = to_categorical(y_test)\n",
    "\n",
    "print(y_train_hot.shape)\n",
    "print(y_val_hot  .shape)\n",
    "print(y_test_hot .shape)"
   ]
  },
  {
   "cell_type": "code",
   "execution_count": 18,
   "metadata": {},
   "outputs": [
    {
     "name": "stdout",
     "output_type": "stream",
     "text": [
      "120000 train samples\n",
      "49864 validation samples\n"
     ]
    },
    {
     "data": {
      "image/png": "[encoded data removed]",
      "text/plain": [
       "<Figure size 432x288 with 1 Axes>"
      ]
     },
     "metadata": {
      "needs_background": "light"
     },
     "output_type": "display_data"
    }
   ],
   "source": [
    "print(x_train.shape[0], 'train samples')\n",
    "print(x_val.shape[0], 'validation samples')\n",
    "plt.plot(x_train[0])\n",
    "plt.plot(x_train[1])\n",
    "plt.plot(x_test[0])\n",
    "plt.show()"
   ]
  },
  {
   "cell_type": "markdown",
   "metadata": {},
   "source": [
    "Reshape data for CNN:"
   ]
  },
  {
   "cell_type": "code",
   "execution_count": 19,
   "metadata": {},
   "outputs": [
    {
     "data": {
      "text/plain": [
       "(120000, 3, 20, 20, 1)"
      ]
     },
     "execution_count": 19,
     "metadata": {},
     "output_type": "execute_result"
    }
   ],
   "source": [
    "x_train_cnn = x_train.reshape(-1, 3, 20, 20, 1)\n",
    "x_test_cnn  = x_test .reshape(-1, 3, 20, 20, 1)\n",
    "x_val_cnn   = x_val  .reshape(-1, 3, 20, 20, 1)\n",
    "x_train_cnn.shape"
   ]
  },
  {
   "cell_type": "code",
   "execution_count": 20,
   "metadata": {},
   "outputs": [
    {
     "name": "stderr",
     "output_type": "stream",
     "text": [
      "Using TensorFlow backend.\n"
     ]
    }
   ],
   "source": [
    "\n",
    "# batch_size = 50\n",
    "nb_classes = 2\n",
    "# epochs = 30\n",
    "\n",
    "# input image dimensions\n",
    "img_rows, img_cols = 20, 20\n",
    "# number of convolutional filters to use\n",
    "nb_filters = 32\n",
    "# size of pooling area for max pooling\n",
    "pool_size = (1,2, 2)\n",
    "# convolution kernel size\n",
    "kernel_size = (3, 4, 4)\n",
    "\n",
    "use_regularizer = True\n",
    "my_regularizer = None\n",
    "# my_epochs = 50\n",
    "# hidden_size=320\n",
    "features_path = 'simple_autoe_features.pickle'\n",
    "labels_path = 'simple_autoe_labels.pickle'\n",
    "\n",
    "if use_regularizer:\n",
    "    # add a sparsity constraint on the encoded representations\n",
    "    # note use of 10e-5 leads to blurred results\n",
    "    my_regularizer = regularizers.l1(0.00001)\n",
    "    # and a larger number of epochs as the added regularization the model\n",
    "    # is less likely to overfit and can be trained longer\n",
    "    my_epochs = 100\n",
    "    features_path = 'sparse_autoe_features.pickle'\n",
    "    labels_path = 'sparse_autoe_labels.pickle'\n",
    "    \n",
    "    \n",
    "import keras.backend as K\n",
    "# metrics = Metrics()\n",
    "def sensitivity(y_true, y_pred):\n",
    "#     y_true = K.ones_like(y_true) \n",
    "    true_positives = K.sum(K.round(K.clip(y_true[1] * y_pred[1], 0, 1)))\n",
    "    possible_positives = K.sum(K.round(K.clip(y_true[1], 0, 1)))\n",
    "    return true_positives / (possible_positives + K.epsilon())\n",
    "\n",
    "def specificity(y_true, y_pred):\n",
    "    true_negatives = K.sum(K.round(K.clip((1-y_true) * (1-y_pred), 0, 1)))\n",
    "    possible_negatives = K.sum(K.round(K.clip(1-y_true, 0, 1)))\n",
    "    return true_negatives / (possible_negatives + K.epsilon())\n",
    "\n",
    "def sensitivity_compton(y_pred, y_true):\n",
    "    \"\"\"Compute the confusion matrix for a set of predictions.\n",
    "\n",
    "    Parameters\n",
    "    ----------\n",
    "    y_pred   : predicted values for a batch if samples (must be binary: 0 or 1)\n",
    "    y_true   : correct values for the set of samples used (must be binary: 0 or 1)\n",
    "\n",
    "    Returns\n",
    "    -------\n",
    "    out : the specificity\n",
    "    \"\"\"\n",
    "#     check_binary(K.eval(y_true[0]))    # must check that input values are 0 or \n",
    "#     check_binary(K.eval(y_pred[0]))    # \n",
    "    idea1=K.eval(y_true)\n",
    "    idea2=K.eval(y_pred)\n",
    "    TN = np.logical_and(idea1.item(0) == 1, idea2.item(0) == 1)\n",
    "    FP = np.logical_and(idea1.item(0) == 1, idea2.item(0) == 0)\n",
    "\n",
    "    # as Keras Tensors\n",
    "    TN = K.sum(K.variable(TN))\n",
    "    FP = K.sum(K.variable(FP))\n",
    "\n",
    "    specificity = TN / (TN + FP + K.epsilon())\n",
    "    return specifity"
   ]
  },
  {
   "cell_type": "code",
   "execution_count": 21,
   "metadata": {},
   "outputs": [
    {
     "name": "stdout",
     "output_type": "stream",
     "text": [
      "WARNING:tensorflow:From /home/rgadea/anaconda3/envs/tensorflow4/lib/python3.6/site-packages/tensorflow/python/keras/layers/core.py:143: calling dropout (from tensorflow.python.ops.nn_ops) with keep_prob is deprecated and will be removed in a future version.\n",
      "Instructions for updating:\n",
      "Please use `rate` instead of `keep_prob`. Rate should be set to `rate = 1 - keep_prob`.\n",
      "_________________________________________________________________\n",
      "Layer (type)                 Output Shape              Param #   \n",
      "=================================================================\n",
      "conv3d (Conv3D)              (None, 3, 20, 20, 16)     784       \n",
      "_________________________________________________________________\n",
      "batch_normalization_v1 (Batc (None, 3, 20, 20, 16)     64        \n",
      "_________________________________________________________________\n",
      "activation (Activation)      (None, 3, 20, 20, 16)     0         \n",
      "_________________________________________________________________\n",
      "max_pooling3d (MaxPooling3D) (None, 3, 10, 10, 16)     0         \n",
      "_________________________________________________________________\n",
      "conv3d_1 (Conv3D)            (None, 3, 10, 10, 16)     12304     \n",
      "_________________________________________________________________\n",
      "batch_normalization_v1_1 (Ba (None, 3, 10, 10, 16)     64        \n",
      "_________________________________________________________________\n",
      "activation_1 (Activation)    (None, 3, 10, 10, 16)     0         \n",
      "_________________________________________________________________\n",
      "max_pooling3d_1 (MaxPooling3 (None, 3, 5, 5, 16)       0         \n",
      "_________________________________________________________________\n",
      "conv3d_2 (Conv3D)            (None, 3, 5, 5, 32)       24608     \n",
      "_________________________________________________________________\n",
      "batch_normalization_v1_2 (Ba (None, 3, 5, 5, 32)       128       \n",
      "_________________________________________________________________\n",
      "activation_2 (Activation)    (None, 3, 5, 5, 32)       0         \n",
      "_________________________________________________________________\n",
      "max_pooling3d_2 (MaxPooling3 (None, 3, 2, 2, 32)       0         \n",
      "_________________________________________________________________\n",
      "conv3d_3 (Conv3D)            (None, 3, 2, 2, 32)       49184     \n",
      "_________________________________________________________________\n",
      "activation_3 (Activation)    (None, 3, 2, 2, 32)       0         \n",
      "_________________________________________________________________\n",
      "batch_normalization_v1_3 (Ba (None, 3, 2, 2, 32)       128       \n",
      "_________________________________________________________________\n",
      "conv3d_4 (Conv3D)            (None, 3, 2, 2, 64)       98368     \n",
      "_________________________________________________________________\n",
      "activation_4 (Activation)    (None, 3, 2, 2, 64)       0         \n",
      "_________________________________________________________________\n",
      "batch_normalization_v1_4 (Ba (None, 3, 2, 2, 64)       256       \n",
      "_________________________________________________________________\n",
      "conv3d_5 (Conv3D)            (None, 3, 2, 2, 64)       196672    \n",
      "_________________________________________________________________\n",
      "activation_5 (Activation)    (None, 3, 2, 2, 64)       0         \n",
      "_________________________________________________________________\n",
      "batch_normalization_v1_5 (Ba (None, 3, 2, 2, 64)       256       \n",
      "_________________________________________________________________\n",
      "conv3d_6 (Conv3D)            (None, 3, 2, 2, 128)      393344    \n",
      "_________________________________________________________________\n",
      "activation_6 (Activation)    (None, 3, 2, 2, 128)      0         \n",
      "_________________________________________________________________\n",
      "batch_normalization_v1_6 (Ba (None, 3, 2, 2, 128)      512       \n",
      "_________________________________________________________________\n",
      "dropout (Dropout)            (None, 3, 2, 2, 128)      0         \n",
      "_________________________________________________________________\n",
      "flatten (Flatten)            (None, 1536)              0         \n",
      "_________________________________________________________________\n",
      "dense_1 (Dense)              (None, 2)                 3074      \n",
      "=================================================================\n",
      "Total params: 779,746\n",
      "Trainable params: 779,042\n",
      "Non-trainable params: 704\n",
      "_________________________________________________________________\n"
     ]
    }
   ],
   "source": [
    "layer = layers.Dense(\n",
    "    units=64,\n",
    "    kernel_regularizer=regularizers.l1_l2(l1=1e-5, l2=1e-4),\n",
    "    bias_regularizer=regularizers.l2(1e-4),\n",
    "    activity_regularizer=regularizers.l2(1e-5)\n",
    ")\n",
    "algoritmo='Nadam'\n",
    "# a fairly small network for speed\n",
    "cnnmodel = Sequential()\n",
    "#cnnmodel.add(Conv2D(128, (4, 4), activation='relu', input_shape=(20, 20, 1)))\n",
    "# cnnmodel.add(Conv2D(64, (2, 2), activation='relu', input_shape=(20, 20, 1))) #2D convolution layer\n",
    "cnnmodel.add(Conv3D(16, kernel_size=kernel_size,\n",
    "                        padding='same',\n",
    "                        kernel_regularizer=my_regularizer,\n",
    "                        data_format='channels_last',\n",
    "                        input_shape=(3,img_rows,img_cols,1)))\n",
    "cnnmodel.add(BatchNormalization(momentum=0.6))\n",
    "cnnmodel.add(Activation('relu'))\n",
    "\n",
    "cnnmodel.add(MaxPooling3D(pool_size=pool_size))\n",
    "\n",
    "cnnmodel.add(Conv3D(16, kernel_size,  kernel_regularizer=my_regularizer, padding='same'))\n",
    "cnnmodel.add(BatchNormalization(momentum=0.6))\n",
    "cnnmodel.add(Activation('relu'))\n",
    "\n",
    "cnnmodel.add(MaxPooling3D(pool_size=pool_size))\n",
    "\n",
    "cnnmodel.add(Conv3D(32, kernel_size,  kernel_regularizer=my_regularizer, padding='same'))\n",
    "cnnmodel.add(BatchNormalization(momentum=0.6))\n",
    "cnnmodel.add(Activation('relu'))\n",
    "\n",
    "cnnmodel.add(MaxPooling3D(pool_size=pool_size))\n",
    "\n",
    "cnnmodel.add(Conv3D(32, kernel_size,  kernel_regularizer=my_regularizer, padding='same'))\n",
    "\n",
    "cnnmodel.add(Activation('relu'))\n",
    "cnnmodel.add(BatchNormalization(momentum=0.6))\n",
    "\n",
    "cnnmodel.add(Conv3D(64, kernel_size, kernel_regularizer=my_regularizer, padding='same'))\n",
    "\n",
    "cnnmodel.add(Activation('relu'))\n",
    "cnnmodel.add(BatchNormalization(momentum=0.6))\n",
    "\n",
    "cnnmodel.add(Conv3D(64, kernel_size, kernel_regularizer=my_regularizer, padding='same'))\n",
    "\n",
    "cnnmodel.add(Activation('relu'))\n",
    "cnnmodel.add(BatchNormalization(momentum=0.6))\n",
    "\n",
    "cnnmodel.add(Conv3D(128, kernel_size,kernel_regularizer=my_regularizer, padding='same'))\n",
    "\n",
    "cnnmodel.add(Activation('relu'))\n",
    "cnnmodel.add(BatchNormalization(momentum=0.6))\n",
    "\n",
    "cnnmodel.add(Dropout(0.2))\n",
    "cnnmodel.add(Flatten())\n",
    "cnnmodel.add(Dense(2, activation='softmax'))\n",
    "\n",
    "cnnmodel.compile(loss='categorical_crossentropy',\n",
    "                optimizer=algoritmo) #RMSprop())\n",
    "\n",
    "cnnmodel.summary()"
   ]
  },
  {
   "cell_type": "code",
   "execution_count": 22,
   "metadata": {},
   "outputs": [
    {
     "name": "stdout",
     "output_type": "stream",
     "text": [
      "Train on 120000 samples, validate on 49864 samples\n",
      "Epoch 1/200\n",
      "119000/120000 [============================>.] - ETA: 0s - loss: 0.8649\n",
      "Epoch 00001: val_loss improved from inf to 0.72801, saving model to ../../../redes_CNN_clasificacion_2_clases/2020/CNN_clasificacion_phot+phot_like_compton_sin_normalizacion+CNNpropia3D_kernel_3x4x4_input_dimension_20x20x1_elu_epochs_200_batchsize_1000_algoritmo_RMSProp_date_2020-07-29 13:00:00.h5\n",
      "120000/120000 [==============================] - 15s 124us/sample - loss: 0.8638 - val_loss: 0.7280\n",
      "Epoch 2/200\n",
      "119000/120000 [============================>.] - ETA: 0s - loss: 0.7145\n",
      "Epoch 00002: val_loss did not improve from 0.72801\n",
      "120000/120000 [==============================] - 9s 76us/sample - loss: 0.7142 - val_loss: 0.7973\n",
      "Epoch 3/200\n",
      "119000/120000 [============================>.] - ETA: 0s - loss: 0.7058\n",
      "Epoch 00003: val_loss improved from 0.72801 to 0.67895, saving model to ../../../redes_CNN_clasificacion_2_clases/2020/CNN_clasificacion_phot+phot_like_compton_sin_normalizacion+CNNpropia3D_kernel_3x4x4_input_dimension_20x20x1_elu_epochs_200_batchsize_1000_algoritmo_RMSProp_date_2020-07-29 13:00:00.h5\n",
      "120000/120000 [==============================] - 9s 77us/sample - loss: 0.7055 - val_loss: 0.6789\n",
      "Epoch 4/200\n",
      "119000/120000 [============================>.] - ETA: 0s - loss: 0.6727\n",
      "Epoch 00004: val_loss did not improve from 0.67895\n",
      "120000/120000 [==============================] - 9s 77us/sample - loss: 0.6726 - val_loss: 0.6799\n",
      "Epoch 5/200\n",
      "119000/120000 [============================>.] - ETA: 0s - loss: 0.6619\n",
      "Epoch 00005: val_loss improved from 0.67895 to 0.67516, saving model to ../../../redes_CNN_clasificacion_2_clases/2020/CNN_clasificacion_phot+phot_like_compton_sin_normalizacion+CNNpropia3D_kernel_3x4x4_input_dimension_20x20x1_elu_epochs_200_batchsize_1000_algoritmo_RMSProp_date_2020-07-29 13:00:00.h5\n",
      "120000/120000 [==============================] - 9s 77us/sample - loss: 0.6619 - val_loss: 0.6752\n",
      "Epoch 6/200\n",
      "119000/120000 [============================>.] - ETA: 0s - loss: 0.7222\n",
      "Epoch 00006: val_loss did not improve from 0.67516\n",
      "120000/120000 [==============================] - 9s 75us/sample - loss: 0.7222 - val_loss: 0.7121\n",
      "Epoch 7/200\n",
      "119000/120000 [============================>.] - ETA: 0s - loss: 0.7154\n",
      "Epoch 00007: val_loss did not improve from 0.67516\n",
      "120000/120000 [==============================] - 9s 77us/sample - loss: 0.7153 - val_loss: 0.7098\n",
      "Epoch 8/200\n",
      "119000/120000 [============================>.] - ETA: 0s - loss: 0.6841\n",
      "Epoch 00008: val_loss did not improve from 0.67516\n",
      "120000/120000 [==============================] - 9s 77us/sample - loss: 0.6840 - val_loss: 0.6957\n",
      "Epoch 9/200\n",
      "119000/120000 [============================>.] - ETA: 0s - loss: 0.6635\n",
      "Epoch 00009: val_loss improved from 0.67516 to 0.66153, saving model to ../../../redes_CNN_clasificacion_2_clases/2020/CNN_clasificacion_phot+phot_like_compton_sin_normalizacion+CNNpropia3D_kernel_3x4x4_input_dimension_20x20x1_elu_epochs_200_batchsize_1000_algoritmo_RMSProp_date_2020-07-29 13:00:00.h5\n",
      "120000/120000 [==============================] - 9s 78us/sample - loss: 0.6633 - val_loss: 0.6615\n",
      "Epoch 10/200\n",
      "119000/120000 [============================>.] - ETA: 0s - loss: 0.6618\n",
      "Epoch 00010: val_loss did not improve from 0.66153\n",
      "120000/120000 [==============================] - 9s 78us/sample - loss: 0.6618 - val_loss: 0.6753\n",
      "Epoch 11/200\n",
      "119000/120000 [============================>.] - ETA: 0s - loss: 0.6675\n",
      "Epoch 00011: val_loss did not improve from 0.66153\n",
      "120000/120000 [==============================] - 9s 76us/sample - loss: 0.6676 - val_loss: 0.6921\n",
      "Epoch 12/200\n",
      "119000/120000 [============================>.] - ETA: 0s - loss: 0.6796\n",
      "Epoch 00012: val_loss did not improve from 0.66153\n",
      "120000/120000 [==============================] - 9s 78us/sample - loss: 0.6800 - val_loss: 0.7015\n",
      "Epoch 13/200\n",
      "119000/120000 [============================>.] - ETA: 0s - loss: 0.6602\n",
      "Epoch 00013: val_loss improved from 0.66153 to 0.65385, saving model to ../../../redes_CNN_clasificacion_2_clases/2020/CNN_clasificacion_phot+phot_like_compton_sin_normalizacion+CNNpropia3D_kernel_3x4x4_input_dimension_20x20x1_elu_epochs_200_batchsize_1000_algoritmo_RMSProp_date_2020-07-29 13:00:00.h5\n",
      "120000/120000 [==============================] - 9s 78us/sample - loss: 0.6603 - val_loss: 0.6539\n",
      "Epoch 14/200\n",
      "119000/120000 [============================>.] - ETA: 0s - loss: 0.6510\n",
      "Epoch 00014: val_loss improved from 0.65385 to 0.64610, saving model to ../../../redes_CNN_clasificacion_2_clases/2020/CNN_clasificacion_phot+phot_like_compton_sin_normalizacion+CNNpropia3D_kernel_3x4x4_input_dimension_20x20x1_elu_epochs_200_batchsize_1000_algoritmo_RMSProp_date_2020-07-29 13:00:00.h5\n",
      "120000/120000 [==============================] - 9s 78us/sample - loss: 0.6508 - val_loss: 0.6461\n",
      "Epoch 15/200\n",
      "119000/120000 [============================>.] - ETA: 0s - loss: 0.6432\n",
      "Epoch 00015: val_loss did not improve from 0.64610\n",
      "120000/120000 [==============================] - 9s 76us/sample - loss: 0.6434 - val_loss: 0.6477\n",
      "Epoch 16/200\n",
      "119000/120000 [============================>.] - ETA: 0s - loss: 0.6428\n",
      "Epoch 00016: val_loss did not improve from 0.64610\n",
      "120000/120000 [==============================] - 9s 77us/sample - loss: 0.6426 - val_loss: 0.6605\n",
      "Epoch 17/200\n",
      "119000/120000 [============================>.] - ETA: 0s - loss: 0.6697\n",
      "Epoch 00017: val_loss did not improve from 0.64610\n",
      "120000/120000 [==============================] - 9s 75us/sample - loss: 0.6699 - val_loss: 0.6849\n",
      "Epoch 18/200\n",
      "119000/120000 [============================>.] - ETA: 0s - loss: 0.6778\n",
      "Epoch 00018: val_loss did not improve from 0.64610\n",
      "120000/120000 [==============================] - 9s 76us/sample - loss: 0.6776 - val_loss: 0.6744\n",
      "Epoch 19/200\n",
      "119000/120000 [============================>.] - ETA: 0s - loss: 0.6605\n",
      "Epoch 00019: val_loss did not improve from 0.64610\n",
      "120000/120000 [==============================] - 9s 76us/sample - loss: 0.6603 - val_loss: 0.6595\n",
      "Epoch 20/200\n",
      "119000/120000 [============================>.] - ETA: 0s - loss: 0.6492\n",
      "Epoch 00020: val_loss did not improve from 0.64610\n",
      "120000/120000 [==============================] - 9s 76us/sample - loss: 0.6492 - val_loss: 0.6524\n",
      "Epoch 21/200\n",
      "119000/120000 [============================>.] - ETA: 0s - loss: 0.6419\n",
      "Epoch 00021: val_loss did not improve from 0.64610\n",
      "120000/120000 [==============================] - 9s 77us/sample - loss: 0.6422 - val_loss: 0.6526\n",
      "Epoch 22/200\n",
      "119000/120000 [============================>.] - ETA: 0s - loss: 0.6417\n",
      "Epoch 00022: val_loss did not improve from 0.64610\n",
      "120000/120000 [==============================] - 9s 76us/sample - loss: 0.6416 - val_loss: 0.6612\n",
      "Epoch 23/200\n",
      "119000/120000 [============================>.] - ETA: 0s - loss: 0.6302\n",
      "Epoch 00023: val_loss improved from 0.64610 to 0.63867, saving model to ../../../redes_CNN_clasificacion_2_clases/2020/CNN_clasificacion_phot+phot_like_compton_sin_normalizacion+CNNpropia3D_kernel_3x4x4_input_dimension_20x20x1_elu_epochs_200_batchsize_1000_algoritmo_RMSProp_date_2020-07-29 13:00:00.h5\n",
      "120000/120000 [==============================] - 9s 77us/sample - loss: 0.6302 - val_loss: 0.6387\n",
      "Epoch 24/200\n",
      "119000/120000 [============================>.] - ETA: 0s - loss: 0.6240\n",
      "Epoch 00024: val_loss did not improve from 0.63867\n",
      "120000/120000 [==============================] - 9s 73us/sample - loss: 0.6239 - val_loss: 0.6919\n",
      "Epoch 25/200\n",
      "119000/120000 [============================>.] - ETA: 0s - loss: 0.6389\n",
      "Epoch 00025: val_loss did not improve from 0.63867\n",
      "120000/120000 [==============================] - 9s 75us/sample - loss: 0.6389 - val_loss: 0.6619\n",
      "Epoch 26/200\n",
      "119000/120000 [============================>.] - ETA: 0s - loss: 0.6311\n",
      "Epoch 00026: val_loss did not improve from 0.63867\n",
      "120000/120000 [==============================] - 9s 77us/sample - loss: 0.6309 - val_loss: 0.6406\n",
      "Epoch 27/200\n",
      "119000/120000 [============================>.] - ETA: 0s - loss: 0.6213\n",
      "Epoch 00027: val_loss did not improve from 0.63867\n",
      "120000/120000 [==============================] - 9s 76us/sample - loss: 0.6215 - val_loss: 0.7011\n",
      "Epoch 28/200\n",
      "119000/120000 [============================>.] - ETA: 0s - loss: 0.6226\n",
      "Epoch 00028: val_loss did not improve from 0.63867\n",
      "120000/120000 [==============================] - 9s 76us/sample - loss: 0.6226 - val_loss: 0.6575\n",
      "Epoch 29/200\n",
      "119000/120000 [============================>.] - ETA: 0s - loss: 0.6402\n",
      "Epoch 00029: val_loss did not improve from 0.63867\n",
      "120000/120000 [==============================] - 9s 74us/sample - loss: 0.6403 - val_loss: 0.6624\n",
      "Epoch 30/200\n",
      "119000/120000 [============================>.] - ETA: 0s - loss: 0.6288\n",
      "Epoch 00030: val_loss improved from 0.63867 to 0.63214, saving model to ../../../redes_CNN_clasificacion_2_clases/2020/CNN_clasificacion_phot+phot_like_compton_sin_normalizacion+CNNpropia3D_kernel_3x4x4_input_dimension_20x20x1_elu_epochs_200_batchsize_1000_algoritmo_RMSProp_date_2020-07-29 13:00:00.h5\n",
      "120000/120000 [==============================] - 9s 76us/sample - loss: 0.6291 - val_loss: 0.6321\n",
      "Epoch 31/200\n",
      "119000/120000 [============================>.] - ETA: 0s - loss: 0.6375\n",
      "Epoch 00031: val_loss did not improve from 0.63214\n",
      "120000/120000 [==============================] - 9s 75us/sample - loss: 0.6372 - val_loss: 0.6397\n",
      "Epoch 32/200\n",
      "119000/120000 [============================>.] - ETA: 0s - loss: 0.6248\n",
      "Epoch 00032: val_loss did not improve from 0.63214\n",
      "120000/120000 [==============================] - 9s 76us/sample - loss: 0.6246 - val_loss: 0.6933\n",
      "Epoch 33/200\n",
      "119000/120000 [============================>.] - ETA: 0s - loss: 0.6185\n",
      "Epoch 00033: val_loss did not improve from 0.63214\n",
      "120000/120000 [==============================] - 9s 74us/sample - loss: 0.6185 - val_loss: 0.6443\n",
      "Epoch 34/200\n",
      "119000/120000 [============================>.] - ETA: 0s - loss: 0.6700\n",
      "Epoch 00034: val_loss did not improve from 0.63214\n",
      "120000/120000 [==============================] - 9s 76us/sample - loss: 0.6699 - val_loss: 0.6850\n",
      "Epoch 35/200\n",
      "119000/120000 [============================>.] - ETA: 0s - loss: 0.6430\n",
      "Epoch 00035: val_loss did not improve from 0.63214\n",
      "120000/120000 [==============================] - 9s 76us/sample - loss: 0.6430 - val_loss: 0.6466\n",
      "Epoch 36/200\n",
      "119000/120000 [============================>.] - ETA: 0s - loss: 0.6437\n",
      "Epoch 00036: val_loss did not improve from 0.63214\n",
      "120000/120000 [==============================] - 9s 74us/sample - loss: 0.6436 - val_loss: 0.6671\n",
      "Epoch 37/200\n",
      "119000/120000 [============================>.] - ETA: 0s - loss: 0.6292\n",
      "Epoch 00037: val_loss did not improve from 0.63214\n",
      "120000/120000 [==============================] - 9s 74us/sample - loss: 0.6292 - val_loss: 0.6553\n",
      "Epoch 38/200\n",
      "119000/120000 [============================>.] - ETA: 0s - loss: 0.6258\n",
      "Epoch 00038: val_loss did not improve from 0.63214\n",
      "120000/120000 [==============================] - 9s 74us/sample - loss: 0.6257 - val_loss: 0.6802\n",
      "Epoch 39/200\n",
      "119000/120000 [============================>.] - ETA: 0s - loss: 0.6236\n",
      "Epoch 00039: val_loss did not improve from 0.63214\n",
      "120000/120000 [==============================] - 9s 77us/sample - loss: 0.6238 - val_loss: 0.6405\n",
      "Epoch 40/200\n",
      "119000/120000 [============================>.] - ETA: 0s - loss: 0.6296\n",
      "Epoch 00040: val_loss did not improve from 0.63214\n",
      "120000/120000 [==============================] - 9s 76us/sample - loss: 0.6297 - val_loss: 0.6543\n",
      "Epoch 41/200\n",
      "119000/120000 [============================>.] - ETA: 0s - loss: 0.6296\n",
      "Epoch 00041: val_loss did not improve from 0.63214\n",
      "120000/120000 [==============================] - 9s 75us/sample - loss: 0.6298 - val_loss: 0.6811\n",
      "Epoch 42/200\n",
      "119000/120000 [============================>.] - ETA: 0s - loss: 0.6567\n",
      "Epoch 00042: val_loss did not improve from 0.63214\n",
      "120000/120000 [==============================] - 9s 77us/sample - loss: 0.6570 - val_loss: 0.7165\n",
      "Epoch 43/200\n",
      "119000/120000 [============================>.] - ETA: 0s - loss: 0.6706\n",
      "Epoch 00043: val_loss did not improve from 0.63214\n",
      "120000/120000 [==============================] - 9s 76us/sample - loss: 0.6706 - val_loss: 0.6693\n",
      "Epoch 44/200\n",
      "119000/120000 [============================>.] - ETA: 0s - loss: 0.6426\n",
      "Epoch 00044: val_loss did not improve from 0.63214\n",
      "120000/120000 [==============================] - 9s 76us/sample - loss: 0.6423 - val_loss: 0.7885\n",
      "Epoch 45/200\n",
      "119000/120000 [============================>.] - ETA: 0s - loss: 0.6404\n",
      "Epoch 00045: val_loss did not improve from 0.63214\n",
      "120000/120000 [==============================] - 9s 76us/sample - loss: 0.6404 - val_loss: 0.6510\n",
      "Epoch 46/200\n",
      "119000/120000 [============================>.] - ETA: 0s - loss: 0.6359\n",
      "Epoch 00046: val_loss did not improve from 0.63214\n",
      "120000/120000 [==============================] - 9s 77us/sample - loss: 0.6359 - val_loss: 0.6685\n",
      "Epoch 47/200\n",
      "119000/120000 [============================>.] - ETA: 0s - loss: 0.6360\n",
      "Epoch 00047: val_loss did not improve from 0.63214\n",
      "120000/120000 [==============================] - 9s 75us/sample - loss: 0.6358 - val_loss: 0.6450\n",
      "Epoch 48/200\n",
      "119000/120000 [============================>.] - ETA: 0s - loss: 0.6251\n",
      "Epoch 00048: val_loss did not improve from 0.63214\n",
      "120000/120000 [==============================] - 9s 76us/sample - loss: 0.6251 - val_loss: 0.6402\n",
      "Epoch 49/200\n",
      "119000/120000 [============================>.] - ETA: 0s - loss: 0.6178\n",
      "Epoch 00049: val_loss did not improve from 0.63214\n",
      "120000/120000 [==============================] - 9s 76us/sample - loss: 0.6178 - val_loss: 0.6462\n",
      "Epoch 50/200\n",
      "119000/120000 [============================>.] - ETA: 0s - loss: 0.6164\n",
      "Epoch 00050: val_loss did not improve from 0.63214\n",
      "120000/120000 [==============================] - 9s 76us/sample - loss: 0.6164 - val_loss: 0.6922\n",
      "Epoch 51/200\n",
      "119000/120000 [============================>.] - ETA: 0s - loss: 0.6344\n",
      "Epoch 00051: val_loss did not improve from 0.63214\n",
      "120000/120000 [==============================] - 9s 76us/sample - loss: 0.6340 - val_loss: 0.6753\n",
      "Epoch 52/200\n",
      "119000/120000 [============================>.] - ETA: 0s - loss: 0.6196\n",
      "Epoch 00052: val_loss did not improve from 0.63214\n",
      "120000/120000 [==============================] - 9s 75us/sample - loss: 0.6196 - val_loss: 0.6432\n",
      "Epoch 53/200\n",
      "119000/120000 [============================>.] - ETA: 0s - loss: 0.6081\n",
      "Epoch 00053: val_loss improved from 0.63214 to 0.62283, saving model to ../../../redes_CNN_clasificacion_2_clases/2020/CNN_clasificacion_phot+phot_like_compton_sin_normalizacion+CNNpropia3D_kernel_3x4x4_input_dimension_20x20x1_elu_epochs_200_batchsize_1000_algoritmo_RMSProp_date_2020-07-29 13:00:00.h5\n",
      "120000/120000 [==============================] - 9s 75us/sample - loss: 0.6081 - val_loss: 0.6228\n",
      "Epoch 54/200\n",
      "119000/120000 [============================>.] - ETA: 0s - loss: 0.6011\n",
      "Epoch 00054: val_loss did not improve from 0.62283\n",
      "120000/120000 [==============================] - 9s 76us/sample - loss: 0.6011 - val_loss: 0.6461\n",
      "Epoch 55/200\n",
      "119000/120000 [============================>.] - ETA: 0s - loss: 0.6103\n",
      "Epoch 00055: val_loss did not improve from 0.62283\n",
      "120000/120000 [==============================] - 9s 77us/sample - loss: 0.6104 - val_loss: 0.6420\n",
      "Epoch 56/200\n",
      "119000/120000 [============================>.] - ETA: 0s - loss: 0.6134\n",
      "Epoch 00056: val_loss did not improve from 0.62283\n",
      "120000/120000 [==============================] - 9s 76us/sample - loss: 0.6133 - val_loss: 0.6372\n",
      "Epoch 57/200\n",
      "119000/120000 [============================>.] - ETA: 0s - loss: 0.6045\n",
      "Epoch 00057: val_loss did not improve from 0.62283\n",
      "120000/120000 [==============================] - 9s 76us/sample - loss: 0.6044 - val_loss: 0.6261\n",
      "Epoch 58/200\n",
      "119000/120000 [============================>.] - ETA: 0s - loss: 0.5972\n",
      "Epoch 00058: val_loss did not improve from 0.62283\n",
      "120000/120000 [==============================] - 9s 76us/sample - loss: 0.5974 - val_loss: 0.6333\n",
      "Epoch 59/200\n",
      "119000/120000 [============================>.] - ETA: 0s - loss: 0.5924\n",
      "Epoch 00059: val_loss did not improve from 0.62283\n",
      "120000/120000 [==============================] - 9s 75us/sample - loss: 0.5925 - val_loss: 0.6319\n",
      "Epoch 60/200\n",
      "119000/120000 [============================>.] - ETA: 0s - loss: 0.5903\n",
      "Epoch 00060: val_loss did not improve from 0.62283\n",
      "120000/120000 [==============================] - 9s 74us/sample - loss: 0.5903 - val_loss: 0.6280\n",
      "Epoch 61/200\n",
      "119000/120000 [============================>.] - ETA: 0s - loss: 0.5877\n",
      "Epoch 00061: val_loss did not improve from 0.62283\n",
      "120000/120000 [==============================] - 9s 77us/sample - loss: 0.5880 - val_loss: 0.7441\n",
      "Epoch 62/200\n",
      "119000/120000 [============================>.] - ETA: 0s - loss: 0.5865\n",
      "Epoch 00062: val_loss did not improve from 0.62283\n",
      "120000/120000 [==============================] - 9s 76us/sample - loss: 0.5864 - val_loss: 0.6254\n",
      "Epoch 63/200\n",
      "119000/120000 [============================>.] - ETA: 0s - loss: 0.5851\n",
      "Epoch 00063: val_loss did not improve from 0.62283\n",
      "120000/120000 [==============================] - 9s 75us/sample - loss: 0.5852 - val_loss: 0.6401\n",
      "Epoch 64/200\n",
      "119000/120000 [============================>.] - ETA: 0s - loss: 0.5822\n",
      "Epoch 00064: val_loss did not improve from 0.62283\n",
      "120000/120000 [==============================] - 9s 76us/sample - loss: 0.5824 - val_loss: 0.6284\n",
      "Epoch 65/200\n",
      "119000/120000 [============================>.] - ETA: 0s - loss: 0.5823\n",
      "Epoch 00065: val_loss did not improve from 0.62283\n",
      "120000/120000 [==============================] - 9s 77us/sample - loss: 0.5825 - val_loss: 0.6383\n",
      "Epoch 66/200\n",
      "119000/120000 [============================>.] - ETA: 0s - loss: 0.5807\n",
      "Epoch 00066: val_loss did not improve from 0.62283\n",
      "120000/120000 [==============================] - 9s 76us/sample - loss: 0.5808 - val_loss: 0.6512\n",
      "Epoch 67/200\n",
      "119000/120000 [============================>.] - ETA: 0s - loss: 0.5782\n",
      "Epoch 00067: val_loss did not improve from 0.62283\n",
      "120000/120000 [==============================] - 9s 75us/sample - loss: 0.5783 - val_loss: 0.6548\n",
      "Epoch 68/200\n",
      "119000/120000 [============================>.] - ETA: 0s - loss: 0.5796\n",
      "Epoch 00068: val_loss did not improve from 0.62283\n",
      "120000/120000 [==============================] - 9s 76us/sample - loss: 0.5797 - val_loss: 0.6889\n",
      "Epoch 69/200\n",
      "119000/120000 [============================>.] - ETA: 0s - loss: 0.5788\n",
      "Epoch 00069: val_loss did not improve from 0.62283\n",
      "120000/120000 [==============================] - 9s 76us/sample - loss: 0.5786 - val_loss: 0.6353\n",
      "Epoch 70/200\n",
      "119000/120000 [============================>.] - ETA: 0s - loss: 0.5760\n",
      "Epoch 00070: val_loss did not improve from 0.62283\n",
      "120000/120000 [==============================] - 9s 74us/sample - loss: 0.5759 - val_loss: 0.6360\n",
      "Epoch 71/200\n",
      "119000/120000 [============================>.] - ETA: 0s - loss: 0.5735\n",
      "Epoch 00071: val_loss did not improve from 0.62283\n",
      "120000/120000 [==============================] - 9s 76us/sample - loss: 0.5735 - val_loss: 0.6448\n",
      "Epoch 72/200\n",
      "119000/120000 [============================>.] - ETA: 0s - loss: 0.5726\n",
      "Epoch 00072: val_loss did not improve from 0.62283\n",
      "120000/120000 [==============================] - 9s 76us/sample - loss: 0.5727 - val_loss: 0.6766\n",
      "Epoch 73/200\n",
      "119000/120000 [============================>.] - ETA: 0s - loss: 0.5712\n",
      "Epoch 00073: val_loss did not improve from 0.62283\n",
      "120000/120000 [==============================] - 9s 76us/sample - loss: 0.5711 - val_loss: 0.6411\n",
      "Epoch 74/200\n",
      "119000/120000 [============================>.] - ETA: 0s - loss: 0.5688\n",
      "Epoch 00074: val_loss did not improve from 0.62283\n",
      "120000/120000 [==============================] - 9s 76us/sample - loss: 0.5690 - val_loss: 0.7017\n",
      "Epoch 75/200\n",
      "119000/120000 [============================>.] - ETA: 0s - loss: 0.5687\n",
      "Epoch 00075: val_loss did not improve from 0.62283\n",
      "120000/120000 [==============================] - 9s 76us/sample - loss: 0.5686 - val_loss: 0.6593\n",
      "Epoch 76/200\n",
      "119000/120000 [============================>.] - ETA: 0s - loss: 0.5668\n",
      "Epoch 00076: val_loss did not improve from 0.62283\n",
      "120000/120000 [==============================] - 9s 76us/sample - loss: 0.5668 - val_loss: 0.6447\n",
      "Epoch 77/200\n",
      "119000/120000 [============================>.] - ETA: 0s - loss: 0.5652\n",
      "Epoch 00077: val_loss did not improve from 0.62283\n",
      "120000/120000 [==============================] - 9s 76us/sample - loss: 0.5652 - val_loss: 0.6615\n",
      "Epoch 78/200\n",
      "119000/120000 [============================>.] - ETA: 0s - loss: 0.5635\n",
      "Epoch 00078: val_loss did not improve from 0.62283\n",
      "120000/120000 [==============================] - 9s 76us/sample - loss: 0.5635 - val_loss: 0.7559\n",
      "Epoch 79/200\n",
      "119000/120000 [============================>.] - ETA: 0s - loss: 0.5616\n",
      "Epoch 00079: val_loss did not improve from 0.62283\n",
      "120000/120000 [==============================] - 9s 76us/sample - loss: 0.5618 - val_loss: 0.6894\n",
      "Epoch 80/200\n",
      "119000/120000 [============================>.] - ETA: 0s - loss: 0.5599\n",
      "Epoch 00080: val_loss did not improve from 0.62283\n",
      "120000/120000 [==============================] - 9s 73us/sample - loss: 0.5601 - val_loss: 1.0513\n",
      "Epoch 81/200\n",
      "119000/120000 [============================>.] - ETA: 0s - loss: 0.5656\n",
      "Epoch 00081: val_loss did not improve from 0.62283\n",
      "120000/120000 [==============================] - 9s 76us/sample - loss: 0.5656 - val_loss: 0.7175\n",
      "Epoch 82/200\n",
      "119000/120000 [============================>.] - ETA: 0s - loss: 0.5602\n",
      "Epoch 00082: val_loss did not improve from 0.62283\n",
      "120000/120000 [==============================] - 9s 76us/sample - loss: 0.5602 - val_loss: 0.7069\n",
      "Epoch 83/200\n",
      "119000/120000 [============================>.] - ETA: 0s - loss: 0.5578\n",
      "Epoch 00083: val_loss did not improve from 0.62283\n",
      "120000/120000 [==============================] - 9s 76us/sample - loss: 0.5578 - val_loss: 0.7004\n",
      "Epoch 84/200\n",
      "119000/120000 [============================>.] - ETA: 0s - loss: 0.5555\n",
      "Epoch 00084: val_loss did not improve from 0.62283\n",
      "120000/120000 [==============================] - 9s 75us/sample - loss: 0.5554 - val_loss: 0.6621\n",
      "Epoch 85/200\n",
      "119000/120000 [============================>.] - ETA: 0s - loss: 0.5530\n",
      "Epoch 00085: val_loss did not improve from 0.62283\n",
      "120000/120000 [==============================] - 9s 76us/sample - loss: 0.5530 - val_loss: 0.6576\n",
      "Epoch 86/200\n",
      "119000/120000 [============================>.] - ETA: 0s - loss: 0.5518\n",
      "Epoch 00086: val_loss did not improve from 0.62283\n",
      "120000/120000 [==============================] - 9s 76us/sample - loss: 0.5518 - val_loss: 0.6692\n",
      "Epoch 87/200\n",
      "119000/120000 [============================>.] - ETA: 0s - loss: 0.5510\n",
      "Epoch 00087: val_loss did not improve from 0.62283\n",
      "120000/120000 [==============================] - 9s 75us/sample - loss: 0.5510 - val_loss: 0.7007\n",
      "Epoch 88/200\n",
      "119000/120000 [============================>.] - ETA: 0s - loss: 0.5489\n",
      "Epoch 00088: val_loss did not improve from 0.62283\n",
      "120000/120000 [==============================] - 9s 76us/sample - loss: 0.5490 - val_loss: 0.6490\n",
      "Epoch 89/200\n",
      "119000/120000 [============================>.] - ETA: 0s - loss: 0.5491\n",
      "Epoch 00089: val_loss did not improve from 0.62283\n",
      "120000/120000 [==============================] - 9s 76us/sample - loss: 0.5492 - val_loss: 0.6722\n",
      "Epoch 90/200\n",
      "119000/120000 [============================>.] - ETA: 0s - loss: 0.5471\n",
      "Epoch 00090: val_loss did not improve from 0.62283\n",
      "120000/120000 [==============================] - 9s 76us/sample - loss: 0.5470 - val_loss: 0.6577\n",
      "Epoch 91/200\n",
      "119000/120000 [============================>.] - ETA: 0s - loss: 0.5450\n",
      "Epoch 00091: val_loss did not improve from 0.62283\n",
      "120000/120000 [==============================] - 9s 76us/sample - loss: 0.5450 - val_loss: 0.6608\n",
      "Epoch 92/200\n",
      "119000/120000 [============================>.] - ETA: 0s - loss: 0.5437\n",
      "Epoch 00092: val_loss did not improve from 0.62283\n",
      "120000/120000 [==============================] - 9s 77us/sample - loss: 0.5436 - val_loss: 0.6831\n",
      "Epoch 93/200\n",
      "119000/120000 [============================>.] - ETA: 0s - loss: 0.5420\n",
      "Epoch 00093: val_loss did not improve from 0.62283\n",
      "120000/120000 [==============================] - 9s 76us/sample - loss: 0.5419 - val_loss: 0.6896\n",
      "Epoch 00093: early stopping\n"
     ]
    }
   ],
   "source": [
    "batch_size = 1000\n",
    "epochs     = 200\n",
    "string_filter='sin_normalizacion+CNNpropia3D'\n",
    "## To prevent it from memorizing the learning samples when the number of epochs is high\n",
    "\n",
    "dt = datetime.now().replace(second=0, microsecond=0)\n",
    "# experimento=\"CNN_kernel_{}x{}x{}_con_filtro_AE_3_sector_{}x{}x{}_elu\".format(kernel_size[0],kernel_size[1],kernel_size[2],img_rows,img_cols,1)\n",
    "experimento=\"CNN_clasificacion_phot+phot_like_compton_{}_kernel_{}x{}x{}_input_dimension_{}x{}x{}_elu\".format( string_filter,kernel_size[0],kernel_size[1],kernel_size[2],img_rows,img_cols,1)\n",
    "\n",
    "\n",
    "# optimizador=Nadam(beta_1=0.9, beta_2=0.999)\n",
    "\n",
    "tensorboard=TensorBoard(log_dir=\"../../../logs/compton/2020/{}{}{}\".format(experimento,algoritmo,dt))\n",
    "best_model_name='../../../redes_CNN_clasificacion_2_clases/2020/{}_epochs_{}_batchsize_{}_algoritmo_{}_date_{}.h5'.format(experimento,epochs,batch_size,algoritmo,dt)\n",
    "# dir_path        = '/Users/carmenromoluque/machine-learning-course/'\n",
    "# best_model_name = dir_path + f'CNN_regression_R_{epochs}_{batch_size}.h5'\n",
    "model_check     = ModelCheckpoint(best_model_name, monitor='val_loss', verbose=1, save_best_only=True, \n",
    "                                  save_weights_only=False, mode='min', period=1)\n",
    "early_stop      = EarlyStopping(monitor='val_loss', min_delta=0, patience=40, \n",
    "                                verbose=1, mode='min', baseline=None)\n",
    "\n",
    "\n",
    "history = cnnmodel.fit(x_train_cnn, y_train_hot,\n",
    "                       batch_size=batch_size, \n",
    "                       epochs=epochs,\n",
    "                       verbose=1,\n",
    "                       validation_data=(x_val_cnn, y_val_hot),\n",
    "                       callbacks=[tensorboard,model_check, early_stop])"
   ]
  },
  {
   "cell_type": "code",
   "execution_count": 23,
   "metadata": {},
   "outputs": [],
   "source": [
    "def histplot(history):\n",
    "    hist = pd.DataFrame(history.history)\n",
    "    fig, (ax1, ax2) = plt.subplots(1, 2, figsize=(15, 5))\n",
    "    hist.plot(y=['loss','val_loss'], ax=ax1)\n",
    "    min_loss = hist['val_loss'].min()\n",
    "    ax1.hlines(min_loss, 0, len(hist), linestyle='dotted',\n",
    "               label='min(val_loss) = {:.3f}'.format(min_loss))\n",
    "    ax1.legend(loc='upper right')\n",
    "    hist.plot(y=['loss','val_loss'], ax=ax2)\n",
    "    max_acc = hist['val_loss'].max()\n",
    "    ax2.hlines(max_acc, 0, len(hist), linestyle='dotted',\n",
    "               label='max(val_loss) = {:.3f}'.format(max_acc))\n",
    "    ax2.legend(loc='lower right', fontsize='large')"
   ]
  },
  {
   "cell_type": "code",
   "execution_count": 24,
   "metadata": {},
   "outputs": [
    {
     "data": {
      "image/png": "[encoded data removed]",
      "text/plain": [
       "<Figure size 1080x360 with 2 Axes>"
      ]
     },
     "metadata": {
      "needs_background": "light"
     },
     "output_type": "display_data"
    }
   ],
   "source": [
    "histplot(history)"
   ]
  },
  {
   "cell_type": "code",
   "execution_count": 25,
   "metadata": {},
   "outputs": [],
   "source": [
    "cnnmodelfin=cnnmodel\n",
    "# si descomentas la siguiente linea cogera el modelo cuando val_loss fue optimo\n",
    "cnnmodelbest=load_model(best_model_name)\n"
   ]
  },
  {
   "cell_type": "code",
   "execution_count": 26,
   "metadata": {},
   "outputs": [
    {
     "name": "stdout",
     "output_type": "stream",
     "text": [
      "../../../redes_CNN_clasificacion_2_clases/2020/CNN_clasificacion_phot+phot_like_compton_sin_normalizacion+CNNpropia3D_kernel_3x4x4_input_dimension_20x20x1_elu_epochs_200_batchsize_1000_algoritmo_RMSProp_date_2020-07-29 13:00:00.h5\n"
     ]
    }
   ],
   "source": [
    "print(best_model_name)"
   ]
  },
  {
   "cell_type": "code",
   "execution_count": 27,
   "metadata": {},
   "outputs": [],
   "source": [
    "use_regularizer = True\n",
    "my_regularizer = None\n",
    "# my_epochs = 50\n",
    "# hidden_size=320\n",
    "features_path = 'simple_autoe_features.pickle'\n",
    "labels_path = 'simple_autoe_labels.pickle'\n",
    "\n",
    "if use_regularizer:\n",
    "    # add a sparsity constraint on the encoded representations\n",
    "    # note use of 10e-5 leads to blurred results\n",
    "    my_regularizer = regularizers.l1(0.00001)\n",
    "    # and a larger number of epochs as the added regularization the model\n",
    "    # is less likely to overfit and can be trained longer\n",
    "    my_epochs = 100\n",
    "    features_path = 'sparse_autoe_features.pickle'\n",
    "    labels_path = 'sparse_autoe_labels.pickle'"
   ]
  },
  {
   "cell_type": "code",
   "execution_count": 28,
   "metadata": {},
   "outputs": [],
   "source": [
    "# prediction = []\n",
    "# for i in range(len(x_test_cnn)):\n",
    "#     img = x_test_cnn[i]\n",
    "#     test_image = image.img_to_array(img)\n",
    "#     test_image = np.expand_dims(test_image, axis=0)\n",
    "#     pred = cnnmodel.predict(test_image)\n",
    "#     prediction.append(pred)\n",
    "# prediction = np.array(prediction)"
   ]
  },
  {
   "cell_type": "code",
   "execution_count": 29,
   "metadata": {},
   "outputs": [],
   "source": [
    "prediction=cnnmodelbest.predict(x_test_cnn)\n",
    "prediction = np.array(prediction)"
   ]
  },
  {
   "cell_type": "code",
   "execution_count": 30,
   "metadata": {},
   "outputs": [],
   "source": [
    "result2=[]\n",
    "for i in range(len(prediction)):\n",
    "    if np.round(prediction[i]).item(0)==1:\n",
    "        result2.append(0)\n",
    "    elif np.round(prediction[i]).item(1)==1:\n",
    "        result2.append(1)\n",
    "    else:\n",
    "        continue\n",
    "result2 = np.array(result2)\n",
    "\n",
    "result2_translate = ['Compt', 'Phot']\n",
    "result2_names = []\n",
    "for i in range(len(result2)):\n",
    "    result2_names.append(result2_translate[result2[i]])\n",
    "result2_names = np.array(result2_names)"
   ]
  },
  {
   "cell_type": "code",
   "execution_count": 31,
   "metadata": {},
   "outputs": [],
   "source": [
    "result=result2\n",
    "result_translate= result2_translate\n",
    "result_names = result2_names"
   ]
  },
  {
   "cell_type": "code",
   "execution_count": 32,
   "metadata": {},
   "outputs": [
    {
     "data": {
      "image/png": "[encoded data removed]",
      "text/plain": [
       "<Figure size 1008x936 with 8 Axes>"
      ]
     },
     "metadata": {},
     "output_type": "display_data"
    }
   ],
   "source": [
    "x_test_image = x_test.reshape(len(x_test),3,20,20)\n",
    "fig = plt.figure(figsize=(14, 13))\n",
    "fig.subplots_adjust(left=0, right=0.9, bottom=0, top=1.1, hspace=0.1, wspace=0.1)\n",
    "for i in range(8):\n",
    "    ax = fig.add_subplot(4, 4, i+1 , xticks=[], yticks=[])\n",
    "    ax.imshow(x_test_image[i][0], interpolation='nearest')\n",
    "    \n",
    "    # label the image with the target value\n",
    "    ax.set_title(F'Pred.: {result_names[i]}'+ '\\n' F'Real: {result_translate[int(y_test[i])]}', fontsize=14)\n",
    "plt.tick_params()"
   ]
  },
  {
   "cell_type": "code",
   "execution_count": 33,
   "metadata": {},
   "outputs": [
    {
     "name": "stdout",
     "output_type": "stream",
     "text": [
      "--------------------------------\n",
      "# CORRECT PREDICTIONS:\n",
      "13600 of total 20000 ---> 68.0 %\n",
      "--------------------------------\n"
     ]
    }
   ],
   "source": [
    "true_results = np.equal(y_test, result)\n",
    "percentage   = np.round(sum(true_results)/len(y_test)*100, decimals=2)\n",
    "print('--------------------------------')\n",
    "print('# CORRECT PREDICTIONS:')\n",
    "print(f'{sum(true_results)} of total {len(y_test)} ---> {percentage} %')\n",
    "print('--------------------------------')"
   ]
  },
  {
   "cell_type": "code",
   "execution_count": 34,
   "metadata": {},
   "outputs": [
    {
     "name": "stdout",
     "output_type": "stream",
     "text": [
      "True phot+phot_like 95.37\n",
      "True compt 104.63\n",
      "True phot  labeled as phot  --->  73 %\n",
      "True phot  labeled as compt --->  27 %\n",
      "True compt labeled as compt --->  64 %\n",
      "True compt labeled as phot  --->  36 %\n"
     ]
    }
   ],
   "source": [
    "tot_true_phot  = np.sum(y_test==1)/100\n",
    "tot_true_compt = np.sum(y_test==0)/100\n",
    "print ('True phot+phot_like',tot_true_phot)\n",
    "print ('True compt',tot_true_compt)\n",
    "print('True phot  labeled as phot  ---> ', int(np.round(np.sum(result[y_test==1]==1)/tot_true_phot)), '%')\n",
    "print('True phot  labeled as compt ---> ', int(np.round(np.sum(result[y_test==1]==0)/tot_true_phot)), '%')\n",
    "print('True compt labeled as compt ---> ', int(np.round(np.sum(result[y_test==0]==0)/tot_true_compt)), '%')\n",
    "print('True compt labeled as phot  ---> ', int(np.round(np.sum(result[y_test==0]==1)/tot_true_compt)), '%')\n"
   ]
  },
  {
   "cell_type": "code",
   "execution_count": 35,
   "metadata": {},
   "outputs": [],
   "source": [
    "def plot_confusion_matrix(cm,\n",
    "                          target_names,\n",
    "                          title='Confusion matrix',\n",
    "                          cmap=None,\n",
    "                          normalize=True):\n",
    "    \"\"\"\n",
    "    given a sklearn confusion matrix (cm), make a nice plot\n",
    "\n",
    "    Arguments\n",
    "    ---------\n",
    "    cm:           confusion matrix from sklearn.metrics.confusion_matrix\n",
    "\n",
    "    target_names: given classification classes such as [0, 1, 2]\n",
    "                  the class names, for example: ['high', 'medium', 'low']\n",
    "\n",
    "    title:        the text to display at the top of the matrix\n",
    "\n",
    "    cmap:         the gradient of the values displayed from matplotlib.pyplot.cm\n",
    "                  see http://matplotlib.org/examples/color/colormaps_reference.html\n",
    "                  plt.get_cmap('jet') or plt.cm.Blues\n",
    "\n",
    "    normalize:    If False, plot the raw numbers\n",
    "                  If True, plot the proportions\n",
    "\n",
    "    Usage\n",
    "    -----\n",
    "    plot_confusion_matrix(cm           = cm,                  # confusion matrix created by\n",
    "                                                              # sklearn.metrics.confusion_matrix\n",
    "                          normalize    = True,                # show proportions\n",
    "                          target_names = y_labels_vals,       # list of names of the classes\n",
    "                          title        = best_estimator_name) # title of graph\n",
    "\n",
    "    Citiation\n",
    "    ---------\n",
    "    http://scikit-learn.org/stable/auto_examples/model_selection/plot_confusion_matrix.html\n",
    "\n",
    "    \"\"\"\n",
    "    import matplotlib.pyplot as plt\n",
    "    import numpy as np\n",
    "    import itertools\n",
    "\n",
    "    accuracy = np.trace(cm) / float(np.sum(cm))\n",
    "    misclass = 1 - accuracy\n",
    "\n",
    "    if cmap is None:\n",
    "        cmap = plt.get_cmap('Blues')\n",
    "\n",
    "    plt.figure(figsize=(7, 5))\n",
    "    plt.imshow(cm, interpolation='nearest', origin='lower', cmap=cmap)\n",
    "    plt.title(title)\n",
    "    plt.colorbar()\n",
    "\n",
    "    if target_names is not None:\n",
    "        tick_marks = np.arange(len(target_names))\n",
    "        plt.xticks(tick_marks, target_names, rotation=45)\n",
    "        plt.yticks(tick_marks, target_names)\n",
    "\n",
    "    if normalize:\n",
    "        cm = cm.astype('float') / cm.sum(axis=0)[np.newaxis,: ]\n",
    "\n",
    "    thresh = cm.max() / 1.5 if normalize else cm.max() / 2\n",
    "    for i, j in itertools.product(range(cm.shape[0]), range(cm.shape[1])):\n",
    "        if normalize:\n",
    "            plt.text(j, i, \"{:0.4f}\".format(cm[i, j]),size= 20,\n",
    "                     horizontalalignment=\"center\",\n",
    "                     verticalalignment=\"center\",\n",
    "                     color=\"white\" if cm[i, j] > thresh else \"black\")\n",
    "        else:\n",
    "            plt.text(j, i, \"{:,}\".format(cm[i, j]),\n",
    "                     horizontalalignment=\"center\",\n",
    "                     verticalalignment=\"center\",\n",
    "                     \n",
    "                     color=\"white\" if cm[i, j] > thresh else \"black\")\n",
    "\n",
    "\n",
    "    plt.tight_layout()\n",
    "    plt.ylabel('Predicted label')\n",
    "    plt.xlabel('True label\\naccuracy={:0.4f}; misclass={:0.4f}'.format(accuracy, misclass))\n",
    "    plt.show()"
   ]
  },
  {
   "cell_type": "code",
   "execution_count": 36,
   "metadata": {},
   "outputs": [
    {
     "name": "stdout",
     "output_type": "stream",
     "text": [
      "[[3807 6944]\n",
      " [6656 2593]]\n"
     ]
    },
    {
     "data": {
      "image/png": "[encoded data removed]",
      "text/plain": [
       "<Figure size 504x360 with 2 Axes>"
      ]
     },
     "metadata": {
      "needs_background": "light"
     },
     "output_type": "display_data"
    },
    {
     "name": "stdout",
     "output_type": "stream",
     "text": [
      "Confusion Matrix normalized\n",
      "[[0.36385358 0.72811157]\n",
      " [0.63614642 0.27188843]]\n"
     ]
    }
   ],
   "source": [
    "# from keras.wrappers.scikit_learn import KerasClassifier\n",
    "from sklearn.metrics import classification_report, confusion_matrix\n",
    "# from sklearn.metrics import plot_confusion_matrix\n",
    "target_names = [ 'Compton','Phot+phot_like']\n",
    "cm=confusion_matrix( y_test,result, normalize    =None )\n",
    "cm_transpuesta=np.transpose(cm)\n",
    "print(np.flip(cm_transpuesta,0))\n",
    "plot_confusion_matrix(cm           = cm_transpuesta, \n",
    "                      normalize    = True,\n",
    "                      target_names = target_names,\n",
    "                      title        = \"Confusion Matrix\")\n",
    "cm_n=confusion_matrix( y_test,result, normalize    = 'true')\n",
    "cm_n_transpuesta=np.transpose(cm_n)\n",
    "print('Confusion Matrix normalized')\n",
    "print(np.flip(cm_n_transpuesta,0))"
   ]
  },
  {
   "cell_type": "code",
   "execution_count": null,
   "metadata": {},
   "outputs": [],
   "source": []
  }
 ],
 "metadata": {
  "kernelspec": {
   "display_name": "Python 3",
   "language": "python",
   "name": "python3"
  },
  "language_info": {
   "codemirror_mode": {
    "name": "ipython",
    "version": 3
   },
   "file_extension": ".py",
   "mimetype": "text/x-python",
   "name": "python",
   "nbconvert_exporter": "python",
   "pygments_lexer": "ipython3",
   "version": "3.7.1"
  }
 },
 "nbformat": 4,
 "nbformat_minor": 4
}
