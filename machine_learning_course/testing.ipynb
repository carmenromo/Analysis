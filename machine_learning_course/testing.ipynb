{
 "cells": [
  {
   "cell_type": "markdown",
   "metadata": {},
   "source": [
    "## Study of type event recognition for the PETALO experiment using ML"
   ]
  },
  {
   "cell_type": "markdown",
   "metadata": {},
   "source": [
    "### Imports"
   ]
  },
  {
   "cell_type": "code",
   "execution_count": 1,
   "metadata": {},
   "outputs": [],
   "source": [
    "import numpy  as np\n",
    "import pandas as pd\n",
    "import random\n",
    "\n",
    "from random import randrange, uniform\n",
    "\n",
    "import matplotlib.pyplot as plt"
   ]
  },
  {
   "cell_type": "code",
   "execution_count": 2,
   "metadata": {},
   "outputs": [],
   "source": [
    "#in terminal set the course conda env: conda activate machine-learning-course\n",
    "from tensorflow.keras               import layers\n",
    "from tensorflow.keras               import regularizers\n",
    "from tensorflow.keras.utils         import to_categorical\n",
    "from tensorflow.keras.models        import Sequential\n",
    "from tensorflow.keras.layers        import Conv2D, MaxPooling2D, Dropout, Flatten, Dense\n",
    "from tensorflow.keras.preprocessing import image\n",
    "from tensorflow.keras.optimizers    import RMSprop\n",
    "from sklearn.model_selection        import train_test_split"
   ]
  },
  {
   "cell_type": "markdown",
   "metadata": {},
   "source": [
    "### Loading data:"
   ]
  },
  {
   "cell_type": "markdown",
   "metadata": {},
   "source": [
    "Code to select events and plotting utils in https://github.com/carmenromo/Analysis/tree/master/machine_learning_course"
   ]
  },
  {
   "cell_type": "code",
   "execution_count": 3,
   "metadata": {},
   "outputs": [],
   "source": [
    "phot_list, compt_list = [], []\n",
    "data_file  = '/Users/carmenromoluque/machine-learning-course/full_body_4cmdepth_all_images.npz'\n",
    "data       = np.load(data_file, allow_pickle=True)\n",
    "for im in data['phot_images']:\n",
    "    if len(im)==0:\n",
    "        continue\n",
    "    phot_list .append(im.reshape(400))\n",
    "for im in data['compt_images']:\n",
    "    if len(im)==0:\n",
    "        continue\n",
    "    compt_list.append(im.reshape(400))\n",
    "compt_images = np.array(compt_list)\n",
    "phot_images  = np.array(phot_list)"
   ]
  },
  {
   "cell_type": "markdown",
   "metadata": {},
   "source": [
    "#### Create the noisy events"
   ]
  },
  {
   "cell_type": "code",
   "execution_count": 4,
   "metadata": {},
   "outputs": [],
   "source": [
    "noise_images = 20 *np.random.rand(5000, 400) #20 has been chosen randomly"
   ]
  },
  {
   "cell_type": "code",
   "execution_count": 5,
   "metadata": {},
   "outputs": [
    {
     "data": {
      "image/png": "[encoded data removed]",
      "text/plain": [
       "<Figure size 1296x360 with 6 Axes>"
      ]
     },
     "metadata": {
      "needs_background": "light"
     },
     "output_type": "display_data"
    }
   ],
   "source": [
    "fig, (ax1, ax2, ax3) = plt.subplots(1,3,figsize=(18,5))\n",
    "fig1 = ax1.imshow( phot_images[4].reshape(20,20))\n",
    "fig2 = ax2.imshow(compt_images[9].reshape(20,20))\n",
    "fig3 = ax3.imshow(noise_images[0].reshape(20,20))\n",
    "ax1.set_xlabel('Z (mm)',       size=14)\n",
    "ax1.set_ylabel('$\\phi$ (rad)', size=14)\n",
    "ax1.set_title('Photoelectric', size=16)\n",
    "ax2.set_xlabel('Z (mm)',       size=14)\n",
    "ax2.set_ylabel('$\\phi$ (rad)', size=14)\n",
    "ax2.set_title('Compton',       size=16)\n",
    "ax3.set_xlabel('Z (mm)',       size=14)\n",
    "ax3.set_ylabel('$\\phi$ (rad)', size=14)\n",
    "ax3.set_title('Noise',         size=16)\n",
    "fig.colorbar(fig1, ax=ax1, label='Charges')\n",
    "fig.colorbar(fig2, ax=ax2, label='Charges')\n",
    "fig.colorbar(fig3, ax=ax3, label='Charges')\n",
    "plt.show()"
   ]
  },
  {
   "cell_type": "markdown",
   "metadata": {},
   "source": [
    "In the previous plot I have chosen ideal images of photoelectric and compton (phot more compact and compton more sparse), because I found that the pattern in the sipms is pretty similar between these two kinds of events, that's why I would be so happy if the CNN manages to distinguish them successfully."
   ]
  },
  {
   "cell_type": "markdown",
   "metadata": {},
   "source": [
    "#### Create the labels:\n",
    "- compton:       0\n",
    "- photoelectric: 1\n",
    "- noise:         2"
   ]
  },
  {
   "cell_type": "code",
   "execution_count": 6,
   "metadata": {},
   "outputs": [],
   "source": [
    "compt_labels =   np.zeros(len(compt_images))\n",
    "phot_labels  =   np.ones (len( phot_images))\n",
    "#noise_labels = 2*np.ones (len(noise_images))"
   ]
  },
  {
   "cell_type": "markdown",
   "metadata": {},
   "source": [
    "## Data "
   ]
  },
  {
   "cell_type": "markdown",
   "metadata": {},
   "source": [
    "### Normalization:"
   ]
  },
  {
   "cell_type": "markdown",
   "metadata": {},
   "source": [
    "Data can be normalized either using the maximum charge corresponding to every event type or either using the maximum absolute charge value. I think the most correct is the second option because maybe we are missing some information in the number of charges between photoelectric and compton events.\n",
    "\n",
    "However I find better results in the previous one..."
   ]
  },
  {
   "cell_type": "code",
   "execution_count": 7,
   "metadata": {},
   "outputs": [
    {
     "data": {
      "text/plain": [
       "1168.0"
      ]
     },
     "execution_count": 7,
     "metadata": {},
     "output_type": "execute_result"
    }
   ],
   "source": [
    "max_charges = [np.max(phot_images), np.max(compt_images), np.max(noise_images)]\n",
    "abs_max = max(max_charges)\n",
    "abs_max"
   ]
  },
  {
   "cell_type": "code",
   "execution_count": 8,
   "metadata": {},
   "outputs": [
    {
     "name": "stdout",
     "output_type": "stream",
     "text": [
      "[176.0, 1168.0, 19.99998707480743]\n"
     ]
    }
   ],
   "source": [
    "print(max_charges)"
   ]
  },
  {
   "cell_type": "code",
   "execution_count": 9,
   "metadata": {},
   "outputs": [],
   "source": [
    "norm_phot_images  =  phot_images/abs_max\n",
    "norm_compt_images = compt_images/abs_max\n",
    "norm_noise_images = noise_images/abs_max\n",
    "\n",
    "#norm_phot_images  =  phot_images/np.max( phot_images)\n",
    "#norm_compt_images = compt_images/np.max(compt_images)\n",
    "#norm_noise_images = noise_images/np.max(noise_images)"
   ]
  },
  {
   "cell_type": "code",
   "execution_count": 10,
   "metadata": {},
   "outputs": [
    {
     "name": "stdout",
     "output_type": "stream",
     "text": [
      "19932\n",
      "22244\n",
      "5000\n"
     ]
    }
   ],
   "source": [
    "max_charges_phot  = np.array([np.max(i) for i in  phot_images])\n",
    "max_charges_compt = np.array([np.max(i) for i in compt_images])\n",
    "max_charges_noise = np.array([np.max(i) for i in noise_images])\n",
    "print(len(max_charges_phot))\n",
    "print(len(max_charges_compt))\n",
    "print(len(max_charges_noise))"
   ]
  },
  {
   "cell_type": "code",
   "execution_count": 59,
   "metadata": {},
   "outputs": [],
   "source": [
    "def get_weights(data):\n",
    "    return np.repeat(1.0/len(data), len(data))\n",
    "\n",
    "weights_comtp = get_weights(max_charges_compt)\n",
    "weights_phot  = get_weights(max_charges_phot)"
   ]
  },
  {
   "cell_type": "code",
   "execution_count": 160,
   "metadata": {},
   "outputs": [
    {
     "data": {
      "image/png": "[encoded data removed]",
      "text/plain": [
       "<Figure size 864x432 with 1 Axes>"
      ]
     },
     "metadata": {
      "needs_background": "light"
     },
     "output_type": "display_data"
    }
   ],
   "source": [
    "fig = plt.figure(figsize=(12, 6))\n",
    "plt.hist(max_charges_compt, 100, weights=weights_comtp, alpha=0.7, label='compt')\n",
    "plt.hist(max_charges_phot ,  18, weights=weights_phot , alpha=0.7, label='phot' )\n",
    "plt.legend();\n",
    "#plt.xlim(0,500);"
   ]
  },
  {
   "cell_type": "markdown",
   "metadata": {},
   "source": [
    "## Inputs for the CNN:"
   ]
  },
  {
   "cell_type": "code",
   "execution_count": 11,
   "metadata": {},
   "outputs": [
    {
     "name": "stdout",
     "output_type": "stream",
     "text": [
      "(42176,)\n",
      "(42176, 400)\n",
      "[1. 1. 1. ... 0. 0. 0.]\n"
     ]
    }
   ],
   "source": [
    "y = np.concatenate((phot_labels, compt_labels))\n",
    "x = np.concatenate((norm_phot_images, norm_compt_images))\n",
    "print(y.shape)\n",
    "print(x.shape)\n",
    "print(y)"
   ]
  },
  {
   "cell_type": "markdown",
   "metadata": {},
   "source": [
    "We want to mix the images so that they are not in order (but labels in the same way too):\n",
    "(we could use the function split_test_train, it also mixes but it splits in two, and we have test, train, val"
   ]
  },
  {
   "cell_type": "code",
   "execution_count": 12,
   "metadata": {},
   "outputs": [],
   "source": [
    "c = list(zip(x, y))\n",
    "np.random.shuffle(c)\n",
    "x, y = zip(*c)\n",
    "y = np.array(y)\n",
    "x = np.array(x).astype('float32')"
   ]
  },
  {
   "cell_type": "markdown",
   "metadata": {},
   "source": [
    "Split data in training, validation and testing:"
   ]
  },
  {
   "cell_type": "code",
   "execution_count": 9,
   "metadata": {},
   "outputs": [],
   "source": [
    "#######\n",
    "train_split = 40000\n",
    "#######\n",
    "test_split  = 2000\n",
    "#######\n",
    "\n",
    "y_train = y[                 :train_split]\n",
    "x_train = x[                 :train_split]\n",
    "y_val   = y[train_split      :len(y)-test_split]\n",
    "x_val   = x[train_split      :len(x)-test_split]\n",
    "y_test  = y[len(y)-test_split:                 ]\n",
    "x_test  = x[len(x)-test_split:                 ]"
   ]
  },
  {
   "cell_type": "code",
   "execution_count": 10,
   "metadata": {},
   "outputs": [
    {
     "name": "stdout",
     "output_type": "stream",
     "text": [
      "(2000, 400) (2000,)\n",
      "(40000, 400) (40000,)\n",
      "(5176, 400) (5176,)\n"
     ]
    }
   ],
   "source": [
    "print(x_test .shape, y_test .shape)\n",
    "print(x_train.shape, y_train.shape)\n",
    "print(x_val  .shape, y_val  .shape)"
   ]
  },
  {
   "cell_type": "markdown",
   "metadata": {},
   "source": [
    "### Prepare the data\n",
    "The y variables (outputs) are in classes from 0 to 2. **One-hot** changes this simple number (class) to a matrix which contains 0 for all the entries except for 1 or 2 in case we have phot or noise. This is simply implemented using keras utilities"
   ]
  },
  {
   "cell_type": "code",
   "execution_count": 11,
   "metadata": {},
   "outputs": [
    {
     "name": "stdout",
     "output_type": "stream",
     "text": [
      "(40000, 3)\n",
      "(5176, 3)\n",
      "(2000, 3)\n"
     ]
    }
   ],
   "source": [
    "y_train_hot = to_categorical(y_train)\n",
    "y_val_hot   = to_categorical(y_val)\n",
    "y_test_hot  = to_categorical(y_test)\n",
    "\n",
    "print(y_train_hot.shape)\n",
    "print(y_val_hot  .shape)\n",
    "print(y_test_hot .shape)"
   ]
  },
  {
   "cell_type": "code",
   "execution_count": 12,
   "metadata": {},
   "outputs": [
    {
     "name": "stdout",
     "output_type": "stream",
     "text": [
      "40000 train samples\n",
      "5176 validation samples\n"
     ]
    },
    {
     "data": {
      "image/png": "[encoded data removed]",
      "text/plain": [
       "<Figure size 432x288 with 1 Axes>"
      ]
     },
     "metadata": {
      "needs_background": "light"
     },
     "output_type": "display_data"
    }
   ],
   "source": [
    "print(x_train.shape[0], 'train samples')\n",
    "print(x_val.shape[0], 'validation samples')\n",
    "plt.plot(x_train[0])\n",
    "plt.plot(x_train[1])\n",
    "plt.plot(x_test[2])\n",
    "plt.show()"
   ]
  },
  {
   "cell_type": "markdown",
   "metadata": {},
   "source": [
    "Reshape data for CNN:"
   ]
  },
  {
   "cell_type": "code",
   "execution_count": 13,
   "metadata": {},
   "outputs": [
    {
     "data": {
      "text/plain": [
       "(40000, 20, 20, 1)"
      ]
     },
     "execution_count": 13,
     "metadata": {},
     "output_type": "execute_result"
    }
   ],
   "source": [
    "x_train_cnn = x_train.reshape(-1, 20, 20, 1)\n",
    "x_test_cnn  = x_test .reshape(-1, 20, 20, 1)\n",
    "x_val_cnn   = x_val  .reshape(-1, 20, 20, 1)\n",
    "x_train_cnn.shape"
   ]
  },
  {
   "cell_type": "markdown",
   "metadata": {},
   "source": [
    "Layer activation relu:\n",
    "Applies the rectified linear unit activation function.\n",
    "With default values, this returns the standard ReLU activation: max(x, 0), \n",
    "the element-wise maximum of 0 and the input tensor."
   ]
  },
  {
   "cell_type": "code",
   "execution_count": 40,
   "metadata": {},
   "outputs": [
    {
     "name": "stdout",
     "output_type": "stream",
     "text": [
      "Model: \"sequential_11\"\n",
      "_________________________________________________________________\n",
      "Layer (type)                 Output Shape              Param #   \n",
      "=================================================================\n",
      "conv2d_13 (Conv2D)           (None, 17, 17, 64)        1088      \n",
      "_________________________________________________________________\n",
      "dense_17 (Dense)             (None, 17, 17, 32)        2080      \n",
      "_________________________________________________________________\n",
      "max_pooling2d_9 (MaxPooling2 (None, 5, 5, 32)          0         \n",
      "_________________________________________________________________\n",
      "flatten_9 (Flatten)          (None, 800)               0         \n",
      "_________________________________________________________________\n",
      "dense_18 (Dense)             (None, 3)                 2403      \n",
      "=================================================================\n",
      "Total params: 5,571\n",
      "Trainable params: 5,571\n",
      "Non-trainable params: 0\n",
      "_________________________________________________________________\n"
     ]
    }
   ],
   "source": [
    "# Sequential means you can build a DNN layer by layer\n",
    "cnnmodel = Sequential()\n",
    "cnnmodel.add(Conv2D(64, (3, 3), activation='relu', input_shape=(20, 20, 1))) #2D convolution layer\n",
    "cnnmodel.add(Dense(32, activation='relu'))\n",
    "cnnmodel.add(MaxPooling2D((2, 2)))\n",
    "cnnmodel.add(Flatten())\n",
    "cnnmodel.add(Dense(3, activation='softmax'))\n",
    "cnnmodel.compile(loss='categorical_crossentropy', optimizer=RMSprop(), metrics=['accuracy'])\n",
    "\n",
    "\n",
    "## Sequential means you can build a DNN layer by layer\n",
    "#cnnmodel = Sequential()\n",
    "##Applies the rectified linear unit activation function.\n",
    "##With default values, this returns the standard ReLU activation: max(x, 0), the element-wise maximum of 0 and the input tensor.\n",
    "##fcmodel.add(Dense(32, activation='relu', input_shape=(784,)))\n",
    "## we add a second layer\n",
    "##cnnmodel.add(Conv2D(128, (4, 4), activation='relu', input_shape=(20, 20, 1)))\n",
    "#cnnmodel.add(Conv2D(64, (3, 3), activation='relu', input_shape=(20, 20, 1))) #2D convolution layer\n",
    "#cnnmodel.add(MaxPooling2D((3, 3))) #Max pooling operation for 2D spatial data.\n",
    "##cnnmodel.add(layer)\n",
    "#cnnmodel.add(Dropout(0.4, input_shape=(20,20,1)))\n",
    "#cnnmodel.add(Conv2D(256, (4, 4), activation='relu'))\n",
    "##cnnmodel.add(Conv2D(128, (3, 3), activation='relu'))\n",
    "#cnnmodel.add(MaxPooling2D((2, 2)))\n",
    "#cnnmodel.add(Dropout(0.1, input_shape=(20,20,1)))\n",
    "#cnnmodel.add(Flatten())\n",
    "#cnnmodel.add(Dense(3, activation='softmax'))\n",
    "#\n",
    "#cnnmodel.compile(loss='categorical_crossentropy',\n",
    "#                optimizer='adam', #RMSprop(),\n",
    "#                metrics=['accuracy'])\n",
    "\n",
    "cnnmodel.summary()"
   ]
  },
  {
   "cell_type": "code",
   "execution_count": 41,
   "metadata": {},
   "outputs": [
    {
     "name": "stdout",
     "output_type": "stream",
     "text": [
      "(40000, 20, 20, 1) (40000, 3)\n",
      "(5176, 20, 20, 1) (5176,)\n"
     ]
    }
   ],
   "source": [
    "print(x_train_cnn.shape, y_train_hot.shape)\n",
    "print(x_val_cnn.shape, y_val.shape)"
   ]
  },
  {
   "cell_type": "code",
   "execution_count": 42,
   "metadata": {},
   "outputs": [
    {
     "name": "stdout",
     "output_type": "stream",
     "text": [
      "Train on 40000 samples, validate on 5176 samples\n",
      "Epoch 1/10\n",
      "40000/40000 [==============================] - 16s 395us/sample - loss: 0.4848 - accuracy: 0.7781 - val_loss: 0.4948 - val_accuracy: 0.7705\n",
      "Epoch 2/10\n",
      "40000/40000 [==============================] - 15s 373us/sample - loss: 0.4819 - accuracy: 0.7809 - val_loss: 0.5073 - val_accuracy: 0.7597\n",
      "Epoch 3/10\n",
      "40000/40000 [==============================] - 15s 376us/sample - loss: 0.4798 - accuracy: 0.7808 - val_loss: 0.5050 - val_accuracy: 0.7718\n",
      "Epoch 4/10\n",
      "40000/40000 [==============================] - 15s 366us/sample - loss: 0.4827 - accuracy: 0.7821 - val_loss: 0.5169 - val_accuracy: 0.7655\n",
      "Epoch 5/10\n",
      "40000/40000 [==============================] - 15s 377us/sample - loss: 0.4836 - accuracy: 0.7810 - val_loss: 0.5059 - val_accuracy: 0.7676\n",
      "Epoch 6/10\n",
      "40000/40000 [==============================] - 15s 372us/sample - loss: 0.4804 - accuracy: 0.7849 - val_loss: 0.5021 - val_accuracy: 0.7705\n",
      "Epoch 7/10\n",
      "40000/40000 [==============================] - 15s 370us/sample - loss: 0.4835 - accuracy: 0.7819 - val_loss: 0.5189 - val_accuracy: 0.7363\n",
      "Epoch 8/10\n",
      "40000/40000 [==============================] - 15s 373us/sample - loss: 0.4835 - accuracy: 0.7834 - val_loss: 0.4994 - val_accuracy: 0.7716\n",
      "Epoch 9/10\n",
      "40000/40000 [==============================] - 15s 378us/sample - loss: 0.4825 - accuracy: 0.7811 - val_loss: 0.5180 - val_accuracy: 0.7668\n",
      "Epoch 10/10\n",
      "40000/40000 [==============================] - 16s 401us/sample - loss: 0.4833 - accuracy: 0.7828 - val_loss: 0.5014 - val_accuracy: 0.7697\n"
     ]
    }
   ],
   "source": [
    "batch_size = 32\n",
    "epochs     = 10\n",
    "history = fcmodel.fit(x_train_cnn, y_train_hot,\n",
    "                       batch_size=batch_size, \n",
    "                       epochs=epochs,\n",
    "                       verbose=1,\n",
    "                       validation_data=(x_val_cnn, y_val_hot))"
   ]
  },
  {
   "cell_type": "code",
   "execution_count": 94,
   "metadata": {},
   "outputs": [
    {
     "name": "stdout",
     "output_type": "stream",
     "text": [
      "Test loss: 0.1908527148246765\n",
      "Test accuracy: 0.9978\n"
     ]
    }
   ],
   "source": [
    "# in principle, we should not look at the score for this set of data\n",
    "# until we have finished tuning our model\n",
    "score = cnnmodel.evaluate(x_test_cnn, y_test_hot, verbose=0)\n",
    "print('Test loss:', score[0])\n",
    "print('Test accuracy:', score[1])"
   ]
  },
  {
   "cell_type": "code",
   "execution_count": null,
   "metadata": {},
   "outputs": [],
   "source": []
  },
  {
   "cell_type": "code",
   "execution_count": null,
   "metadata": {},
   "outputs": [],
   "source": []
  },
  {
   "cell_type": "code",
   "execution_count": null,
   "metadata": {},
   "outputs": [],
   "source": []
  },
  {
   "cell_type": "code",
   "execution_count": 74,
   "metadata": {},
   "outputs": [
    {
     "name": "stdout",
     "output_type": "stream",
     "text": [
      "Model: \"sequential_1\"\n",
      "_________________________________________________________________\n",
      "Layer (type)                 Output Shape              Param #   \n",
      "=================================================================\n",
      "conv2d_1 (Conv2D)            (None, 18, 18, 64)        640       \n",
      "_________________________________________________________________\n",
      "max_pooling2d (MaxPooling2D) (None, 6, 6, 64)          0         \n",
      "_________________________________________________________________\n",
      "dropout (Dropout)            (None, 6, 6, 64)          0         \n",
      "_________________________________________________________________\n",
      "flatten (Flatten)            (None, 2304)              0         \n",
      "_________________________________________________________________\n",
      "dense_2 (Dense)              (None, 2)                 4610      \n",
      "=================================================================\n",
      "Total params: 5,250\n",
      "Trainable params: 5,250\n",
      "Non-trainable params: 0\n",
      "_________________________________________________________________\n"
     ]
    }
   ],
   "source": [
    "layer = layers.Dense(\n",
    "    units=64,\n",
    "    kernel_regularizer=regularizers.l1_l2(l1=1e-5, l2=1e-4),\n",
    "    bias_regularizer=regularizers.l2(1e-4),\n",
    "    activity_regularizer=regularizers.l2(1e-5)\n",
    ")\n",
    "\n",
    "# Sequential means you can build a DNN layer by layer\n",
    "cnnmodel = Sequential()\n",
    "#cnnmodel.add(Conv2D(128, (4, 4), activation='relu', input_shape=(20, 20, 1)))\n",
    "cnnmodel.add(Conv2D(64, (3, 3), activation='relu', input_shape=(20, 20, 1))) #2D convolution layer\n",
    "cnnmodel.add(MaxPooling2D((3, 3))) #Max pooling operation for 2D spatial data.\n",
    "#cnnmodel.add(layer)\n",
    "#cnnmodel.add(Dropout(0.4, input_shape=(20,20,1)))\n",
    "#cnnmodel.add(Conv2D(256, (4, 4), activation='relu'))\n",
    "##cnnmodel.add(Conv2D(128, (3, 3), activation='relu'))\n",
    "#cnnmodel.add(MaxPooling2D((2, 2)))\n",
    "cnnmodel.add(Dropout(0.1, input_shape=(20,20,1)))\n",
    "cnnmodel.add(Flatten())\n",
    "cnnmodel.add(Dense(2, activation='softmax'))\n",
    "#\n",
    "cnnmodel.compile(loss='categorical_crossentropy',\n",
    "                optimizer='adam', #RMSprop(),\n",
    "                metrics=['accuracy'])\n",
    "\n",
    "cnnmodel.summary()"
   ]
  },
  {
   "cell_type": "code",
   "execution_count": 75,
   "metadata": {},
   "outputs": [],
   "source": [
    "batch_size = 20\n",
    "epochs     = 10"
   ]
  },
  {
   "cell_type": "markdown",
   "metadata": {},
   "source": [
    "Train the CNN:"
   ]
  },
  {
   "cell_type": "code",
   "execution_count": 77,
   "metadata": {},
   "outputs": [
    {
     "name": "stdout",
     "output_type": "stream",
     "text": [
      "Train on 35000 samples, validate on 2176 samples\n",
      "Epoch 1/10\n",
      "35000/35000 [==============================] - 12s 350us/sample - loss: 0.6385 - accuracy: 0.6415 - val_loss: 0.5848 - val_accuracy: 0.7206\n",
      "Epoch 2/10\n",
      "35000/35000 [==============================] - 11s 325us/sample - loss: 0.5811 - accuracy: 0.7186 - val_loss: 0.5725 - val_accuracy: 0.7261\n",
      "Epoch 3/10\n",
      "35000/35000 [==============================] - 11s 321us/sample - loss: 0.5692 - accuracy: 0.7308 - val_loss: 0.5558 - val_accuracy: 0.7528\n",
      "Epoch 4/10\n",
      "35000/35000 [==============================] - 11s 328us/sample - loss: 0.5649 - accuracy: 0.7363 - val_loss: 0.5767 - val_accuracy: 0.7298\n",
      "Epoch 5/10\n",
      "35000/35000 [==============================] - 12s 333us/sample - loss: 0.5654 - accuracy: 0.7362 - val_loss: 0.5602 - val_accuracy: 0.7541\n",
      "Epoch 6/10\n",
      "35000/35000 [==============================] - 11s 324us/sample - loss: 0.5609 - accuracy: 0.7415 - val_loss: 0.5501 - val_accuracy: 0.7555\n",
      "Epoch 7/10\n",
      "35000/35000 [==============================] - 11s 325us/sample - loss: 0.5604 - accuracy: 0.7401 - val_loss: 0.5457 - val_accuracy: 0.7638\n",
      "Epoch 8/10\n",
      "35000/35000 [==============================] - 13s 375us/sample - loss: 0.5577 - accuracy: 0.7458 - val_loss: 0.5632 - val_accuracy: 0.7316\n",
      "Epoch 9/10\n",
      "35000/35000 [==============================] - 13s 365us/sample - loss: 0.5567 - accuracy: 0.7429 - val_loss: 0.5442 - val_accuracy: 0.7675\n",
      "Epoch 10/10\n",
      "35000/35000 [==============================] - 11s 324us/sample - loss: 0.5544 - accuracy: 0.7470 - val_loss: 0.5427 - val_accuracy: 0.7725\n"
     ]
    }
   ],
   "source": [
    "# Training our CNN\n",
    "history = cnnmodel.fit(x_train_cnn, y_train_hot,\n",
    "                       batch_size=batch_size, \n",
    "                       epochs=epochs,\n",
    "                       verbose=1,\n",
    "                       validation_data=(x_val_cnn, y_val_hot))"
   ]
  },
  {
   "cell_type": "code",
   "execution_count": 58,
   "metadata": {},
   "outputs": [],
   "source": [
    "def histplot(history):\n",
    "    hist = pd.DataFrame(history.history)\n",
    "    fig, (ax1, ax2) = plt.subplots(1, 2, figsize=(15, 5))\n",
    "    hist.plot(y=['loss','val_loss'], ax=ax1)\n",
    "    min_loss = hist['val_loss'].min()\n",
    "    ax1.hlines(min_loss, 0, len(hist), linestyle='dotted',\n",
    "               label='min(val_loss) = {:.3f}'.format(min_loss))\n",
    "    ax1.legend(loc='upper right')\n",
    "    hist.plot(y=['accuracy','val_accuracy'], ax=ax2)\n",
    "    max_acc = hist['val_accuracy'].max()\n",
    "    ax2.hlines(max_acc, 0, len(hist), linestyle='dotted',\n",
    "               label='max(val_accuracy) = {:.3f}'.format(max_acc))\n",
    "    ax2.legend(loc='lower right', fontsize='large')"
   ]
  },
  {
   "cell_type": "code",
   "execution_count": 59,
   "metadata": {},
   "outputs": [
    {
     "data": {
      "image/png": "[encoded data removed]",
      "text/plain": [
       "<Figure size 1080x360 with 2 Axes>"
      ]
     },
     "metadata": {
      "needs_background": "light"
     },
     "output_type": "display_data"
    }
   ],
   "source": [
    "histplot(history)"
   ]
  },
  {
   "cell_type": "code",
   "execution_count": 60,
   "metadata": {},
   "outputs": [],
   "source": [
    "prediction = []\n",
    "for i in range(len(x_test_cnn)):\n",
    "    img = x_test_cnn[i]\n",
    "    test_image = image.img_to_array(img)\n",
    "    test_image = np.expand_dims(test_image, axis=0)\n",
    "    pred = cnnmodel.predict(test_image)\n",
    "    prediction.append(pred)"
   ]
  },
  {
   "cell_type": "code",
   "execution_count": 61,
   "metadata": {},
   "outputs": [
    {
     "name": "stdout",
     "output_type": "stream",
     "text": [
      "5382\n",
      "[[0.16048329 0.8395167 ]]\n",
      "[[0. 1.]]\n",
      "[0. 1.]\n"
     ]
    }
   ],
   "source": [
    "print(len(prediction))\n",
    "print(prediction[15])\n",
    "print(np.round(prediction[15]))\n",
    "print(y_test[15])"
   ]
  },
  {
   "cell_type": "code",
   "execution_count": 64,
   "metadata": {},
   "outputs": [
    {
     "name": "stdout",
     "output_type": "stream",
     "text": [
      "5382\n"
     ]
    },
    {
     "ename": "IndexError",
     "evalue": "boolean index did not match indexed array along dimension 1; dimension is 1 but corresponding boolean dimension is 2",
     "output_type": "error",
     "traceback": [
      "\u001b[0;31m---------------------------------------------------------------------------\u001b[0m",
      "\u001b[0;31mIndexError\u001b[0m                                Traceback (most recent call last)",
      "\u001b[0;32m<ipython-input-64-ff9eec01afd1>\u001b[0m in \u001b[0;36m<module>\u001b[0;34m\u001b[0m\n\u001b[1;32m      1\u001b[0m \u001b[0mprint\u001b[0m\u001b[0;34m(\u001b[0m\u001b[0mlen\u001b[0m\u001b[0;34m(\u001b[0m\u001b[0my_test\u001b[0m\u001b[0;34m[\u001b[0m\u001b[0my_test\u001b[0m\u001b[0;34m==\u001b[0m\u001b[0;36m1\u001b[0m\u001b[0;34m]\u001b[0m\u001b[0;34m)\u001b[0m\u001b[0;34m)\u001b[0m\u001b[0;34m\u001b[0m\u001b[0m\n\u001b[0;32m----> 2\u001b[0;31m \u001b[0mlen\u001b[0m\u001b[0;34m(\u001b[0m\u001b[0mnp\u001b[0m\u001b[0;34m.\u001b[0m\u001b[0marray\u001b[0m\u001b[0;34m(\u001b[0m\u001b[0mprediction\u001b[0m\u001b[0;34m)\u001b[0m\u001b[0;34m[\u001b[0m\u001b[0my_test\u001b[0m\u001b[0;34m==\u001b[0m\u001b[0;36m1\u001b[0m\u001b[0;34m]\u001b[0m\u001b[0;34m[\u001b[0m\u001b[0mnp\u001b[0m\u001b[0;34m.\u001b[0m\u001b[0mround\u001b[0m\u001b[0;34m(\u001b[0m\u001b[0mprediction\u001b[0m\u001b[0;34m)\u001b[0m\u001b[0;34m.\u001b[0m\u001b[0mitem\u001b[0m\u001b[0;34m(\u001b[0m\u001b[0;36m1\u001b[0m\u001b[0;34m)\u001b[0m\u001b[0;34m==\u001b[0m\u001b[0;36m1\u001b[0m\u001b[0;34m]\u001b[0m\u001b[0;34m)\u001b[0m\u001b[0;34m\u001b[0m\u001b[0m\n\u001b[0m",
      "\u001b[0;31mIndexError\u001b[0m: boolean index did not match indexed array along dimension 1; dimension is 1 but corresponding boolean dimension is 2"
     ]
    }
   ],
   "source": [
    "print(len(y_test[y_test==1]))\n",
    "len(np.array(prediction)[y_test==1][np.round(prediction).item(1)==1])"
   ]
  },
  {
   "cell_type": "code",
   "execution_count": 63,
   "metadata": {},
   "outputs": [
    {
     "data": {
      "text/plain": [
       "array([0., 1.], dtype=float32)"
      ]
     },
     "execution_count": 63,
     "metadata": {},
     "output_type": "execute_result"
    }
   ],
   "source": [
    "#true_results = np.equal(y_test, result)\n",
    "y_test[0]\n",
    "#np.array(prediction)[0]"
   ]
  },
  {
   "cell_type": "code",
   "execution_count": 65,
   "metadata": {},
   "outputs": [],
   "source": [
    "#result=[]\n",
    "#for i in range(len(prediction)):\n",
    "#    if np.round(prediction[i]).item(0)==1:\n",
    "#        result.append(0)\n",
    "#    elif np.round(prediction[i]).item(1)==1:\n",
    "#        result.append(1)\n",
    "#    else:\n",
    "#        result.append(2)\n",
    "#result = np.array(result)\n",
    "#\n",
    "#result_translate = ['Compt', 'Phot', 'Noise']\n",
    "#result_names = []\n",
    "#for i in range(len(result)):\n",
    "#    result_names.append(result_translate[result[i]])\n",
    "#result_names = np.array(result_names)\n",
    "\n",
    "result=[]\n",
    "for i in range(len(prediction)):\n",
    "    if np.round(prediction[i]).item(0)==1:\n",
    "        result.append(0)\n",
    "    else:\n",
    "        result.append(1)\n",
    "result = np.array(result)\n",
    "\n",
    "result_translate = ['Compt', 'Phot']\n",
    "result_names = []\n",
    "for i in range(len(result)):\n",
    "    result_names.append(result_translate[result[i]])\n",
    "result_names = np.array(result_names)"
   ]
  },
  {
   "cell_type": "code",
   "execution_count": 67,
   "metadata": {},
   "outputs": [
    {
     "ename": "TypeError",
     "evalue": "only size-1 arrays can be converted to Python scalars",
     "output_type": "error",
     "traceback": [
      "\u001b[0;31m---------------------------------------------------------------------------\u001b[0m",
      "\u001b[0;31mTypeError\u001b[0m                                 Traceback (most recent call last)",
      "\u001b[0;32m<ipython-input-67-51dbc61606ac>\u001b[0m in \u001b[0;36m<module>\u001b[0;34m\u001b[0m\n\u001b[1;32m      7\u001b[0m \u001b[0;34m\u001b[0m\u001b[0m\n\u001b[1;32m      8\u001b[0m     \u001b[0;31m# label the image with the target value\u001b[0m\u001b[0;34m\u001b[0m\u001b[0;34m\u001b[0m\u001b[0m\n\u001b[0;32m----> 9\u001b[0;31m     \u001b[0max\u001b[0m\u001b[0;34m.\u001b[0m\u001b[0mset_title\u001b[0m\u001b[0;34m(\u001b[0m\u001b[0;34mF'Pred.: {result_names[i]}'\u001b[0m\u001b[0;34m+\u001b[0m \u001b[0;34m'\\n'\u001b[0m \u001b[0;34mF'Real: {result_translate[int(y_test[i])]}'\u001b[0m\u001b[0;34m,\u001b[0m \u001b[0mfontsize\u001b[0m\u001b[0;34m=\u001b[0m\u001b[0;36m14\u001b[0m\u001b[0;34m)\u001b[0m\u001b[0;34m\u001b[0m\u001b[0m\n\u001b[0m\u001b[1;32m     10\u001b[0m \u001b[0mplt\u001b[0m\u001b[0;34m.\u001b[0m\u001b[0mtick_params\u001b[0m\u001b[0;34m(\u001b[0m\u001b[0;34m)\u001b[0m\u001b[0;34m\u001b[0m\u001b[0m\n",
      "\u001b[0;31mTypeError\u001b[0m: only size-1 arrays can be converted to Python scalars"
     ]
    },
    {
     "data": {
      "image/png": "[encoded data removed]",
      "text/plain": [
       "<Figure size 1008x936 with 1 Axes>"
      ]
     },
     "metadata": {},
     "output_type": "display_data"
    }
   ],
   "source": [
    "x_test_image = x_test.reshape(len(x_test),20,20)\n",
    "fig = plt.figure(figsize=(14, 13))\n",
    "fig.subplots_adjust(left=0, right=0.9, bottom=0, top=1.1, hspace=0.1, wspace=0.1)\n",
    "for i in range(8):\n",
    "    ax = fig.add_subplot(4, 4, i+1 , xticks=[], yticks=[])\n",
    "    ax.imshow(x_test_image[i], interpolation='nearest')\n",
    "    \n",
    "    # label the image with the target value\n",
    "    ax.set_title(F'Pred.: {result_names[i]}'+ '\\n' F'Real: {result_translate[int(y_test[i])]}', fontsize=14)\n",
    "plt.tick_params()"
   ]
  },
  {
   "cell_type": "code",
   "execution_count": 70,
   "metadata": {},
   "outputs": [
    {
     "data": {
      "text/plain": [
       "array([0., 1.], dtype=float32)"
      ]
     },
     "execution_count": 70,
     "metadata": {},
     "output_type": "execute_result"
    }
   ],
   "source": [
    "y_test[i]"
   ]
  },
  {
   "cell_type": "code",
   "execution_count": 59,
   "metadata": {},
   "outputs": [
    {
     "name": "stdout",
     "output_type": "stream",
     "text": [
      "------------------------------\n",
      "# CORRECT PREDICTIONS:\n",
      "1581 of total 2000 ---> 79.05 %\n",
      "------------------------------\n"
     ]
    }
   ],
   "source": [
    "true_results = np.equal(y_test, result)\n",
    "percentage   = np.round(sum(true_results)/len(y_test)*100, decimals=2)\n",
    "print('------------------------------')\n",
    "print('# CORRECT PREDICTIONS:')\n",
    "print(f'{sum(true_results)} of total {len(y_test)} ---> {percentage} %')\n",
    "print('------------------------------')"
   ]
  },
  {
   "cell_type": "markdown",
   "metadata": {},
   "source": [
    "## Noise accuracy"
   ]
  },
  {
   "cell_type": "markdown",
   "metadata": {},
   "source": [
    "Instead of generating random noise, I am going to use gaussian distributions"
   ]
  },
  {
   "cell_type": "code",
   "execution_count": 36,
   "metadata": {},
   "outputs": [],
   "source": [
    "def multivariate_gaussian(pos, mu, sigma):\n",
    "    n         = mu.shape[0]\n",
    "    sigma_det = np.linalg.det(sigma)\n",
    "    sigma_inv = np.linalg.inv(sigma)\n",
    "    N         = np.sqrt((2*np.pi)**n * sigma_det)\n",
    "    fac       = np.einsum('...k,kl,...l->...', pos-mu, sigma_inv, pos-mu)\n",
    "    return np.exp(-fac/2)/N"
   ]
  },
  {
   "cell_type": "code",
   "execution_count": 37,
   "metadata": {},
   "outputs": [],
   "source": [
    "n_bins  = 20\n",
    "n_dist  = 10000\n",
    "gauss2d = []\n",
    "for i in range(n_dist):\n",
    "    x_rand = np.linspace(-randrange(1, 10), randrange(1, 10), n_bins)\n",
    "    y_rand = np.linspace(-randrange(1, 10), randrange(1, 10), n_bins)\n",
    "    x_rand, y_rand = np.meshgrid(x_rand, y_rand)\n",
    "    # Mean vector and covariance matrix\n",
    "    mu = np.array([0., randrange(1, 3)])\n",
    "    sigma = np.array([[uniform(0.5, 2), -0.5], [-0.5, uniform(0.5, 2)]])\n",
    "    # Pack X and Y into a single 3-dimensional array\n",
    "    pos = np.empty(x_rand.shape + (2,))\n",
    "    pos[:, :, 0] = x_rand\n",
    "    pos[:, :, 1] = y_rand\n",
    "    # The distribution on the variables X, Y packed into pos.\n",
    "    gauss2d = np.append(gauss2d, multivariate_gaussian(pos, mu, sigma))\n",
    "\n",
    "gauss2d = gauss2d.reshape(n_dist, 400)"
   ]
  },
  {
   "cell_type": "code",
   "execution_count": 38,
   "metadata": {},
   "outputs": [
    {
     "data": {
      "image/png": "[encoded data removed]",
      "text/plain": [
       "<Figure size 432x288 with 1 Axes>"
      ]
     },
     "metadata": {
      "needs_background": "light"
     },
     "output_type": "display_data"
    }
   ],
   "source": [
    "plt.imshow(gauss2d[0].reshape(20, 20));"
   ]
  },
  {
   "cell_type": "code",
   "execution_count": 39,
   "metadata": {},
   "outputs": [
    {
     "data": {
      "image/png": "[encoded data removed]",
      "text/plain": [
       "<Figure size 864x720 with 8 Axes>"
      ]
     },
     "metadata": {},
     "output_type": "display_data"
    }
   ],
   "source": [
    "gauss2d_image = gauss2d.reshape(len(gauss2d),20,20)\n",
    "fig = plt.figure(figsize=(12, 10))  # figure size in inches\n",
    "fig.subplots_adjust(left=0, right=0.9, bottom=0, top=1.1, hspace=0.1, wspace=0.1)\n",
    "for i in range(8):\n",
    "    ax = fig.add_subplot(4, 4, i+1 , xticks=[], yticks=[])\n",
    "    ax.imshow(gauss2d_image[randrange(1, len(gauss2d))], interpolation='nearest')"
   ]
  },
  {
   "cell_type": "code",
   "execution_count": 40,
   "metadata": {},
   "outputs": [
    {
     "data": {
      "text/plain": [
       "(10000, 400)"
      ]
     },
     "execution_count": 40,
     "metadata": {},
     "output_type": "execute_result"
    }
   ],
   "source": [
    "gauss2d.shape"
   ]
  },
  {
   "cell_type": "code",
   "execution_count": 41,
   "metadata": {},
   "outputs": [],
   "source": [
    "norm_gauss2d = gauss2d/np.max(gauss2d)"
   ]
  },
  {
   "cell_type": "code",
   "execution_count": 42,
   "metadata": {},
   "outputs": [],
   "source": [
    "noise_images      = gauss2d\n",
    "norm_noise_images = norm_gauss2d"
   ]
  },
  {
   "cell_type": "markdown",
   "metadata": {},
   "source": [
    "### Train the net again:"
   ]
  },
  {
   "cell_type": "code",
   "execution_count": 43,
   "metadata": {},
   "outputs": [],
   "source": [
    "y = np.concatenate((compt_labels,     phot_labels,       noise_labels))\n",
    "x = np.concatenate((norm_phot_images, norm_compt_images, norm_noise_images))\n",
    "\n",
    "c = list(zip(x, y))\n",
    "np.random.shuffle(c)\n",
    "x, y = zip(*c)\n",
    "y = np.array(y)\n",
    "x = np.array(x).astype('float32') \n",
    "#######\n",
    "train_split = 40000\n",
    "#######\n",
    "test_split  = 2000\n",
    "#######\n",
    "\n",
    "y_train = y[:train_split]\n",
    "x_train = x[:train_split]\n",
    "y_val   = y[train_split:len(y) - test_split]\n",
    "x_val   = x[train_split:len(x) - test_split]\n",
    "y_test  = y[len(y)-test_split :]\n",
    "x_test  = x[len(x)-test_split :]"
   ]
  },
  {
   "cell_type": "code",
   "execution_count": 44,
   "metadata": {},
   "outputs": [
    {
     "name": "stdout",
     "output_type": "stream",
     "text": [
      "40000 train samples\n",
      "5176 validation samples\n"
     ]
    },
    {
     "data": {
      "image/png": "[encoded data removed]",
      "text/plain": [
       "<Figure size 432x288 with 1 Axes>"
      ]
     },
     "metadata": {
      "needs_background": "light"
     },
     "output_type": "display_data"
    }
   ],
   "source": [
    "y_train_hot = to_categorical(y_train)\n",
    "y_val_hot   = to_categorical(y_val)\n",
    "y_test_hot  = to_categorical(y_test)\n",
    "\n",
    "print(x_train.shape[0], 'train samples')\n",
    "print(x_val  .shape[0], 'validation samples')\n",
    "plt.plot(x_train[0])\n",
    "plt.plot(x_train[1])\n",
    "plt.plot(x_test [2])\n",
    "plt.show()"
   ]
  },
  {
   "cell_type": "code",
   "execution_count": 45,
   "metadata": {},
   "outputs": [
    {
     "name": "stdout",
     "output_type": "stream",
     "text": [
      "Model: \"sequential_1\"\n",
      "_________________________________________________________________\n",
      "Layer (type)                 Output Shape              Param #   \n",
      "=================================================================\n",
      "conv2d_2 (Conv2D)            (None, 18, 18, 64)        640       \n",
      "_________________________________________________________________\n",
      "max_pooling2d_2 (MaxPooling2 (None, 6, 6, 64)          0         \n",
      "_________________________________________________________________\n",
      "dense_2 (Dense)              (None, 6, 6, 64)          4160      \n",
      "_________________________________________________________________\n",
      "dropout_2 (Dropout)          (None, 6, 6, 64)          0         \n",
      "_________________________________________________________________\n",
      "conv2d_3 (Conv2D)            (None, 3, 3, 256)         262400    \n",
      "_________________________________________________________________\n",
      "max_pooling2d_3 (MaxPooling2 (None, 1, 1, 256)         0         \n",
      "_________________________________________________________________\n",
      "dropout_3 (Dropout)          (None, 1, 1, 256)         0         \n",
      "_________________________________________________________________\n",
      "flatten_1 (Flatten)          (None, 256)               0         \n",
      "_________________________________________________________________\n",
      "dense_3 (Dense)              (None, 3)                 771       \n",
      "=================================================================\n",
      "Total params: 267,971\n",
      "Trainable params: 267,971\n",
      "Non-trainable params: 0\n",
      "_________________________________________________________________\n"
     ]
    }
   ],
   "source": [
    "x_train_cnn = x_train.reshape(-1, 20, 20, 1)\n",
    "x_test_cnn  = x_test .reshape(-1, 20, 20, 1)\n",
    "x_val_cnn   = x_val  .reshape(-1, 20, 20, 1)\n",
    "\n",
    "layer = layers.Dense(\n",
    "    units=64,\n",
    "    kernel_regularizer=regularizers.l1_l2(l1=1e-5, l2=1e-4),\n",
    "    bias_regularizer=regularizers.l2(1e-4),\n",
    "    activity_regularizer=regularizers.l2(1e-5))\n",
    "\n",
    "cnnmodel = Sequential()\n",
    "cnnmodel.add(Conv2D(64, (3, 3), activation='relu', input_shape=(20, 20, 1))) #2D convolution layer\n",
    "cnnmodel.add(MaxPooling2D((3, 3))) #Max pooling operation for 2D spatial data.\n",
    "cnnmodel.add(layer)\n",
    "cnnmodel.add(Dropout(0.4, input_shape=(20,20,1)))\n",
    "cnnmodel.add(Conv2D(256, (4, 4), activation='relu'))\n",
    "cnnmodel.add(MaxPooling2D((2, 2)))\n",
    "cnnmodel.add(Dropout(0.1, input_shape=(20,20,1)))\n",
    "cnnmodel.add(Flatten())\n",
    "cnnmodel.add(Dense(3, activation='softmax'))\n",
    "\n",
    "cnnmodel.compile(loss='categorical_crossentropy',\n",
    "                optimizer='adam', #RMSprop(),\n",
    "                metrics=['accuracy'])\n",
    "\n",
    "cnnmodel.summary()"
   ]
  },
  {
   "cell_type": "code",
   "execution_count": 46,
   "metadata": {},
   "outputs": [
    {
     "name": "stdout",
     "output_type": "stream",
     "text": [
      "Train on 40000 samples, validate on 5176 samples\n",
      "Epoch 1/10\n",
      "40000/40000 [==============================] - 41s 1ms/sample - loss: 0.2446 - accuracy: 0.9273 - val_loss: 0.2091 - val_accuracy: 0.9411\n",
      "Epoch 2/10\n",
      "40000/40000 [==============================] - 39s 965us/sample - loss: 0.1936 - accuracy: 0.9428 - val_loss: 0.1912 - val_accuracy: 0.9405\n",
      "Epoch 3/10\n",
      "40000/40000 [==============================] - 39s 969us/sample - loss: 0.1867 - accuracy: 0.9447 - val_loss: 0.1776 - val_accuracy: 0.9447\n",
      "Epoch 4/10\n",
      "40000/40000 [==============================] - 39s 970us/sample - loss: 0.1832 - accuracy: 0.9452 - val_loss: 0.2128 - val_accuracy: 0.9343\n",
      "Epoch 5/10\n",
      "40000/40000 [==============================] - 39s 977us/sample - loss: 0.1772 - accuracy: 0.9467 - val_loss: 0.1786 - val_accuracy: 0.9451\n",
      "Epoch 6/10\n",
      "40000/40000 [==============================] - 43s 1ms/sample - loss: 0.1771 - accuracy: 0.9470 - val_loss: 0.1741 - val_accuracy: 0.9461\n",
      "Epoch 7/10\n",
      "40000/40000 [==============================] - 41s 1ms/sample - loss: 0.1738 - accuracy: 0.9472 - val_loss: 0.1797 - val_accuracy: 0.9442\n",
      "Epoch 8/10\n",
      "40000/40000 [==============================] - 40s 991us/sample - loss: 0.1738 - accuracy: 0.9471 - val_loss: 0.1729 - val_accuracy: 0.9451\n",
      "Epoch 9/10\n",
      "40000/40000 [==============================] - 40s 988us/sample - loss: 0.1723 - accuracy: 0.9480 - val_loss: 0.1779 - val_accuracy: 0.9476\n",
      "Epoch 10/10\n",
      "40000/40000 [==============================] - 40s 989us/sample - loss: 0.1708 - accuracy: 0.9485 - val_loss: 0.1744 - val_accuracy: 0.9453\n"
     ]
    }
   ],
   "source": [
    "batch_size = 32\n",
    "epochs     = 10\n",
    "\n",
    "history = cnnmodel.fit(x_train_cnn, y_train_hot,\n",
    "                       batch_size=batch_size, \n",
    "                       epochs=epochs,\n",
    "                       verbose=1,\n",
    "                       validation_data=(x_val_cnn, y_val_hot))"
   ]
  },
  {
   "cell_type": "code",
   "execution_count": 47,
   "metadata": {},
   "outputs": [
    {
     "data": {
      "image/png": "[encoded data removed]",
      "text/plain": [
       "<Figure size 1080x360 with 2 Axes>"
      ]
     },
     "metadata": {
      "needs_background": "light"
     },
     "output_type": "display_data"
    }
   ],
   "source": [
    "histplot(history)"
   ]
  },
  {
   "cell_type": "code",
   "execution_count": 48,
   "metadata": {},
   "outputs": [],
   "source": [
    "prediction = []\n",
    "for i in range(len(x_test_cnn)):\n",
    "    img = x_test_cnn[i]\n",
    "    test_image = image.img_to_array(img)\n",
    "    test_image = np.expand_dims(test_image, axis=0)\n",
    "    pred = cnnmodel.predict(test_image)\n",
    "    prediction.append(pred)"
   ]
  },
  {
   "cell_type": "code",
   "execution_count": 49,
   "metadata": {},
   "outputs": [],
   "source": [
    "result=[]\n",
    "for i in range(len(prediction)):\n",
    "    if np.round(prediction[i]).item(0)==1:\n",
    "        result.append(0)\n",
    "    elif np.round(prediction[i]).item(1)==1:\n",
    "        result.append(1)\n",
    "    else:\n",
    "        result.append(2)\n",
    "result = np.array(result)\n",
    "\n",
    "result_translate = ['Compt', 'Phot', 'Noise']\n",
    "result_names = []\n",
    "for i in range(len(result)):\n",
    "    result_names.append(result_translate[result[i]])\n",
    "result_names = np.array(result_names)"
   ]
  },
  {
   "cell_type": "code",
   "execution_count": 50,
   "metadata": {},
   "outputs": [
    {
     "data": {
      "image/png": "[encoded data removed]",
      "text/plain": [
       "<Figure size 1008x936 with 8 Axes>"
      ]
     },
     "metadata": {},
     "output_type": "display_data"
    }
   ],
   "source": [
    "x_test_image = x_test.reshape(len(x_test),20,20)\n",
    "fig = plt.figure(figsize=(14, 13))\n",
    "fig.subplots_adjust(left=0, right=0.9, bottom=0, top=1.1, hspace=0.1, wspace=0.1)\n",
    "for i in range(8):\n",
    "    ax = fig.add_subplot(4, 4, i+1 , xticks=[], yticks=[])\n",
    "    ax.imshow(x_test_image[i], interpolation='nearest')\n",
    "    \n",
    "    # label the image with the target value\n",
    "    ax.set_title(F'Pred.: {result_names[i]}'+ '\\n' F'Real: {result_translate[int(y_test[i])]}', fontsize=14)\n",
    "plt.tick_params()"
   ]
  },
  {
   "cell_type": "code",
   "execution_count": 51,
   "metadata": {},
   "outputs": [
    {
     "name": "stdout",
     "output_type": "stream",
     "text": [
      "------------------------------\n",
      "# CORRECT PREDICTIONS:\n",
      "1892 of total 2000 ---> 94.6 %\n",
      "------------------------------\n"
     ]
    }
   ],
   "source": [
    "true_results = np.equal(y_test, result)\n",
    "percentage   = np.round(sum(true_results)/len(y_test)*100, decimals=2)\n",
    "print('------------------------------')\n",
    "print('# CORRECT PREDICTIONS:')\n",
    "print(f'{sum(true_results)} of total {len(y_test)} ---> {percentage} %')\n",
    "print('------------------------------')"
   ]
  },
  {
   "cell_type": "code",
   "execution_count": null,
   "metadata": {},
   "outputs": [],
   "source": []
  }
 ],
 "metadata": {
  "kernelspec": {
   "display_name": "Python 3",
   "language": "python",
   "name": "python3"
  },
  "language_info": {
   "codemirror_mode": {
    "name": "ipython",
    "version": 3
   },
   "file_extension": ".py",
   "mimetype": "text/x-python",
   "name": "python",
   "nbconvert_exporter": "python",
   "pygments_lexer": "ipython3",
   "version": "3.6.5"
  }
 },
 "nbformat": 4,
 "nbformat_minor": 4
}
