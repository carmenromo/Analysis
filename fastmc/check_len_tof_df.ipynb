{
 "cells": [
  {
   "cell_type": "code",
   "execution_count": 15,
   "metadata": {},
   "outputs": [],
   "source": [
    "import numpy as np\n",
    "from antea.io.mc_io import load_mcTOFsns_response\n",
    "from antea.io.mc_io import load_mcparticles\n",
    "\n",
    "import matplotlib.pyplot as plt"
   ]
  },
  {
   "cell_type": "code",
   "execution_count": 16,
   "metadata": {},
   "outputs": [],
   "source": [
    "filename     = '/Users/carmenromoluque/nexus_petit_analysis/PETit-ring/fastmc/full_body_phantom.10000.pet.h5'\n",
    "tof_response = load_mcTOFsns_response(filename)\n",
    "particles    = load_mcparticles(filename)\n",
    "events       = particles.event_id.unique()\n",
    "\n",
    "max_time_bins = []\n",
    "for evt in events[:]:\n",
    "    evt_tof      = tof_response[tof_response.event_id==evt]\n",
    "    max_time_bin = evt_tof.time_bin.max()\n",
    "    max_time_bins.append(max_time_bin)\n",
    "    \n",
    "mtb = np.array(max_time_bins)"
   ]
  },
  {
   "cell_type": "code",
   "execution_count": 21,
   "metadata": {},
   "outputs": [
    {
     "data": {
      "image/png": "[encoded data removed]",
      "text/plain": [
       "<Figure size 576x432 with 1 Axes>"
      ]
     },
     "metadata": {
      "needs_background": "light"
     },
     "output_type": "display_data"
    }
   ],
   "source": [
    "fig = plt.figure(figsize=(8,6))\n",
    "plt.hist(mtb, 100)\n",
    "plt.show()"
   ]
  }
 ],
 "metadata": {
  "kernelspec": {
   "display_name": "Python 3",
   "language": "python",
   "name": "python3"
  },
  "language_info": {
   "codemirror_mode": {
    "name": "ipython",
    "version": 3
   },
   "file_extension": ".py",
   "mimetype": "text/x-python",
   "name": "python",
   "nbconvert_exporter": "python",
   "pygments_lexer": "ipython3",
   "version": "3.7.1"
  }
 },
 "nbformat": 4,
 "nbformat_minor": 2
}
