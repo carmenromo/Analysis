{
 "cells": [
  {
   "cell_type": "code",
   "execution_count": 1,
   "metadata": {},
   "outputs": [],
   "source": [
    "import os\n",
    "import numpy as np\n",
    "\n",
    "from collections import Counter"
   ]
  },
  {
   "cell_type": "markdown",
   "metadata": {},
   "source": [
    "## Saved events:"
   ]
  },
  {
   "cell_type": "code",
   "execution_count": 2,
   "metadata": {},
   "outputs": [],
   "source": [
    "filespath = '/Users/carmenromoluque/nexus_petit_analysis/full-body-PET/statistics/data_statistics/'\n",
    "fname     = 'full_body_statistics_'\n",
    "\n",
    "depths = [3, 4]\n",
    "\n",
    "saved_events = []\n",
    "for j,d in enumerate(depths):\n",
    "    filename2  = filespath + f'/full_body_depth{d}cm/full_body_{d}cmdepth_counting_evts_0_1000.npz'\n",
    "    data2      = np.load(filename2, allow_pickle=True)\n",
    "    saved_evts = data2['saved_event']\n",
    "    saved_events.append(np.sum(saved_evts))\n",
    "\n",
    "saved_events = np.array(saved_events)"
   ]
  },
  {
   "cell_type": "code",
   "execution_count": 3,
   "metadata": {},
   "outputs": [
    {
     "data": {
      "text/plain": [
       "array([2468980, 3222594])"
      ]
     },
     "execution_count": 3,
     "metadata": {},
     "output_type": "execute_result"
    }
   ],
   "source": [
    "saved_events"
   ]
  },
  {
   "cell_type": "markdown",
   "metadata": {},
   "source": [
    "### Data coincidences"
   ]
  },
  {
   "cell_type": "code",
   "execution_count": 4,
   "metadata": {},
   "outputs": [],
   "source": [
    "#filepath = '/Users/carmenromoluque/nexus_petit_analysis/full-body-PET/4cm_depth/data_statistics_coinc/'\n",
    "filepath = '/Users/carmenromoluque/nexus_petit_analysis/full-body-PET/4cm_depth/'\n",
    "#filepath = '/Users/carmenromoluque/nexus_petit_analysis/full-body-PET/statistics/data_statistics/full_body_depth3cm/data_statistics_coinc/'\n",
    "\n",
    "true_r1, true_phi1, true_z1    = [], [], []\n",
    "true_r2, true_phi2, true_z2    = [], [], []\n",
    "reco_r1, reco_phi1, reco_z1    = [], [], []\n",
    "reco_r2, reco_phi2, reco_z2    = [], [], []\n",
    "touched_sipms1, touched_sipms2 = [], []\n",
    "sns_response1, sns_response2   = [], []\n",
    "true_t1, true_t2               = [], []\n",
    "first_sipm1, first_sipm2       = [], []\n",
    "first_time1, first_time2       = [], []\n",
    "c0, c1, c2, c3, c4             = 0, 0, 0, 0, 0\n",
    "event_ids                      = []\n",
    "\n",
    "#start     = 880\n",
    "#num_files = 120\n",
    "#step      = 10\n",
    "#for number in range(start, start+num_files, step):\n",
    "#        my_file  = f\"{filepath}/full_body_statistics_coinc_reco_info_{number}_{step}_2_4_4_2.npz\"\n",
    "for filename in os.listdir(filepath):\n",
    "    if filename.endswith('2_4_4_2.npz'):\n",
    "        my_file = filepath+filename\n",
    "        d   = np.load(my_file)\n",
    "        #for keys, vals in d.items():\n",
    "        #    print(keys)\n",
    "        \n",
    "        true_r1   = np.concatenate((true_r1,   d['a_true_r1']))\n",
    "        true_phi1 = np.concatenate((true_phi1, d['a_true_phi1']))\n",
    "        true_z1   = np.concatenate((true_z1,   d['a_true_z1']))   \n",
    "            \n",
    "        reco_r1   = np.concatenate((reco_r1,   d['a_reco_r1']))\n",
    "        reco_phi1 = np.concatenate((reco_phi1, d['a_reco_phi1']))  \n",
    "        reco_z1   = np.concatenate((reco_z1,   d['a_reco_z1']))  \n",
    "        \n",
    "        true_r2   = np.concatenate((true_r2,   d['a_true_r2']))\n",
    "        true_phi2 = np.concatenate((true_phi2, d['a_true_phi2']))\n",
    "        true_z2   = np.concatenate((true_z2,   d['a_true_z2']))   \n",
    "            \n",
    "        reco_r2   = np.concatenate((reco_r2,   d['a_reco_r2']))\n",
    "        reco_phi2 = np.concatenate((reco_phi2, d['a_reco_phi2']))  \n",
    "        reco_z2   = np.concatenate((reco_z2,   d['a_reco_z2']))\n",
    "        \n",
    "        true_t1 = np.concatenate((true_t1, d['a_true_time1']))\n",
    "        true_t2 = np.concatenate((true_t2, d['a_true_time2']))\n",
    "        \n",
    "        sns_response1 = np.concatenate((sns_response1, d['a_sns_response1']))\n",
    "        sns_response2 = np.concatenate((sns_response2, d['a_sns_response2']))\n",
    "        \n",
    "        touched_sipms1 = np.concatenate((touched_sipms1, d['a_touched_sipms1']))\n",
    "        touched_sipms2 = np.concatenate((touched_sipms2, d['a_touched_sipms2']))\n",
    "        \n",
    "        first_sipm1 = np.concatenate((first_sipm1, d['a_first_sipm1']))\n",
    "        first_sipm2 = np.concatenate((first_sipm2, d['a_first_sipm2']))\n",
    "        \n",
    "        first_time1 = np.concatenate((first_time1, d['a_first_time1']))\n",
    "        first_time2 = np.concatenate((first_time2, d['a_first_time2']))\n",
    "        \n",
    "        event_ids = np.concatenate((event_ids, d['a_event_ids']))\n",
    "        \n",
    "        c0 += d['c0'] #if len(pos1) == 0 or len(pos2) == 0\n",
    "        c1 += d['c1'] #if len(pos1r) == 0 or len(pos2r) == 0\n",
    "        c2 += d['c2'] #if len(q1phi) == 0 or len(q2phi) == 0\n",
    "        c3 += d['c3'] #if len(q1z) == 0 or len(q2z) == 0\n",
    "        c4 += d['c4'] #if len(q1e) == 0 or len(q2e) == 0\n",
    "\n",
    "        \n",
    "true_r1   = np.array(true_r1)\n",
    "true_phi1 = np.array(true_phi1)\n",
    "true_z1   = np.array(true_z1)\n",
    "\n",
    "reco_r1   = np.array(reco_r1)\n",
    "reco_phi1 = np.array(reco_phi1)\n",
    "reco_z1   = np.array(reco_z1)\n",
    "\n",
    "true_r2   = np.array(true_r2)\n",
    "true_phi2 = np.array(true_phi2)\n",
    "true_z2   = np.array(true_z2)\n",
    "\n",
    "reco_r2   = np.array(reco_r2)\n",
    "reco_phi2 = np.array(reco_phi2)\n",
    "reco_z2   = np.array(reco_z2)\n",
    "\n",
    "true_t1 = np.array(true_t1) \n",
    "true_t2 = np.array(true_t2)\n",
    "\n",
    "first_sipm1 = np.array(first_sipm1)\n",
    "first_sipm2 = np.array(first_sipm2)\n",
    "first_time1 = np.array(first_time1)\n",
    "first_time2 = np.array(first_time2)\n",
    "\n",
    "sns_response1 = np.array(sns_response1)\n",
    "sns_response2 = np.array(sns_response2)\n",
    "\n",
    "event_ids = np.array(event_ids)\n",
    "\n",
    "true_x1 = true_r1 * np.cos(true_phi1)\n",
    "reco_x1 = reco_r1 * np.cos(reco_phi1)\n",
    "true_y1 = true_r1 * np.sin(true_phi1)\n",
    "reco_y1 = reco_r1 * np.sin(reco_phi1)\n",
    "true_x2 = true_r2 * np.cos(true_phi2)\n",
    "reco_x2 = reco_r2 * np.cos(reco_phi2)\n",
    "true_y2 = true_r2 * np.sin(true_phi2)\n",
    "reco_y2 = reco_r2 * np.sin(reco_phi2)"
   ]
  },
  {
   "cell_type": "code",
   "execution_count": 47,
   "metadata": {},
   "outputs": [
    {
     "name": "stdout",
     "output_type": "stream",
     "text": [
      "2214068 0 0 0 0\n"
     ]
    }
   ],
   "source": [
    "print(c0, c1, c2, c3, c4)"
   ]
  },
  {
   "cell_type": "code",
   "execution_count": 48,
   "metadata": {},
   "outputs": [
    {
     "name": "stdout",
     "output_type": "stream",
     "text": [
      "254912 coincidences\n"
     ]
    }
   ],
   "source": [
    "print(len(event_ids), 'coincidences')"
   ]
  },
  {
   "cell_type": "code",
   "execution_count": 49,
   "metadata": {},
   "outputs": [
    {
     "data": {
      "text/plain": [
       "array([22650008., 22650032., 22650046., ..., 14972453., 14972469.,\n",
       "       14972485.])"
      ]
     },
     "execution_count": 49,
     "metadata": {},
     "output_type": "execute_result"
    }
   ],
   "source": [
    "event_ids"
   ]
  },
  {
   "cell_type": "code",
   "execution_count": 50,
   "metadata": {},
   "outputs": [
    {
     "data": {
      "text/plain": [
       "254912"
      ]
     },
     "execution_count": 50,
     "metadata": {},
     "output_type": "execute_result"
    }
   ],
   "source": [
    "len(event_ids)"
   ]
  },
  {
   "cell_type": "markdown",
   "metadata": {},
   "source": [
    "### Data statistics events:"
   ]
  },
  {
   "cell_type": "code",
   "execution_count": 8,
   "metadata": {},
   "outputs": [
    {
     "name": "stdout",
     "output_type": "stream",
     "text": [
      "full_body_statistics_0_10_2.npz\n"
     ]
    }
   ],
   "source": [
    "#filepath = '/Users/carmenromoluque/nexus_petit_analysis/full-body-PET/4cm_depth/data_statistics_evts/'\n",
    "filepath = '/Users/carmenromoluque/nexus_petit_analysis/full-body-PET/statistics/data_statistics/full_body_depth4cm/'\n",
    "#filepath = '/Users/carmenromoluque/nexus_petit_analysis/full-body-PET/statistics/data_statistics/full_body_depth3cm/data_statistics_evts/'\n",
    "\n",
    "evt_ids            = []\n",
    "compt_events       = []\n",
    "dist_first_hit_ave = []\n",
    "phot_events        = []\n",
    "\n",
    "#start     = 880\n",
    "#num_files = 120\n",
    "#step      = 1\n",
    "#for number in range(start, start+num_files, step):\n",
    "#        my_file  = f\"{filepath}/full_body_statistics_{number}_{step}_2.npz\"        \n",
    "for filename in os.listdir(filepath):\n",
    "    if filename.endswith('0_10_2.npz'):\n",
    "        print(filename)\n",
    "        my_file = filepath+filename\n",
    "        d   = np.load(my_file)\n",
    "        #for keys, vals in d.items():\n",
    "        #    print(keys)\n",
    "        evt_ids            = np.concatenate((evt_ids    , d['evt_ids']))\n",
    "        phot_events        = np.concatenate((phot_events, d['phot_events']))\n",
    "        for i in d['compt_events']:\n",
    "            compt_events.append(i)\n",
    "        for i in d['dist_first_hit_ave']:\n",
    "            dist_first_hit_ave.append(i)\n",
    "\n",
    "evt_ids            = np.array(evt_ids           )\n",
    "compt_events       = np.array(compt_events      )\n",
    "dist_first_hit_ave = np.array(dist_first_hit_ave)\n",
    "phot_events        = np.array(phot_events       )"
   ]
  },
  {
   "cell_type": "code",
   "execution_count": 9,
   "metadata": {},
   "outputs": [
    {
     "name": "stdout",
     "output_type": "stream",
     "text": [
      "3163 3163 3163 3163\n"
     ]
    }
   ],
   "source": [
    "print(len(evt_ids), len(compt_events), len(dist_first_hit_ave), len(phot_events))"
   ]
  },
  {
   "cell_type": "code",
   "execution_count": 10,
   "metadata": {},
   "outputs": [
    {
     "ename": "AssertionError",
     "evalue": "",
     "output_type": "error",
     "traceback": [
      "\u001b[0;31m---------------------------------------------------------------------------\u001b[0m",
      "\u001b[0;31mAssertionError\u001b[0m                            Traceback (most recent call last)",
      "\u001b[0;32m<ipython-input-10-ec3e4aacd19d>\u001b[0m in \u001b[0;36m<module>\u001b[0;34m\u001b[0m\n\u001b[0;32m----> 1\u001b[0;31m \u001b[0;32massert\u001b[0m \u001b[0mevt_ids\u001b[0m\u001b[0;34m.\u001b[0m\u001b[0mall\u001b[0m\u001b[0;34m(\u001b[0m\u001b[0;34m)\u001b[0m \u001b[0;34m==\u001b[0m \u001b[0mevent_ids\u001b[0m\u001b[0;34m.\u001b[0m\u001b[0mall\u001b[0m\u001b[0;34m(\u001b[0m\u001b[0;34m)\u001b[0m\u001b[0;34m\u001b[0m\u001b[0;34m\u001b[0m\u001b[0m\n\u001b[0m",
      "\u001b[0;31mAssertionError\u001b[0m: "
     ]
    }
   ],
   "source": [
    "assert evt_ids.all() == event_ids.all()"
   ]
  },
  {
   "cell_type": "code",
   "execution_count": 11,
   "metadata": {},
   "outputs": [
    {
     "data": {
      "text/plain": [
       "array([0.00000e+00, 2.00000e+00, 1.10000e+01, ..., 2.73061e+05,\n",
       "       2.73073e+05, 2.73098e+05])"
      ]
     },
     "execution_count": 11,
     "metadata": {},
     "output_type": "execute_result"
    }
   ],
   "source": [
    "np.setdiff1d(evt_ids, event_ids)"
   ]
  },
  {
   "cell_type": "code",
   "execution_count": 55,
   "metadata": {},
   "outputs": [
    {
     "name": "stdout",
     "output_type": "stream",
     "text": [
      "254912 254912\n"
     ]
    }
   ],
   "source": [
    "print(len(evt_ids), len(event_ids))"
   ]
  },
  {
   "cell_type": "code",
   "execution_count": 57,
   "metadata": {},
   "outputs": [
    {
     "data": {
      "text/plain": [
       "10.32458748147008"
      ]
     },
     "execution_count": 57,
     "metadata": {},
     "output_type": "execute_result"
    }
   ],
   "source": [
    "len(evt_ids)*100/saved_events[0]"
   ]
  },
  {
   "cell_type": "markdown",
   "metadata": {},
   "source": [
    "## Phot"
   ]
  },
  {
   "cell_type": "code",
   "execution_count": 56,
   "metadata": {},
   "outputs": [
    {
     "data": {
      "text/plain": [
       "Counter({0.0: 149803, 1.0: 91272, 2.0: 13837})"
      ]
     },
     "execution_count": 56,
     "metadata": {},
     "output_type": "execute_result"
    }
   ],
   "source": [
    "Counter(np.sort(phot_events))"
   ]
  },
  {
   "cell_type": "markdown",
   "metadata": {},
   "source": [
    "## Is there any true phot evt which has been labeled as compt?"
   ]
  },
  {
   "cell_type": "code",
   "execution_count": 58,
   "metadata": {},
   "outputs": [
    {
     "name": "stdout",
     "output_type": "stream",
     "text": [
      "[ True False] 7861218.0 [0.00028669 0.        ]\n",
      "[ True False] 7922360.0 [0.00025269 0.        ]\n",
      "[ True False] 7950500.0 [6.99245575e-05 0.00000000e+00]\n",
      "[ True False] 630161.0 [9.28155932e-05 0.00000000e+00]\n",
      "[ True False] 28710544.0 [6.13027878e-05 0.00000000e+00]\n",
      "[ True False] 24480932.0 [0.00015561 0.        ]\n",
      "[ True False] 9752075.0 [0. 0.]\n",
      "[ True False] 20971025.0 [7.03654005e-05 0.00000000e+00]\n",
      "[ True False] 13561434.0 [7.62939453e-05 0.00000000e+00]\n",
      "[ True False] 13681623.0 [0.00050906 0.        ]\n",
      "[ True False] 13770846.0 [1.7059845e-05 0.0000000e+00]\n",
      "[ True False] 19260624.0 [5.70931625e-05 0.00000000e+00]\n",
      "[ True False] 19351671.0 [0. 0.]\n",
      "[ True False] 21030739.0 [0. 0.]\n",
      "[ True False] 21211640.0 [0.00060484 0.        ]\n",
      "[ True False] 4770272.0 [0. 0.]\n",
      "[ True False] 27960265.0 [0. 0.]\n",
      "[ True False] 27991767.0 [0. 0.]\n",
      "[ True False] 1201991.0 [0.00011899 0.        ]\n",
      "[ True False] 26161049.0 [5.95874772e-05 0.00000000e+00]\n",
      "[ True False] 26221715.0 [0.00020243 0.        ]\n",
      "[ True False] 18811860.0 [0.00035803 0.        ]\n",
      "[ True False] 18841295.0 [0.001043 0.      ]\n",
      "[ True False] 18871963.0 [0.0004996 0.       ]\n",
      "[ True False] 11790123.0 [0.00192873 0.        ]\n",
      "[ True False] 11821965.0 [0.00012302 0.        ]\n",
      "[ True False] 11911133.0 [9.13140029e-05 0.00000000e+00]\n",
      "[ True False] 13021844.0 [0.00027508 0.        ]\n",
      "[ True False] 13171934.0 [0. 0.]\n",
      "[ True False] 14730707.0 [0.00052913 0.        ]\n",
      "[ True False] 14942450.0 [0.00112297 0.        ]\n",
      "[ True False] 24120443.0 [0.00051157 0.        ]\n",
      "[ True False] 9931334.0 [0. 0.]\n",
      "[ True False] 10021413.0 [0.00147261 0.        ]\n",
      "[ True False] 8220211.0 [0. 0.]\n",
      "[ True False] 28261228.0 [0.0003864 0.       ]\n",
      "[ True False] 28351971.0 [0.00068648 0.        ]\n",
      "[ True False] 28470280.0 [3.73762487e-05 0.00000000e+00]\n",
      "[ True False] 1050719.0 [9.28155932e-05 0.00000000e+00]\n",
      "[ True False] 1080013.0 [0.00036987 0.        ]\n",
      "[ True False] 1111776.0 [0.00015429 0.        ]\n",
      "[ True False] 20610828.0 [0.00204 0.     ]\n",
      "[ True False] 3721818.0 [0.00010681 0.        ]\n",
      "[ True False] 3811438.0 [0.00071505 0.        ]\n",
      "[ True False] 13320939.0 [1.52587891e-05 0.00000000e+00]\n",
      "[ True False] 15182093.0 [4.71851999e-05 0.00000000e+00]\n",
      "[ True False] 21301562.0 [0.00036875 0.        ]\n",
      "[ True False] 19562186.0 [4.31583721e-05 0.00000000e+00]\n",
      "[ True False] 19592283.0 [4.88519618e-05 0.00000000e+00]\n",
      "[ True False] 4262048.0 [0.00090851 0.        ]\n",
      "[ True False] 10622298.0 [3.81469727e-06 0.00000000e+00]\n",
      "[ True False] 26041937.0 [9.77039235e-05 0.00000000e+00]\n",
      "[ True False] 26071037.0 [0. 0.]\n",
      "[ True False] 27601602.0 [5.97094586e-05 0.00000000e+00]\n",
      "[ True False] 6480682.0 [0.00073084 0.        ]\n",
      "[ True False] 23161083.0 [3.41196901e-05 0.00000000e+00]\n",
      "[ True False] 5701989.0 [0. 0.]\n",
      "[ True False] 18901382.0 [0.00051925 0.        ]\n",
      "[ True False] 18992018.0 [0.00032584 0.        ]\n",
      "[ True False] 19050049.0 [0. 0.]\n",
      "[ True False] 11611819.0 [0.00019778 0.        ]\n",
      "[ True False] 12870808.0 [0.00023552 0.        ]\n",
      "[ True False] 2432252.0 [0. 0.]\n",
      "[ True False] 2461218.0 [6.29135975e-05 0.00000000e+00]\n",
      "[ True False] 7232344.0 [0. 0.]\n",
      "[ True False] 25170392.0 [9.77039235e-05 0.00000000e+00]\n",
      "[ True False] 25170835.0 [0.00036945 0.        ]\n",
      "[ True False] 19891794.0 [0. 0.]\n",
      "[ True False] 91208.0 [0.00064724 0.        ]\n",
      "[ True False] 211512.0 [0.00014794 0.        ]\n",
      "[ True False] 21750599.0 [6.82393802e-05 0.00000000e+00]\n",
      "[ True False] 21841938.0 [0.00073791 0.        ]\n",
      "[ True False] 8761510.0 [0.00089807 0.        ]\n",
      "[ True False] 8851104.0 [0. 0.]\n",
      "[ True False] 16022142.0 [0.00045291 0.        ]\n",
      "[ True False] 16022369.0 [4.57763672e-05 0.00000000e+00]\n",
      "[ True False] 14370615.0 [0.00026252 0.        ]\n",
      "[ True False] 27540340.0 [3.41196901e-05 0.00000000e+00]\n",
      "[ True False] 1951849.0 [0.00015048 0.        ]\n",
      "[ True False] 10920459.0 [0.00010681 0.        ]\n",
      "[ True False] 11071829.0 [0.0007097 0.       ]\n",
      "[ True False] 25531102.0 [0.00043266 0.        ]\n",
      "[ True False] 25531392.0 [0.00027939 0.        ]\n",
      "[ True False] 25590026.0 [0.00011577 0.        ]\n",
      "[ True False] 25771680.0 [0.0015516 0.       ]\n",
      "[ True False] 5372477.0 [0.00047431 0.        ]\n",
      "[ True False] 23700650.0 [0. 0.]\n",
      "[ True False] 23880819.0 [0.00013324 0.        ]\n",
      "[ True False] 23971961.0 [2.15791861e-05 0.00000000e+00]\n",
      "[ True False] 16622366.0 [0.00032441 0.        ]\n",
      "[ True False] 22200184.0 [9.09947266e-05 0.00000000e+00]\n",
      "[ True False] 22351011.0 [0. 0.]\n",
      "[ True False] 3032010.0 [0. 0.]\n",
      "[ True False] 9361390.0 [7.99324698e-05 0.00000000e+00]\n",
      "[ True False] 7501635.0 [4.38275347e-05 0.00000000e+00]\n",
      "[ True False] 7531307.0 [0.0002879 0.       ]\n",
      "[ True False] 7532228.0 [3.73762487e-05 0.00000000e+00]\n",
      "[ True False] 7681556.0 [0. 0.]\n",
      "[ True False] 28950400.0 [0.00016585 0.        ]\n",
      "[ True False] 301865.0 [0. 0.]\n",
      "[ True False] 391552.0 [0.00072379 0.        ]\n",
      "[ True False] 420698.0 [1.7167793e-05 0.0000000e+00]\n",
      "[ True False] 21901145.0 [0. 0.]\n",
      "[ True False] 13830798.0 [0.00024604 0.        ]\n",
      "[ True False] 13892148.0 [0.00036914 0.        ]\n",
      "[ True False] 8522167.0 [0.00035988 0.        ]\n",
      "[ True False] 15841817.0 [0.00051813 0.        ]\n",
      "[ True False] 11102287.0 [7.47524973e-05 0.00000000e+00]\n",
      "[ True False] 11131781.0 [3.07550727e-05 0.00000000e+00]\n",
      "[ True False] 2131025.0 [0.00033388 0.        ]\n",
      "[ True False] 2190797.0 [0.00016434 0.        ]\n",
      "[ True False] 7081690.0 [0. 0.]\n",
      "[ True False] 23402243.0 [4.36716182e-05 0.00000000e+00]\n",
      "[ True False] 23460901.0 [0.00013109 0.        ]\n",
      "[ True False] 23461181.0 [0.00057297 0.        ]\n",
      "[ True False] 4951024.0 [2.15791861e-05 0.00000000e+00]\n",
      "[ True False] 5070575.0 [3.05175781e-05 0.00000000e+00]\n",
      "[ True False] 26911092.0 [0. 0.]\n",
      "[ True False] 12121650.0 [0.00011942 0.        ]\n",
      "[ True False] 12152238.0 [0.00034929 0.        ]\n",
      "120\n"
     ]
    }
   ],
   "source": [
    "num0 = 0\n",
    "for ph, comp, evt, dist in zip(phot_events, compt_events, evt_ids, dist_first_hit_ave):\n",
    "    if ph==2:\n",
    "        if comp[0]==True or comp[1]==True:\n",
    "            num0 += 1\n",
    "            print(comp, evt, dist)\n",
    "print(num0)"
   ]
  },
  {
   "cell_type": "markdown",
   "metadata": {},
   "source": [
    "## Percentages:"
   ]
  },
  {
   "cell_type": "code",
   "execution_count": 169,
   "metadata": {},
   "outputs": [
    {
     "data": {
      "text/plain": [
       "9.775168699501085"
      ]
     },
     "execution_count": 169,
     "metadata": {},
     "output_type": "execute_result"
    }
   ],
   "source": [
    "100*len(evt_ids)/saved_events[1]"
   ]
  },
  {
   "cell_type": "markdown",
   "metadata": {},
   "source": [
    "#### Single phot + compt (compt or phot like)"
   ]
  },
  {
   "cell_type": "code",
   "execution_count": 173,
   "metadata": {},
   "outputs": [],
   "source": [
    "single_sel     = (phot_events == 1)\n",
    "compt_sing_sel = compt_events[single_sel]"
   ]
  },
  {
   "cell_type": "code",
   "execution_count": 174,
   "metadata": {},
   "outputs": [
    {
     "data": {
      "text/plain": [
       "110511"
      ]
     },
     "execution_count": 174,
     "metadata": {},
     "output_type": "execute_result"
    }
   ],
   "source": [
    "len(compt_sing_sel)"
   ]
  },
  {
   "cell_type": "code",
   "execution_count": 181,
   "metadata": {},
   "outputs": [
    {
     "name": "stdout",
     "output_type": "stream",
     "text": [
      "98421\n",
      "single Compton 33891\n",
      "single phot-like 64530\n"
     ]
    }
   ],
   "source": [
    "num1 = 0\n",
    "single_com = 0\n",
    "single_phot_like = 0\n",
    "for com,d in zip(compt_sing_sel, dist_first_hit_ave):\n",
    "    if com[0]==True and com[1]==True:\n",
    "        continue\n",
    "    elif com[0]==True or com[1]==True:\n",
    "        num1 += 1\n",
    "    if com[0]==True:\n",
    "        if d[0] > 1:\n",
    "            single_com += 1\n",
    "        else:\n",
    "            single_phot_like += 1\n",
    "    if com[1]==True:\n",
    "        if d[1] > 1:\n",
    "            single_com += 1\n",
    "        else:\n",
    "            single_phot_like += 1\n",
    "            \n",
    "print(num1)\n",
    "print('single Compton', single_com      )\n",
    "print('single phot-like', single_phot_like)"
   ]
  },
  {
   "cell_type": "code",
   "execution_count": 190,
   "metadata": {},
   "outputs": [
    {
     "data": {
      "text/plain": [
       "48.25690286780905"
      ]
     },
     "execution_count": 190,
     "metadata": {},
     "output_type": "execute_result"
    }
   ],
   "source": [
    "num2*100/len(evt_ids)"
   ]
  },
  {
   "cell_type": "code",
   "execution_count": 179,
   "metadata": {},
   "outputs": [
    {
     "data": {
      "text/plain": [
       "98421"
      ]
     },
     "execution_count": 179,
     "metadata": {},
     "output_type": "execute_result"
    }
   ],
   "source": [
    "33891 + 64530"
   ]
  },
  {
   "cell_type": "code",
   "execution_count": 185,
   "metadata": {},
   "outputs": [
    {
     "data": {
      "text/plain": [
       "10.757407870271587"
      ]
     },
     "execution_count": 185,
     "metadata": {},
     "output_type": "execute_result"
    }
   ],
   "source": [
    "33891 * 31.24/98421 # + 20.48"
   ]
  },
  {
   "cell_type": "code",
   "execution_count": 197,
   "metadata": {},
   "outputs": [
    {
     "name": "stdout",
     "output_type": "stream",
     "text": [
      "29328\n"
     ]
    }
   ],
   "source": [
    "num2 = 0\n",
    "doubl_no_comp_sel = []\n",
    "for com in compt_events:\n",
    "    if com[0]==False and com[1]==False:\n",
    "        num2 += 1\n",
    "        doubl_no_comp_sel.append(True)\n",
    "    else:\n",
    "        doubl_no_comp_sel.append(False)\n",
    "            \n",
    "print(num2)"
   ]
  },
  {
   "cell_type": "code",
   "execution_count": 198,
   "metadata": {},
   "outputs": [],
   "source": [
    "phot_no_comp_sel  = phot_events[doubl_no_comp_sel]"
   ]
  },
  {
   "cell_type": "code",
   "execution_count": 200,
   "metadata": {},
   "outputs": [
    {
     "data": {
      "text/plain": [
       "Counter({0.0: 1994, 1.0: 11466, 2.0: 15868})"
      ]
     },
     "execution_count": 200,
     "metadata": {},
     "output_type": "execute_result"
    }
   ],
   "source": [
    "Counter(np.sort(phot_no_comp_sel))"
   ]
  },
  {
   "cell_type": "code",
   "execution_count": 31,
   "metadata": {},
   "outputs": [
    {
     "data": {
      "text/plain": [
       "12.064860609369742"
      ]
     },
     "execution_count": 31,
     "metadata": {},
     "output_type": "execute_result"
    }
   ],
   "source": [
    "38006*100/len(evt_ids)"
   ]
  },
  {
   "cell_type": "markdown",
   "metadata": {},
   "source": [
    "## Single phot + Compt"
   ]
  },
  {
   "cell_type": "code",
   "execution_count": 13,
   "metadata": {},
   "outputs": [
    {
     "name": "stdout",
     "output_type": "stream",
     "text": [
      "30.0 phot-like\n",
      "42.0 compt\n",
      "87.0 phot-like\n",
      "130.0 compt\n",
      "144.0 phot-like\n",
      "146.0 compt\n",
      "162.0 phot-like\n",
      "166.0 phot-like\n",
      "189.0 compt\n",
      "217.0 compt\n",
      "220.0 phot-like\n",
      "243.0 phot-like\n",
      "245.0 phot-like\n",
      "262.0 compt\n",
      "267.0 phot-like\n",
      "287.0 compt\n",
      "343.0 compt\n",
      "454.0 phot-like\n",
      "488.0 phot-like\n",
      "535.0 phot-like\n",
      "543.0 phot-like\n",
      "558.0 compt\n",
      "559.0 phot-like\n",
      "620.0 compt\n",
      "650.0 phot-like\n",
      "718.0 phot-like\n",
      "742.0 phot-like\n",
      "862.0 compt\n",
      "918.0 compt\n",
      "932.0 phot-like\n",
      "977.0 compt\n",
      "1020.0 phot-like\n",
      "1051.0 compt\n",
      "1068.0 phot-like\n",
      "1083.0 phot-like\n",
      "1187.0 phot-like\n",
      "1215.0 phot-like\n",
      "1261.0 phot-like\n",
      "1270.0 phot-like\n",
      "1323.0 phot-like\n",
      "1364.0 phot-like\n",
      "1387.0 compt\n",
      "1476.0 phot-like\n",
      "1490.0 compt\n",
      "1491.0 compt\n",
      "1497.0 compt\n",
      "1499.0 phot-like\n",
      "1504.0 phot-like\n",
      "1540.0 phot-like\n",
      "1542.0 phot-like\n",
      "1561.0 compt\n",
      "1578.0 phot-like\n",
      "1592.0 phot-like\n",
      "1627.0 compt\n",
      "1715.0 compt\n",
      "1717.0 phot-like\n",
      "1734.0 compt\n",
      "1749.0 compt\n",
      "1757.0 compt\n",
      "1779.0 phot-like\n",
      "1796.0 phot-like\n",
      "1836.0 compt\n",
      "1839.0 compt\n",
      "1842.0 phot-like\n",
      "1862.0 compt\n",
      "1894.0 compt\n",
      "1919.0 compt\n",
      "2015.0 compt\n",
      "2064.0 phot-like\n",
      "2125.0 phot-like\n",
      "2153.0 phot-like\n",
      "2160.0 phot-like\n",
      "2164.0 phot-like\n",
      "2214.0 phot-like\n",
      "2237.0 compt\n",
      "2326.0 compt\n",
      "2333.0 compt\n",
      "2394.0 compt\n",
      "2467.0 phot-like\n",
      "2471.0 phot-like\n",
      "2481.0 compt\n",
      "2502.0 phot-like\n",
      "2518.0 compt\n",
      "2562.0 compt\n",
      "2564.0 phot-like\n",
      "2599.0 phot-like\n",
      "2663.0 compt\n",
      "2794.0 phot-like\n",
      "2827.0 phot-like\n",
      "2869.0 compt\n",
      "2882.0 compt\n",
      "2885.0 phot-like\n",
      "2895.0 phot-like\n",
      "2949.0 phot-like\n",
      "2951.0 phot-like\n",
      "2999.0 phot-like\n",
      "3048.0 phot-like\n",
      "3056.0 phot-like\n",
      "3068.0 phot-like\n",
      "3095.0 phot-like\n",
      "3132.0 compt\n",
      "3136.0 phot-like\n",
      "3150.0 phot-like\n",
      "3212.0 phot-like\n",
      "3225.0 phot-like\n",
      "30007.0 phot-like\n",
      "30011.0 phot-like\n",
      "30022.0 phot-like\n",
      "30038.0 phot-like\n",
      "30043.0 phot-like\n",
      "30107.0 compt\n",
      "30121.0 phot-like\n",
      "30149.0 compt\n",
      "30181.0 compt\n",
      "30288.0 compt\n",
      "30303.0 phot-like\n",
      "30307.0 phot-like\n",
      "30322.0 compt\n",
      "30330.0 phot-like\n",
      "30383.0 phot-like\n",
      "30403.0 phot-like\n",
      "30448.0 compt\n",
      "30500.0 phot-like\n",
      "30536.0 phot-like\n",
      "30564.0 phot-like\n",
      "30567.0 phot-like\n",
      "30568.0 compt\n",
      "30624.0 compt\n",
      "30641.0 compt\n",
      "30649.0 compt\n",
      "30654.0 compt\n",
      "30659.0 phot-like\n",
      "30726.0 phot-like\n",
      "30812.0 phot-like\n",
      "30856.0 compt\n",
      "30880.0 phot-like\n",
      "30896.0 phot-like\n",
      "30908.0 phot-like\n",
      "30954.0 compt\n",
      "30965.0 phot-like\n",
      "30971.0 compt\n",
      "30974.0 phot-like\n",
      "30992.0 phot-like\n",
      "31030.0 phot-like\n",
      "31091.0 phot-like\n",
      "31117.0 phot-like\n",
      "31124.0 phot-like\n",
      "31154.0 compt\n",
      "31156.0 compt\n",
      "31173.0 phot-like\n",
      "31193.0 compt\n",
      "31260.0 phot-like\n",
      "31261.0 phot-like\n",
      "31317.0 phot-like\n",
      "31347.0 phot-like\n",
      "31370.0 phot-like\n",
      "31382.0 phot-like\n",
      "31440.0 phot-like\n",
      "31449.0 phot-like\n",
      "31452.0 phot-like\n",
      "31453.0 compt\n",
      "31491.0 phot-like\n",
      "31554.0 phot-like\n",
      "31561.0 phot-like\n",
      "31576.0 compt\n",
      "31577.0 phot-like\n",
      "31581.0 compt\n",
      "31597.0 phot-like\n",
      "31697.0 phot-like\n",
      "31728.0 compt\n",
      "31748.0 phot-like\n",
      "31801.0 phot-like\n",
      "31810.0 phot-like\n",
      "31821.0 phot-like\n",
      "31837.0 phot-like\n",
      "31848.0 compt\n",
      "31860.0 phot-like\n",
      "31878.0 phot-like\n",
      "31943.0 phot-like\n",
      "31956.0 phot-like\n",
      "32035.0 compt\n",
      "32140.0 phot-like\n",
      "32157.0 phot-like\n",
      "32160.0 phot-like\n",
      "32168.0 compt\n",
      "32198.0 compt\n",
      "32206.0 phot-like\n",
      "32222.0 compt\n",
      "32257.0 phot-like\n",
      "32274.0 compt\n",
      "32299.0 phot-like\n",
      "32343.0 compt\n",
      "32364.0 phot-like\n",
      "32371.0 phot-like\n",
      "32379.0 compt\n",
      "32413.0 compt\n",
      "32421.0 phot-like\n",
      "32422.0 phot-like\n",
      "32491.0 phot-like\n",
      "32507.0 phot-like\n",
      "32567.0 phot-like\n",
      "32574.0 phot-like\n",
      "32616.0 phot-like\n",
      "32625.0 phot-like\n",
      "32680.0 compt\n",
      "32703.0 phot-like\n",
      "32776.0 compt\n",
      "32784.0 phot-like\n",
      "32799.0 phot-like\n",
      "32805.0 phot-like\n",
      "32818.0 compt\n",
      "32828.0 phot-like\n",
      "32901.0 compt\n",
      "32933.0 compt\n",
      "32938.0 phot-like\n",
      "32949.0 phot-like\n",
      "32968.0 compt\n",
      "32977.0 phot-like\n",
      "33006.0 compt\n",
      "33021.0 phot-like\n",
      "33026.0 compt\n",
      "33035.0 phot-like\n",
      "33045.0 compt\n",
      "33057.0 compt\n",
      "33068.0 phot-like\n",
      "33098.0 phot-like\n",
      "33109.0 phot-like\n",
      "33126.0 phot-like\n",
      "33132.0 phot-like\n",
      "60007.0 phot-like\n",
      "60046.0 compt\n",
      "60047.0 phot-like\n",
      "60048.0 compt\n",
      "60191.0 compt\n",
      "60204.0 phot-like\n",
      "60221.0 phot-like\n",
      "60307.0 phot-like\n",
      "60348.0 compt\n",
      "60398.0 phot-like\n",
      "60402.0 phot-like\n",
      "60428.0 phot-like\n",
      "60458.0 phot-like\n",
      "60464.0 compt\n",
      "60480.0 phot-like\n",
      "60520.0 phot-like\n",
      "60528.0 phot-like\n",
      "60531.0 phot-like\n",
      "60561.0 phot-like\n",
      "60602.0 phot-like\n",
      "60684.0 phot-like\n",
      "60698.0 phot-like\n",
      "60724.0 compt\n",
      "60730.0 phot-like\n",
      "60738.0 phot-like\n",
      "60756.0 phot-like\n",
      "60784.0 compt\n",
      "60819.0 phot-like\n",
      "60844.0 phot-like\n",
      "60849.0 phot-like\n",
      "60856.0 phot-like\n",
      "60874.0 phot-like\n",
      "60925.0 compt\n",
      "60981.0 compt\n",
      "60991.0 phot-like\n",
      "61087.0 compt\n",
      "61098.0 phot-like\n",
      "61177.0 phot-like\n",
      "61199.0 phot-like\n",
      "61207.0 phot-like\n",
      "61210.0 phot-like\n",
      "61271.0 phot-like\n",
      "61294.0 compt\n",
      "61385.0 phot-like\n",
      "61408.0 compt\n",
      "61472.0 phot-like\n",
      "61508.0 phot-like\n",
      "61536.0 phot-like\n",
      "61595.0 phot-like\n",
      "61621.0 phot-like\n",
      "61687.0 phot-like\n",
      "61741.0 phot-like\n",
      "61755.0 phot-like\n",
      "61787.0 compt\n",
      "61833.0 phot-like\n",
      "61856.0 compt\n",
      "61905.0 phot-like\n",
      "61927.0 compt\n",
      "62029.0 phot-like\n",
      "62030.0 phot-like\n",
      "62040.0 compt\n",
      "62073.0 phot-like\n",
      "62122.0 compt\n",
      "62181.0 phot-like\n",
      "62250.0 compt\n",
      "62254.0 phot-like\n",
      "62282.0 compt\n",
      "62427.0 phot-like\n",
      "62460.0 phot-like\n",
      "62473.0 compt\n",
      "62490.0 compt\n",
      "62498.0 compt\n",
      "62639.0 phot-like\n",
      "62666.0 phot-like\n",
      "62690.0 phot-like\n",
      "62730.0 compt\n",
      "62746.0 phot-like\n",
      "62748.0 phot-like\n",
      "62838.0 compt\n",
      "62887.0 compt\n",
      "62899.0 phot-like\n",
      "62930.0 compt\n",
      "62934.0 compt\n",
      "62940.0 phot-like\n",
      "62951.0 compt\n",
      "62988.0 phot-like\n",
      "62999.0 phot-like\n",
      "63033.0 phot-like\n",
      "63047.0 phot-like\n",
      "63049.0 compt\n",
      "63108.0 compt\n",
      "63124.0 compt\n",
      "63149.0 phot-like\n",
      "63192.0 compt\n",
      "63223.0 phot-like\n",
      "63236.0 phot-like\n",
      "90000.0 phot-like\n",
      "90004.0 phot-like\n",
      "90017.0 phot-like\n",
      "90032.0 phot-like\n",
      "90050.0 compt\n",
      "90056.0 phot-like\n",
      "90110.0 phot-like\n",
      "90163.0 compt\n",
      "90206.0 compt\n",
      "90213.0 compt\n",
      "90219.0 phot-like\n",
      "90223.0 phot-like\n",
      "90251.0 phot-like\n",
      "90375.0 phot-like\n",
      "90402.0 phot-like\n",
      "90453.0 compt\n",
      "90546.0 compt\n",
      "90552.0 compt\n",
      "90629.0 compt\n",
      "90634.0 compt\n",
      "90661.0 phot-like\n",
      "90689.0 phot-like\n",
      "90735.0 phot-like\n",
      "90753.0 phot-like\n",
      "90907.0 phot-like\n",
      "90958.0 phot-like\n",
      "90993.0 phot-like\n",
      "91006.0 phot-like\n",
      "91007.0 phot-like\n",
      "91009.0 compt\n",
      "91021.0 phot-like\n",
      "91023.0 compt\n",
      "91054.0 phot-like\n",
      "91059.0 phot-like\n",
      "91064.0 phot-like\n",
      "91092.0 phot-like\n",
      "91093.0 phot-like\n",
      "91105.0 phot-like\n",
      "91108.0 phot-like\n",
      "91138.0 compt\n",
      "91150.0 compt\n",
      "91188.0 phot-like\n",
      "91202.0 phot-like\n",
      "91230.0 compt\n",
      "91306.0 compt\n",
      "91332.0 phot-like\n",
      "91360.0 phot-like\n",
      "91366.0 phot-like\n",
      "91373.0 compt\n",
      "91379.0 compt\n",
      "91384.0 compt\n",
      "91401.0 phot-like\n",
      "91413.0 compt\n",
      "91427.0 phot-like\n",
      "91436.0 compt\n",
      "91446.0 compt\n",
      "91489.0 phot-like\n",
      "91537.0 phot-like\n",
      "91547.0 phot-like\n",
      "91558.0 compt\n",
      "91641.0 phot-like\n",
      "91666.0 compt\n",
      "91674.0 phot-like\n",
      "91684.0 phot-like\n",
      "91705.0 phot-like\n",
      "91727.0 phot-like\n",
      "91738.0 compt\n",
      "91741.0 compt\n",
      "91793.0 compt\n",
      "91817.0 compt\n",
      "91866.0 phot-like\n",
      "91880.0 compt\n",
      "91884.0 phot-like\n",
      "91917.0 compt\n",
      "91988.0 compt\n",
      "92003.0 compt\n",
      "92014.0 compt\n",
      "92073.0 compt\n",
      "92087.0 phot-like\n",
      "92092.0 compt\n",
      "92171.0 phot-like\n",
      "92250.0 phot-like\n",
      "92280.0 phot-like\n",
      "92333.0 phot-like\n",
      "92377.0 phot-like\n",
      "92403.0 phot-like\n",
      "92408.0 phot-like\n",
      "92411.0 compt\n",
      "92551.0 compt\n",
      "92553.0 phot-like\n",
      "92583.0 phot-like\n",
      "92587.0 phot-like\n",
      "92612.0 phot-like\n",
      "92620.0 phot-like\n",
      "92622.0 compt\n",
      "92651.0 phot-like\n",
      "92670.0 phot-like\n",
      "92696.0 phot-like\n",
      "92708.0 compt\n",
      "92713.0 compt\n",
      "92724.0 phot-like\n",
      "92778.0 phot-like\n",
      "92786.0 phot-like\n",
      "92789.0 compt\n",
      "92796.0 phot-like\n",
      "92801.0 phot-like\n",
      "92808.0 phot-like\n",
      "92823.0 phot-like\n",
      "92884.0 phot-like\n",
      "92886.0 phot-like\n",
      "92936.0 phot-like\n",
      "92970.0 phot-like\n",
      "93045.0 phot-like\n",
      "93053.0 compt\n",
      "93058.0 phot-like\n",
      "93062.0 compt\n",
      "93107.0 phot-like\n",
      "93154.0 phot-like\n",
      "93189.0 phot-like\n",
      "93219.0 compt\n",
      "120021.0 phot-like\n",
      "120085.0 phot-like\n",
      "120142.0 phot-like\n",
      "120149.0 phot-like\n",
      "120157.0 phot-like\n",
      "120194.0 phot-like\n",
      "120211.0 phot-like\n",
      "120331.0 phot-like\n",
      "120341.0 compt\n",
      "120373.0 compt\n",
      "120391.0 phot-like\n",
      "120447.0 phot-like\n",
      "120456.0 phot-like\n",
      "120479.0 phot-like\n",
      "120555.0 phot-like\n",
      "120639.0 phot-like\n",
      "120663.0 phot-like\n",
      "120681.0 phot-like\n",
      "120685.0 phot-like\n",
      "120688.0 compt\n",
      "120702.0 phot-like\n",
      "120707.0 phot-like\n",
      "120734.0 compt\n",
      "120739.0 phot-like\n",
      "120864.0 compt\n",
      "120873.0 phot-like\n",
      "120944.0 phot-like\n",
      "120970.0 phot-like\n",
      "120981.0 compt\n",
      "120997.0 phot-like\n",
      "120999.0 compt\n",
      "121144.0 phot-like\n",
      "121146.0 phot-like\n",
      "121164.0 phot-like\n",
      "121169.0 phot-like\n",
      "121170.0 compt\n",
      "121239.0 compt\n",
      "121284.0 phot-like\n",
      "121312.0 compt\n",
      "121330.0 compt\n",
      "121333.0 compt\n",
      "121423.0 phot-like\n",
      "121468.0 compt\n",
      "121485.0 phot-like\n",
      "121493.0 phot-like\n",
      "121518.0 phot-like\n",
      "121590.0 compt\n",
      "121801.0 phot-like\n",
      "121821.0 phot-like\n",
      "121851.0 phot-like\n",
      "121853.0 compt\n",
      "121866.0 phot-like\n",
      "121899.0 phot-like\n",
      "121908.0 phot-like\n",
      "121932.0 compt\n",
      "121961.0 phot-like\n",
      "121983.0 phot-like\n",
      "122051.0 phot-like\n",
      "122139.0 phot-like\n",
      "122192.0 phot-like\n",
      "122216.0 compt\n",
      "122253.0 compt\n",
      "122275.0 phot-like\n",
      "122299.0 phot-like\n",
      "122316.0 compt\n",
      "122349.0 phot-like\n",
      "122371.0 phot-like\n",
      "122397.0 phot-like\n",
      "122429.0 phot-like\n",
      "122431.0 phot-like\n",
      "122518.0 phot-like\n",
      "122524.0 phot-like\n",
      "122579.0 phot-like\n",
      "122590.0 compt\n",
      "122654.0 compt\n",
      "122680.0 phot-like\n",
      "122687.0 phot-like\n",
      "122748.0 phot-like\n",
      "122778.0 phot-like\n",
      "122811.0 compt\n",
      "122826.0 phot-like\n",
      "122861.0 compt\n",
      "122900.0 phot-like\n",
      "122922.0 phot-like\n",
      "122948.0 compt\n",
      "122967.0 phot-like\n",
      "123000.0 phot-like\n",
      "123088.0 compt\n",
      "123127.0 compt\n",
      "123147.0 phot-like\n",
      "123175.0 compt\n",
      "123203.0 phot-like\n",
      "123216.0 phot-like\n",
      "123237.0 phot-like\n",
      "150008.0 compt\n",
      "150051.0 phot-like\n",
      "150061.0 phot-like\n",
      "150142.0 compt\n",
      "150156.0 compt\n",
      "150188.0 phot-like\n",
      "150206.0 compt\n",
      "150207.0 compt\n",
      "150221.0 phot-like\n",
      "150248.0 phot-like\n",
      "150258.0 compt\n",
      "150284.0 phot-like\n",
      "150351.0 compt\n",
      "150363.0 compt\n",
      "150375.0 phot-like\n",
      "150405.0 phot-like\n",
      "150470.0 phot-like\n",
      "150503.0 compt\n",
      "150504.0 phot-like\n",
      "150525.0 phot-like\n",
      "150566.0 phot-like\n",
      "150579.0 phot-like\n",
      "150596.0 phot-like\n",
      "150624.0 compt\n",
      "150644.0 compt\n",
      "150651.0 phot-like\n",
      "150675.0 phot-like\n",
      "150677.0 compt\n",
      "150723.0 compt\n",
      "150731.0 phot-like\n",
      "150748.0 phot-like\n",
      "150759.0 compt\n",
      "150782.0 compt\n",
      "150835.0 compt\n",
      "151023.0 phot-like\n",
      "151046.0 phot-like\n",
      "151101.0 compt\n",
      "151112.0 compt\n",
      "151122.0 compt\n",
      "151131.0 phot-like\n",
      "151176.0 phot-like\n",
      "151231.0 phot-like\n",
      "151282.0 phot-like\n",
      "151292.0 compt\n",
      "151300.0 phot-like\n",
      "151304.0 compt\n",
      "151317.0 phot-like\n",
      "151340.0 phot-like\n",
      "151433.0 phot-like\n",
      "151458.0 compt\n",
      "151460.0 phot-like\n",
      "151501.0 compt\n",
      "151504.0 phot-like\n",
      "151626.0 compt\n",
      "151644.0 compt\n",
      "151678.0 phot-like\n",
      "151714.0 phot-like\n",
      "151757.0 phot-like\n",
      "151763.0 compt\n",
      "151816.0 compt\n",
      "151845.0 phot-like\n",
      "151870.0 phot-like\n",
      "151947.0 phot-like\n",
      "152070.0 phot-like\n",
      "152094.0 phot-like\n",
      "152109.0 phot-like\n",
      "152124.0 phot-like\n",
      "152136.0 phot-like\n",
      "152140.0 phot-like\n",
      "152150.0 phot-like\n",
      "152236.0 phot-like\n",
      "152305.0 phot-like\n",
      "152337.0 phot-like\n",
      "152363.0 compt\n",
      "152382.0 phot-like\n",
      "152438.0 phot-like\n",
      "152495.0 compt\n",
      "152517.0 compt\n",
      "152546.0 phot-like\n",
      "152549.0 phot-like\n",
      "152556.0 phot-like\n",
      "152577.0 compt\n",
      "152623.0 compt\n",
      "152660.0 compt\n",
      "152671.0 phot-like\n",
      "152719.0 phot-like\n",
      "152735.0 compt\n",
      "152752.0 compt\n",
      "152784.0 phot-like\n",
      "152796.0 compt\n",
      "152879.0 phot-like\n",
      "152913.0 compt\n",
      "152929.0 compt\n",
      "152981.0 compt\n",
      "153003.0 phot-like\n",
      "153047.0 phot-like\n",
      "153086.0 compt\n",
      "153145.0 phot-like\n",
      "153153.0 phot-like\n",
      "153161.0 phot-like\n",
      "153213.0 phot-like\n",
      "153230.0 phot-like\n",
      "153235.0 phot-like\n",
      "153257.0 phot-like\n",
      "153262.0 phot-like\n",
      "153277.0 phot-like\n",
      "180052.0 phot-like\n",
      "180100.0 compt\n",
      "180123.0 phot-like\n",
      "180128.0 compt\n",
      "180169.0 phot-like\n",
      "180188.0 compt\n",
      "180208.0 phot-like\n",
      "180214.0 phot-like\n",
      "180236.0 phot-like\n",
      "180263.0 phot-like\n",
      "180291.0 phot-like\n",
      "180352.0 phot-like\n",
      "180357.0 phot-like\n",
      "180361.0 phot-like\n",
      "180371.0 phot-like\n",
      "180444.0 phot-like\n",
      "180464.0 phot-like\n",
      "180484.0 phot-like\n",
      "180505.0 phot-like\n",
      "180511.0 phot-like\n",
      "180523.0 phot-like\n",
      "180624.0 compt\n",
      "180658.0 phot-like\n",
      "180678.0 compt\n",
      "180681.0 phot-like\n",
      "180691.0 phot-like\n",
      "180701.0 compt\n",
      "180752.0 phot-like\n",
      "180809.0 phot-like\n",
      "180816.0 phot-like\n",
      "180826.0 phot-like\n",
      "180866.0 phot-like\n",
      "180904.0 compt\n",
      "180919.0 compt\n",
      "180957.0 phot-like\n",
      "180960.0 phot-like\n",
      "181002.0 phot-like\n",
      "181016.0 compt\n",
      "181032.0 phot-like\n",
      "181071.0 phot-like\n",
      "181138.0 compt\n",
      "181139.0 compt\n",
      "181254.0 phot-like\n",
      "181325.0 phot-like\n",
      "181346.0 phot-like\n",
      "181399.0 compt\n",
      "181409.0 compt\n",
      "181465.0 compt\n",
      "181471.0 phot-like\n",
      "181543.0 compt\n",
      "181600.0 compt\n",
      "181679.0 compt\n",
      "181689.0 compt\n"
     ]
    },
    {
     "name": "stdout",
     "output_type": "stream",
     "text": [
      "181692.0 phot-like\n",
      "181722.0 phot-like\n",
      "181745.0 compt\n",
      "181820.0 phot-like\n",
      "181876.0 phot-like\n",
      "181882.0 compt\n",
      "181891.0 phot-like\n",
      "181919.0 phot-like\n",
      "181941.0 phot-like\n",
      "181944.0 phot-like\n",
      "182005.0 phot-like\n",
      "182013.0 compt\n",
      "182079.0 phot-like\n",
      "182094.0 compt\n",
      "182151.0 phot-like\n",
      "182260.0 phot-like\n",
      "182308.0 phot-like\n",
      "182315.0 compt\n",
      "182334.0 phot-like\n",
      "182368.0 compt\n",
      "182433.0 phot-like\n",
      "182435.0 compt\n",
      "182444.0 phot-like\n",
      "182454.0 compt\n",
      "182473.0 compt\n",
      "182489.0 phot-like\n",
      "182506.0 compt\n",
      "182531.0 phot-like\n",
      "182694.0 phot-like\n",
      "182700.0 phot-like\n",
      "182709.0 phot-like\n",
      "182749.0 phot-like\n",
      "182752.0 compt\n",
      "182763.0 phot-like\n",
      "182799.0 phot-like\n",
      "182812.0 phot-like\n",
      "182856.0 compt\n",
      "182864.0 compt\n",
      "182882.0 phot-like\n",
      "182895.0 phot-like\n",
      "182910.0 compt\n",
      "182914.0 phot-like\n",
      "182987.0 phot-like\n",
      "183002.0 phot-like\n",
      "183004.0 compt\n",
      "183010.0 phot-like\n",
      "183023.0 phot-like\n",
      "183040.0 phot-like\n",
      "183097.0 phot-like\n",
      "183111.0 phot-like\n",
      "183142.0 phot-like\n",
      "210010.0 phot-like\n",
      "210107.0 phot-like\n",
      "210126.0 phot-like\n",
      "210127.0 compt\n",
      "210143.0 phot-like\n",
      "210194.0 compt\n",
      "210282.0 compt\n",
      "210294.0 compt\n",
      "210337.0 phot-like\n",
      "210343.0 phot-like\n",
      "210347.0 compt\n",
      "210350.0 phot-like\n",
      "210360.0 phot-like\n",
      "210362.0 phot-like\n",
      "210373.0 phot-like\n",
      "210375.0 compt\n",
      "210398.0 phot-like\n",
      "210423.0 phot-like\n",
      "210432.0 phot-like\n",
      "210438.0 compt\n",
      "210473.0 compt\n",
      "210475.0 phot-like\n",
      "210513.0 compt\n",
      "210578.0 compt\n",
      "210586.0 phot-like\n",
      "210649.0 phot-like\n",
      "210686.0 phot-like\n",
      "210697.0 phot-like\n",
      "210751.0 compt\n",
      "210765.0 compt\n",
      "210803.0 phot-like\n",
      "210804.0 phot-like\n",
      "210815.0 compt\n",
      "210855.0 compt\n",
      "210874.0 phot-like\n",
      "210899.0 compt\n",
      "210914.0 compt\n",
      "210965.0 phot-like\n",
      "210985.0 compt\n",
      "211029.0 compt\n",
      "211037.0 compt\n",
      "211116.0 phot-like\n",
      "211125.0 phot-like\n",
      "211154.0 phot-like\n",
      "211288.0 phot-like\n",
      "211291.0 phot-like\n",
      "211314.0 phot-like\n",
      "211358.0 compt\n",
      "211446.0 compt\n",
      "211464.0 phot-like\n",
      "211465.0 phot-like\n",
      "211509.0 phot-like\n",
      "211514.0 phot-like\n",
      "211522.0 phot-like\n",
      "211534.0 compt\n",
      "211536.0 phot-like\n",
      "211552.0 phot-like\n",
      "211656.0 compt\n",
      "211671.0 phot-like\n",
      "211705.0 phot-like\n",
      "211740.0 phot-like\n",
      "211748.0 phot-like\n",
      "211749.0 phot-like\n",
      "211765.0 phot-like\n",
      "211781.0 phot-like\n",
      "211807.0 phot-like\n",
      "211839.0 compt\n",
      "211865.0 compt\n",
      "211883.0 phot-like\n",
      "211886.0 phot-like\n",
      "211945.0 compt\n",
      "211960.0 compt\n",
      "211973.0 phot-like\n",
      "212002.0 phot-like\n",
      "212036.0 phot-like\n",
      "212063.0 phot-like\n",
      "212095.0 phot-like\n",
      "212121.0 phot-like\n",
      "212157.0 phot-like\n",
      "212218.0 phot-like\n",
      "212285.0 compt\n",
      "212388.0 phot-like\n",
      "212403.0 phot-like\n",
      "212410.0 phot-like\n",
      "212449.0 compt\n",
      "212507.0 compt\n",
      "212530.0 compt\n",
      "212536.0 phot-like\n",
      "212563.0 compt\n",
      "212576.0 phot-like\n",
      "212582.0 phot-like\n",
      "212622.0 phot-like\n",
      "212626.0 phot-like\n",
      "212641.0 phot-like\n",
      "212711.0 phot-like\n",
      "212759.0 phot-like\n",
      "212903.0 phot-like\n",
      "212949.0 phot-like\n",
      "213001.0 compt\n",
      "213018.0 phot-like\n",
      "213052.0 phot-like\n",
      "213071.0 phot-like\n",
      "240024.0 phot-like\n",
      "240067.0 phot-like\n",
      "240111.0 phot-like\n",
      "240113.0 compt\n",
      "240120.0 phot-like\n",
      "240192.0 compt\n",
      "240219.0 phot-like\n",
      "240238.0 compt\n",
      "240242.0 phot-like\n",
      "240258.0 compt\n",
      "240282.0 compt\n",
      "240289.0 phot-like\n",
      "240321.0 phot-like\n",
      "240326.0 compt\n",
      "240334.0 phot-like\n",
      "240344.0 compt\n",
      "240361.0 phot-like\n",
      "240373.0 compt\n",
      "240413.0 phot-like\n",
      "240419.0 phot-like\n",
      "240421.0 phot-like\n",
      "240461.0 phot-like\n",
      "240472.0 phot-like\n",
      "240527.0 phot-like\n",
      "240564.0 compt\n",
      "240567.0 phot-like\n",
      "240573.0 phot-like\n",
      "240675.0 compt\n",
      "240677.0 compt\n",
      "240711.0 phot-like\n",
      "240751.0 phot-like\n",
      "240806.0 phot-like\n",
      "240838.0 phot-like\n",
      "240971.0 phot-like\n",
      "240983.0 phot-like\n",
      "240985.0 phot-like\n",
      "240993.0 phot-like\n",
      "241035.0 compt\n",
      "241046.0 compt\n",
      "241081.0 phot-like\n",
      "241084.0 compt\n",
      "241212.0 phot-like\n",
      "241231.0 phot-like\n",
      "241414.0 phot-like\n",
      "241441.0 compt\n",
      "241472.0 compt\n",
      "241493.0 phot-like\n",
      "241524.0 phot-like\n",
      "241577.0 compt\n",
      "241631.0 compt\n",
      "241670.0 compt\n",
      "241726.0 compt\n",
      "241734.0 phot-like\n",
      "241743.0 phot-like\n",
      "241755.0 phot-like\n",
      "241782.0 phot-like\n",
      "241820.0 phot-like\n",
      "241871.0 phot-like\n",
      "241909.0 compt\n",
      "241920.0 phot-like\n",
      "241921.0 phot-like\n",
      "241930.0 compt\n",
      "241935.0 phot-like\n",
      "241938.0 compt\n",
      "241951.0 phot-like\n",
      "241974.0 compt\n",
      "242044.0 compt\n",
      "242085.0 phot-like\n",
      "242169.0 phot-like\n",
      "242215.0 phot-like\n",
      "242225.0 compt\n",
      "242236.0 phot-like\n",
      "242280.0 compt\n",
      "242284.0 compt\n",
      "242288.0 compt\n",
      "242307.0 phot-like\n",
      "242373.0 phot-like\n",
      "242381.0 phot-like\n",
      "242406.0 phot-like\n",
      "242463.0 phot-like\n",
      "242475.0 phot-like\n",
      "242478.0 phot-like\n",
      "242518.0 phot-like\n",
      "242537.0 phot-like\n",
      "242543.0 compt\n",
      "242568.0 phot-like\n",
      "242603.0 phot-like\n",
      "242629.0 phot-like\n",
      "242670.0 phot-like\n",
      "242711.0 phot-like\n",
      "242879.0 phot-like\n",
      "242911.0 phot-like\n",
      "242979.0 compt\n",
      "243045.0 phot-like\n",
      "243070.0 compt\n",
      "243091.0 phot-like\n",
      "243103.0 compt\n",
      "243118.0 phot-like\n",
      "243211.0 phot-like\n",
      "243224.0 phot-like\n",
      "270082.0 compt\n",
      "270122.0 phot-like\n",
      "270174.0 compt\n",
      "270187.0 phot-like\n",
      "270211.0 compt\n",
      "270227.0 phot-like\n",
      "270251.0 phot-like\n",
      "270280.0 phot-like\n",
      "270327.0 phot-like\n",
      "270332.0 phot-like\n",
      "270337.0 phot-like\n",
      "270412.0 compt\n",
      "270416.0 phot-like\n",
      "270531.0 phot-like\n",
      "270556.0 phot-like\n",
      "270612.0 compt\n",
      "270618.0 compt\n",
      "270622.0 compt\n",
      "270668.0 compt\n",
      "270703.0 phot-like\n",
      "270728.0 phot-like\n",
      "270737.0 phot-like\n",
      "270788.0 phot-like\n",
      "270804.0 phot-like\n",
      "270816.0 phot-like\n",
      "270846.0 phot-like\n",
      "270851.0 phot-like\n",
      "270900.0 compt\n",
      "270918.0 phot-like\n",
      "270930.0 phot-like\n",
      "271018.0 phot-like\n",
      "271067.0 phot-like\n",
      "271216.0 phot-like\n",
      "271227.0 compt\n",
      "271280.0 phot-like\n",
      "271304.0 phot-like\n",
      "271332.0 phot-like\n",
      "271355.0 phot-like\n",
      "271479.0 phot-like\n",
      "271509.0 phot-like\n",
      "271537.0 phot-like\n",
      "271545.0 phot-like\n",
      "271552.0 phot-like\n",
      "271585.0 phot-like\n",
      "271596.0 phot-like\n",
      "271669.0 compt\n",
      "271678.0 phot-like\n",
      "271679.0 phot-like\n",
      "271748.0 phot-like\n",
      "271760.0 phot-like\n",
      "271800.0 compt\n",
      "271806.0 phot-like\n",
      "271844.0 compt\n",
      "271880.0 phot-like\n",
      "271886.0 phot-like\n",
      "271894.0 phot-like\n",
      "271898.0 compt\n",
      "271901.0 compt\n",
      "271939.0 compt\n",
      "271941.0 phot-like\n",
      "271990.0 phot-like\n",
      "271996.0 compt\n",
      "272042.0 phot-like\n",
      "272076.0 compt\n",
      "272087.0 compt\n",
      "272101.0 phot-like\n",
      "272156.0 phot-like\n",
      "272208.0 phot-like\n",
      "272209.0 phot-like\n",
      "272211.0 phot-like\n",
      "272236.0 compt\n",
      "272278.0 compt\n",
      "272333.0 phot-like\n",
      "272349.0 phot-like\n",
      "272365.0 phot-like\n",
      "272368.0 phot-like\n",
      "272390.0 phot-like\n",
      "272403.0 phot-like\n",
      "272404.0 phot-like\n",
      "272406.0 compt\n",
      "272465.0 compt\n",
      "272494.0 compt\n",
      "272501.0 phot-like\n",
      "272549.0 phot-like\n",
      "272593.0 phot-like\n",
      "272604.0 phot-like\n",
      "272621.0 phot-like\n",
      "272632.0 compt\n",
      "272639.0 phot-like\n",
      "272656.0 phot-like\n",
      "272701.0 compt\n",
      "272720.0 compt\n",
      "272753.0 phot-like\n",
      "272771.0 phot-like\n",
      "272773.0 compt\n",
      "272807.0 phot-like\n",
      "272820.0 phot-like\n",
      "272833.0 compt\n",
      "272835.0 phot-like\n",
      "272839.0 compt\n",
      "272851.0 compt\n",
      "272930.0 phot-like\n",
      "272955.0 compt\n",
      "272974.0 compt\n",
      "272979.0 phot-like\n",
      "273049.0 compt\n",
      "273059.0 phot-like\n",
      "273098.0 compt\n"
     ]
    }
   ],
   "source": [
    "num3, num4, num5, num6 = 0, 0, 0, 0\n",
    "for ph,c,d,e in zip(phot_events, compt_events, dist_first_hit_ave, evt_ids):\n",
    "    if ph ==1:\n",
    "        if d[0]==0 and d[1]==0:\n",
    "            print(e, 'phot-like')\n",
    "            num3 += 1 #phot-like\n",
    "        elif d[0]>1 and d[1]>1:\n",
    "            print(e, 'compt')\n",
    "            num4 += 1 #compt\n",
    "        elif d[0]>1 or d[1]>1:\n",
    "            num5 += 1 #compt\n",
    "            print(e, 'compt')\n",
    "        else:\n",
    "            num6 +=1 #phot-like\n",
    "            print(e, 'phot-like')"
   ]
  },
  {
   "cell_type": "code",
   "execution_count": 60,
   "metadata": {},
   "outputs": [
    {
     "name": "stdout",
     "output_type": "stream",
     "text": [
      "19065 0 27707 44500\n"
     ]
    },
    {
     "data": {
      "text/plain": [
       "91272"
      ]
     },
     "execution_count": 60,
     "metadata": {},
     "output_type": "execute_result"
    }
   ],
   "source": [
    "print(num3, num4, num5, num6)\n",
    "num3 + num4+ num5+ num6"
   ]
  },
  {
   "cell_type": "code",
   "execution_count": 63,
   "metadata": {},
   "outputs": [
    {
     "data": {
      "text/plain": [
       "63565"
      ]
     },
     "execution_count": 63,
     "metadata": {},
     "output_type": "execute_result"
    }
   ],
   "source": [
    "19065 + 44500"
   ]
  },
  {
   "cell_type": "markdown",
   "metadata": {},
   "source": [
    "## Non phot means compt??"
   ]
  },
  {
   "cell_type": "code",
   "execution_count": 64,
   "metadata": {},
   "outputs": [],
   "source": [
    "phot_like_evt2 = []\n",
    "compton_evt2   = []\n",
    "no_one2        = []\n",
    "num7           = 0\n",
    "for ph,c,d,e in zip(phot_events, compt_events, dist_first_hit_ave, evt_ids):\n",
    "    if ph ==0:\n",
    "        if d[0]==0 and d[1]==0:\n",
    "            num7 += 1 # 2 phot-like\n",
    "        #elif d[0]>1 and d[1]>1:\n",
    "        #    num4 += 1\n",
    "        #elif d[0]>1 or d[1]>1:\n",
    "        #    num5 += 1\n",
    "        #else:\n",
    "        #    num6 +=1 #phot-like\n",
    "        if d[0] > 1:\n",
    "            if d[1] > 1:\n",
    "                no_one2       .append(0)\n",
    "                compton_evt2  .append(2)\n",
    "                phot_like_evt2.append(0)\n",
    "            else:\n",
    "                no_one2       .append(0)\n",
    "                compton_evt2  .append(1)\n",
    "                phot_like_evt2.append(1)\n",
    "        else:\n",
    "            if d[1] > 1:\n",
    "                no_one2       .append(0)\n",
    "                compton_evt2  .append(1)\n",
    "                phot_like_evt2.append(1)\n",
    "            else:\n",
    "                no_one2       .append(0)\n",
    "                compton_evt2  .append(0)\n",
    "                phot_like_evt2.append(2)                \n",
    "\n",
    "a_phot_like_evt2 = np.array(phot_like_evt2)\n",
    "a_compton_evt2   = np.array(compton_evt2  )\n",
    "a_no_one2        = np.array(no_one2       )"
   ]
  },
  {
   "cell_type": "code",
   "execution_count": 66,
   "metadata": {},
   "outputs": [
    {
     "data": {
      "text/plain": [
       "6753"
      ]
     },
     "execution_count": 66,
     "metadata": {},
     "output_type": "execute_result"
    }
   ],
   "source": [
    "num7"
   ]
  },
  {
   "cell_type": "code",
   "execution_count": 65,
   "metadata": {},
   "outputs": [
    {
     "data": {
      "text/plain": [
       "Counter({0: 72654, 1: 63487, 2: 13662})"
      ]
     },
     "execution_count": 65,
     "metadata": {},
     "output_type": "execute_result"
    }
   ],
   "source": [
    "Counter(np.sort(a_compton_evt2))"
   ]
  },
  {
   "cell_type": "code",
   "execution_count": 67,
   "metadata": {},
   "outputs": [
    {
     "data": {
      "text/plain": [
       "Counter({0: 13662, 1: 63487, 2: 72654})"
      ]
     },
     "execution_count": 67,
     "metadata": {},
     "output_type": "execute_result"
    }
   ],
   "source": [
    "Counter(np.sort(a_phot_like_evt2))"
   ]
  },
  {
   "cell_type": "code",
   "execution_count": 69,
   "metadata": {},
   "outputs": [
    {
     "data": {
      "text/plain": [
       "Counter({0: 149803})"
      ]
     },
     "execution_count": 69,
     "metadata": {},
     "output_type": "execute_result"
    }
   ],
   "source": [
    "Counter(np.sort(no_one2))"
   ]
  },
  {
   "cell_type": "code",
   "execution_count": 68,
   "metadata": {},
   "outputs": [
    {
     "data": {
      "text/plain": [
       "149803"
      ]
     },
     "execution_count": 68,
     "metadata": {},
     "output_type": "execute_result"
    }
   ],
   "source": [
    "13662+63487+72654"
   ]
  },
  {
   "cell_type": "code",
   "execution_count": 217,
   "metadata": {},
   "outputs": [
    {
     "data": {
      "text/plain": [
       "Counter({0.0: 188436, 1.0: 110511, 2.0: 16067})"
      ]
     },
     "execution_count": 217,
     "metadata": {},
     "output_type": "execute_result"
    }
   ],
   "source": [
    "Counter(np.sort(phot_events))"
   ]
  },
  {
   "cell_type": "code",
   "execution_count": 45,
   "metadata": {},
   "outputs": [
    {
     "data": {
      "text/plain": [
       "26.83150590132502"
      ]
     },
     "execution_count": 45,
     "metadata": {},
     "output_type": "execute_result"
    }
   ],
   "source": [
    "84523*100/len(evt_ids)"
   ]
  },
  {
   "cell_type": "code",
   "execution_count": 44,
   "metadata": {},
   "outputs": [
    {
     "data": {
      "text/plain": [
       "26.82"
      ]
     },
     "execution_count": 44,
     "metadata": {},
     "output_type": "execute_result"
    }
   ],
   "source": [
    "59.81 - 6.96 - 26.03"
   ]
  },
  {
   "cell_type": "code",
   "execution_count": null,
   "metadata": {},
   "outputs": [],
   "source": []
  }
 ],
 "metadata": {
  "kernelspec": {
   "display_name": "Python 3",
   "language": "python",
   "name": "python3"
  },
  "language_info": {
   "codemirror_mode": {
    "name": "ipython",
    "version": 3
   },
   "file_extension": ".py",
   "mimetype": "text/x-python",
   "name": "python",
   "nbconvert_exporter": "python",
   "pygments_lexer": "ipython3",
   "version": "3.7.7"
  }
 },
 "nbformat": 4,
 "nbformat_minor": 4
}
