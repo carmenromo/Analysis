{
 "cells": [
  {
   "cell_type": "code",
   "execution_count": 1,
   "metadata": {},
   "outputs": [],
   "source": [
    "import os\n",
    "import numpy as np\n",
    "\n",
    "from collections import Counter"
   ]
  },
  {
   "cell_type": "markdown",
   "metadata": {},
   "source": [
    "## Saved events:"
   ]
  },
  {
   "cell_type": "code",
   "execution_count": 2,
   "metadata": {},
   "outputs": [],
   "source": [
    "filespath = '/Users/carmenromoluque/nexus_petit_analysis/full-body-PET/statistics/data_statistics/'\n",
    "fname     = 'full_body_statistics_'\n",
    "\n",
    "depths = [3, 4]\n",
    "\n",
    "saved_events = []\n",
    "for j,d in enumerate(depths):\n",
    "    filename2  = filespath + f'/full_body_depth{d}cm/full_body_{d}cmdepth_counting_evts_0_1000.npz'\n",
    "    data2      = np.load(filename2, allow_pickle=True)\n",
    "    saved_evts = data2['saved_event']\n",
    "    saved_events.append(np.sum(saved_evts))\n",
    "\n",
    "saved_events = np.array(saved_events)"
   ]
  },
  {
   "cell_type": "code",
   "execution_count": 3,
   "metadata": {},
   "outputs": [
    {
     "data": {
      "text/plain": [
       "array([2468980, 3222594])"
      ]
     },
     "execution_count": 3,
     "metadata": {},
     "output_type": "execute_result"
    }
   ],
   "source": [
    "saved_events"
   ]
  },
  {
   "cell_type": "markdown",
   "metadata": {},
   "source": [
    "### Percentage of saved events vs launched events"
   ]
  },
  {
   "cell_type": "code",
   "execution_count": 36,
   "metadata": {},
   "outputs": [
    {
     "name": "stdout",
     "output_type": "stream",
     "text": [
      "3cm depth: 8.313063973063974 events\n",
      "4cm depth: 10.752732732732733 events\n"
     ]
    }
   ],
   "source": [
    "print('3cm depth:', (100 * saved_events[0]) / (30000 * 990), 'events')\n",
    "print('4cm depth:', (100 * saved_events[1]) / (30000 * 999), 'events')"
   ]
  },
  {
   "cell_type": "markdown",
   "metadata": {},
   "source": [
    "### Data statistics events:"
   ]
  },
  {
   "cell_type": "code",
   "execution_count": 10,
   "metadata": {},
   "outputs": [],
   "source": [
    "#filepath = '/Users/carmenromoluque/nexus_petit_analysis/full-body-PET/4cm_depth/data_statistics_evts/'\n",
    "filepath = '/Users/carmenromoluque/nexus_petit_analysis/full-body-PET/statistics/data_statistics/full_body_depth4cm/full_body_statistics_only_true_info/'\n",
    "\n",
    "evt_ids            = []\n",
    "compt_events       = []\n",
    "dist_first_hit_ave = []\n",
    "phot_events        = []\n",
    "\n",
    "#start     = 880\n",
    "#num_files = 120\n",
    "#step      = 1\n",
    "#for number in range(start, start+num_files, step):\n",
    "#        my_file  = f\"{filepath}/full_body_statistics_{number}_{step}_2.npz\"        \n",
    "for filename in os.listdir(filepath):\n",
    "    if filename.endswith('.npz'):\n",
    "        my_file = filepath+filename\n",
    "        d   = np.load(my_file)\n",
    "        #for keys, vals in d.items():\n",
    "        #    print(keys)\n",
    "        evt_ids            = np.concatenate((evt_ids    , d['evt_ids']))\n",
    "        phot_events        = np.concatenate((phot_events, d['phot_events']))\n",
    "        for i in d['compt_events']:\n",
    "            compt_events.append(i)\n",
    "        for i in d['dist_first_hit_ave']:\n",
    "            dist_first_hit_ave.append(i)\n",
    "\n",
    "evt_ids            = np.array(evt_ids           )\n",
    "compt_events       = np.array(compt_events      )\n",
    "dist_first_hit_ave = np.array(dist_first_hit_ave)\n",
    "phot_events        = np.array(phot_events       )"
   ]
  },
  {
   "cell_type": "code",
   "execution_count": 11,
   "metadata": {},
   "outputs": [
    {
     "name": "stdout",
     "output_type": "stream",
     "text": [
      "3222594 3222594 3222594 3222594\n"
     ]
    }
   ],
   "source": [
    "print(len(evt_ids), len(compt_events), len(dist_first_hit_ave), len(phot_events))"
   ]
  },
  {
   "cell_type": "code",
   "execution_count": 12,
   "metadata": {},
   "outputs": [
    {
     "data": {
      "text/plain": [
       "3222594"
      ]
     },
     "execution_count": 12,
     "metadata": {},
     "output_type": "execute_result"
    }
   ],
   "source": [
    "len(np.unique(evt_ids))"
   ]
  },
  {
   "cell_type": "code",
   "execution_count": 13,
   "metadata": {},
   "outputs": [
    {
     "data": {
      "text/plain": [
       "100.0"
      ]
     },
     "execution_count": 13,
     "metadata": {},
     "output_type": "execute_result"
    }
   ],
   "source": [
    "len(evt_ids)*100/saved_events[1]"
   ]
  },
  {
   "cell_type": "markdown",
   "metadata": {},
   "source": [
    "## Phot"
   ]
  },
  {
   "cell_type": "code",
   "execution_count": 14,
   "metadata": {},
   "outputs": [
    {
     "data": {
      "text/plain": [
       "Counter({0.0: 2645690, 1.0: 555202, 2.0: 21702})"
      ]
     },
     "execution_count": 14,
     "metadata": {},
     "output_type": "execute_result"
    }
   ],
   "source": [
    "Counter(np.sort(phot_events))"
   ]
  },
  {
   "cell_type": "code",
   "execution_count": 15,
   "metadata": {},
   "outputs": [
    {
     "data": {
      "text/plain": [
       "3222594"
      ]
     },
     "execution_count": 15,
     "metadata": {},
     "output_type": "execute_result"
    }
   ],
   "source": [
    "2645690 + 555202 + 21702"
   ]
  },
  {
   "cell_type": "markdown",
   "metadata": {},
   "source": [
    "## Single phot + Compt"
   ]
  },
  {
   "cell_type": "code",
   "execution_count": 37,
   "metadata": {},
   "outputs": [],
   "source": [
    "num3, num4, num5, num6 = 0, 0, 0, 0\n",
    "for ph,c,d,e in zip(phot_events, compt_events, dist_first_hit_ave, evt_ids):\n",
    "    if ph ==1:\n",
    "        if d[0]==0 and d[1]==0 and c[0]==True and c[1]==True:\n",
    "            num3 += 1 #phot-like\n",
    "        elif d[0]>1 and d[1]>1:\n",
    "            num4 += 1 #compt\n",
    "        elif d[0]>1 or d[1]>1:\n",
    "            num5 += 1 #compt\n",
    "        else:\n",
    "            num6 +=1 #phot-like"
   ]
  },
  {
   "cell_type": "code",
   "execution_count": 38,
   "metadata": {},
   "outputs": [
    {
     "name": "stdout",
     "output_type": "stream",
     "text": [
      "35 6 106427 448734\n"
     ]
    },
    {
     "data": {
      "text/plain": [
       "555202"
      ]
     },
     "execution_count": 38,
     "metadata": {},
     "output_type": "execute_result"
    }
   ],
   "source": [
    "print(num3, num4, num5, num6)\n",
    "num3 + num4+ num5+ num6"
   ]
  },
  {
   "cell_type": "code",
   "execution_count": 20,
   "metadata": {},
   "outputs": [
    {
     "data": {
      "text/plain": [
       "448769"
      ]
     },
     "execution_count": 20,
     "metadata": {},
     "output_type": "execute_result"
    }
   ],
   "source": [
    "230499 + 218270"
   ]
  },
  {
   "cell_type": "markdown",
   "metadata": {},
   "source": [
    "## Non phot means compt??"
   ]
  },
  {
   "cell_type": "code",
   "execution_count": 21,
   "metadata": {},
   "outputs": [],
   "source": [
    "phot_like_evt2 = []\n",
    "compton_evt2   = []\n",
    "no_one2        = []\n",
    "num7           = 0\n",
    "for ph,c,d,e in zip(phot_events, compt_events, dist_first_hit_ave, evt_ids):\n",
    "    if ph ==0:\n",
    "        if d[0]==0 and d[1]==0:\n",
    "            num7 += 1 # 2 phot-like\n",
    "        if d[0] > 1:\n",
    "            if d[1] > 1:\n",
    "                no_one2       .append(0)\n",
    "                compton_evt2  .append(2)\n",
    "                phot_like_evt2.append(0)\n",
    "            else:\n",
    "                no_one2       .append(0)\n",
    "                compton_evt2  .append(1)\n",
    "                phot_like_evt2.append(1)\n",
    "        else:\n",
    "            if d[1] > 1:\n",
    "                no_one2       .append(0)\n",
    "                compton_evt2  .append(1)\n",
    "                phot_like_evt2.append(1)\n",
    "            else:\n",
    "                no_one2       .append(0)\n",
    "                compton_evt2  .append(0)\n",
    "                phot_like_evt2.append(2)                \n",
    "\n",
    "a_phot_like_evt2 = np.array(phot_like_evt2)\n",
    "a_compton_evt2   = np.array(compton_evt2  )\n",
    "a_no_one2        = np.array(no_one2       )"
   ]
  },
  {
   "cell_type": "code",
   "execution_count": 22,
   "metadata": {},
   "outputs": [
    {
     "data": {
      "text/plain": [
       "367477"
      ]
     },
     "execution_count": 22,
     "metadata": {},
     "output_type": "execute_result"
    }
   ],
   "source": [
    "num7"
   ]
  },
  {
   "cell_type": "code",
   "execution_count": 23,
   "metadata": {},
   "outputs": [
    {
     "data": {
      "text/plain": [
       "Counter({0: 1575640, 1: 947772, 2: 122278})"
      ]
     },
     "execution_count": 23,
     "metadata": {},
     "output_type": "execute_result"
    }
   ],
   "source": [
    "Counter(np.sort(a_compton_evt2))"
   ]
  },
  {
   "cell_type": "code",
   "execution_count": 24,
   "metadata": {},
   "outputs": [
    {
     "data": {
      "text/plain": [
       "Counter({0: 122278, 1: 947772, 2: 1575640})"
      ]
     },
     "execution_count": 24,
     "metadata": {},
     "output_type": "execute_result"
    }
   ],
   "source": [
    "Counter(np.sort(a_phot_like_evt2))"
   ]
  },
  {
   "cell_type": "code",
   "execution_count": 29,
   "metadata": {},
   "outputs": [
    {
     "data": {
      "text/plain": [
       "Counter({0: 2645690})"
      ]
     },
     "execution_count": 29,
     "metadata": {},
     "output_type": "execute_result"
    }
   ],
   "source": [
    "Counter(np.sort(no_one2))"
   ]
  },
  {
   "cell_type": "code",
   "execution_count": 26,
   "metadata": {},
   "outputs": [
    {
     "data": {
      "text/plain": [
       "1943117"
      ]
     },
     "execution_count": 26,
     "metadata": {},
     "output_type": "execute_result"
    }
   ],
   "source": [
    "1575640+367477"
   ]
  }
 ],
 "metadata": {
  "kernelspec": {
   "display_name": "Python 3",
   "language": "python",
   "name": "python3"
  },
  "language_info": {
   "codemirror_mode": {
    "name": "ipython",
    "version": 3
   },
   "file_extension": ".py",
   "mimetype": "text/x-python",
   "name": "python",
   "nbconvert_exporter": "python",
   "pygments_lexer": "ipython3",
   "version": "3.7.7"
  }
 },
 "nbformat": 4,
 "nbformat_minor": 4
}
