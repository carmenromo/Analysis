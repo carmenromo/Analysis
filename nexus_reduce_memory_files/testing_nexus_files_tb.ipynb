{
 "cells": [
  {
   "cell_type": "markdown",
   "metadata": {},
   "source": [
    "### Imports"
   ]
  },
  {
   "cell_type": "code",
   "execution_count": 2,
   "metadata": {},
   "outputs": [],
   "source": [
    "import os\n",
    "import tables            as tb\n",
    "import numpy             as np\n",
    "import matplotlib.pyplot as plt\n",
    "\n",
    "from antea  .io.mc_io_tb import read_mcsns_response\n",
    "from astropy.coordinates import Angle"
   ]
  },
  {
   "cell_type": "markdown",
   "metadata": {},
   "source": [
    "## Required time of the simulation\n",
    "#### From the log file, the following information has been taken"
   ]
  },
  {
   "cell_type": "code",
   "execution_count": 3,
   "metadata": {},
   "outputs": [
    {
     "name": "stdout",
     "output_type": "stream",
     "text": [
      "NEXUS initial file:\n",
      "Total time required simulation 1:  104.15  min\n",
      "\n",
      "NEXUS only save charge above threshold (2 pes):\n",
      "Total time required simulation 2:  103.67  min\n"
     ]
    }
   ],
   "source": [
    "## NEXUS initial file\n",
    "time_starting_sim1  = Angle('14h33m25s')\n",
    "time_finishing_sim1 = Angle('15h7m55s')\n",
    "sim_time1 = time_finishing_sim1 - time_starting_sim1\n",
    "print('NEXUS initial file:')\n",
    "print('Total time required simulation 1: ', round(sim_time1.hour * 60, 2), ' min')\n",
    "print('')\n",
    "\n",
    "## NEXUS only save charge above threshold (2 pes)\n",
    "time_starting_sim2  = Angle('14h33m26s')\n",
    "time_finishing_sim2 = Angle('15h13m6s')\n",
    "sim_time2 = time_finishing_sim2 - time_starting_sim2\n",
    "print('NEXUS only save charge above threshold (2 pes):')\n",
    "print('Total time required simulation 2: ', round(sim_time2.hour * 60, 2), ' min')"
   ]
  },
  {
   "cell_type": "markdown",
   "metadata": {},
   "source": [
    "## Size of the different files"
   ]
  },
  {
   "cell_type": "code",
   "execution_count": 5,
   "metadata": {},
   "outputs": [
    {
     "name": "stdout",
     "output_type": "stream",
     "text": [
      "NEXUS initial file:\n",
      "201.88 Mb (15000 events simulated)\n",
      "\n",
      "NEXUS only save charge above threshold (2 pes):\n",
      "149.19 Mb (15000 events simulated)\n"
     ]
    }
   ],
   "source": [
    "file1 = 'full_ring_iradius165mm_z140mm_depth3cm_pitch7mm_test1.100.pet.h5'\n",
    "file2 = 'full_ring_iradius165mm_z140mm_depth3cm_pitch7mm_test2.100.pet.h5'\n",
    "\n",
    "total_size1 = os.path.getsize(file1)\n",
    "total_size2 = os.path.getsize(file2)\n",
    "print('NEXUS initial file:')\n",
    "print(f\"{round(total_size1/1e6, 2)} Mb (15000 events simulated)\")\n",
    "print('')\n",
    "print('NEXUS only save charge above threshold (2 pes):')\n",
    "print(f\"{round(total_size2/1e6, 2)} Mb (15000 events simulated)\")"
   ]
  },
  {
   "cell_type": "markdown",
   "metadata": {},
   "source": [
    "### Check that the initial file extracting charges below threshold is equal to the new file"
   ]
  },
  {
   "cell_type": "code",
   "execution_count": 6,
   "metadata": {},
   "outputs": [],
   "source": [
    "h5in           = tb.open_file(file1, mode='r')\n",
    "h5extents      = h5in.root.MC.extents\n",
    "events_in_file = len(h5extents)\n",
    "diff_thrs      = []\n",
    "\n",
    "for evt in range(events_in_file):\n",
    "    this_event_wvf1 = read_mcsns_response(file1, (evt,evt+1))\n",
    "    this_event_wvf2 = read_mcsns_response(file2, (evt,evt+1))\n",
    "    \n",
    "    sns_dict1    = list(this_event_wvf1.values())[0]\n",
    "    tot_charges1 = np.array(list(map(lambda x: sum(x.charges), sns_dict1.values())))\n",
    "    sns_ids1     = np.array(list(sns_dict1.keys()))\n",
    "    indices_over_thr1 = (tot_charges1 > 2)\n",
    "    sns_over_thr1     = sns_ids1    [indices_over_thr1]\n",
    "    charges_over_thr1 = tot_charges1[indices_over_thr1]\n",
    "    \n",
    "    sns_dict2    = list(this_event_wvf2.values())[0]\n",
    "    tot_charges2 = np.array(list(map(lambda x: sum(x.charges), sns_dict2.values())))\n",
    "    sns_ids2     = np.array(list(sns_dict2.keys()))\n",
    "    \n",
    "    diff_thrs.append(charges_over_thr1 - tot_charges2)\n",
    "    assert np.all(charges_over_thr1) == np.all(tot_charges2)"
   ]
  },
  {
   "cell_type": "markdown",
   "metadata": {},
   "source": [
    "### Plot the results:"
   ]
  },
  {
   "cell_type": "code",
   "execution_count": 26,
   "metadata": {},
   "outputs": [
    {
     "data": {
      "image/png": "[encoded data removed]",
      "text/plain": [
       "<Figure size 720x540 with 1 Axes>"
      ]
     },
     "metadata": {
      "needs_background": "light"
     },
     "output_type": "display_data"
    }
   ],
   "source": [
    "plt.rcParams[\"font.size\"] = 12\n",
    "fig = plt.figure(1)\n",
    "fig.set_figwidth(10.)\n",
    "fig.set_figheight(7.5)\n",
    "plt.hist(np.hstack(np.array(diff_thrs)), 100)\n",
    "plt.xlabel('Diff charges')\n",
    "plt.ylabel('Entries')\n",
    "plt.show()"
   ]
  },
  {
   "cell_type": "code",
   "execution_count": null,
   "metadata": {},
   "outputs": [],
   "source": []
  }
 ],
 "metadata": {
  "kernelspec": {
   "display_name": "Python 3",
   "language": "python",
   "name": "python3"
  },
  "language_info": {
   "codemirror_mode": {
    "name": "ipython",
    "version": 3
   },
   "file_extension": ".py",
   "mimetype": "text/x-python",
   "name": "python",
   "nbconvert_exporter": "python",
   "pygments_lexer": "ipython3",
   "version": "3.6.4"
  }
 },
 "nbformat": 4,
 "nbformat_minor": 2
}
