{
 "cells": [
  {
   "cell_type": "markdown",
   "metadata": {},
   "source": [
    "### Imports"
   ]
  },
  {
   "cell_type": "code",
   "execution_count": 1,
   "metadata": {},
   "outputs": [],
   "source": [
    "import os\n",
    "import tables            as tb\n",
    "import numpy             as np\n",
    "import pandas            as pd\n",
    "import matplotlib.pyplot as plt\n",
    "\n",
    "from antea  .io.mc_io_tb import read_mcsns_response\n",
    "from astropy.coordinates import Angle"
   ]
  },
  {
   "cell_type": "markdown",
   "metadata": {},
   "source": [
    "## Required time of the simulation\n",
    "#### From the log file, the following information has been taken"
   ]
  },
  {
   "cell_type": "code",
   "execution_count": 2,
   "metadata": {},
   "outputs": [
    {
     "name": "stdout",
     "output_type": "stream",
     "text": [
      "NEXUS initial file:\n",
      "Total time required simulation 1:  94.2  min\n",
      "\n",
      "NEXUS only save charge above threshold (2 pes):\n",
      "Total time required simulation 2:  92.77  min\n"
     ]
    }
   ],
   "source": [
    "## NEXUS initial file\n",
    "time_starting_sim1  = Angle('2h54m13s')\n",
    "time_finishing_sim1 = Angle('4h28m25s')\n",
    "sim_time1 = time_finishing_sim1 - time_starting_sim1\n",
    "print('NEXUS initial file:')\n",
    "print('Total time required simulation 1: ', round(sim_time1.hour * 60, 2), ' min')\n",
    "print('')\n",
    "\n",
    "## NEXUS only save charge above threshold (2 pes)\n",
    "time_starting_sim2  = Angle('2h54m21s')\n",
    "time_finishing_sim2 = Angle('4h27m7s')\n",
    "sim_time2 = time_finishing_sim2 - time_starting_sim2\n",
    "print('NEXUS only save charge above threshold (2 pes):')\n",
    "print('Total time required simulation 2: ', round(sim_time2.hour * 60, 2), ' min')"
   ]
  },
  {
   "cell_type": "markdown",
   "metadata": {},
   "source": [
    "## Size of the different files"
   ]
  },
  {
   "cell_type": "code",
   "execution_count": 3,
   "metadata": {},
   "outputs": [
    {
     "name": "stdout",
     "output_type": "stream",
     "text": [
      "NEXUS initial file:\n",
      "280.91 Mb (15000 events simulated)\n",
      "\n",
      "NEXUS only save charge above threshold (2 pes):\n",
      "232.68 Mb (15000 events simulated)\n"
     ]
    }
   ],
   "source": [
    "path = '/data5/users/carmenromo/testing_nexus/data_ring/'\n",
    "file1 = path+'full_ring_iradius165mm_z140mm_depth3cm_pitch7mm_test1.1000.pet.h5'\n",
    "file2 = path+'full_ring_iradius165mm_z140mm_depth3cm_pitch7mm_test2.1000.pet.h5'\n",
    "\n",
    "total_size1 = os.path.getsize(file1)\n",
    "total_size2 = os.path.getsize(file2)\n",
    "print('NEXUS initial file:')\n",
    "print(f\"{round(total_size1/1e6, 2)} Mb (15000 events simulated)\")\n",
    "print('')\n",
    "print('NEXUS only save charge above threshold (2 pes):')\n",
    "print(f\"{round(total_size2/1e6, 2)} Mb (15000 events simulated)\")"
   ]
  },
  {
   "cell_type": "markdown",
   "metadata": {},
   "source": [
    "### Check that the initial file extracting charges below threshold is equal to the new file"
   ]
  },
  {
   "cell_type": "code",
   "execution_count": 4,
   "metadata": {},
   "outputs": [],
   "source": [
    "from antea.io.mc_io import load_mcsns_response\n",
    "from antea.io.mc_io import load_mcTOFsns_response\n",
    "from antea.io.mc_io import load_mcparticles"
   ]
  },
  {
   "cell_type": "code",
   "execution_count": 5,
   "metadata": {},
   "outputs": [],
   "source": [
    "sns_response1 = load_mcsns_response(file1)\n",
    "sns_response2 = load_mcsns_response(file2)"
   ]
  },
  {
   "cell_type": "code",
   "execution_count": 40,
   "metadata": {},
   "outputs": [
    {
     "name": "stdout",
     "output_type": "stream",
     "text": [
      "True\n"
     ]
    }
   ],
   "source": [
    "df_above_thr1 = sns_response1[sns_response1.charge > 2].reset_index()\n",
    "df_above_thr1 = df_above_thr1.drop('index', axis=1)\n",
    "\n",
    "assert len(df_above_thr1) == len(sns_response2)\n",
    "print(df_above_thr1.equals(sns_response2))"
   ]
  },
  {
   "cell_type": "markdown",
   "metadata": {},
   "source": [
    "### Plot the results:"
   ]
  },
  {
   "cell_type": "code",
   "execution_count": 44,
   "metadata": {},
   "outputs": [
    {
     "data": {
      "image/png": "[encoded data removed]",
      "text/plain": [
       "<matplotlib.figure.Figure at 0x7fc096622be0>"
      ]
     },
     "metadata": {},
     "output_type": "display_data"
    }
   ],
   "source": [
    "sub_charges = df_above_thr1.charge - sns_response2.charge\n",
    "\n",
    "plt.rcParams[\"font.size\"] = 12\n",
    "fig = plt.figure(1)\n",
    "fig.set_figwidth(10.)\n",
    "fig.set_figheight(7.5)\n",
    "plt.hist(sub_charges, 100)\n",
    "plt.xlabel('Diff charges')\n",
    "plt.ylabel('Entries')\n",
    "plt.show()"
   ]
  },
  {
   "cell_type": "markdown",
   "metadata": {},
   "source": [
    "## TOF:"
   ]
  },
  {
   "cell_type": "code",
   "execution_count": 27,
   "metadata": {},
   "outputs": [],
   "source": [
    "sns_response_tof1 = load_mcTOFsns_response(file1)\n",
    "sns_response_tof2 = load_mcTOFsns_response(file2)"
   ]
  },
  {
   "cell_type": "code",
   "execution_count": 77,
   "metadata": {},
   "outputs": [
    {
     "name": "stdout",
     "output_type": "stream",
     "text": [
      "5351188\n",
      "4018274\n"
     ]
    }
   ],
   "source": [
    "print(len(sns_response_tof1))\n",
    "print(len(sns_response_tof2))"
   ]
  },
  {
   "cell_type": "code",
   "execution_count": 30,
   "metadata": {},
   "outputs": [
    {
     "data": {
      "text/html": [
       "<div>\n",
       "<style scoped>\n",
       "    .dataframe tbody tr th:only-of-type {\n",
       "        vertical-align: middle;\n",
       "    }\n",
       "\n",
       "    .dataframe tbody tr th {\n",
       "        vertical-align: top;\n",
       "    }\n",
       "\n",
       "    .dataframe thead th {\n",
       "        text-align: right;\n",
       "    }\n",
       "</style>\n",
       "<table border=\"1\" class=\"dataframe\">\n",
       "  <thead>\n",
       "    <tr style=\"text-align: right;\">\n",
       "      <th></th>\n",
       "      <th>event_id</th>\n",
       "      <th>sensor_id</th>\n",
       "      <th>time_bin</th>\n",
       "      <th>charge</th>\n",
       "    </tr>\n",
       "  </thead>\n",
       "  <tbody>\n",
       "    <tr>\n",
       "      <th>0</th>\n",
       "      <td>15000000</td>\n",
       "      <td>1330</td>\n",
       "      <td>0</td>\n",
       "      <td>1</td>\n",
       "    </tr>\n",
       "    <tr>\n",
       "      <th>1</th>\n",
       "      <td>15000000</td>\n",
       "      <td>1330</td>\n",
       "      <td>0</td>\n",
       "      <td>1</td>\n",
       "    </tr>\n",
       "    <tr>\n",
       "      <th>2</th>\n",
       "      <td>15000000</td>\n",
       "      <td>1330</td>\n",
       "      <td>0</td>\n",
       "      <td>1</td>\n",
       "    </tr>\n",
       "    <tr>\n",
       "      <th>3</th>\n",
       "      <td>15000000</td>\n",
       "      <td>1330</td>\n",
       "      <td>0</td>\n",
       "      <td>1</td>\n",
       "    </tr>\n",
       "    <tr>\n",
       "      <th>4</th>\n",
       "      <td>15000000</td>\n",
       "      <td>1330</td>\n",
       "      <td>0</td>\n",
       "      <td>1</td>\n",
       "    </tr>\n",
       "  </tbody>\n",
       "</table>\n",
       "</div>"
      ],
      "text/plain": [
       "   event_id  sensor_id  time_bin  charge\n",
       "0  15000000       1330         0       1\n",
       "1  15000000       1330         0       1\n",
       "2  15000000       1330         0       1\n",
       "3  15000000       1330         0       1\n",
       "4  15000000       1330         0       1"
      ]
     },
     "execution_count": 30,
     "metadata": {},
     "output_type": "execute_result"
    }
   ],
   "source": [
    "sns_response_tof2.head()"
   ]
  },
  {
   "cell_type": "code",
   "execution_count": 95,
   "metadata": {},
   "outputs": [
    {
     "name": "stdout",
     "output_type": "stream",
     "text": [
      "False\n"
     ]
    }
   ],
   "source": [
    "particles2 = load_mcparticles(file2)\n",
    "events2    = particles2.event_id.unique()\n",
    "for evt in range(15000001, 15000002):#events2:\n",
    "    waveforms2     = sns_response2[sns_response2.event_id == evt]\n",
    "    sipms2         = waveforms2.sensor_id.values\n",
    "    \n",
    "    tof_waveforms1 = sns_response_tof1[sns_response_tof1.event_id == evt]\n",
    "    tof_waveforms2 = sns_response_tof2[sns_response_tof2.event_id == evt].reset_index()\n",
    "    tof_waveforms2 = tof_waveforms2.drop('index', axis=1)\n",
    "    sipms1         = tof_waveforms1.sensor_id.values\n",
    "    tof_waveforms1 = tof_waveforms1[np.isin(-sipms1, sipms2)].reset_index()\n",
    "    tof_waveforms1 = tof_waveforms1.drop('index', axis=1)\n",
    "    print(tof_waveforms1.equals(tof_waveforms2))"
   ]
  },
  {
   "cell_type": "code",
   "execution_count": null,
   "metadata": {},
   "outputs": [],
   "source": []
  }
 ],
 "metadata": {
  "kernelspec": {
   "display_name": "Python 3",
   "language": "python",
   "name": "python3"
  },
  "language_info": {
   "codemirror_mode": {
    "name": "ipython",
    "version": 3
   },
   "file_extension": ".py",
   "mimetype": "text/x-python",
   "name": "python",
   "nbconvert_exporter": "python",
   "pygments_lexer": "ipython3",
   "version": "3.6.4"
  }
 },
 "nbformat": 4,
 "nbformat_minor": 2
}
